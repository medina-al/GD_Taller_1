{
 "cells": [
  {
   "cell_type": "markdown",
   "id": "1f952e50",
   "metadata": {},
   "source": [
    "### 2. Preguntas a resolver"
   ]
  },
  {
   "cell_type": "code",
   "execution_count": 1,
   "id": "3b05e6a2-89be-47dc-a694-60770106746f",
   "metadata": {},
   "outputs": [],
   "source": [
    "##Importar las librerías requeridas para el análisis\n",
    "import numpy as np\n",
    "import pandas as pd\n",
    "\n",
    "import matplotlib.pyplot as plt\n",
    "\n",
    "%matplotlib inline"
   ]
  },
  {
   "cell_type": "code",
   "execution_count": 2,
   "id": "4e374108-1d4c-4196-a3f7-9cb28a635db0",
   "metadata": {},
   "outputs": [],
   "source": [
    "##Definir tamaño máximo de filas a mostrar\n",
    "pd.set_option('display.max_rows', 100)"
   ]
  },
  {
   "cell_type": "code",
<<<<<<< HEAD
   "execution_count": 4,
=======
   "execution_count": 3,
>>>>>>> fb0e4134894ea5454d01509e6a3aee1d5cbef08c
   "id": "82186d4c-a126-4b2c-b26c-1a2a089c5116",
   "metadata": {},
   "outputs": [],
   "source": [
    "##Importar el dataset del CSV\n",
<<<<<<< HEAD
    "motores_df = pd.read_csv('../data/hurto_motocicletasV2.csv')"
=======
    "df = pd.read_csv('../data/hurto_motocicletasV2.csv')"
>>>>>>> fb0e4134894ea5454d01509e6a3aee1d5cbef08c
   ]
  },
  {
   "cell_type": "code",
<<<<<<< HEAD
   "execution_count": 7,
=======
   "execution_count": 4,
>>>>>>> fb0e4134894ea5454d01509e6a3aee1d5cbef08c
   "id": "48c9173b-15fd-4fa6-8e65-63831ebf5559",
   "metadata": {},
   "outputs": [
    {
     "data": {
      "text/html": [
       "<div>\n",
       "<style scoped>\n",
       "    .dataframe tbody tr th:only-of-type {\n",
       "        vertical-align: middle;\n",
       "    }\n",
       "\n",
       "    .dataframe tbody tr th {\n",
       "        vertical-align: top;\n",
       "    }\n",
       "\n",
       "    .dataframe thead th {\n",
       "        text-align: right;\n",
       "    }\n",
       "</style>\n",
       "<table border=\"1\" class=\"dataframe\">\n",
       "  <thead>\n",
       "    <tr style=\"text-align: right;\">\n",
       "      <th></th>\n",
       "      <th>DEPARTAMENTO</th>\n",
       "      <th>MUNICIPIO</th>\n",
       "      <th>CODIGO DANE</th>\n",
       "      <th>ARMAS MEDIOS</th>\n",
       "      <th>FECHA HECHO</th>\n",
       "      <th>GENERO</th>\n",
       "      <th>GRUPO ETARIO</th>\n",
       "      <th>TIPO DE HURTO</th>\n",
       "      <th>CANTIDAD</th>\n",
       "    </tr>\n",
       "  </thead>\n",
       "  <tbody>\n",
       "    <tr>\n",
       "      <th>0</th>\n",
       "      <td>ANTIOQUIA</td>\n",
       "      <td>MEDELLÍN</td>\n",
       "      <td>5001</td>\n",
       "      <td>ARMA DE FUEGO</td>\n",
       "      <td>1/01/2010</td>\n",
       "      <td>NO APLICA</td>\n",
       "      <td>NO APLICA</td>\n",
       "      <td>HURTO AUTOMOTORES</td>\n",
       "      <td>1</td>\n",
       "    </tr>\n",
       "    <tr>\n",
       "      <th>1</th>\n",
       "      <td>ANTIOQUIA</td>\n",
       "      <td>OPACABANA</td>\n",
       "      <td>5212</td>\n",
       "      <td>LLAVE MAESTRA</td>\n",
       "      <td>1/01/2010</td>\n",
       "      <td>NO APLICA</td>\n",
       "      <td>NO APLICA</td>\n",
       "      <td>HURTO AUTOMOTORES</td>\n",
       "      <td>1</td>\n",
       "    </tr>\n",
       "    <tr>\n",
       "      <th>2</th>\n",
       "      <td>ANTIOQUIA</td>\n",
       "      <td>MEDELLÍN</td>\n",
       "      <td>5001</td>\n",
       "      <td>LLAVE MAESTRA</td>\n",
       "      <td>1/01/2010</td>\n",
       "      <td>NO APLICA</td>\n",
       "      <td>NO APLICA</td>\n",
       "      <td>HURTO AUTOMOTORES</td>\n",
       "      <td>1</td>\n",
       "    </tr>\n",
       "    <tr>\n",
       "      <th>3</th>\n",
       "      <td>CUNDINAMARCA</td>\n",
       "      <td>BOGOTÁ D.C.</td>\n",
       "      <td>11001</td>\n",
       "      <td>LLAVE MAESTRA</td>\n",
       "      <td>1/01/2010</td>\n",
       "      <td>NO APLICA</td>\n",
       "      <td>NO APLICA</td>\n",
       "      <td>HURTO AUTOMOTORES</td>\n",
       "      <td>1</td>\n",
       "    </tr>\n",
       "    <tr>\n",
       "      <th>4</th>\n",
       "      <td>VALLE</td>\n",
       "      <td>ALI</td>\n",
       "      <td>76001</td>\n",
       "      <td>LLAVE MAESTRA</td>\n",
       "      <td>1/01/2010</td>\n",
       "      <td>NO APLICA</td>\n",
       "      <td>NO APLICA</td>\n",
       "      <td>HURTO AUTOMOTORES</td>\n",
<<<<<<< HEAD
       "      <td>1</td>\n",
       "    </tr>\n",
       "    <tr>\n",
       "      <th>...</th>\n",
       "      <td>...</td>\n",
       "      <td>...</td>\n",
       "      <td>...</td>\n",
       "      <td>...</td>\n",
       "      <td>...</td>\n",
       "      <td>...</td>\n",
       "      <td>...</td>\n",
       "      <td>...</td>\n",
       "      <td>...</td>\n",
       "    </tr>\n",
       "    <tr>\n",
       "      <th>276799</th>\n",
       "      <td>NARIÑO</td>\n",
       "      <td>IPIALES</td>\n",
       "      <td>52356</td>\n",
       "      <td>NO REPORTA</td>\n",
       "      <td>08/04/2022</td>\n",
       "      <td>NO APLICA</td>\n",
       "      <td>NO APLICA</td>\n",
       "      <td>HURTO MOTOCICLETAS</td>\n",
       "      <td>1</td>\n",
       "    </tr>\n",
       "    <tr>\n",
       "      <th>276800</th>\n",
       "      <td>TOLIMA</td>\n",
       "      <td>ESPINAL</td>\n",
       "      <td>73268</td>\n",
       "      <td>NO REPORTA</td>\n",
       "      <td>02/04/2022</td>\n",
       "      <td>NO APLICA</td>\n",
       "      <td>NO APLICA</td>\n",
       "      <td>HURTO MOTOCICLETAS</td>\n",
       "      <td>1</td>\n",
       "    </tr>\n",
       "    <tr>\n",
       "      <th>276801</th>\n",
       "      <td>VALLE</td>\n",
       "      <td>GUADALAJARA DE BUGA</td>\n",
       "      <td>76111</td>\n",
       "      <td>NO REPORTA</td>\n",
       "      <td>11/02/2022</td>\n",
       "      <td>NO APLICA</td>\n",
       "      <td>NO APLICA</td>\n",
       "      <td>HURTO MOTOCICLETAS</td>\n",
       "      <td>1</td>\n",
       "    </tr>\n",
       "    <tr>\n",
       "      <th>276802</th>\n",
       "      <td>VALLE</td>\n",
       "      <td>SEVILLA</td>\n",
       "      <td>76736</td>\n",
       "      <td>NO REPORTA</td>\n",
       "      <td>06/01/2022</td>\n",
       "      <td>NO APLICA</td>\n",
       "      <td>NO APLICA</td>\n",
       "      <td>HURTO MOTOCICLETAS</td>\n",
       "      <td>1</td>\n",
       "    </tr>\n",
       "    <tr>\n",
       "      <th>276803</th>\n",
       "      <td>VALLE</td>\n",
       "      <td>ULUÁ</td>\n",
       "      <td>76834</td>\n",
       "      <td>NO REPORTA</td>\n",
       "      <td>11/03/2022</td>\n",
       "      <td>NO APLICA</td>\n",
       "      <td>NO APLICA</td>\n",
       "      <td>HURTO MOTOCICLETAS</td>\n",
=======
>>>>>>> fb0e4134894ea5454d01509e6a3aee1d5cbef08c
       "      <td>1</td>\n",
       "    </tr>\n",
       "  </tbody>\n",
       "</table>\n",
       "<p>276804 rows × 9 columns</p>\n",
       "</div>"
      ],
      "text/plain": [
<<<<<<< HEAD
       "        DEPARTAMENTO            MUNICIPIO  CODIGO DANE   ARMAS MEDIOS  \\\n",
       "0          ANTIOQUIA            MEDELLÍN          5001  ARMA DE FUEGO   \n",
       "1          ANTIOQUIA            OPACABANA         5212  LLAVE MAESTRA   \n",
       "2          ANTIOQUIA            MEDELLÍN          5001  LLAVE MAESTRA   \n",
       "3       CUNDINAMARCA         BOGOTÁ D.C.         11001  LLAVE MAESTRA   \n",
       "4              VALLE                 ALI         76001  LLAVE MAESTRA   \n",
       "...              ...                  ...          ...            ...   \n",
       "276799        NARIÑO              IPIALES        52356     NO REPORTA   \n",
       "276800        TOLIMA              ESPINAL        73268     NO REPORTA   \n",
       "276801         VALLE  GUADALAJARA DE BUGA        76111     NO REPORTA   \n",
       "276802         VALLE              SEVILLA        76736     NO REPORTA   \n",
       "276803         VALLE                 ULUÁ        76834     NO REPORTA   \n",
       "\n",
       "       FECHA HECHO     GENERO GRUPO ETARIO       TIPO DE HURTO  CANTIDAD  \n",
       "0        1/01/2010  NO APLICA    NO APLICA   HURTO AUTOMOTORES         1  \n",
       "1        1/01/2010  NO APLICA    NO APLICA   HURTO AUTOMOTORES         1  \n",
       "2        1/01/2010  NO APLICA    NO APLICA   HURTO AUTOMOTORES         1  \n",
       "3        1/01/2010  NO APLICA    NO APLICA   HURTO AUTOMOTORES         1  \n",
       "4        1/01/2010  NO APLICA    NO APLICA   HURTO AUTOMOTORES         1  \n",
       "...            ...        ...          ...                 ...       ...  \n",
       "276799  08/04/2022  NO APLICA    NO APLICA  HURTO MOTOCICLETAS         1  \n",
       "276800  02/04/2022  NO APLICA    NO APLICA  HURTO MOTOCICLETAS         1  \n",
       "276801  11/02/2022  NO APLICA    NO APLICA  HURTO MOTOCICLETAS         1  \n",
       "276802  06/01/2022  NO APLICA    NO APLICA  HURTO MOTOCICLETAS         1  \n",
       "276803  11/03/2022  NO APLICA    NO APLICA  HURTO MOTOCICLETAS         1  \n",
       "\n",
       "[276804 rows x 9 columns]"
      ]
     },
     "execution_count": 7,
=======
       "   DEPARTAMENTO     MUNICIPIO  CODIGO DANE   ARMAS MEDIOS FECHA HECHO  \\\n",
       "0     ANTIOQUIA     MEDELLÍN          5001  ARMA DE FUEGO   1/01/2010   \n",
       "1     ANTIOQUIA     OPACABANA         5212  LLAVE MAESTRA   1/01/2010   \n",
       "2     ANTIOQUIA     MEDELLÍN          5001  LLAVE MAESTRA   1/01/2010   \n",
       "3  CUNDINAMARCA  BOGOTÁ D.C.         11001  LLAVE MAESTRA   1/01/2010   \n",
       "4         VALLE          ALI         76001  LLAVE MAESTRA   1/01/2010   \n",
       "\n",
       "      GENERO GRUPO ETARIO      TIPO DE HURTO  CANTIDAD  \n",
       "0  NO APLICA    NO APLICA  HURTO AUTOMOTORES         1  \n",
       "1  NO APLICA    NO APLICA  HURTO AUTOMOTORES         1  \n",
       "2  NO APLICA    NO APLICA  HURTO AUTOMOTORES         1  \n",
       "3  NO APLICA    NO APLICA  HURTO AUTOMOTORES         1  \n",
       "4  NO APLICA    NO APLICA  HURTO AUTOMOTORES         1  "
      ]
     },
     "execution_count": 4,
>>>>>>> fb0e4134894ea5454d01509e6a3aee1d5cbef08c
     "metadata": {},
     "output_type": "execute_result"
    }
   ],
   "source": [
    "##Visualizar los primeros datos\n",
    "motores_df"
   ]
  },
  {
   "cell_type": "markdown",
   "id": "09645b60-9323-4402-86d7-aa02b7f8bbb6",
   "metadata": {},
   "source": [
    "#### 2.1. ¿Cuáles han sido los departamentos (TOP 3) más afectados en términos de cantidad de delitos cometidos en los últimos 5 años?"
   ]
  },
  {
   "cell_type": "code",
   "execution_count": 8,
   "id": "b548ec61-a20f-4383-ada9-e2a1a7607c29",
   "metadata": {},
   "outputs": [
    {
     "data": {
      "text/plain": [
       "DEPARTAMENTO\n",
       "CUNDINAMARCA    34231\n",
       "ANTIOQUIA       33343\n",
       "VALLE           23109\n",
       "dtype: int64"
      ]
     },
     "execution_count": 8,
     "metadata": {},
     "output_type": "execute_result"
    }
   ],
   "source": [
    "##Departamentos con mayor número de delitos registrados\n",
    "motores_df['FECHA HECHO'] = pd.to_datetime(motores_df['FECHA HECHO'], format = '%d/%m/%Y')\n",
    "motores_df['FECHA HECHO'].dt.year\n",
    "motores_df.groupby(['DEPARTAMENTO']).apply(lambda x: x[x['FECHA HECHO'].dt.year>2017]['CANTIDAD'].sum()).sort_values(ascending=False).head(3)"
   ]
  },
  {
   "cell_type": "markdown",
   "id": "8bc72519",
   "metadata": {},
   "source": [
    "##### R:// Cundinamarca (20,94%), Antioquia (20,40%) y Valle (14,14%) presentan en los últimos 5 años la mayor cantidad de delitos registrados a automotores y motocicletas. Como es de esperarse, las ciudades con un número mayor de habitantes presenta mas robos."
   ]
  },
  {
   "cell_type": "markdown",
   "id": "1c44b408-0eb6-43e4-9670-2c42ae04d2b0",
   "metadata": {},
   "source": [
    "#### 2.2. Para los casos en los que aplique, ¿cuál ha sido el arma o medio más común para cometer el delito.# Arma o medio más común"
   ]
  },
  {
   "cell_type": "code",
<<<<<<< HEAD
   "execution_count": 10,
=======
   "execution_count": 5,
>>>>>>> fb0e4134894ea5454d01509e6a3aee1d5cbef08c
   "id": "22311507-29a4-4ba4-99a9-6548c6b4559b",
   "metadata": {},
   "outputs": [
    {
     "data": {
      "text/plain": [
<<<<<<< HEAD
       "ARMAS MEDIOS\n",
       "LLAVE MAESTRA    159066\n",
       "Name: CANTIDAD, dtype: int64"
      ]
     },
     "execution_count": 10,
     "metadata": {},
     "output_type": "execute_result"
=======
       "[Text(0, 0, '88049'),\n",
       " Text(0, 0, '82183'),\n",
       " Text(0, 0, '73325'),\n",
       " Text(0, 0, '12179'),\n",
       " Text(0, 0, '9559'),\n",
       " Text(0, 0, '8800'),\n",
       " Text(0, 0, '2134'),\n",
       " Text(0, 0, '199'),\n",
       " Text(0, 0, '180'),\n",
       " Text(0, 0, '143'),\n",
       " Text(0, 0, '35'),\n",
       " Text(0, 0, '18')]"
      ]
     },
     "execution_count": 5,
     "metadata": {},
     "output_type": "execute_result"
    },
    {
     "data": {
      "image/png": "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\n",
      "text/plain": [
       "<Figure size 432x288 with 1 Axes>"
      ]
     },
     "metadata": {
      "needs_background": "light"
     },
     "output_type": "display_data"
>>>>>>> fb0e4134894ea5454d01509e6a3aee1d5cbef08c
    }
   ],
   "source": [
    "##Visualizamos aquellas armas-medios con las que más se cometen delitos\n",
    "motores_df.groupby(['ARMAS MEDIOS'])['CANTIDAD'].apply(lambda x : x.astype(int).sum()).sort_values(ascending = False).head(1)"
   ]
  },
  {
   "cell_type": "markdown",
   "id": "0d647294-d165-4524-ae1d-6d02e73c40ef",
   "metadata": {},
   "source": [
    " ###### R:// En este caso se puede observar que utilizando un tipo de llave maestra es la modalidad con la que más se realizan hurtos a automóviles y motocicletas teniendo en cuenta la facilidad con la que actualmente se encuentran duplicados a ciertas referencias de carros."
   ]
  },
  {
   "cell_type": "markdown",
   "id": "18bd2bc5-0b86-4aca-9f96-c68e830fecb3",
   "metadata": {},
   "source": [
<<<<<<< HEAD
    "#### 2.3. Para los casos en los que aplique, ¿cómo ha sido la proporción de géneros y grupos etarios que han estado involucrados en este tipo de delito? ¿Han variado con el paso de los años?"
=======
    "# Proporción por genéro y grupo etario"
   ]
  },
  {
   "cell_type": "markdown",
   "id": "c7164be2-cd0b-4a19-b2a8-f07564848898",
   "metadata": {},
   "source": [
    "# Tendencia por mes del año"
   ]
  },
  {
   "cell_type": "code",
   "execution_count": 6,
   "id": "8f2c753c-57c7-4419-9dac-20f83fe9d5ca",
   "metadata": {},
   "outputs": [
    {
     "data": {
      "text/plain": [
       "276804"
      ]
     },
     "execution_count": 6,
     "metadata": {},
     "output_type": "execute_result"
    },
    {
     "data": {
      "text/plain": [
       "<Figure size 1080x576 with 0 Axes>"
      ]
     },
     "metadata": {},
     "output_type": "display_data"
    }
   ],
   "source": [
    "plt.figure(figsize = (15, 8))\n",
    "# Convertir a formato de fecha\n",
    "df['FECHA HECHO']=pd.to_datetime(df['FECHA HECHO'],format='%d/%m/%Y')\n",
    "# Contar la cantidad de hechos agrupando por mes\n",
    "count_month=df.groupby(df['FECHA HECHO'].dt.month_name().str[:3]).agg('count')['CANTIDAD']\n",
    "# Ver el total de los datos\n",
    "count_month.sum()"
   ]
  },
  {
   "cell_type": "code",
   "execution_count": 7,
   "id": "11f95db9-cc75-404e-9ce9-6f526d2feb56",
   "metadata": {},
   "outputs": [
    {
     "data": {
      "text/plain": [
       "1268.2351373607196"
      ]
     },
     "execution_count": 7,
     "metadata": {},
     "output_type": "execute_result"
    }
   ],
   "source": [
    "#Calcular la desviación estándar de los datos\n",
    "count_month.std()"
   ]
  },
  {
   "cell_type": "code",
   "execution_count": 8,
   "id": "555b0601-7454-4fca-ab89-3b8fe8ab7148",
   "metadata": {},
   "outputs": [
    {
     "data": {
      "text/plain": [
       "<AxesSubplot:xlabel='FECHA HECHO'>"
      ]
     },
     "execution_count": 8,
     "metadata": {},
     "output_type": "execute_result"
    },
    {
     "data": {
      "image/png": "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\n",
      "text/plain": [
       "<Figure size 432x288 with 1 Axes>"
      ]
     },
     "metadata": {
      "needs_background": "light"
     },
     "output_type": "display_data"
    }
   ],
   "source": [
    "# Graficar\n",
    "count_month.plot(kind='bar')"
>>>>>>> fb0e4134894ea5454d01509e6a3aee1d5cbef08c
   ]
  },
  {
   "cell_type": "markdown",
   "id": "d62e5853-477b-4056-96b2-590210287490",
   "metadata": {},
   "source": [
    "#### 2.4. ¿Se evidencia alguna tendencia para cometer dicho delito en algún mes particular del año?"
   ]
  },
  {
   "cell_type": "code",
<<<<<<< HEAD
   "execution_count": 13,
   "id": "607dd2a7",
=======
   "execution_count": 9,
   "id": "080417e4-7aa0-4ea4-bd87-186354c14903",
>>>>>>> fb0e4134894ea5454d01509e6a3aee1d5cbef08c
   "metadata": {},
   "outputs": [
    {
     "data": {
      "image/png": "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\n",
      "text/plain": [
       "<Figure size 432x288 with 1 Axes>"
      ]
     },
     "metadata": {},
     "output_type": "display_data"
    }
   ],
   "source": [
    "tipo=df['TIPO DE HURTO'].value_counts()\n",
    "tipo.sort_values(ascending=False,inplace=True)\n",
    "graph = tipo.plot(kind=\"pie\", autopct='%1.1f%%',shadow=True, explode=[0.05, 0.05])"
   ]
  },
  {
   "cell_type": "code",
   "execution_count": null,
   "id": "61091e60-4e73-4168-85ff-5422fbda795c",
   "metadata": {},
   "outputs": [],
   "source": [
    "#Almacenamos los meses y su cantidad de hurtos en un nuevo dataframe\n",
    "meses = motores_df.groupby(motores_df['FECHA HECHO'].dt.month)['CANTIDAD'].sum()"
   ]
  },
  {
   "cell_type": "code",
   "execution_count": 14,
   "id": "ff094369",
   "metadata": {},
   "outputs": [
    {
     "data": {
      "image/png": "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\n",
      "text/plain": [
       "<Figure size 576x396 with 1 Axes>"
      ]
     },
     "metadata": {},
     "output_type": "display_data"
    }
   ],
   "source": [
    "#Graficamos el dataframe para una mejor interpretación de los datos\n",
    "plt.style.use('seaborn')\n",
    "ax = meses.plot(kind=\"bar\", width=-0.4, rot=0, stacked=True, align='edge', color='green', ylabel='Cantidad de hurtos', xlabel='Mes', fontsize=13)\n",
    "plt.autoscale(enable=True, axis='x')\n",
    "plt.show()"
   ]
  },
  {
   "cell_type": "markdown",
   "id": "cc9c1576",
   "metadata": {},
   "source": [
    "##### R:// En el gráfico anterior se refleja que la mayor cantidad de hurtos cometidos a automóviles y motocicletas son realizados en los tres primeros meses representando el 26,94% de los hurtos registrados. Cabe mencionar que es una temporada usual en el que se incrementan los robos debido a la mayoría de visitantes a diferentes lugares de Colombia pues es una fecha usual en la que la mayoría se encuentra en vacaciones."
   ]
  },
  {
   "cell_type": "markdown",
   "id": "00d204d3",
   "metadata": {},
   "source": [
    "#### 2.5 Para los casos en los que se disponga del detalle del delito o de una descripción, como por ejemplo en delitos sexuales y secuestro, ¿cuáles son las descripciones o modalidades más comunes?"
   ]
  },
  {
   "cell_type": "code",
   "execution_count": 11,
   "id": "6317b417",
   "metadata": {},
   "outputs": [
    {
     "data": {
      "text/plain": [
       "TIPO DE HURTO\n",
       "HURTO AUTOMOTORES     105829\n",
       "HURTO MOTOCICLETAS    314429\n",
       "Name: CANTIDAD, dtype: int64"
      ]
     },
     "execution_count": 11,
     "metadata": {},
     "output_type": "execute_result"
    }
   ],
   "source": [
    "#Verificamos la modalidad en la que más se cometen hurtos\n",
    "motores_df.groupby(motores_df['TIPO DE HURTO']).agg(sum)['CANTIDAD']"
   ]
  },
  {
   "cell_type": "markdown",
   "id": "da6b6539",
   "metadata": {},
   "source": [
    "##### R:// Es evidente que el hurto a motocicletas es mucho más común presentando un total de 74,81% ya que como se mencionaba anteriormente la facilidad de llevarse la motocicleta con una llave maestra es muy alta."
   ]
  }
 ],
 "metadata": {
  "kernelspec": {
   "display_name": "Python 3 (ipykernel)",
   "language": "python",
   "name": "python3"
  },
  "language_info": {
   "codemirror_mode": {
    "name": "ipython",
    "version": 3
   },
   "file_extension": ".py",
   "mimetype": "text/x-python",
   "name": "python",
   "nbconvert_exporter": "python",
   "pygments_lexer": "ipython3",
   "version": "3.9.12"
  }
 },
 "nbformat": 4,
 "nbformat_minor": 5
}
