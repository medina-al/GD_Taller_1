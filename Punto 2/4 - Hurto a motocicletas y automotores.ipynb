{
 "cells": [
  {
   "cell_type": "markdown",
   "id": "1f952e50",
   "metadata": {},
   "source": [
    "### 2. Preguntas a resolver"
   ]
  },
  {
   "cell_type": "code",
   "execution_count": 1,
   "id": "3b05e6a2-89be-47dc-a694-60770106746f",
   "metadata": {},
   "outputs": [],
   "source": [
    "##Importar las librerías requeridas para el análisis\n",
    "import numpy as np\n",
    "import pandas as pd\n",
    "\n",
    "import matplotlib.pyplot as plt\n",
    "\n",
    "%matplotlib inline"
   ]
  },
  {
   "cell_type": "code",
   "execution_count": 2,
   "id": "4e374108-1d4c-4196-a3f7-9cb28a635db0",
   "metadata": {},
   "outputs": [],
   "source": [
    "##Definir tamaño máximo de filas a mostrar\n",
    "pd.set_option('display.max_rows', 100)"
   ]
  },
  {
   "cell_type": "code",
   "execution_count": 4,
   "id": "82186d4c-a126-4b2c-b26c-1a2a089c5116",
   "metadata": {},
   "outputs": [],
   "source": [
    "##Importar el dataset del CSV\n",
    "motores_df = pd.read_csv('../data/hurto_motocicletasV2.csv')"
   ]
  },
  {
   "cell_type": "code",
   "execution_count": 7,
   "id": "48c9173b-15fd-4fa6-8e65-63831ebf5559",
   "metadata": {},
   "outputs": [
    {
     "data": {
      "text/html": [
       "<div>\n",
       "<style scoped>\n",
       "    .dataframe tbody tr th:only-of-type {\n",
       "        vertical-align: middle;\n",
       "    }\n",
       "\n",
       "    .dataframe tbody tr th {\n",
       "        vertical-align: top;\n",
       "    }\n",
       "\n",
       "    .dataframe thead th {\n",
       "        text-align: right;\n",
       "    }\n",
       "</style>\n",
       "<table border=\"1\" class=\"dataframe\">\n",
       "  <thead>\n",
       "    <tr style=\"text-align: right;\">\n",
       "      <th></th>\n",
       "      <th>DEPARTAMENTO</th>\n",
       "      <th>MUNICIPIO</th>\n",
       "      <th>CODIGO DANE</th>\n",
       "      <th>ARMAS MEDIOS</th>\n",
       "      <th>FECHA HECHO</th>\n",
       "      <th>GENERO</th>\n",
       "      <th>GRUPO ETARIO</th>\n",
       "      <th>TIPO DE HURTO</th>\n",
       "      <th>CANTIDAD</th>\n",
       "    </tr>\n",
       "  </thead>\n",
       "  <tbody>\n",
       "    <tr>\n",
       "      <th>0</th>\n",
       "      <td>ANTIOQUIA</td>\n",
       "      <td>MEDELLÍN</td>\n",
       "      <td>5001</td>\n",
       "      <td>ARMA DE FUEGO</td>\n",
       "      <td>1/01/2010</td>\n",
       "      <td>NO APLICA</td>\n",
       "      <td>NO APLICA</td>\n",
       "      <td>HURTO AUTOMOTORES</td>\n",
       "      <td>1</td>\n",
       "    </tr>\n",
       "    <tr>\n",
       "      <th>1</th>\n",
       "      <td>ANTIOQUIA</td>\n",
       "      <td>OPACABANA</td>\n",
       "      <td>5212</td>\n",
       "      <td>LLAVE MAESTRA</td>\n",
       "      <td>1/01/2010</td>\n",
       "      <td>NO APLICA</td>\n",
       "      <td>NO APLICA</td>\n",
       "      <td>HURTO AUTOMOTORES</td>\n",
       "      <td>1</td>\n",
       "    </tr>\n",
       "    <tr>\n",
       "      <th>2</th>\n",
       "      <td>ANTIOQUIA</td>\n",
       "      <td>MEDELLÍN</td>\n",
       "      <td>5001</td>\n",
       "      <td>LLAVE MAESTRA</td>\n",
       "      <td>1/01/2010</td>\n",
       "      <td>NO APLICA</td>\n",
       "      <td>NO APLICA</td>\n",
       "      <td>HURTO AUTOMOTORES</td>\n",
       "      <td>1</td>\n",
       "    </tr>\n",
       "    <tr>\n",
       "      <th>3</th>\n",
       "      <td>CUNDINAMARCA</td>\n",
       "      <td>BOGOTÁ D.C.</td>\n",
       "      <td>11001</td>\n",
       "      <td>LLAVE MAESTRA</td>\n",
       "      <td>1/01/2010</td>\n",
       "      <td>NO APLICA</td>\n",
       "      <td>NO APLICA</td>\n",
       "      <td>HURTO AUTOMOTORES</td>\n",
       "      <td>1</td>\n",
       "    </tr>\n",
       "    <tr>\n",
       "      <th>4</th>\n",
       "      <td>VALLE</td>\n",
       "      <td>ALI</td>\n",
       "      <td>76001</td>\n",
       "      <td>LLAVE MAESTRA</td>\n",
       "      <td>1/01/2010</td>\n",
       "      <td>NO APLICA</td>\n",
       "      <td>NO APLICA</td>\n",
       "      <td>HURTO AUTOMOTORES</td>\n",
       "      <td>1</td>\n",
       "    </tr>\n",
       "    <tr>\n",
       "      <th>...</th>\n",
       "      <td>...</td>\n",
       "      <td>...</td>\n",
       "      <td>...</td>\n",
       "      <td>...</td>\n",
       "      <td>...</td>\n",
       "      <td>...</td>\n",
       "      <td>...</td>\n",
       "      <td>...</td>\n",
       "      <td>...</td>\n",
       "    </tr>\n",
       "    <tr>\n",
       "      <th>276799</th>\n",
       "      <td>NARIÑO</td>\n",
       "      <td>IPIALES</td>\n",
       "      <td>52356</td>\n",
       "      <td>NO REPORTA</td>\n",
       "      <td>08/04/2022</td>\n",
       "      <td>NO APLICA</td>\n",
       "      <td>NO APLICA</td>\n",
       "      <td>HURTO MOTOCICLETAS</td>\n",
       "      <td>1</td>\n",
       "    </tr>\n",
       "    <tr>\n",
       "      <th>276800</th>\n",
       "      <td>TOLIMA</td>\n",
       "      <td>ESPINAL</td>\n",
       "      <td>73268</td>\n",
       "      <td>NO REPORTA</td>\n",
       "      <td>02/04/2022</td>\n",
       "      <td>NO APLICA</td>\n",
       "      <td>NO APLICA</td>\n",
       "      <td>HURTO MOTOCICLETAS</td>\n",
       "      <td>1</td>\n",
       "    </tr>\n",
       "    <tr>\n",
       "      <th>276801</th>\n",
       "      <td>VALLE</td>\n",
       "      <td>GUADALAJARA DE BUGA</td>\n",
       "      <td>76111</td>\n",
       "      <td>NO REPORTA</td>\n",
       "      <td>11/02/2022</td>\n",
       "      <td>NO APLICA</td>\n",
       "      <td>NO APLICA</td>\n",
       "      <td>HURTO MOTOCICLETAS</td>\n",
       "      <td>1</td>\n",
       "    </tr>\n",
       "    <tr>\n",
       "      <th>276802</th>\n",
       "      <td>VALLE</td>\n",
       "      <td>SEVILLA</td>\n",
       "      <td>76736</td>\n",
       "      <td>NO REPORTA</td>\n",
       "      <td>06/01/2022</td>\n",
       "      <td>NO APLICA</td>\n",
       "      <td>NO APLICA</td>\n",
       "      <td>HURTO MOTOCICLETAS</td>\n",
       "      <td>1</td>\n",
       "    </tr>\n",
       "    <tr>\n",
       "      <th>276803</th>\n",
       "      <td>VALLE</td>\n",
       "      <td>ULUÁ</td>\n",
       "      <td>76834</td>\n",
       "      <td>NO REPORTA</td>\n",
       "      <td>11/03/2022</td>\n",
       "      <td>NO APLICA</td>\n",
       "      <td>NO APLICA</td>\n",
       "      <td>HURTO MOTOCICLETAS</td>\n",
       "      <td>1</td>\n",
       "    </tr>\n",
       "  </tbody>\n",
       "</table>\n",
       "<p>276804 rows × 9 columns</p>\n",
       "</div>"
      ],
      "text/plain": [
       "        DEPARTAMENTO            MUNICIPIO  CODIGO DANE   ARMAS MEDIOS  \\\n",
       "0          ANTIOQUIA            MEDELLÍN          5001  ARMA DE FUEGO   \n",
       "1          ANTIOQUIA            OPACABANA         5212  LLAVE MAESTRA   \n",
       "2          ANTIOQUIA            MEDELLÍN          5001  LLAVE MAESTRA   \n",
       "3       CUNDINAMARCA         BOGOTÁ D.C.         11001  LLAVE MAESTRA   \n",
       "4              VALLE                 ALI         76001  LLAVE MAESTRA   \n",
       "...              ...                  ...          ...            ...   \n",
       "276799        NARIÑO              IPIALES        52356     NO REPORTA   \n",
       "276800        TOLIMA              ESPINAL        73268     NO REPORTA   \n",
       "276801         VALLE  GUADALAJARA DE BUGA        76111     NO REPORTA   \n",
       "276802         VALLE              SEVILLA        76736     NO REPORTA   \n",
       "276803         VALLE                 ULUÁ        76834     NO REPORTA   \n",
       "\n",
       "       FECHA HECHO     GENERO GRUPO ETARIO       TIPO DE HURTO  CANTIDAD  \n",
       "0        1/01/2010  NO APLICA    NO APLICA   HURTO AUTOMOTORES         1  \n",
       "1        1/01/2010  NO APLICA    NO APLICA   HURTO AUTOMOTORES         1  \n",
       "2        1/01/2010  NO APLICA    NO APLICA   HURTO AUTOMOTORES         1  \n",
       "3        1/01/2010  NO APLICA    NO APLICA   HURTO AUTOMOTORES         1  \n",
       "4        1/01/2010  NO APLICA    NO APLICA   HURTO AUTOMOTORES         1  \n",
       "...            ...        ...          ...                 ...       ...  \n",
       "276799  08/04/2022  NO APLICA    NO APLICA  HURTO MOTOCICLETAS         1  \n",
       "276800  02/04/2022  NO APLICA    NO APLICA  HURTO MOTOCICLETAS         1  \n",
       "276801  11/02/2022  NO APLICA    NO APLICA  HURTO MOTOCICLETAS         1  \n",
       "276802  06/01/2022  NO APLICA    NO APLICA  HURTO MOTOCICLETAS         1  \n",
       "276803  11/03/2022  NO APLICA    NO APLICA  HURTO MOTOCICLETAS         1  \n",
       "\n",
       "[276804 rows x 9 columns]"
      ]
     },
     "execution_count": 7,
     "metadata": {},
     "output_type": "execute_result"
    }
   ],
   "source": [
    "##Visualizar los primeros datos\n",
    "motores_df"
   ]
  },
  {
   "cell_type": "markdown",
   "id": "09645b60-9323-4402-86d7-aa02b7f8bbb6",
   "metadata": {},
   "source": [
    "#### 2.1. ¿Cuáles han sido los departamentos (TOP 3) más afectados en términos de cantidad de delitos cometidos en los últimos 5 años?"
   ]
  },
  {
   "cell_type": "code",
   "execution_count": 8,
   "id": "b548ec61-a20f-4383-ada9-e2a1a7607c29",
   "metadata": {},
   "outputs": [
    {
     "data": {
      "text/plain": [
       "DEPARTAMENTO\n",
       "CUNDINAMARCA    34231\n",
       "ANTIOQUIA       33343\n",
       "VALLE           23109\n",
       "dtype: int64"
      ]
     },
     "execution_count": 8,
     "metadata": {},
     "output_type": "execute_result"
    }
   ],
   "source": [
    "##Departamentos con mayor número de delitos registrados\n",
    "motores_df['FECHA HECHO'] = pd.to_datetime(motores_df['FECHA HECHO'], format = '%d/%m/%Y')\n",
    "motores_df['FECHA HECHO'].dt.year\n",
    "motores_df.groupby(['DEPARTAMENTO']).apply(lambda x: x[x['FECHA HECHO'].dt.year>2017]['CANTIDAD'].sum()).sort_values(ascending=False).head(3)"
   ]
  },
  {
   "cell_type": "markdown",
   "id": "8bc72519",
   "metadata": {},
   "source": [
    "##### R:// Cundinamarca (20,94%), Antioquia (20,40%) y Valle (14,14%) presentan en los últimos 5 años la mayor cantidad de delitos registrados a automotores y motocicletas. Como es de esperarse, las ciudades con un número mayor de habitantes presenta mas robos."
   ]
  },
  {
   "cell_type": "markdown",
   "id": "1c44b408-0eb6-43e4-9670-2c42ae04d2b0",
   "metadata": {},
   "source": [
    "#### 2.2. Para los casos en los que aplique, ¿cuál ha sido el arma o medio más común para cometer el delito.# Arma o medio más común"
   ]
  },
  {
   "cell_type": "code",
   "execution_count": 10,
   "id": "22311507-29a4-4ba4-99a9-6548c6b4559b",
   "metadata": {},
   "outputs": [
    {
     "data": {
      "text/plain": [
       "ARMAS MEDIOS\n",
       "LLAVE MAESTRA    159066\n",
       "Name: CANTIDAD, dtype: int64"
      ]
     },
     "execution_count": 10,
     "metadata": {},
     "output_type": "execute_result"
    }
   ],
   "source": [
    "##Visualizamos aquellas armas-medios con las que más se cometen delitos\n",
    "motores_df.groupby(['ARMAS MEDIOS'])['CANTIDAD'].apply(lambda x : x.astype(int).sum()).sort_values(ascending = False).head(1)"
   ]
  },
  {
   "cell_type": "markdown",
   "id": "0d647294-d165-4524-ae1d-6d02e73c40ef",
   "metadata": {},
   "source": [
    " ###### R:// En este caso se puede observar que utilizando un tipo de llave maestra es la modalidad con la que más se realizan hurtos a automóviles y motocicletas teniendo en cuenta la facilidad con la que actualmente se encuentran duplicados a ciertas referencias de carros."
   ]
  },
  {
   "cell_type": "markdown",
   "id": "18bd2bc5-0b86-4aca-9f96-c68e830fecb3",
   "metadata": {},
   "source": [
    "#### 2.3. Para los casos en los que aplique, ¿cómo ha sido la proporción de géneros y grupos etarios que han estado involucrados en este tipo de delito? ¿Han variado con el paso de los años?"
   ]
  },
  {
   "cell_type": "markdown",
   "id": "d62e5853-477b-4056-96b2-590210287490",
   "metadata": {},
   "source": [
    "#### 2.4. ¿Se evidencia alguna tendencia para cometer dicho delito en algún mes particular del año?"
   ]
  },
  {
   "cell_type": "code",
   "execution_count": 13,
   "id": "607dd2a7",
   "metadata": {},
   "outputs": [],
   "source": [
    "#Almacenamos los meses y su cantidad de hurtos en un nuevo dataframe\n",
    "meses = motores_df.groupby(motores_df['FECHA HECHO'].dt.month)['CANTIDAD'].sum()"
   ]
  },
  {
   "cell_type": "code",
   "execution_count": 14,
   "id": "ff094369",
   "metadata": {},
   "outputs": [
    {
     "data": {
      "image/png": "[encoded data removed]",
      "text/plain": [
       "<Figure size 576x396 with 1 Axes>"
      ]
     },
     "metadata": {},
     "output_type": "display_data"
    }
   ],
   "source": [
    "#Graficamos el dataframe para una mejor interpretación de los datos\n",
    "plt.style.use('seaborn')\n",
    "ax = meses.plot(kind=\"bar\", width=-0.4, rot=0, stacked=True, align='edge', color='green', ylabel='Cantidad de hurtos', xlabel='Mes', fontsize=13)\n",
    "plt.autoscale(enable=True, axis='x')\n",
    "plt.show()"
   ]
  },
  {
   "cell_type": "markdown",
   "id": "cc9c1576",
   "metadata": {},
   "source": [
    "##### R:// En el gráfico anterior se refleja que la mayor cantidad de hurtos cometidos a automóviles y motocicletas son realizados en los tres primeros meses representando el 26,94% de los hurtos registrados. Cabe mencionar que es una temporada usual en el que se incrementan los robos debido a la mayoría de visitantes a diferentes lugares de Colombia pues es una fecha usual en la que la mayoría se encuentra en vacaciones."
   ]
  },
  {
   "cell_type": "markdown",
   "id": "00d204d3",
   "metadata": {},
   "source": [
    "#### 2.5 Para los casos en los que se disponga del detalle del delito o de una descripción, como por ejemplo en delitos sexuales y secuestro, ¿cuáles son las descripciones o modalidades más comunes?"
   ]
  },
  {
   "cell_type": "code",
   "execution_count": 11,
   "id": "6317b417",
   "metadata": {},
   "outputs": [
    {
     "data": {
      "text/plain": [
       "TIPO DE HURTO\n",
       "HURTO AUTOMOTORES     105829\n",
       "HURTO MOTOCICLETAS    314429\n",
       "Name: CANTIDAD, dtype: int64"
      ]
     },
     "execution_count": 11,
     "metadata": {},
     "output_type": "execute_result"
    }
   ],
   "source": [
    "#Verificamos la modalidad en la que más se cometen hurtos\n",
    "motores_df.groupby(motores_df['TIPO DE HURTO']).agg(sum)['CANTIDAD']"
   ]
  },
  {
   "cell_type": "markdown",
   "id": "da6b6539",
   "metadata": {},
   "source": [
    "##### R:// Es evidente que el hurto a motocicletas es mucho más común presentando un total de 74,81% ya que como se mencionaba anteriormente la facilidad de llevarse la motocicleta con una llave maestra es muy alta."
   ]
  }
 ],
 "metadata": {
  "kernelspec": {
   "display_name": "Python 3 (ipykernel)",
   "language": "python",
   "name": "python3"
  },
  "language_info": {
   "codemirror_mode": {
    "name": "ipython",
    "version": 3
   },
   "file_extension": ".py",
   "mimetype": "text/x-python",
   "name": "python",
   "nbconvert_exporter": "python",
   "pygments_lexer": "ipython3",
   "version": "3.9.12"
  }
 },
 "nbformat": 4,
 "nbformat_minor": 5
}
