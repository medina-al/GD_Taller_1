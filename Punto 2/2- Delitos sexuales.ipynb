{
 "cells": [
  {
   "cell_type": "markdown",
   "id": "640bf857",
   "metadata": {},
   "source": [
    "### 2. Preguntas a resolver"
   ]
  },
  {
   "cell_type": "code",
   "execution_count": 2,
   "id": "3b05e6a2-89be-47dc-a694-60770106746f",
   "metadata": {},
   "outputs": [],
   "source": [
    "##Importar las librerías requeridas para el análisis\n",
    "import numpy as np\n",
    "import pandas as pd\n",
    "\n",
    "import matplotlib.pyplot as plt\n",
    "\n",
    "%matplotlib inline"
   ]
  },
  {
   "cell_type": "code",
   "execution_count": 2,
   "id": "4e374108-1d4c-4196-a3f7-9cb28a635db0",
   "metadata": {},
   "outputs": [],
   "source": [
    "##Definir tamaño máximo de filas a mostrar\n",
    "pd.set_option('display.max_rows', 100)"
   ]
  },
  {
   "cell_type": "code",
   "execution_count": 3,
   "id": "82186d4c-a126-4b2c-b26c-1a2a089c5116",
   "metadata": {},
   "outputs": [],
   "source": [
    "##Importar el dataset del CSV\n",
    "df = pd.read_csv('../data/delitosV2.csv')"
   ]
  },
  {
   "cell_type": "code",
   "execution_count": 4,
   "id": "48c9173b-15fd-4fa6-8e65-63831ebf5559",
   "metadata": {},
   "outputs": [
    {
     "data": {
      "text/html": [
       "<div>\n",
       "<style scoped>\n",
       "    .dataframe tbody tr th:only-of-type {\n",
       "        vertical-align: middle;\n",
       "    }\n",
       "\n",
       "    .dataframe tbody tr th {\n",
       "        vertical-align: top;\n",
       "    }\n",
       "\n",
       "    .dataframe thead th {\n",
       "        text-align: right;\n",
       "    }\n",
       "</style>\n",
       "<table border=\"1\" class=\"dataframe\">\n",
       "  <thead>\n",
       "    <tr style=\"text-align: right;\">\n",
       "      <th></th>\n",
       "      <th>DEPARTAMENTO</th>\n",
       "      <th>MUNICIPIO</th>\n",
       "      <th>CODIGO DANE</th>\n",
       "      <th>ARMAS MEDIOS</th>\n",
       "      <th>FECHA HECHO</th>\n",
       "      <th>GENERO</th>\n",
       "      <th>GRUPO ETARIO</th>\n",
       "      <th>CANTIDAD</th>\n",
       "      <th>delito</th>\n",
       "    </tr>\n",
       "  </thead>\n",
       "  <tbody>\n",
       "    <tr>\n",
       "      <th>0</th>\n",
       "      <td>CAQUETÁ</td>\n",
       "      <td>SOLANO</td>\n",
       "      <td>18756</td>\n",
       "      <td>ARMA BLANCA / CORTOPUNZANTE</td>\n",
       "      <td>1/01/2010</td>\n",
       "      <td>FEMENINO</td>\n",
       "      <td>MENORES</td>\n",
       "      <td>1</td>\n",
       "      <td>ARTÍCULO 209. ACTOS SEXUALES CON MENOR DE 14 AÑOS</td>\n",
       "    </tr>\n",
       "    <tr>\n",
       "      <th>1</th>\n",
       "      <td>BOLÍVAR</td>\n",
       "      <td>CARTAGENA (CT)</td>\n",
       "      <td>13001</td>\n",
       "      <td>ARMA BLANCA / CORTOPUNZANTE</td>\n",
       "      <td>1/01/2010</td>\n",
       "      <td>FEMENINO</td>\n",
       "      <td>ADOLESCENTES</td>\n",
       "      <td>1</td>\n",
       "      <td>ARTÍCULO 205. ACCESO CARNAL VIOLENTO</td>\n",
       "    </tr>\n",
       "    <tr>\n",
       "      <th>2</th>\n",
       "      <td>HUILA</td>\n",
       "      <td>LA PLATA</td>\n",
       "      <td>41396</td>\n",
       "      <td>ARMA BLANCA / CORTOPUNZANTE</td>\n",
       "      <td>1/01/2010</td>\n",
       "      <td>FEMENINO</td>\n",
       "      <td>ADULTOS</td>\n",
       "      <td>1</td>\n",
       "      <td>ARTÍCULO 205. ACCESO CARNAL VIOLENTO</td>\n",
       "    </tr>\n",
       "    <tr>\n",
       "      <th>3</th>\n",
       "      <td>SANTANDER</td>\n",
       "      <td>PIEDECUESTA</td>\n",
       "      <td>68547</td>\n",
       "      <td>CONTUNDENTES</td>\n",
       "      <td>1/01/2010</td>\n",
       "      <td>FEMENINO</td>\n",
       "      <td>ADULTOS</td>\n",
       "      <td>1</td>\n",
       "      <td>ARTÍCULO 205. ACCESO CARNAL VIOLENTO</td>\n",
       "    </tr>\n",
       "    <tr>\n",
       "      <th>4</th>\n",
       "      <td>META</td>\n",
       "      <td>VILLAVICENCIO (CT)</td>\n",
       "      <td>50001</td>\n",
       "      <td>CONTUNDENTES</td>\n",
       "      <td>1/01/2010</td>\n",
       "      <td>FEMENINO</td>\n",
       "      <td>ADULTOS</td>\n",
       "      <td>1</td>\n",
       "      <td>ARTÍCULO 205. ACCESO CARNAL VIOLENTO</td>\n",
       "    </tr>\n",
       "  </tbody>\n",
       "</table>\n",
       "</div>"
      ],
      "text/plain": [
       "  DEPARTAMENTO           MUNICIPIO  CODIGO DANE                 ARMAS MEDIOS  \\\n",
       "0      CAQUETÁ              SOLANO        18756  ARMA BLANCA / CORTOPUNZANTE   \n",
       "1      BOLÍVAR      CARTAGENA (CT)        13001  ARMA BLANCA / CORTOPUNZANTE   \n",
       "2        HUILA            LA PLATA        41396  ARMA BLANCA / CORTOPUNZANTE   \n",
       "3    SANTANDER         PIEDECUESTA        68547                 CONTUNDENTES   \n",
       "4         META  VILLAVICENCIO (CT)        50001                 CONTUNDENTES   \n",
       "\n",
       "  FECHA HECHO    GENERO  GRUPO ETARIO  CANTIDAD  \\\n",
       "0   1/01/2010  FEMENINO       MENORES         1   \n",
       "1   1/01/2010  FEMENINO  ADOLESCENTES         1   \n",
       "2   1/01/2010  FEMENINO       ADULTOS         1   \n",
       "3   1/01/2010  FEMENINO       ADULTOS         1   \n",
       "4   1/01/2010  FEMENINO       ADULTOS         1   \n",
       "\n",
       "                                              delito  \n",
       "0  ARTÍCULO 209. ACTOS SEXUALES CON MENOR DE 14 AÑOS  \n",
       "1               ARTÍCULO 205. ACCESO CARNAL VIOLENTO  \n",
       "2               ARTÍCULO 205. ACCESO CARNAL VIOLENTO  \n",
       "3               ARTÍCULO 205. ACCESO CARNAL VIOLENTO  \n",
       "4               ARTÍCULO 205. ACCESO CARNAL VIOLENTO  "
      ]
     },
     "execution_count": 4,
     "metadata": {},
     "output_type": "execute_result"
    }
   ],
   "source": [
    "##Visualizar los primeros datos\n",
    "df.head()"
   ]
  },
  {
   "cell_type": "markdown",
   "id": "09645b60-9323-4402-86d7-aa02b7f8bbb6",
   "metadata": {},
   "source": [
    "#### 2.1. ¿Cuáles han sido los departamentos (TOP 3) más afectados en términos de cantidad de delitos cometidos en los últimos 5 años?"
   ]
  },
  {
   "cell_type": "code",
   "execution_count": 4,
   "id": "b548ec61-a20f-4383-ada9-e2a1a7607c29",
   "metadata": {},
   "outputs": [
    {
     "data": {
      "text/plain": [
       "DEPARTAMENTO\n",
       "CUNDINAMARCA    28210\n",
       "ANTIOQUIA       18259\n",
       "VALLE           11666\n",
       "dtype: int64"
      ]
     },
     "execution_count": 4,
     "metadata": {},
     "output_type": "execute_result"
    }
   ],
   "source": [
    "##Departamentos con mayor número de delitos registrados\n",
    "df['FECHA HECHO'] = pd.to_datetime(df['FECHA HECHO'], format = '%d/%m/%Y')\n",
    "df['FECHA HECHO'].dt.year\n",
    "df.groupby(['DEPARTAMENTO']).apply(lambda x: x[x['FECHA HECHO'].dt.year>2017]['CANTIDAD'].sum()).sort_values(ascending=False).head(3)"
   ]
  },
  {
   "cell_type": "markdown",
   "id": "1c44b408-0eb6-43e4-9670-2c42ae04d2b0",
   "metadata": {},
   "source": [
    "#### 2.2. Para los casos en los que aplique, ¿cuál ha sido el arma o medio más común para cometer el delito.# Arma o medio más común"
   ]
  },
  {
   "cell_type": "code",
   "execution_count": 5,
   "id": "e18c7c83-11ae-47e6-a637-d2d0c74e9d1e",
   "metadata": {
    "tags": []
   },
   "outputs": [
    {
     "data": {
      "text/plain": [
       "array(['ARMA BLANCA / CORTOPUNZANTE', 'CONTUNDENTES', 'NO REPORTADO',\n",
       "       'SIN EMPLEO DE ARMAS', 'ARMA DE FUEGO', 'ESCOPOLAMINA',\n",
       "       'LICOR ADULTERADO', 'CINTAS/CINTURON', 'CORTANTES', 'ESPOSAS'],\n",
       "      dtype=object)"
      ]
     },
     "execution_count": 5,
     "metadata": {},
     "output_type": "execute_result"
    }
   ],
   "source": [
    "# Validar los valores\n",
    "df['ARMAS MEDIOS'].unique()"
   ]
  },
  {
   "cell_type": "code",
   "execution_count": 6,
   "id": "8c65cdd8-22d9-48b9-897e-5d5a0382a401",
   "metadata": {},
   "outputs": [
    {
     "data": {
      "text/plain": [
       "array(['ARMA BLANCA / CORTOPUNZANTE', 'CONTUNDENTES', 'NO REPORTADO',\n",
       "       'SIN EMPLEO DE ARMAS', 'ARMA DE FUEGO', 'ESCOPOLAMINA',\n",
       "       'LICOR ADULTERADO', 'CINTAS/CINTURON', 'CORTANTES', 'ESPOSAS'],\n",
       "      dtype=object)"
      ]
     },
     "execution_count": 6,
     "metadata": {},
     "output_type": "execute_result"
    }
   ],
   "source": [
    "## Reemplazar valores escritos de diferentes maneras para unificar\n",
    "df['ARMAS MEDIOS']=df['ARMAS MEDIOS'].replace({'CORTOPUNZANTES': 'ARMA BLANCA / CORTOPUNZANTE','ARMAS BLANCAS': 'ARMA BLANCA / CORTOPUNZANTE'})\n",
    "armas_medios=df['ARMAS MEDIOS'].unique()\n",
    "armas_medios"
   ]
  },
  {
   "cell_type": "code",
   "execution_count": 7,
   "id": "d702ac11-466d-49eb-9e20-fbfe99b830f3",
   "metadata": {},
   "outputs": [
    {
     "data": {
      "text/html": [
       "<div>\n",
       "<style scoped>\n",
       "    .dataframe tbody tr th:only-of-type {\n",
       "        vertical-align: middle;\n",
       "    }\n",
       "\n",
       "    .dataframe tbody tr th {\n",
       "        vertical-align: top;\n",
       "    }\n",
       "\n",
       "    .dataframe thead th {\n",
       "        text-align: right;\n",
       "    }\n",
       "</style>\n",
       "<table border=\"1\" class=\"dataframe\">\n",
       "  <thead>\n",
       "    <tr style=\"text-align: right;\">\n",
       "      <th></th>\n",
       "      <th>DEPARTAMENTO</th>\n",
       "      <th>MUNICIPIO</th>\n",
       "      <th>CODIGO DANE</th>\n",
       "      <th>ARMAS MEDIOS</th>\n",
       "      <th>FECHA HECHO</th>\n",
       "      <th>GENERO</th>\n",
       "      <th>GRUPO ETARIO</th>\n",
       "      <th>CANTIDAD</th>\n",
       "      <th>delito</th>\n",
       "    </tr>\n",
       "  </thead>\n",
       "  <tbody>\n",
       "  </tbody>\n",
       "</table>\n",
       "</div>"
      ],
      "text/plain": [
       "Empty DataFrame\n",
       "Columns: [DEPARTAMENTO, MUNICIPIO, CODIGO DANE, ARMAS MEDIOS, FECHA HECHO, GENERO, GRUPO ETARIO, CANTIDAD, delito]\n",
       "Index: []"
      ]
     },
     "execution_count": 7,
     "metadata": {},
     "output_type": "execute_result"
    }
   ],
   "source": [
    "#Se buscan los valores que contienen un guión\n",
    "df.loc[df['ARMAS MEDIOS'] == '-']"
   ]
  },
  {
   "cell_type": "code",
   "execution_count": 8,
   "id": "8964bf7f-3fe9-4068-85fe-8499c9e66a52",
   "metadata": {},
   "outputs": [
    {
     "data": {
      "text/plain": [
       "array(['ARMA BLANCA / CORTOPUNZANTE', 'CONTUNDENTES', 'NO REPORTADO',\n",
       "       'SIN EMPLEO DE ARMAS', 'ARMA DE FUEGO', 'ESCOPOLAMINA',\n",
       "       'LICOR ADULTERADO', 'CINTAS/CINTURON', 'CORTANTES', 'ESPOSAS'],\n",
       "      dtype=object)"
      ]
     },
     "execution_count": 8,
     "metadata": {},
     "output_type": "execute_result"
    }
   ],
   "source": [
    "## Reemplazar valores escritos de diferentes maneras para unificar\n",
    "df['ARMAS MEDIOS']=df['ARMAS MEDIOS'].replace({'-':'NO REPORTADO'})\n",
    "armas_medios=df['ARMAS MEDIOS'].unique()\n",
    "armas_medios"
   ]
  },
  {
   "cell_type": "code",
   "execution_count": 9,
   "id": "22311507-29a4-4ba4-99a9-6548c6b4559b",
   "metadata": {},
   "outputs": [
    {
     "data": {
      "text/plain": [
       "[Text(0, 0, '114948'),\n",
       " Text(0, 0, '61241'),\n",
       " Text(0, 0, '43712'),\n",
       " Text(0, 0, '12471'),\n",
       " Text(0, 0, '6081'),\n",
       " Text(0, 0, '2159'),\n",
       " Text(0, 0, '949'),\n",
       " Text(0, 0, '102'),\n",
       " Text(0, 0, '62'),\n",
       " Text(0, 0, '14')]"
      ]
     },
     "execution_count": 9,
     "metadata": {},
     "output_type": "execute_result"
    },
    {
     "data": {
      "image/png": "[encoded data removed]",
      "text/plain": [
       "<Figure size 432x288 with 1 Axes>"
      ]
     },
     "metadata": {
      "needs_background": "light"
     },
     "output_type": "display_data"
    }
   ],
   "source": [
    "# Contar la cantidad de hechos\n",
    "armas_medios=df['ARMAS MEDIOS'].value_counts()\n",
    "armas_medios.sort_values(ascending=False,inplace=True)\n",
    "graph = armas_medios.plot.bar()\n",
    "graph.bar_label(graph.containers[0])"
   ]
  },
  {
   "cell_type": "markdown",
   "id": "0d647294-d165-4524-ae1d-6d02e73c40ef",
   "metadata": {},
   "source": [
    "Para el caso de delitos sexuales el medio más común es sin utilizar armas, es decir, contacto físico directo. Si se refiere a armas serían las de tipo contundente"
   ]
  },
  {
   "cell_type": "markdown",
   "id": "4e4911a0",
   "metadata": {},
   "source": [
    "#### 2.3. Para los casos en los que aplique, ¿cómo ha sido la proporción de géneros y grupos etarios que han estado involucrados en este tipo de delito? ¿Han variado con el paso de los años?"
   ]
  },
  {
   "cell_type": "code",
   "execution_count": 8,
   "id": "e2940b9f",
   "metadata": {},
   "outputs": [],
   "source": [
    "# Agrupar por fecha y género sumando la columna cantidad\n",
    "df_new = df.groupby([df['FECHA HECHO'].dt.strftime('%Y'),'GENERO'])[['CANTIDAD']].sum().reset_index()"
   ]
  },
  {
   "cell_type": "code",
   "execution_count": 9,
   "id": "1b452a49",
   "metadata": {},
   "outputs": [],
   "source": [
    "# Convertir las filas de género en columnas para poder graficar\n",
    "df_new = df_new.pivot_table(index=['FECHA HECHO'], columns=['GENERO'], values='CANTIDAD').fillna(0)"
   ]
  },
  {
   "cell_type": "code",
   "execution_count": 10,
   "id": "5db6a6d4",
   "metadata": {},
   "outputs": [
    {
     "data": {
      "image/png": "[encoded data removed]",
      "text/plain": [
       "<Figure size 432x288 with 1 Axes>"
      ]
     },
     "metadata": {
      "needs_background": "light"
     },
     "output_type": "display_data"
    }
   ],
   "source": [
    "# Graficar resultados por año y género\n",
    "df_new.plot(kind='bar')\n",
    "plt.show()"
   ]
  },
  {
   "cell_type": "code",
   "execution_count": 11,
   "id": "682264f3",
   "metadata": {},
   "outputs": [],
   "source": [
    "# Agrupar por fecha y género sumando la columna cantidad\n",
    "df_new = df.groupby([df['FECHA HECHO'].dt.strftime('%Y'),'GRUPO ETARIO'])[['CANTIDAD']].sum().reset_index()"
   ]
  },
  {
   "cell_type": "code",
   "execution_count": 12,
   "id": "05a04eae",
   "metadata": {},
   "outputs": [],
   "source": [
    "# Convertir las filas de género en columnas para poder graficar\n",
    "df_new = df_new.pivot_table(index=['FECHA HECHO'], columns=['GRUPO ETARIO'], values='CANTIDAD').fillna(0)"
   ]
  },
  {
   "cell_type": "code",
   "execution_count": 13,
   "id": "a600e4ca",
   "metadata": {},
   "outputs": [
    {
     "data": {
      "image/png": "[encoded data removed]",
      "text/plain": [
       "<Figure size 432x288 with 1 Axes>"
      ]
     },
     "metadata": {
      "needs_background": "light"
     },
     "output_type": "display_data"
    }
   ],
   "source": [
    "# Graficar resultados por año y género\n",
    "df_new.plot(kind='bar')\n",
    "plt.show()"
   ]
  },
  {
   "cell_type": "markdown",
   "id": "18bd2bc5-0b86-4aca-9f96-c68e830fecb3",
   "metadata": {},
   "source": [
    "#### 2.4. ¿Se evidencia alguna tendencia para cometer dicho delito en algún mes particular del año?"
   ]
  },
  {
   "cell_type": "code",
   "execution_count": 7,
   "id": "8f2c753c-57c7-4419-9dac-20f83fe9d5ca",
   "metadata": {},
   "outputs": [
    {
     "data": {
      "text/plain": [
       "241739"
      ]
     },
     "execution_count": 7,
     "metadata": {},
     "output_type": "execute_result"
    },
    {
     "data": {
      "text/plain": [
       "<Figure size 1080x576 with 0 Axes>"
      ]
     },
     "metadata": {},
     "output_type": "display_data"
    }
   ],
   "source": [
    "plt.figure(figsize = (15, 8))\n",
    "# Convertir a formato de fecha\n",
    "df['FECHA HECHO']=pd.to_datetime(df['FECHA HECHO'],format='%d/%m/%Y')\n",
    "# Contar la cantidad de hechos agrupando por mes\n",
    "count_month=df.groupby(df['FECHA HECHO'].dt.month_name().str[:3]).agg('count')['CANTIDAD']\n",
    "# Ver el total de los datos\n",
    "count_month.sum()"
   ]
  },
  {
   "cell_type": "code",
   "execution_count": 12,
   "id": "f7e37684-c407-49c7-8e5e-ff8362def29c",
   "metadata": {},
   "outputs": [
    {
     "data": {
      "text/plain": [
       "2261.301775459651"
      ]
     },
     "execution_count": 12,
     "metadata": {},
     "output_type": "execute_result"
    }
   ],
   "source": [
    "#Calcular la desviación estándar de los datos\n",
    "count_month.std()"
   ]
  },
  {
   "cell_type": "code",
   "execution_count": 10,
   "id": "f9f7527e-fcc4-4c8e-8eb0-54ee915ac103",
   "metadata": {},
   "outputs": [
    {
     "data": {
      "text/plain": [
       "<AxesSubplot:xlabel='FECHA HECHO'>"
      ]
     },
     "execution_count": 10,
     "metadata": {},
     "output_type": "execute_result"
    },
    {
     "data": {
      "image/png": "[encoded data removed]",
      "text/plain": [
       "<Figure size 432x288 with 1 Axes>"
      ]
     },
     "metadata": {
      "needs_background": "light"
     },
     "output_type": "display_data"
    }
   ],
   "source": [
    "# Graficar\n",
    "count_month.plot(kind='bar', color = 'green')"
   ]
  },
  {
   "cell_type": "markdown",
   "id": "d62e5853-477b-4056-96b2-590210287490",
   "metadata": {},
   "source": [
    "#### 2.5 Para los casos en los que se disponga del detalle del delito o de una descripción, como por ejemplo en delitos sexuales y secuestro, ¿cuáles son las descripciones o modalidades más comunes?"
   ]
  },
  {
   "cell_type": "code",
   "execution_count": 15,
   "id": "080417e4-7aa0-4ea4-bd87-186354c14903",
   "metadata": {},
   "outputs": [
    {
     "data": {
      "text/plain": [
       "[Text(0, 0, '77669'),\n",
       " Text(0, 0, '54948'),\n",
       " Text(0, 0, '38210'),\n",
       " Text(0, 0, '26363'),\n",
       " Text(0, 0, '15614')]"
      ]
     },
     "execution_count": 15,
     "metadata": {},
     "output_type": "execute_result"
    },
    {
     "data": {
      "image/png": "[encoded data removed]",
      "text/plain": [
       "<Figure size 432x288 with 1 Axes>"
      ]
     },
     "metadata": {
      "needs_background": "light"
     },
     "output_type": "display_data"
    }
   ],
   "source": [
    "tipo=df['delito'].value_counts().head(5)\n",
    "tipo.sort_values(ascending=False,inplace=True)\n",
    "graph = tipo.plot(kind=\"bar\")\n",
    "graph.bar_label(graph.containers[0])"
   ]
  }
 ],
 "metadata": {
  "kernelspec": {
   "display_name": "Python 3 (ipykernel)",
   "language": "python",
   "name": "python3"
  },
  "language_info": {
   "codemirror_mode": {
    "name": "ipython",
    "version": 3
   },
   "file_extension": ".py",
   "mimetype": "text/x-python",
   "name": "python",
   "nbconvert_exporter": "python",
   "pygments_lexer": "ipython3",
   "version": "3.9.12"
  }
 },
 "nbformat": 4,
 "nbformat_minor": 5
}
