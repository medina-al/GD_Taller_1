{
 "cells": [
  {
   "cell_type": "code",
   "execution_count": 1,
   "id": "3b05e6a2-89be-47dc-a694-60770106746f",
   "metadata": {},
   "outputs": [],
   "source": [
    "##Importar las librerías requeridas para el análisis\n",
    "import numpy as np\n",
    "import pandas as pd\n",
    "\n",
    "import matplotlib.pyplot as plt\n",
    "\n",
    "%matplotlib inline"
   ]
  },
  {
   "cell_type": "code",
   "execution_count": 2,
   "id": "4e374108-1d4c-4196-a3f7-9cb28a635db0",
   "metadata": {},
   "outputs": [],
   "source": [
    "##Definir tamaño máximo de filas a mostrar\n",
    "pd.set_option('display.max_rows', 100)"
   ]
  },
  {
   "cell_type": "code",
   "execution_count": 3,
   "id": "82186d4c-a126-4b2c-b26c-1a2a089c5116",
   "metadata": {},
   "outputs": [],
   "source": [
    "##Importar el dataset del CSV\n",
    "df = pd.read_csv('../data/delitos.csv')"
   ]
  },
  {
   "cell_type": "code",
   "execution_count": 4,
   "id": "48c9173b-15fd-4fa6-8e65-63831ebf5559",
   "metadata": {},
   "outputs": [
    {
     "data": {
      "text/html": [
       "<div>\n",
       "<style scoped>\n",
       "    .dataframe tbody tr th:only-of-type {\n",
       "        vertical-align: middle;\n",
       "    }\n",
       "\n",
       "    .dataframe tbody tr th {\n",
       "        vertical-align: top;\n",
       "    }\n",
       "\n",
       "    .dataframe thead th {\n",
       "        text-align: right;\n",
       "    }\n",
       "</style>\n",
       "<table border=\"1\" class=\"dataframe\">\n",
       "  <thead>\n",
       "    <tr style=\"text-align: right;\">\n",
       "      <th></th>\n",
       "      <th>DEPARTAMENTO</th>\n",
       "      <th>MUNICIPIO</th>\n",
       "      <th>CODIGO DANE</th>\n",
       "      <th>ARMAS MEDIOS</th>\n",
       "      <th>FECHA HECHO</th>\n",
       "      <th>GENERO</th>\n",
       "      <th>GRUPO ETARIO</th>\n",
       "      <th>CANTIDAD</th>\n",
       "      <th>delito</th>\n",
       "    </tr>\n",
       "  </thead>\n",
       "  <tbody>\n",
       "    <tr>\n",
       "      <th>0</th>\n",
       "      <td>CAQUETÁ</td>\n",
       "      <td>SOLANO</td>\n",
       "      <td>18756000.0</td>\n",
       "      <td>ARMA BLANCA / CORTOPUNZANTE</td>\n",
       "      <td>1/01/2010</td>\n",
       "      <td>FEMENINO</td>\n",
       "      <td>MENORES</td>\n",
       "      <td>1</td>\n",
       "      <td>ARTÍCULO 209. ACTOS SEXUALES CON MENOR DE 14 AÑOS</td>\n",
       "    </tr>\n",
       "    <tr>\n",
       "      <th>1</th>\n",
       "      <td>BOLÍVAR</td>\n",
       "      <td>CARTAGENA (CT)</td>\n",
       "      <td>13001000.0</td>\n",
       "      <td>ARMA BLANCA / CORTOPUNZANTE</td>\n",
       "      <td>1/01/2010</td>\n",
       "      <td>FEMENINO</td>\n",
       "      <td>ADOLECENTES</td>\n",
       "      <td>1</td>\n",
       "      <td>ARTÍCULO 205. ACCESO CARNAL VIOLENTO</td>\n",
       "    </tr>\n",
       "    <tr>\n",
       "      <th>2</th>\n",
       "      <td>HUILA</td>\n",
       "      <td>LA PLATA</td>\n",
       "      <td>41396000.0</td>\n",
       "      <td>ARMA BLANCA / CORTOPUNZANTE</td>\n",
       "      <td>1/01/2010</td>\n",
       "      <td>FEMENINO</td>\n",
       "      <td>ADULTOS</td>\n",
       "      <td>1</td>\n",
       "      <td>ARTÍCULO 205. ACCESO CARNAL VIOLENTO</td>\n",
       "    </tr>\n",
       "    <tr>\n",
       "      <th>3</th>\n",
       "      <td>SANTANDER</td>\n",
       "      <td>PIEDECUESTA</td>\n",
       "      <td>68547000.0</td>\n",
       "      <td>CONTUNDENTES</td>\n",
       "      <td>1/01/2010</td>\n",
       "      <td>FEMENINO</td>\n",
       "      <td>ADULTOS</td>\n",
       "      <td>1</td>\n",
       "      <td>ARTÍCULO 205. ACCESO CARNAL VIOLENTO</td>\n",
       "    </tr>\n",
       "    <tr>\n",
       "      <th>4</th>\n",
       "      <td>META</td>\n",
       "      <td>VILLAVICENCIO (CT)</td>\n",
       "      <td>50001000.0</td>\n",
       "      <td>CONTUNDENTES</td>\n",
       "      <td>1/01/2010</td>\n",
       "      <td>FEMENINO</td>\n",
       "      <td>ADULTOS</td>\n",
       "      <td>1</td>\n",
       "      <td>ARTÍCULO 205. ACCESO CARNAL VIOLENTO</td>\n",
       "    </tr>\n",
       "  </tbody>\n",
       "</table>\n",
       "</div>"
      ],
      "text/plain": [
       "  DEPARTAMENTO           MUNICIPIO  CODIGO DANE                 ARMAS MEDIOS  \\\n",
       "0      CAQUETÁ              SOLANO   18756000.0  ARMA BLANCA / CORTOPUNZANTE   \n",
       "1      BOLÍVAR      CARTAGENA (CT)   13001000.0  ARMA BLANCA / CORTOPUNZANTE   \n",
       "2        HUILA            LA PLATA   41396000.0  ARMA BLANCA / CORTOPUNZANTE   \n",
       "3    SANTANDER         PIEDECUESTA   68547000.0                 CONTUNDENTES   \n",
       "4         META  VILLAVICENCIO (CT)   50001000.0                 CONTUNDENTES   \n",
       "\n",
       "  FECHA HECHO    GENERO GRUPO ETARIO  CANTIDAD  \\\n",
       "0   1/01/2010  FEMENINO      MENORES         1   \n",
       "1   1/01/2010  FEMENINO  ADOLECENTES         1   \n",
       "2   1/01/2010  FEMENINO      ADULTOS         1   \n",
       "3   1/01/2010  FEMENINO      ADULTOS         1   \n",
       "4   1/01/2010  FEMENINO      ADULTOS         1   \n",
       "\n",
       "                                              delito  \n",
       "0  ARTÍCULO 209. ACTOS SEXUALES CON MENOR DE 14 AÑOS  \n",
       "1               ARTÍCULO 205. ACCESO CARNAL VIOLENTO  \n",
       "2               ARTÍCULO 205. ACCESO CARNAL VIOLENTO  \n",
       "3               ARTÍCULO 205. ACCESO CARNAL VIOLENTO  \n",
       "4               ARTÍCULO 205. ACCESO CARNAL VIOLENTO  "
      ]
     },
     "execution_count": 4,
     "metadata": {},
     "output_type": "execute_result"
    }
   ],
   "source": [
    "##Visualizar los primeros datos\n",
    "df.head()"
   ]
  },
  {
   "cell_type": "markdown",
   "id": "09645b60-9323-4402-86d7-aa02b7f8bbb6",
   "metadata": {},
   "source": [
    "# Top 3"
   ]
  },
  {
   "cell_type": "code",
   "execution_count": null,
   "id": "b548ec61-a20f-4383-ada9-e2a1a7607c29",
   "metadata": {},
   "outputs": [],
   "source": []
  },
  {
   "cell_type": "markdown",
   "id": "1c44b408-0eb6-43e4-9670-2c42ae04d2b0",
   "metadata": {},
   "source": [
    "# Arma o medio más común"
   ]
  },
  {
   "cell_type": "code",
   "execution_count": 7,
   "id": "e18c7c83-11ae-47e6-a637-d2d0c74e9d1e",
   "metadata": {
    "tags": []
   },
   "outputs": [
    {
     "data": {
      "text/plain": [
       "array(['ARMA BLANCA / CORTOPUNZANTE', 'CONTUNDENTES', 'NO REPORTADO',\n",
       "       'SIN EMPLEO DE ARMAS', 'ARMA DE FUEGO', 'CORTOPUNZANTES',\n",
       "       'ESCOPOLAMINA', 'LICOR ADULTERADO', 'CINTAS/CINTURON', 'CORTANTES',\n",
       "       'ESPOSAS', 'ARMAS BLANCAS', '-'], dtype=object)"
      ]
     },
     "execution_count": 7,
     "metadata": {},
     "output_type": "execute_result"
    }
   ],
   "source": [
    "# Validar los valores\n",
    "df['ARMAS MEDIOS'].unique()"
   ]
  },
  {
   "cell_type": "code",
   "execution_count": 8,
   "id": "8c65cdd8-22d9-48b9-897e-5d5a0382a401",
   "metadata": {},
   "outputs": [
    {
     "data": {
      "text/plain": [
       "array(['ARMA BLANCA / CORTOPUNZANTE', 'CONTUNDENTES', 'NO REPORTADO',\n",
       "       'SIN EMPLEO DE ARMAS', 'ARMA DE FUEGO', 'ESCOPOLAMINA',\n",
       "       'LICOR ADULTERADO', 'CINTAS/CINTURON', 'CORTANTES', 'ESPOSAS', '-'],\n",
       "      dtype=object)"
      ]
     },
     "execution_count": 8,
     "metadata": {},
     "output_type": "execute_result"
    }
   ],
   "source": [
    "## Reemplazar valores escritos de diferentes maneras para unificar\n",
    "df['ARMAS MEDIOS']=df['ARMAS MEDIOS'].replace({'CORTOPUNZANTES': 'ARMA BLANCA / CORTOPUNZANTE','ARMAS BLANCAS': 'ARMA BLANCA / CORTOPUNZANTE'})\n",
    "armas_medios=df['ARMAS MEDIOS'].unique()\n",
    "armas_medios"
   ]
  },
  {
   "cell_type": "code",
   "execution_count": 9,
   "id": "d702ac11-466d-49eb-9e20-fbfe99b830f3",
   "metadata": {},
   "outputs": [
    {
     "data": {
      "text/html": [
       "<div>\n",
       "<style scoped>\n",
       "    .dataframe tbody tr th:only-of-type {\n",
       "        vertical-align: middle;\n",
       "    }\n",
       "\n",
       "    .dataframe tbody tr th {\n",
       "        vertical-align: top;\n",
       "    }\n",
       "\n",
       "    .dataframe thead th {\n",
       "        text-align: right;\n",
       "    }\n",
       "</style>\n",
       "<table border=\"1\" class=\"dataframe\">\n",
       "  <thead>\n",
       "    <tr style=\"text-align: right;\">\n",
       "      <th></th>\n",
       "      <th>DEPARTAMENTO</th>\n",
       "      <th>MUNICIPIO</th>\n",
       "      <th>CODIGO DANE</th>\n",
       "      <th>ARMAS MEDIOS</th>\n",
       "      <th>FECHA HECHO</th>\n",
       "      <th>GENERO</th>\n",
       "      <th>GRUPO ETARIO</th>\n",
       "      <th>CANTIDAD</th>\n",
       "      <th>delito</th>\n",
       "    </tr>\n",
       "  </thead>\n",
       "  <tbody>\n",
       "    <tr>\n",
       "      <th>209651</th>\n",
       "      <td>TOLIMA</td>\n",
       "      <td>IBAGUÉ (CT)</td>\n",
       "      <td>73001000.0</td>\n",
       "      <td>-</td>\n",
       "      <td>5/06/2020</td>\n",
       "      <td>FEMENINO</td>\n",
       "      <td>ADULTOS</td>\n",
       "      <td>1</td>\n",
       "      <td>ARTÍCULO 206. ACTO SEXUAL VIOLENTO</td>\n",
       "    </tr>\n",
       "    <tr>\n",
       "      <th>217887</th>\n",
       "      <td>VALLE</td>\n",
       "      <td>PALMIRA</td>\n",
       "      <td>76520000.0</td>\n",
       "      <td>-</td>\n",
       "      <td>18/09/2020</td>\n",
       "      <td>FEMENINO</td>\n",
       "      <td>MENORES</td>\n",
       "      <td>1</td>\n",
       "      <td>ARTÍCULO 209. ACTOS SEXUALES CON MENOR DE 14 AÑOS</td>\n",
       "    </tr>\n",
       "  </tbody>\n",
       "</table>\n",
       "</div>"
      ],
      "text/plain": [
       "       DEPARTAMENTO    MUNICIPIO  CODIGO DANE ARMAS MEDIOS FECHA HECHO  \\\n",
       "209651       TOLIMA  IBAGUÉ (CT)   73001000.0            -   5/06/2020   \n",
       "217887        VALLE      PALMIRA   76520000.0            -  18/09/2020   \n",
       "\n",
       "          GENERO GRUPO ETARIO  CANTIDAD  \\\n",
       "209651  FEMENINO      ADULTOS         1   \n",
       "217887  FEMENINO      MENORES         1   \n",
       "\n",
       "                                                   delito  \n",
       "209651                 ARTÍCULO 206. ACTO SEXUAL VIOLENTO  \n",
       "217887  ARTÍCULO 209. ACTOS SEXUALES CON MENOR DE 14 AÑOS  "
      ]
     },
     "execution_count": 9,
     "metadata": {},
     "output_type": "execute_result"
    }
   ],
   "source": [
    "#Se buscan los valores que contienen un guión\n",
    "df.loc[df['ARMAS MEDIOS'] == '-']"
   ]
  },
  {
   "cell_type": "code",
   "execution_count": 10,
   "id": "8964bf7f-3fe9-4068-85fe-8499c9e66a52",
   "metadata": {},
   "outputs": [
    {
     "data": {
      "text/plain": [
       "array(['ARMA BLANCA / CORTOPUNZANTE', 'CONTUNDENTES', 'NO REPORTADO',\n",
       "       'SIN EMPLEO DE ARMAS', 'ARMA DE FUEGO', 'ESCOPOLAMINA',\n",
       "       'LICOR ADULTERADO', 'CINTAS/CINTURON', 'CORTANTES', 'ESPOSAS'],\n",
       "      dtype=object)"
      ]
     },
     "execution_count": 10,
     "metadata": {},
     "output_type": "execute_result"
    }
   ],
   "source": [
    "## Reemplazar valores escritos de diferentes maneras para unificar\n",
    "df['ARMAS MEDIOS']=df['ARMAS MEDIOS'].replace({'-':'NO REPORTADO'})\n",
    "armas_medios=df['ARMAS MEDIOS'].unique()\n",
    "armas_medios"
   ]
  },
  {
   "cell_type": "code",
   "execution_count": 11,
   "id": "22311507-29a4-4ba4-99a9-6548c6b4559b",
   "metadata": {},
   "outputs": [
    {
     "data": {
      "text/plain": [
       "[Text(0, 0, '124316'),\n",
       " Text(0, 0, '68137'),\n",
       " Text(0, 0, '45387'),\n",
       " Text(0, 0, '12926'),\n",
       " Text(0, 0, '6182'),\n",
       " Text(0, 0, '2227'),\n",
       " Text(0, 0, '967'),\n",
       " Text(0, 0, '104'),\n",
       " Text(0, 0, '63'),\n",
       " Text(0, 0, '14')]"
      ]
     },
     "execution_count": 11,
     "metadata": {},
     "output_type": "execute_result"
    },
    {
     "data": {
      "image/png": "[encoded data removed]",
      "text/plain": [
       "<Figure size 432x288 with 1 Axes>"
      ]
     },
     "metadata": {
      "needs_background": "light"
     },
     "output_type": "display_data"
    }
   ],
   "source": [
    "armas_medios=df['ARMAS MEDIOS'].value_counts()\n",
    "armas_medios.sort_values(ascending=False,inplace=True)\n",
    "graph = armas_medios.plot.bar()\n",
    "graph.bar_label(graph.containers[0])"
   ]
  },
  {
   "cell_type": "markdown",
   "id": "0d647294-d165-4524-ae1d-6d02e73c40ef",
   "metadata": {},
   "source": [
    "Para el caso de delitos sexuales el medio más común es sin utilizar armas, es decir, contacto físico directo. Si se refiere a armas serían las de tipo contundente"
   ]
  },
  {
   "cell_type": "markdown",
   "id": "18bd2bc5-0b86-4aca-9f96-c68e830fecb3",
   "metadata": {},
   "source": [
    "# Proporción por genéro y grupo etario"
   ]
  },
  {
   "cell_type": "markdown",
   "id": "c7164be2-cd0b-4a19-b2a8-f07564848898",
   "metadata": {},
   "source": [
    "# Tendencia por mes del año"
   ]
  },
  {
   "cell_type": "code",
   "execution_count": 12,
   "id": "8f2c753c-57c7-4419-9dac-20f83fe9d5ca",
   "metadata": {},
   "outputs": [
    {
     "data": {
      "text/plain": [
       "<AxesSubplot:xlabel='FECHA HECHO'>"
      ]
     },
     "execution_count": 12,
     "metadata": {},
     "output_type": "execute_result"
    },
    {
     "data": {
      "image/png": "[encoded data removed]",
      "text/plain": [
       "<Figure size 1080x576 with 1 Axes>"
      ]
     },
     "metadata": {
      "needs_background": "light"
     },
     "output_type": "display_data"
    }
   ],
   "source": [
    "plt.figure(figsize = (15, 8))\n",
    "# Convertir a formato de fecha\n",
    "df['FECHA HECHO']=pd.to_datetime(df['FECHA HECHO'],format='%d/%m/%Y')\n",
    "# Contar la cantidad de hechos agrupando por mes\n",
    "count_month=df.groupby(df['FECHA HECHO'].dt.month_name().str[:3]).agg('count')['CANTIDAD']\n",
    "# Graficar\n",
    "count_month.plot(kind='bar')"
   ]
  },
  {
   "cell_type": "markdown",
   "id": "d62e5853-477b-4056-96b2-590210287490",
   "metadata": {},
   "source": [
    "# Descripciones o modalidades más comunes"
   ]
  },
  {
   "cell_type": "code",
   "execution_count": null,
   "id": "080417e4-7aa0-4ea4-bd87-186354c14903",
   "metadata": {},
   "outputs": [],
   "source": []
  }
 ],
 "metadata": {
  "kernelspec": {
   "display_name": "Python 3 (ipykernel)",
   "language": "python",
   "name": "python3"
  },
  "language_info": {
   "codemirror_mode": {
    "name": "ipython",
    "version": 3
   },
   "file_extension": ".py",
   "mimetype": "text/x-python",
   "name": "python",
   "nbconvert_exporter": "python",
   "pygments_lexer": "ipython3",
   "version": "3.9.12"
  }
 },
 "nbformat": 4,
 "nbformat_minor": 5
}
