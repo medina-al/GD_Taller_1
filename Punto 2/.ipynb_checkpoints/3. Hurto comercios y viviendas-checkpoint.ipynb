{
 "cells": [
  {
   "cell_type": "markdown",
<<<<<<< HEAD
   "id": "2115ec8a",
   "metadata": {},
   "source": [
    "### 2. Preguntas a resolver"
=======
   "id": "b50b3d3b",
   "metadata": {},
   "source": [
    "### 2. Aspectos más relevantes encontrados en el dataset de hurto a comercio y viviendas"
>>>>>>> fb0e4134894ea5454d01509e6a3aee1d5cbef08c
   ]
  },
  {
   "cell_type": "code",
   "execution_count": 2,
   "id": "3b05e6a2-89be-47dc-a694-60770106746f",
   "metadata": {},
   "outputs": [],
   "source": [
    "##Importar las librerías requeridas para el análisis\n",
    "import numpy as np\n",
    "import pandas as pd\n",
    "\n",
    "import matplotlib.pyplot as plt\n",
    "\n",
    "%matplotlib inline"
   ]
  },
  {
   "cell_type": "code",
<<<<<<< HEAD
   "execution_count": 3,
=======
   "execution_count": 2,
>>>>>>> fb0e4134894ea5454d01509e6a3aee1d5cbef08c
   "id": "4e374108-1d4c-4196-a3f7-9cb28a635db0",
   "metadata": {},
   "outputs": [],
   "source": [
    "##Definir tamaño máximo de filas a mostrar\n",
    "pd.set_option('display.max_rows', 100)"
   ]
  },
  {
   "cell_type": "code",
<<<<<<< HEAD
   "execution_count": 4,
=======
   "execution_count": 3,
>>>>>>> fb0e4134894ea5454d01509e6a3aee1d5cbef08c
   "id": "82186d4c-a126-4b2c-b26c-1a2a089c5116",
   "metadata": {},
   "outputs": [],
   "source": [
    "##Importar el dataset del CSV\n",
<<<<<<< HEAD
    "comercio_df = pd.read_csv('../data/hurto_comercioV2.csv', low_memory = False)"
=======
    "df = pd.read_csv('../data/hurto_comercioV2.csv', low_memory = False)"
>>>>>>> fb0e4134894ea5454d01509e6a3aee1d5cbef08c
   ]
  },
  {
   "cell_type": "code",
<<<<<<< HEAD
   "execution_count": 11,
=======
   "execution_count": 4,
>>>>>>> fb0e4134894ea5454d01509e6a3aee1d5cbef08c
   "id": "48c9173b-15fd-4fa6-8e65-63831ebf5559",
   "metadata": {},
   "outputs": [
    {
     "data": {
      "text/html": [
       "<div>\n",
       "<style scoped>\n",
       "    .dataframe tbody tr th:only-of-type {\n",
       "        vertical-align: middle;\n",
       "    }\n",
       "\n",
       "    .dataframe tbody tr th {\n",
       "        vertical-align: top;\n",
       "    }\n",
       "\n",
       "    .dataframe thead th {\n",
       "        text-align: right;\n",
       "    }\n",
       "</style>\n",
       "<table border=\"1\" class=\"dataframe\">\n",
       "  <thead>\n",
       "    <tr style=\"text-align: right;\">\n",
       "      <th></th>\n",
       "      <th>DEPARTAMENTO</th>\n",
       "      <th>MUNICIPIO</th>\n",
       "      <th>CODIGO DANE</th>\n",
       "      <th>ARMAS MEDIOS</th>\n",
       "      <th>FECHA HECHO</th>\n",
       "      <th>GENERO</th>\n",
       "      <th>GRUPO ETARIO</th>\n",
       "      <th>TIPO DE HURTO</th>\n",
       "      <th>CANTIDAD</th>\n",
       "    </tr>\n",
       "  </thead>\n",
       "  <tbody>\n",
       "    <tr>\n",
       "      <th>0</th>\n",
       "      <td>CAQUETÁ</td>\n",
       "      <td>SAN VICENTE DEL CAGUÁN</td>\n",
       "      <td>18753</td>\n",
       "      <td>ARMA BLANCA / CORTOPUNZANTE</td>\n",
       "      <td>1/01/2010</td>\n",
       "      <td>FEMENINO</td>\n",
       "      <td>ADULTOS</td>\n",
       "      <td>HURTO RESIDENCIAS</td>\n",
       "      <td>1</td>\n",
       "    </tr>\n",
       "    <tr>\n",
       "      <th>1</th>\n",
       "      <td>CAUCA</td>\n",
       "      <td>POPAYÁN</td>\n",
       "      <td>19001</td>\n",
       "      <td>ARMA BLANCA / CORTOPUNZANTE</td>\n",
       "      <td>1/01/2010</td>\n",
       "      <td>FEMENINO</td>\n",
       "      <td>ADULTOS</td>\n",
       "      <td>HURTO RESIDENCIAS</td>\n",
       "      <td>2</td>\n",
       "    </tr>\n",
       "    <tr>\n",
       "      <th>2</th>\n",
       "      <td>HUILA</td>\n",
       "      <td>PITALITO</td>\n",
       "      <td>41551</td>\n",
       "      <td>ARMA DE FUEGO</td>\n",
       "      <td>1/01/2010</td>\n",
       "      <td>MASCULINO</td>\n",
       "      <td>ADULTOS</td>\n",
       "      <td>HURTO RESIDENCIAS</td>\n",
       "      <td>1</td>\n",
       "    </tr>\n",
       "    <tr>\n",
       "      <th>3</th>\n",
       "      <td>VALLE</td>\n",
       "      <td>JAMUNDÍ</td>\n",
       "      <td>76364</td>\n",
       "      <td>ARMA DE FUEGO</td>\n",
       "      <td>1/01/2010</td>\n",
       "      <td>MASCULINO</td>\n",
       "      <td>ADULTOS</td>\n",
       "      <td>HURTO RESIDENCIAS</td>\n",
       "      <td>1</td>\n",
       "    </tr>\n",
       "    <tr>\n",
       "      <th>4</th>\n",
       "      <td>AMAZONAS</td>\n",
       "      <td>LETICIA</td>\n",
       "      <td>91001</td>\n",
       "      <td>CONTUNDENTES</td>\n",
       "      <td>1/01/2010</td>\n",
       "      <td>MASCULINO</td>\n",
       "      <td>ADULTOS</td>\n",
       "      <td>HURTO RESIDENCIAS</td>\n",
<<<<<<< HEAD
       "      <td>1</td>\n",
       "    </tr>\n",
       "    <tr>\n",
       "      <th>...</th>\n",
       "      <td>...</td>\n",
       "      <td>...</td>\n",
       "      <td>...</td>\n",
       "      <td>...</td>\n",
       "      <td>...</td>\n",
       "      <td>...</td>\n",
       "      <td>...</td>\n",
       "      <td>...</td>\n",
       "      <td>...</td>\n",
       "    </tr>\n",
       "    <tr>\n",
       "      <th>492958</th>\n",
       "      <td>MAGDALENA</td>\n",
       "      <td>SANTA MARTA</td>\n",
       "      <td>47001</td>\n",
       "      <td>NO REPORTA</td>\n",
       "      <td>28/02/2022</td>\n",
       "      <td>FEMENINO</td>\n",
       "      <td>ADULTOS</td>\n",
       "      <td>HURTO RESIDENCIAS</td>\n",
       "      <td>1</td>\n",
       "    </tr>\n",
       "    <tr>\n",
       "      <th>492959</th>\n",
       "      <td>SANTANDER</td>\n",
       "      <td>BUCARAMANGA</td>\n",
       "      <td>68001</td>\n",
       "      <td>NO REPORTA</td>\n",
       "      <td>30/03/2022</td>\n",
       "      <td>FEMENINO</td>\n",
       "      <td>ADULTOS</td>\n",
       "      <td>HURTO RESIDENCIAS</td>\n",
       "      <td>1</td>\n",
       "    </tr>\n",
       "    <tr>\n",
       "      <th>492960</th>\n",
       "      <td>SUCRE</td>\n",
       "      <td>MAJAGUAL</td>\n",
       "      <td>70429</td>\n",
       "      <td>NO REPORTA</td>\n",
       "      <td>12/01/2022</td>\n",
       "      <td>MASCULINO</td>\n",
       "      <td>ADULTOS</td>\n",
       "      <td>HURTO RESIDENCIAS</td>\n",
       "      <td>1</td>\n",
       "    </tr>\n",
       "    <tr>\n",
       "      <th>492961</th>\n",
       "      <td>SUCRE</td>\n",
       "      <td>SAN LUIS DE SINCÉ</td>\n",
       "      <td>70742</td>\n",
       "      <td>NO REPORTA</td>\n",
       "      <td>21/02/2022</td>\n",
       "      <td>MASCULINO</td>\n",
       "      <td>ADULTOS</td>\n",
       "      <td>HURTO RESIDENCIAS</td>\n",
       "      <td>1</td>\n",
       "    </tr>\n",
       "    <tr>\n",
       "      <th>492962</th>\n",
       "      <td>TOLIMA</td>\n",
       "      <td>LÉRIDA</td>\n",
       "      <td>73408</td>\n",
       "      <td>NO REPORTA</td>\n",
       "      <td>30/04/2022</td>\n",
       "      <td>FEMENINO</td>\n",
       "      <td>ADULTOS</td>\n",
       "      <td>HURTO RESIDENCIAS</td>\n",
=======
>>>>>>> fb0e4134894ea5454d01509e6a3aee1d5cbef08c
       "      <td>1</td>\n",
       "    </tr>\n",
       "  </tbody>\n",
       "</table>\n",
       "<p>492963 rows × 9 columns</p>\n",
       "</div>"
      ],
      "text/plain": [
<<<<<<< HEAD
       "       DEPARTAMENTO               MUNICIPIO CODIGO DANE  \\\n",
       "0           CAQUETÁ  SAN VICENTE DEL CAGUÁN       18753   \n",
       "1             CAUCA                POPAYÁN        19001   \n",
       "2             HUILA                PITALITO       41551   \n",
       "3             VALLE                 JAMUNDÍ       76364   \n",
       "4          AMAZONAS                LETICIA        91001   \n",
       "...             ...                     ...         ...   \n",
       "492958    MAGDALENA            SANTA MARTA        47001   \n",
       "492959    SANTANDER            BUCARAMANGA        68001   \n",
       "492960        SUCRE                MAJAGUAL       70429   \n",
       "492961        SUCRE       SAN LUIS DE SINCÉ       70742   \n",
       "492962       TOLIMA                  LÉRIDA       73408   \n",
       "\n",
       "                       ARMAS MEDIOS FECHA HECHO     GENERO GRUPO ETARIO  \\\n",
       "0       ARMA BLANCA / CORTOPUNZANTE   1/01/2010   FEMENINO      ADULTOS   \n",
       "1       ARMA BLANCA / CORTOPUNZANTE   1/01/2010   FEMENINO      ADULTOS   \n",
       "2                     ARMA DE FUEGO   1/01/2010  MASCULINO      ADULTOS   \n",
       "3                     ARMA DE FUEGO   1/01/2010  MASCULINO      ADULTOS   \n",
       "4                      CONTUNDENTES   1/01/2010  MASCULINO      ADULTOS   \n",
       "...                             ...         ...        ...          ...   \n",
       "492958                   NO REPORTA  28/02/2022   FEMENINO      ADULTOS   \n",
       "492959                   NO REPORTA  30/03/2022   FEMENINO      ADULTOS   \n",
       "492960                   NO REPORTA  12/01/2022  MASCULINO      ADULTOS   \n",
       "492961                   NO REPORTA  21/02/2022  MASCULINO      ADULTOS   \n",
       "492962                   NO REPORTA  30/04/2022   FEMENINO      ADULTOS   \n",
       "\n",
       "            TIPO DE HURTO  CANTIDAD  \n",
       "0       HURTO RESIDENCIAS         1  \n",
       "1       HURTO RESIDENCIAS         2  \n",
       "2       HURTO RESIDENCIAS         1  \n",
       "3       HURTO RESIDENCIAS         1  \n",
       "4       HURTO RESIDENCIAS         1  \n",
       "...                   ...       ...  \n",
       "492958  HURTO RESIDENCIAS         1  \n",
       "492959  HURTO RESIDENCIAS         1  \n",
       "492960  HURTO RESIDENCIAS         1  \n",
       "492961  HURTO RESIDENCIAS         1  \n",
       "492962  HURTO RESIDENCIAS         1  \n",
       "\n",
       "[492963 rows x 9 columns]"
      ]
     },
     "execution_count": 11,
=======
       "  DEPARTAMENTO               MUNICIPIO CODIGO DANE  \\\n",
       "0      CAQUETÁ  SAN VICENTE DEL CAGUÁN       18753   \n",
       "1        CAUCA                POPAYÁN        19001   \n",
       "2        HUILA                PITALITO       41551   \n",
       "3        VALLE                 JAMUNDÍ       76364   \n",
       "4     AMAZONAS                LETICIA        91001   \n",
       "\n",
       "                  ARMAS MEDIOS FECHA HECHO     GENERO GRUPO ETARIO  \\\n",
       "0  ARMA BLANCA / CORTOPUNZANTE   1/01/2010   FEMENINO      ADULTOS   \n",
       "1  ARMA BLANCA / CORTOPUNZANTE   1/01/2010   FEMENINO      ADULTOS   \n",
       "2                ARMA DE FUEGO   1/01/2010  MASCULINO      ADULTOS   \n",
       "3                ARMA DE FUEGO   1/01/2010  MASCULINO      ADULTOS   \n",
       "4                 CONTUNDENTES   1/01/2010  MASCULINO      ADULTOS   \n",
       "\n",
       "       TIPO DE HURTO  CANTIDAD  \n",
       "0  HURTO RESIDENCIAS         1  \n",
       "1  HURTO RESIDENCIAS         2  \n",
       "2  HURTO RESIDENCIAS         1  \n",
       "3  HURTO RESIDENCIAS         1  \n",
       "4  HURTO RESIDENCIAS         1  "
      ]
     },
     "execution_count": 4,
>>>>>>> fb0e4134894ea5454d01509e6a3aee1d5cbef08c
     "metadata": {},
     "output_type": "execute_result"
    }
   ],
   "source": [
    "##Visualizar el conjunto de datos\n",
    "comercio_df"
   ]
  },
  {
   "cell_type": "markdown",
   "id": "09645b60-9323-4402-86d7-aa02b7f8bbb6",
   "metadata": {},
   "source": [
    "#### 2.1. ¿Cuáles han sido los departamentos (TOP 3) más afectados en términos de cantidad de delitos cometidos en los últimos 5 años?"
   ]
  },
  {
   "cell_type": "code",
   "execution_count": 7,
   "id": "b548ec61-a20f-4383-ada9-e2a1a7607c29",
   "metadata": {},
   "outputs": [
    {
     "data": {
      "text/plain": [
       "DEPARTAMENTO\n",
       "CUNDINAMARCA    98959\n",
       "ANTIOQUIA       42104\n",
       "VALLE           27960\n",
       "dtype: int64"
      ]
     },
     "execution_count": 7,
     "metadata": {},
     "output_type": "execute_result"
    }
   ],
   "source": [
    "##Departamentos con mayor número de delitos registrados\n",
    "comercio_df['FECHA HECHO'] = pd.to_datetime(comercio_df['FECHA HECHO'], format = '%d/%m/%Y')\n",
    "comercio_df['FECHA HECHO'].dt.year\n",
    "comercio_df.groupby(['DEPARTAMENTO']).apply(lambda x: x[x['FECHA HECHO'].dt.year>2017]['CANTIDAD'].sum()).sort_values(ascending=False).head(3)"
   ]
  },
  {
   "cell_type": "markdown",
   "id": "27fb793a",
   "metadata": {},
   "source": [
    "##### R:// Cundinamarca (31,02%), Antioquia (13,19%) y Valle (8,76%) presentan en los últimos 5 años la mayor cantidad de delitos registrados en  hurtos cometidos a viviendas y comercio. Como es de esperarse, las ciudades con un número mayor de habitantes presenta mas robos."
   ]
  },
  {
   "cell_type": "markdown",
   "id": "1c44b408-0eb6-43e4-9670-2c42ae04d2b0",
   "metadata": {},
   "source": [
    "#### 2.2. Para los casos en los que aplique, ¿cuál ha sido el arma o medio más común para cometer el delito."
   ]
  },
  {
   "cell_type": "code",
<<<<<<< HEAD
   "execution_count": 34,
   "id": "f9cbf233",
=======
   "execution_count": 5,
   "id": "22311507-29a4-4ba4-99a9-6548c6b4559b",
>>>>>>> fb0e4134894ea5454d01509e6a3aee1d5cbef08c
   "metadata": {},
   "outputs": [
    {
     "data": {
      "text/plain": [
<<<<<<< HEAD
       "ARMAS MEDIOS\n",
       "SIN EMPLEO DE ARMAS    372400\n",
       "Name: CANTIDAD, dtype: int64"
      ]
     },
     "execution_count": 34,
     "metadata": {},
     "output_type": "execute_result"
=======
       "[Text(0, 0, '220069'),\n",
       " Text(0, 0, '127567'),\n",
       " Text(0, 0, '58902'),\n",
       " Text(0, 0, '45093'),\n",
       " Text(0, 0, '13417'),\n",
       " Text(0, 0, '11881'),\n",
       " Text(0, 0, '8383'),\n",
       " Text(0, 0, '5058'),\n",
       " Text(0, 0, '2285'),\n",
       " Text(0, 0, '283'),\n",
       " Text(0, 0, '24'),\n",
       " Text(0, 0, '1')]"
      ]
     },
     "execution_count": 5,
     "metadata": {},
     "output_type": "execute_result"
    },
    {
     "data": {
      "image/png": "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\n",
      "text/plain": [
       "<Figure size 432x288 with 1 Axes>"
      ]
     },
     "metadata": {
      "needs_background": "light"
     },
     "output_type": "display_data"
>>>>>>> fb0e4134894ea5454d01509e6a3aee1d5cbef08c
    }
   ],
   "source": [
    "##Visualizamos aquellas armas-medios con las que más se cometen delitos\n",
    "comercio_df.groupby(['ARMAS MEDIOS'])['CANTIDAD'].apply(lambda x : x.astype(int).sum()).sort_values(ascending = False).head(1)"
   ]
  },
  {
   "cell_type": "markdown",
   "id": "b3894ee8",
   "metadata": {},
   "source": [
    " ###### R:// En este caso se puede observar que sin utilizar ningún tipo de arma se realizan más hurtos dentro de las viviendas y áreas comerciales."
   ]
  },
  {
   "cell_type": "markdown",
   "id": "18bd2bc5-0b86-4aca-9f96-c68e830fecb3",
   "metadata": {},
   "source": [
    "#### 2.3. Para los casos en los que aplique, ¿cómo ha sido la proporción de géneros y grupos etarios que han estado involucrados en este tipo de delito? ¿Han variado con el paso de los años?"
   ]
  },
  {
   "cell_type": "code",
   "execution_count": 24,
   "id": "22311507-29a4-4ba4-99a9-6548c6b4559b",
   "metadata": {
    "scrolled": true
   },
   "outputs": [],
   "source": [
    "anios = comercio_df.groupby(comercio_df['FECHA HECHO'].dt.strftime('%Y'))['CANTIDAD'].sum().sort_values()\n",
    "#anios.plot(kind='barh')"
   ]
  },
  {
   "cell_type": "code",
   "execution_count": 26,
   "id": "536982e9",
   "metadata": {},
   "outputs": [
    {
     "data": {
      "text/plain": [
       "GENERO\n",
       "FEMENINO      159708\n",
       "MASCULINO     190447\n",
       "NO REPORTA    360239\n",
       "Name: CANTIDAD, dtype: int64"
      ]
     },
     "execution_count": 26,
     "metadata": {},
     "output_type": "execute_result"
    }
   ],
   "source": [
    "genero = comercio_df.groupby(comercio_df['GENERO'])['CANTIDAD'].sum().sort_values()\n",
    "genero"
   ]
  },
  {
   "cell_type": "code",
   "execution_count": 30,
   "id": "a091a159",
   "metadata": {},
   "outputs": [
    {
     "ename": "ValueError",
     "evalue": "The number of FixedLocator locations (3), usually from a call to set_ticks, does not match the number of ticklabels (13).",
     "output_type": "error",
     "traceback": [
      "\u001b[1;31m---------------------------------------------------------------------------\u001b[0m",
      "\u001b[1;31mValueError\u001b[0m                                Traceback (most recent call last)",
      "Input \u001b[1;32mIn [30]\u001b[0m, in \u001b[0;36m<cell line: 4>\u001b[1;34m()\u001b[0m\n\u001b[0;32m      2\u001b[0m ax \u001b[38;5;241m=\u001b[39m anios\u001b[38;5;241m.\u001b[39mplot(kind\u001b[38;5;241m=\u001b[39m\u001b[38;5;124m\"\u001b[39m\u001b[38;5;124mbar\u001b[39m\u001b[38;5;124m\"\u001b[39m, width\u001b[38;5;241m=\u001b[39m\u001b[38;5;241m-\u001b[39m\u001b[38;5;241m0.4\u001b[39m, rot\u001b[38;5;241m=\u001b[39m\u001b[38;5;241m0\u001b[39m, stacked\u001b[38;5;241m=\u001b[39m\u001b[38;5;28;01mTrue\u001b[39;00m, align\u001b[38;5;241m=\u001b[39m\u001b[38;5;124m'\u001b[39m\u001b[38;5;124medge\u001b[39m\u001b[38;5;124m'\u001b[39m)\n\u001b[0;32m      3\u001b[0m genero\u001b[38;5;241m.\u001b[39mplot(ax\u001b[38;5;241m=\u001b[39max, width\u001b[38;5;241m=\u001b[39m\u001b[38;5;241m0.4\u001b[39m, kind\u001b[38;5;241m=\u001b[39m\u001b[38;5;124m\"\u001b[39m\u001b[38;5;124mbar\u001b[39m\u001b[38;5;124m\"\u001b[39m,align\u001b[38;5;241m=\u001b[39m\u001b[38;5;124m'\u001b[39m\u001b[38;5;124medge\u001b[39m\u001b[38;5;124m'\u001b[39m, color\u001b[38;5;241m=\u001b[39m\u001b[38;5;124m\"\u001b[39m\u001b[38;5;124mred\u001b[39m\u001b[38;5;124m\"\u001b[39m)\n\u001b[1;32m----> 4\u001b[0m \u001b[43max\u001b[49m\u001b[38;5;241;43m.\u001b[39;49m\u001b[43mset_xticklabels\u001b[49m\u001b[43m(\u001b[49m\u001b[43manios\u001b[49m\u001b[43m)\u001b[49m\n\u001b[0;32m      5\u001b[0m ax\u001b[38;5;241m.\u001b[39mset_ylabel(\u001b[38;5;124m'\u001b[39m\u001b[38;5;124mCantidad de hurtos\u001b[39m\u001b[38;5;124m'\u001b[39m, fontsize \u001b[38;5;241m=\u001b[39m \u001b[38;5;241m14\u001b[39m)\n\u001b[0;32m      6\u001b[0m ax\u001b[38;5;241m.\u001b[39mset_xlabel(\u001b[38;5;124m'\u001b[39m\u001b[38;5;124mAño\u001b[39m\u001b[38;5;124m'\u001b[39m, fontsize \u001b[38;5;241m=\u001b[39m \u001b[38;5;241m14\u001b[39m)\n",
      "File \u001b[1;32m~\\anaconda3\\lib\\site-packages\\matplotlib\\axes\\_base.py:75\u001b[0m, in \u001b[0;36m_axis_method_wrapper.__set_name__.<locals>.wrapper\u001b[1;34m(self, *args, **kwargs)\u001b[0m\n\u001b[0;32m     74\u001b[0m \u001b[38;5;28;01mdef\u001b[39;00m \u001b[38;5;21mwrapper\u001b[39m(\u001b[38;5;28mself\u001b[39m, \u001b[38;5;241m*\u001b[39margs, \u001b[38;5;241m*\u001b[39m\u001b[38;5;241m*\u001b[39mkwargs):\n\u001b[1;32m---> 75\u001b[0m     \u001b[38;5;28;01mreturn\u001b[39;00m get_method(\u001b[38;5;28mself\u001b[39m)(\u001b[38;5;241m*\u001b[39margs, \u001b[38;5;241m*\u001b[39m\u001b[38;5;241m*\u001b[39mkwargs)\n",
      "File \u001b[1;32m~\\anaconda3\\lib\\site-packages\\matplotlib\\axis.py:1798\u001b[0m, in \u001b[0;36mAxis._set_ticklabels\u001b[1;34m(self, labels, fontdict, minor, **kwargs)\u001b[0m\n\u001b[0;32m   1796\u001b[0m \u001b[38;5;28;01mif\u001b[39;00m fontdict \u001b[38;5;129;01mis\u001b[39;00m \u001b[38;5;129;01mnot\u001b[39;00m \u001b[38;5;28;01mNone\u001b[39;00m:\n\u001b[0;32m   1797\u001b[0m     kwargs\u001b[38;5;241m.\u001b[39mupdate(fontdict)\n\u001b[1;32m-> 1798\u001b[0m \u001b[38;5;28;01mreturn\u001b[39;00m \u001b[38;5;28mself\u001b[39m\u001b[38;5;241m.\u001b[39mset_ticklabels(labels, minor\u001b[38;5;241m=\u001b[39mminor, \u001b[38;5;241m*\u001b[39m\u001b[38;5;241m*\u001b[39mkwargs)\n",
      "File \u001b[1;32m~\\anaconda3\\lib\\site-packages\\matplotlib\\axis.py:1720\u001b[0m, in \u001b[0;36mAxis.set_ticklabels\u001b[1;34m(self, ticklabels, minor, **kwargs)\u001b[0m\n\u001b[0;32m   1716\u001b[0m \u001b[38;5;28;01mif\u001b[39;00m \u001b[38;5;28misinstance\u001b[39m(locator, mticker\u001b[38;5;241m.\u001b[39mFixedLocator):\n\u001b[0;32m   1717\u001b[0m     \u001b[38;5;66;03m# Passing [] as a list of ticklabels is often used as a way to\u001b[39;00m\n\u001b[0;32m   1718\u001b[0m     \u001b[38;5;66;03m# remove all tick labels, so only error for > 0 ticklabels\u001b[39;00m\n\u001b[0;32m   1719\u001b[0m     \u001b[38;5;28;01mif\u001b[39;00m \u001b[38;5;28mlen\u001b[39m(locator\u001b[38;5;241m.\u001b[39mlocs) \u001b[38;5;241m!=\u001b[39m \u001b[38;5;28mlen\u001b[39m(ticklabels) \u001b[38;5;129;01mand\u001b[39;00m \u001b[38;5;28mlen\u001b[39m(ticklabels) \u001b[38;5;241m!=\u001b[39m \u001b[38;5;241m0\u001b[39m:\n\u001b[1;32m-> 1720\u001b[0m         \u001b[38;5;28;01mraise\u001b[39;00m \u001b[38;5;167;01mValueError\u001b[39;00m(\n\u001b[0;32m   1721\u001b[0m             \u001b[38;5;124m\"\u001b[39m\u001b[38;5;124mThe number of FixedLocator locations\u001b[39m\u001b[38;5;124m\"\u001b[39m\n\u001b[0;32m   1722\u001b[0m             \u001b[38;5;124mf\u001b[39m\u001b[38;5;124m\"\u001b[39m\u001b[38;5;124m (\u001b[39m\u001b[38;5;132;01m{\u001b[39;00m\u001b[38;5;28mlen\u001b[39m(locator\u001b[38;5;241m.\u001b[39mlocs)\u001b[38;5;132;01m}\u001b[39;00m\u001b[38;5;124m), usually from a call to\u001b[39m\u001b[38;5;124m\"\u001b[39m\n\u001b[0;32m   1723\u001b[0m             \u001b[38;5;124m\"\u001b[39m\u001b[38;5;124m set_ticks, does not match\u001b[39m\u001b[38;5;124m\"\u001b[39m\n\u001b[0;32m   1724\u001b[0m             \u001b[38;5;124mf\u001b[39m\u001b[38;5;124m\"\u001b[39m\u001b[38;5;124m the number of ticklabels (\u001b[39m\u001b[38;5;132;01m{\u001b[39;00m\u001b[38;5;28mlen\u001b[39m(ticklabels)\u001b[38;5;132;01m}\u001b[39;00m\u001b[38;5;124m).\u001b[39m\u001b[38;5;124m\"\u001b[39m)\n\u001b[0;32m   1725\u001b[0m     tickd \u001b[38;5;241m=\u001b[39m {loc: lab \u001b[38;5;28;01mfor\u001b[39;00m loc, lab \u001b[38;5;129;01min\u001b[39;00m \u001b[38;5;28mzip\u001b[39m(locator\u001b[38;5;241m.\u001b[39mlocs, ticklabels)}\n\u001b[0;32m   1726\u001b[0m     func \u001b[38;5;241m=\u001b[39m functools\u001b[38;5;241m.\u001b[39mpartial(\u001b[38;5;28mself\u001b[39m\u001b[38;5;241m.\u001b[39m_format_with_dict, tickd)\n",
      "\u001b[1;31mValueError\u001b[0m: The number of FixedLocator locations (3), usually from a call to set_ticks, does not match the number of ticklabels (13)."
     ]
    },
    {
     "data": {
      "image/png": "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\n",
      "text/plain": [
       "<Figure size 576x396 with 1 Axes>"
      ]
     },
     "metadata": {},
     "output_type": "display_data"
    }
   ],
   "source": [
    "plt.style.use('seaborn')\n",
    "ax = anios.plot(kind=\"bar\", width=-0.4, rot=0, stacked=True, align='edge')\n",
    "genero.plot(ax=ax, width=0.4, kind=\"bar\",align='edge', color=\"red\")\n",
    "ax.set_xticklabels(anios)\n",
    "ax.set_ylabel('Cantidad de hurtos', fontsize = 14)\n",
    "ax.set_xlabel('Año', fontsize = 14)\n",
    "#ax.set_title(\"Clientes Anuales %s\" % titulos[var_almacen], fontsize = 16)\n",
    "plt.autoscale(enable=True, axis='x')\n",
    "plt.show()"
   ]
  },
  {
   "cell_type": "markdown",
   "id": "c7164be2-cd0b-4a19-b2a8-f07564848898",
   "metadata": {},
   "source": [
    "#### 2.4. ¿Se evidencia alguna tendencia para cometer dicho delito en algún mes particular del año?"
   ]
  },
  {
   "cell_type": "code",
<<<<<<< HEAD
   "execution_count": 35,
   "id": "b2d5e8c3",
   "metadata": {},
   "outputs": [],
   "source": [
    "#Almacenamos los meses y su cantidad de hurtos en un nuevo dataframe\n",
    "meses = comercio_df.groupby(comercio_df['FECHA HECHO'].dt.month)['CANTIDAD'].sum()"
   ]
  },
  {
   "cell_type": "code",
   "execution_count": 41,
   "id": "61552233",
   "metadata": {},
   "outputs": [
    {
     "data": {
      "image/png": "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\n",
      "text/plain": [
       "<Figure size 576x396 with 1 Axes>"
      ]
     },
     "metadata": {},
     "output_type": "display_data"
    }
   ],
   "source": [
    "#Graficamos el dataframe para una mejor interpretación de los datos\n",
    "plt.style.use('seaborn')\n",
    "ax = meses.plot(kind=\"bar\", width=-0.4, rot=0, stacked=True, align='edge', color='red', ylabel='Cantidad de hurtos', xlabel='Mes', fontsize=13)\n",
    "plt.autoscale(enable=True, axis='x')\n",
    "plt.show()"
   ]
  },
  {
   "cell_type": "markdown",
   "id": "1de974e9",
   "metadata": {},
   "source": [
    "##### R:// En el gráfico anterior se refleja que la mayor cantidad de hurtos cometidos a viviendas y comercios es a principio de año representando el 27,91% del total de hurtos cometidos, cabe resaltar si la epoca en la que mucha gente sale de vacaciones o se encuentran en festividades en diferentes lugares de Colombia influye en el aumento de estos delitos así como la liquidación de primas."
   ]
  },
  {
   "cell_type": "markdown",
   "id": "5a0b25d3",
   "metadata": {},
   "source": [
    "#### 2.5 Para los casos en los que se disponga del detalle del delito o de una descripción, como por ejemplo en delitos sexuales y secuestro, ¿cuáles son las descripciones o modalidades más comunes?"
   ]
  },
  {
   "cell_type": "code",
   "execution_count": 4,
   "id": "080417e4-7aa0-4ea4-bd87-186354c14903",
=======
   "execution_count": 6,
   "id": "8f2c753c-57c7-4419-9dac-20f83fe9d5ca",
>>>>>>> fb0e4134894ea5454d01509e6a3aee1d5cbef08c
   "metadata": {},
   "outputs": [
    {
     "data": {
      "text/plain": [
<<<<<<< HEAD
       "TIPO DE HURTO\n",
       "HURTO ENTIDADES COMERCIALES    360193\n",
       "HURTO RESIDENCIAS              350201\n",
       "Name: CANTIDAD, dtype: int64"
      ]
     },
     "execution_count": 4,
     "metadata": {},
     "output_type": "execute_result"
    }
   ],
   "source": [
    "#Verificamos la modalidad en la que más se cometen hurtos\n",
    "comercio_df.groupby(comercio_df['TIPO DE HURTO']).agg(sum)['CANTIDAD']"
=======
       "492963"
      ]
     },
     "execution_count": 6,
     "metadata": {},
     "output_type": "execute_result"
    },
    {
     "data": {
      "text/plain": [
       "<Figure size 1080x576 with 0 Axes>"
      ]
     },
     "metadata": {},
     "output_type": "display_data"
    }
   ],
   "source": [
    "plt.figure(figsize = (15, 8))\n",
    "# Convertir a formato de fecha\n",
    "df['FECHA HECHO']=pd.to_datetime(df['FECHA HECHO'],format='%d/%m/%Y')\n",
    "# Contar la cantidad de hechos agrupando por mes\n",
    "count_month=df.groupby(df['FECHA HECHO'].dt.month_name().str[:3]).agg('count')['CANTIDAD']\n",
    "# Ver el total de los datos\n",
    "count_month.sum()"
   ]
  },
  {
   "cell_type": "code",
   "execution_count": 7,
   "id": "4e09d13b-f8ed-4a4e-ba54-d11fb04fae52",
   "metadata": {},
   "outputs": [
    {
     "data": {
      "text/plain": [
       "3336.7297034126636"
      ]
     },
     "execution_count": 7,
     "metadata": {},
     "output_type": "execute_result"
    }
   ],
   "source": [
    "#Calcular la desviación estándar de los datos\n",
    "count_month.std()"
   ]
  },
  {
   "cell_type": "code",
   "execution_count": 8,
   "id": "72b04e2a-2651-4731-9d31-d0f2537b0cc3",
   "metadata": {},
   "outputs": [
    {
     "data": {
      "text/plain": [
       "<AxesSubplot:xlabel='FECHA HECHO'>"
      ]
     },
     "execution_count": 8,
     "metadata": {},
     "output_type": "execute_result"
    },
    {
     "data": {
      "image/png": "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\n",
      "text/plain": [
       "<Figure size 432x288 with 1 Axes>"
      ]
     },
     "metadata": {
      "needs_background": "light"
     },
     "output_type": "display_data"
    }
   ],
   "source": [
    "# Graficar\n",
    "count_month.plot(kind='bar')"
>>>>>>> fb0e4134894ea5454d01509e6a3aee1d5cbef08c
   ]
  },
  {
   "cell_type": "markdown",
   "id": "601c4cba",
   "metadata": {},
   "source": [
    "##### R:// En este caso, se presenta un mayor número de hurtos en entidades comerciales representando un total de 50,70% de todos los hurtos presentados dentro del dataset."
   ]
<<<<<<< HEAD
=======
  },
  {
   "cell_type": "code",
   "execution_count": 9,
   "id": "f582c271-8904-4ca6-985f-02a8fbe65220",
   "metadata": {},
   "outputs": [
    {
     "data": {
      "image/png": "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\n",
      "text/plain": [
       "<Figure size 432x288 with 1 Axes>"
      ]
     },
     "metadata": {},
     "output_type": "display_data"
    }
   ],
   "source": [
    "tipo=df['TIPO DE HURTO'].value_counts()\n",
    "tipo.sort_values(ascending=False,inplace=True)\n",
    "graph = tipo.plot(kind=\"pie\", autopct='%1.1f%%',shadow=True, explode=[0.05, 0.05])"
   ]
>>>>>>> fb0e4134894ea5454d01509e6a3aee1d5cbef08c
  }
 ],
 "metadata": {
  "kernelspec": {
   "display_name": "Python 3 (ipykernel)",
   "language": "python",
   "name": "python3"
  },
  "language_info": {
   "codemirror_mode": {
    "name": "ipython",
    "version": 3
   },
   "file_extension": ".py",
   "mimetype": "text/x-python",
   "name": "python",
   "nbconvert_exporter": "python",
   "pygments_lexer": "ipython3",
   "version": "3.9.12"
  }
 },
 "nbformat": 4,
 "nbformat_minor": 5
}
