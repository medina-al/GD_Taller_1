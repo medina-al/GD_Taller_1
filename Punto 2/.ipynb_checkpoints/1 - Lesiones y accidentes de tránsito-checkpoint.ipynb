{
 "cells": [
  {
   "cell_type": "code",
   "execution_count": 3,
   "id": "3b05e6a2-89be-47dc-a694-60770106746f",
   "metadata": {},
   "outputs": [],
   "source": [
    "##Importar las librerías requeridas para el análisis\n",
    "import numpy as np\n",
    "import pandas as pd\n",
    "\n",
    "import matplotlib.pyplot as plt\n",
    "\n",
    "%matplotlib inline"
   ]
  },
  {
   "cell_type": "code",
   "execution_count": 4,
   "id": "4e374108-1d4c-4196-a3f7-9cb28a635db0",
   "metadata": {},
   "outputs": [],
   "source": [
    "##Definir tamaño máximo de filas a mostrar\n",
    "pd.set_option('display.max_rows', 100)"
   ]
  },
  {
   "cell_type": "code",
   "execution_count": 5,
   "id": "82186d4c-a126-4b2c-b26c-1a2a089c5116",
   "metadata": {},
   "outputs": [],
   "source": [
    "##Importar el dataset del CSV\n",
    "df = pd.read_csv('../data/accidentesV2.csv')"
   ]
  },
  {
   "cell_type": "code",
   "execution_count": 6,
   "id": "48c9173b-15fd-4fa6-8e65-63831ebf5559",
   "metadata": {},
   "outputs": [
    {
     "data": {
      "text/html": [
       "<div>\n",
       "<style scoped>\n",
       "    .dataframe tbody tr th:only-of-type {\n",
       "        vertical-align: middle;\n",
       "    }\n",
       "\n",
       "    .dataframe tbody tr th {\n",
       "        vertical-align: top;\n",
       "    }\n",
       "\n",
       "    .dataframe thead th {\n",
       "        text-align: right;\n",
       "    }\n",
       "</style>\n",
       "<table border=\"1\" class=\"dataframe\">\n",
       "  <thead>\n",
       "    <tr style=\"text-align: right;\">\n",
       "      <th></th>\n",
       "      <th>DEPARTAMENTO</th>\n",
       "      <th>MUNICIPIO</th>\n",
       "      <th>CODIGO DANE</th>\n",
       "      <th>ARMAS MEDIOS</th>\n",
       "      <th>FECHA HECHO</th>\n",
       "      <th>GENERO</th>\n",
       "      <th>GRUPO ETARÍO</th>\n",
       "      <th>DESCRIPCIÓN CONDUCTA</th>\n",
       "      <th>CANTIDAD</th>\n",
       "    </tr>\n",
       "  </thead>\n",
       "  <tbody>\n",
       "    <tr>\n",
       "      <th>0</th>\n",
       "      <td>ANTIOQUIA</td>\n",
       "      <td>LA CEJA</td>\n",
       "      <td>5376</td>\n",
       "      <td>MOTO</td>\n",
       "      <td>1/01/2010</td>\n",
       "      <td>MASCULINO</td>\n",
       "      <td>ADULTOS</td>\n",
       "      <td>ARTÍCULO 109. HOMICIDIO CULPOSO ( EN ACCIDENTE...</td>\n",
       "      <td>1</td>\n",
       "    </tr>\n",
       "    <tr>\n",
       "      <th>1</th>\n",
       "      <td>ATLÁNTICO</td>\n",
       "      <td>BARRANQUILLA (CT)</td>\n",
       "      <td>8001</td>\n",
       "      <td>MOTO</td>\n",
       "      <td>1/01/2010</td>\n",
       "      <td>FEMENINO</td>\n",
       "      <td>ADULTOS</td>\n",
       "      <td>ARTÍCULO 109. HOMICIDIO CULPOSO ( EN ACCIDENTE...</td>\n",
       "      <td>1</td>\n",
       "    </tr>\n",
       "    <tr>\n",
       "      <th>2</th>\n",
       "      <td>ATLÁNTICO</td>\n",
       "      <td>LURUACO</td>\n",
       "      <td>8421</td>\n",
       "      <td>MOTO</td>\n",
       "      <td>1/01/2010</td>\n",
       "      <td>MASCULINO</td>\n",
       "      <td>ADULTOS</td>\n",
       "      <td>ARTÍCULO 109. HOMICIDIO CULPOSO ( EN ACCIDENTE...</td>\n",
       "      <td>1</td>\n",
       "    </tr>\n",
       "    <tr>\n",
       "      <th>3</th>\n",
       "      <td>CAQUETÁ</td>\n",
       "      <td>PUERTO RICO</td>\n",
       "      <td>18592</td>\n",
       "      <td>MOTO</td>\n",
       "      <td>1/01/2010</td>\n",
       "      <td>MASCULINO</td>\n",
       "      <td>ADOLESCENTES</td>\n",
       "      <td>ARTÍCULO 109. HOMICIDIO CULPOSO ( EN ACCIDENTE...</td>\n",
       "      <td>1</td>\n",
       "    </tr>\n",
       "    <tr>\n",
       "      <th>4</th>\n",
       "      <td>CASANARE</td>\n",
       "      <td>AGUAZUL</td>\n",
       "      <td>85010</td>\n",
       "      <td>MOTO</td>\n",
       "      <td>1/01/2010</td>\n",
       "      <td>MASCULINO</td>\n",
       "      <td>ADULTOS</td>\n",
       "      <td>ARTÍCULO 109. HOMICIDIO CULPOSO ( EN ACCIDENTE...</td>\n",
       "      <td>1</td>\n",
       "    </tr>\n",
       "  </tbody>\n",
       "</table>\n",
       "</div>"
      ],
      "text/plain": [
       "  DEPARTAMENTO          MUNICIPIO  CODIGO DANE ARMAS MEDIOS FECHA HECHO  \\\n",
       "0    ANTIOQUIA            LA CEJA         5376         MOTO   1/01/2010   \n",
       "1    ATLÁNTICO  BARRANQUILLA (CT)         8001         MOTO   1/01/2010   \n",
       "2    ATLÁNTICO            LURUACO         8421         MOTO   1/01/2010   \n",
       "3      CAQUETÁ        PUERTO RICO        18592         MOTO   1/01/2010   \n",
       "4     CASANARE            AGUAZUL        85010         MOTO   1/01/2010   \n",
       "\n",
       "      GENERO  GRUPO ETARÍO                               DESCRIPCIÓN CONDUCTA  \\\n",
       "0  MASCULINO       ADULTOS  ARTÍCULO 109. HOMICIDIO CULPOSO ( EN ACCIDENTE...   \n",
       "1   FEMENINO       ADULTOS  ARTÍCULO 109. HOMICIDIO CULPOSO ( EN ACCIDENTE...   \n",
       "2  MASCULINO       ADULTOS  ARTÍCULO 109. HOMICIDIO CULPOSO ( EN ACCIDENTE...   \n",
       "3  MASCULINO  ADOLESCENTES  ARTÍCULO 109. HOMICIDIO CULPOSO ( EN ACCIDENTE...   \n",
       "4  MASCULINO       ADULTOS  ARTÍCULO 109. HOMICIDIO CULPOSO ( EN ACCIDENTE...   \n",
       "\n",
       "   CANTIDAD  \n",
       "0         1  \n",
       "1         1  \n",
       "2         1  \n",
       "3         1  \n",
       "4         1  "
      ]
     },
     "execution_count": 6,
     "metadata": {},
     "output_type": "execute_result"
    }
   ],
   "source": [
    "##Visualizar los primeros datos\n",
    "df.head()"
   ]
  },
  {
   "cell_type": "markdown",
   "id": "09645b60-9323-4402-86d7-aa02b7f8bbb6",
   "metadata": {},
   "source": [
    "# Top 3"
   ]
  },
  {
   "cell_type": "code",
   "execution_count": null,
   "id": "b548ec61-a20f-4383-ada9-e2a1a7607c29",
   "metadata": {},
   "outputs": [],
   "source": []
  },
  {
   "cell_type": "markdown",
   "id": "1c44b408-0eb6-43e4-9670-2c42ae04d2b0",
   "metadata": {},
   "source": [
    "# Arma o medio más común"
   ]
  },
  {
   "cell_type": "code",
   "execution_count": 7,
   "id": "22311507-29a4-4ba4-99a9-6548c6b4559b",
   "metadata": {},
   "outputs": [
    {
     "data": {
      "text/plain": [
       "[Text(0, 0, '34319'),\n",
       " Text(0, 0, '18230'),\n",
       " Text(0, 0, '4531'),\n",
       " Text(0, 0, '2096'),\n",
       " Text(0, 0, '552'),\n",
       " Text(0, 0, '73'),\n",
       " Text(0, 0, '4')]"
      ]
     },
     "execution_count": 7,
     "metadata": {},
     "output_type": "execute_result"
    },
    {
     "data": {
      "image/png": "[encoded data removed]",
      "text/plain": [
       "<Figure size 432x288 with 1 Axes>"
      ]
     },
     "metadata": {
      "needs_background": "light"
     },
     "output_type": "display_data"
    }
   ],
   "source": [
    "armas_medios=df['ARMAS MEDIOS'].value_counts()\n",
    "armas_medios.sort_values(ascending=False,inplace=True)\n",
    "graph = armas_medios.plot.bar()\n",
    "graph.bar_label(graph.containers[0])"
   ]
  },
  {
   "cell_type": "markdown",
   "id": "0d647294-d165-4524-ae1d-6d02e73c40ef",
   "metadata": {},
   "source": [
    "Para el caso de accidentes de tránsito y lesiones personales el medio más común en el que ocurren estos hechos es en vehículos"
   ]
  },
  {
   "cell_type": "markdown",
   "id": "18bd2bc5-0b86-4aca-9f96-c68e830fecb3",
   "metadata": {},
   "source": [
    "# Proporción por genéro y grupo etario"
   ]
  },
  {
   "cell_type": "markdown",
   "id": "c7164be2-cd0b-4a19-b2a8-f07564848898",
   "metadata": {},
   "source": [
    "# Tendencia por mes del año"
   ]
  },
  {
   "cell_type": "code",
   "execution_count": 13,
   "id": "8f2c753c-57c7-4419-9dac-20f83fe9d5ca",
   "metadata": {},
   "outputs": [
    {
     "data": {
      "text/plain": [
       "59805"
      ]
     },
     "execution_count": 13,
     "metadata": {},
     "output_type": "execute_result"
    },
    {
     "data": {
      "text/plain": [
       "<Figure size 1080x576 with 0 Axes>"
      ]
     },
     "metadata": {},
     "output_type": "display_data"
    }
   ],
   "source": [
    "plt.figure(figsize = (15, 8))\n",
    "# Convertir a formato de fecha\n",
    "df['FECHA HECHO']=pd.to_datetime(df['FECHA HECHO'],format='%d/%m/%Y')\n",
    "# Contar la cantidad de hechos agrupando por mes\n",
    "count_month=df.groupby(df['FECHA HECHO'].dt.month_name().str[:3]).agg('count')['CANTIDAD']\n",
    "# Ver el total de los datos\n",
    "count_month.sum()\n"
   ]
  },
  {
   "cell_type": "code",
   "execution_count": 15,
   "id": "eb1af62c-9946-40c5-910f-a4abb91998a4",
   "metadata": {},
   "outputs": [
    {
     "data": {
      "text/plain": [
       "326.78464551666826"
      ]
     },
     "execution_count": 15,
     "metadata": {},
     "output_type": "execute_result"
    }
   ],
   "source": [
    "#Calcular la desviación estándar de los datos\n",
    "count_month.std()"
   ]
  },
  {
   "cell_type": "code",
   "execution_count": 14,
   "id": "590e041a-318b-4c7f-b3ef-960de09a78ac",
   "metadata": {},
   "outputs": [
    {
     "data": {
      "text/plain": [
       "<AxesSubplot:xlabel='FECHA HECHO'>"
      ]
     },
     "execution_count": 14,
     "metadata": {},
     "output_type": "execute_result"
    },
    {
     "data": {
      "image/png": "[encoded data removed]",
      "text/plain": [
       "<Figure size 432x288 with 1 Axes>"
      ]
     },
     "metadata": {
      "needs_background": "light"
     },
     "output_type": "display_data"
    }
   ],
   "source": [
    "# Graficar\n",
    "count_month.plot(kind='bar')"
   ]
  },
  {
   "cell_type": "markdown",
   "id": "d62e5853-477b-4056-96b2-590210287490",
   "metadata": {},
   "source": [
    "# Descripciones o modalidades más comunes"
   ]
  },
  {
   "cell_type": "code",
   "execution_count": 16,
   "id": "17f8b6e9-eac5-401f-b654-c89e52ef6984",
   "metadata": {},
   "outputs": [
    {
     "data": {
      "image/png": "[encoded data removed]",
      "text/plain": [
       "<Figure size 432x288 with 1 Axes>"
      ]
     },
     "metadata": {},
     "output_type": "display_data"
    }
   ],
   "source": [
    "tipo=df['DESCRIPCIÓN CONDUCTA'].value_counts()\n",
    "tipo.sort_values(ascending=False,inplace=True)\n",
    "graph = tipo.plot(kind=\"pie\", autopct='%1.1f%%',shadow=True, explode=[0.05, 0.05])"
   ]
  },
  {
   "cell_type": "code",
   "execution_count": null,
   "id": "7e9de24d-4850-42d7-9f02-4b71facb46ad",
   "metadata": {},
   "outputs": [],
   "source": []
  }
 ],
 "metadata": {
  "kernelspec": {
   "display_name": "Python 3 (ipykernel)",
   "language": "python",
   "name": "python3"
  },
  "language_info": {
   "codemirror_mode": {
    "name": "ipython",
    "version": 3
   },
   "file_extension": ".py",
   "mimetype": "text/x-python",
   "name": "python",
   "nbconvert_exporter": "python",
   "pygments_lexer": "ipython3",
   "version": "3.9.12"
  }
 },
 "nbformat": 4,
 "nbformat_minor": 5
}
