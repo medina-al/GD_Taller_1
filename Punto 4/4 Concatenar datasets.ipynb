{
 "cells": [
  {
   "cell_type": "markdown",
   "id": "b67facf6-7d1b-4cc9-bdb9-1cd45793cee8",
   "metadata": {
    "tags": []
   },
   "source": [
    "# Configuración y análisis inicial"
   ]
  },
  {
   "cell_type": "code",
   "execution_count": 200,
   "id": "3b05e6a2-89be-47dc-a694-60770106746f",
   "metadata": {},
   "outputs": [],
   "source": [
    "##Importar las librerías requeridas para el análisis\n",
    "import numpy as np\n",
    "import pandas as pd\n",
    "\n",
    "import matplotlib.pyplot as plt\n",
    "\n",
    "%matplotlib inline"
   ]
  },
  {
   "cell_type": "code",
   "execution_count": 201,
   "id": "4e374108-1d4c-4196-a3f7-9cb28a635db0",
   "metadata": {},
   "outputs": [],
   "source": [
    "##Definir tamaño máximo de filas a mostrar\n",
    "pd.set_option('display.max_rows', 100)"
   ]
  },
  {
   "cell_type": "code",
   "execution_count": 202,
   "id": "82186d4c-a126-4b2c-b26c-1a2a089c5116",
   "metadata": {},
   "outputs": [],
   "source": [
    "##Importar el dataset del CSV\n",
    "df = pd.read_csv('../data/accidentes.csv')"
   ]
  },
  {
   "cell_type": "code",
   "execution_count": 203,
   "id": "b46f8643-d13d-4f47-a696-c55d496d8bf1",
   "metadata": {},
   "outputs": [
    {
     "name": "stderr",
     "output_type": "stream",
     "text": [
      "C:\\Users\\D6587094\\AppData\\Local\\Temp\\ipykernel_13688\\1246918514.py:4: DtypeWarning: Columns (2) have mixed types. Specify dtype option on import or set low_memory=False.\n",
      "  df_hurto_comercio = pd.read_csv('../data/hurto_comercioV2.csv')\n"
     ]
    }
   ],
   "source": [
    "##Importar los dataset del CSV\n",
    "df_lesiones_transito = pd.read_csv('../data/accidentesV2.csv')\n",
    "df_delitos_sexuales = pd.read_csv('../data/delitosV2.csv')\n",
    "df_hurto_comercio = pd.read_csv('../data/hurto_comercioV2.csv')\n",
    "df_hurto_autos = pd.read_csv('../data/hurto_motocicletasV2.csv')\n",
    "##Ordernas la columnas de un dataframe para que quede igual a los demás\n",
    "df_delitos_sexuales = df_delitos_sexuales[['DEPARTAMENTO','MUNICIPIO','CODIGO DANE','ARMAS MEDIOS','FECHA HECHO','GENERO','GRUPO ETARIO','delito','CANTIDAD']]"
   ]
  },
  {
   "cell_type": "code",
   "execution_count": 204,
   "id": "6e6d47e6-d27c-4e6c-bb63-d9d13c303f64",
   "metadata": {},
   "outputs": [
    {
     "data": {
      "text/html": [
       "<div>\n",
       "<style scoped>\n",
       "    .dataframe tbody tr th:only-of-type {\n",
       "        vertical-align: middle;\n",
       "    }\n",
       "\n",
       "    .dataframe tbody tr th {\n",
       "        vertical-align: top;\n",
       "    }\n",
       "\n",
       "    .dataframe thead th {\n",
       "        text-align: right;\n",
       "    }\n",
       "</style>\n",
       "<table border=\"1\" class=\"dataframe\">\n",
       "  <thead>\n",
       "    <tr style=\"text-align: right;\">\n",
       "      <th></th>\n",
       "      <th>DEPARTAMENTO</th>\n",
       "      <th>MUNICIPIO</th>\n",
       "      <th>CODIGO DANE</th>\n",
       "      <th>ARMAS MEDIOS</th>\n",
       "      <th>FECHA HECHO</th>\n",
       "      <th>GENERO</th>\n",
       "      <th>GRUPO ETARÍO</th>\n",
       "      <th>DESCRIPCIÓN CONDUCTA</th>\n",
       "      <th>CANTIDAD</th>\n",
       "    </tr>\n",
       "  </thead>\n",
       "  <tbody>\n",
       "    <tr>\n",
       "      <th>0</th>\n",
       "      <td>ANTIOQUIA</td>\n",
       "      <td>LA CEJA</td>\n",
       "      <td>5376</td>\n",
       "      <td>MOTO</td>\n",
       "      <td>1/01/2010</td>\n",
       "      <td>MASCULINO</td>\n",
       "      <td>ADULTOS</td>\n",
       "      <td>ARTÍCULO 109. HOMICIDIO CULPOSO ( EN ACCIDENTE...</td>\n",
       "      <td>1</td>\n",
       "    </tr>\n",
       "    <tr>\n",
       "      <th>1</th>\n",
       "      <td>ATLÁNTICO</td>\n",
       "      <td>BARRANQUILLA (CT)</td>\n",
       "      <td>8001</td>\n",
       "      <td>MOTO</td>\n",
       "      <td>1/01/2010</td>\n",
       "      <td>FEMENINO</td>\n",
       "      <td>ADULTOS</td>\n",
       "      <td>ARTÍCULO 109. HOMICIDIO CULPOSO ( EN ACCIDENTE...</td>\n",
       "      <td>1</td>\n",
       "    </tr>\n",
       "    <tr>\n",
       "      <th>2</th>\n",
       "      <td>ATLÁNTICO</td>\n",
       "      <td>LURUACO</td>\n",
       "      <td>8421</td>\n",
       "      <td>MOTO</td>\n",
       "      <td>1/01/2010</td>\n",
       "      <td>MASCULINO</td>\n",
       "      <td>ADULTOS</td>\n",
       "      <td>ARTÍCULO 109. HOMICIDIO CULPOSO ( EN ACCIDENTE...</td>\n",
       "      <td>1</td>\n",
       "    </tr>\n",
       "    <tr>\n",
       "      <th>3</th>\n",
       "      <td>CAQUETÁ</td>\n",
       "      <td>PUERTO RICO</td>\n",
       "      <td>18592</td>\n",
       "      <td>MOTO</td>\n",
       "      <td>1/01/2010</td>\n",
       "      <td>MASCULINO</td>\n",
       "      <td>ADOLESCENTES</td>\n",
       "      <td>ARTÍCULO 109. HOMICIDIO CULPOSO ( EN ACCIDENTE...</td>\n",
       "      <td>1</td>\n",
       "    </tr>\n",
       "    <tr>\n",
       "      <th>4</th>\n",
       "      <td>CASANARE</td>\n",
       "      <td>AGUAZUL</td>\n",
       "      <td>85010</td>\n",
       "      <td>MOTO</td>\n",
       "      <td>1/01/2010</td>\n",
       "      <td>MASCULINO</td>\n",
       "      <td>ADULTOS</td>\n",
       "      <td>ARTÍCULO 109. HOMICIDIO CULPOSO ( EN ACCIDENTE...</td>\n",
       "      <td>1</td>\n",
       "    </tr>\n",
       "  </tbody>\n",
       "</table>\n",
       "</div>"
      ],
      "text/plain": [
       "  DEPARTAMENTO          MUNICIPIO  CODIGO DANE ARMAS MEDIOS FECHA HECHO  \\\n",
       "0    ANTIOQUIA            LA CEJA         5376         MOTO   1/01/2010   \n",
       "1    ATLÁNTICO  BARRANQUILLA (CT)         8001         MOTO   1/01/2010   \n",
       "2    ATLÁNTICO            LURUACO         8421         MOTO   1/01/2010   \n",
       "3      CAQUETÁ        PUERTO RICO        18592         MOTO   1/01/2010   \n",
       "4     CASANARE            AGUAZUL        85010         MOTO   1/01/2010   \n",
       "\n",
       "      GENERO  GRUPO ETARÍO                               DESCRIPCIÓN CONDUCTA  \\\n",
       "0  MASCULINO       ADULTOS  ARTÍCULO 109. HOMICIDIO CULPOSO ( EN ACCIDENTE...   \n",
       "1   FEMENINO       ADULTOS  ARTÍCULO 109. HOMICIDIO CULPOSO ( EN ACCIDENTE...   \n",
       "2  MASCULINO       ADULTOS  ARTÍCULO 109. HOMICIDIO CULPOSO ( EN ACCIDENTE...   \n",
       "3  MASCULINO  ADOLESCENTES  ARTÍCULO 109. HOMICIDIO CULPOSO ( EN ACCIDENTE...   \n",
       "4  MASCULINO       ADULTOS  ARTÍCULO 109. HOMICIDIO CULPOSO ( EN ACCIDENTE...   \n",
       "\n",
       "   CANTIDAD  \n",
       "0         1  \n",
       "1         1  \n",
       "2         1  \n",
       "3         1  \n",
       "4         1  "
      ]
     },
     "execution_count": 204,
     "metadata": {},
     "output_type": "execute_result"
    }
   ],
   "source": [
    "##Visualizar los primeros datos de cada dataframe\n",
    "df_lesiones_transito.head(5)"
   ]
  },
  {
   "cell_type": "code",
   "execution_count": 205,
   "id": "7e6a7803-75b3-41f1-b0df-bd7c2b38a0fe",
   "metadata": {},
   "outputs": [
    {
     "data": {
      "text/html": [
       "<div>\n",
       "<style scoped>\n",
       "    .dataframe tbody tr th:only-of-type {\n",
       "        vertical-align: middle;\n",
       "    }\n",
       "\n",
       "    .dataframe tbody tr th {\n",
       "        vertical-align: top;\n",
       "    }\n",
       "\n",
       "    .dataframe thead th {\n",
       "        text-align: right;\n",
       "    }\n",
       "</style>\n",
       "<table border=\"1\" class=\"dataframe\">\n",
       "  <thead>\n",
       "    <tr style=\"text-align: right;\">\n",
       "      <th></th>\n",
       "      <th>DEPARTAMENTO</th>\n",
       "      <th>MUNICIPIO</th>\n",
       "      <th>CODIGO DANE</th>\n",
       "      <th>ARMAS MEDIOS</th>\n",
       "      <th>FECHA HECHO</th>\n",
       "      <th>GENERO</th>\n",
       "      <th>GRUPO ETARIO</th>\n",
       "      <th>delito</th>\n",
       "      <th>CANTIDAD</th>\n",
       "    </tr>\n",
       "  </thead>\n",
       "  <tbody>\n",
       "    <tr>\n",
       "      <th>0</th>\n",
       "      <td>CAQUETÁ</td>\n",
       "      <td>SOLANO</td>\n",
       "      <td>18756</td>\n",
       "      <td>ARMA BLANCA / CORTOPUNZANTE</td>\n",
       "      <td>1/01/2010</td>\n",
       "      <td>FEMENINO</td>\n",
       "      <td>MENORES</td>\n",
       "      <td>ARTÍCULO 209. ACTOS SEXUALES CON MENOR DE 14 AÑOS</td>\n",
       "      <td>1</td>\n",
       "    </tr>\n",
       "  </tbody>\n",
       "</table>\n",
       "</div>"
      ],
      "text/plain": [
       "  DEPARTAMENTO MUNICIPIO  CODIGO DANE                 ARMAS MEDIOS  \\\n",
       "0      CAQUETÁ    SOLANO        18756  ARMA BLANCA / CORTOPUNZANTE   \n",
       "\n",
       "  FECHA HECHO    GENERO GRUPO ETARIO  \\\n",
       "0   1/01/2010  FEMENINO      MENORES   \n",
       "\n",
       "                                              delito  CANTIDAD  \n",
       "0  ARTÍCULO 209. ACTOS SEXUALES CON MENOR DE 14 AÑOS         1  "
      ]
     },
     "execution_count": 205,
     "metadata": {},
     "output_type": "execute_result"
    }
   ],
   "source": [
    "##Visualizar los primeros datos de cada dataframe\n",
    "df_delitos_sexuales.head(1)"
   ]
  },
  {
   "cell_type": "code",
   "execution_count": 206,
   "id": "f88281a6-de6a-4b26-9985-df2aa62237f9",
   "metadata": {},
   "outputs": [
    {
     "data": {
      "text/html": [
       "<div>\n",
       "<style scoped>\n",
       "    .dataframe tbody tr th:only-of-type {\n",
       "        vertical-align: middle;\n",
       "    }\n",
       "\n",
       "    .dataframe tbody tr th {\n",
       "        vertical-align: top;\n",
       "    }\n",
       "\n",
       "    .dataframe thead th {\n",
       "        text-align: right;\n",
       "    }\n",
       "</style>\n",
       "<table border=\"1\" class=\"dataframe\">\n",
       "  <thead>\n",
       "    <tr style=\"text-align: right;\">\n",
       "      <th></th>\n",
       "      <th>DEPARTAMENTO</th>\n",
       "      <th>MUNICIPIO</th>\n",
       "      <th>CODIGO DANE</th>\n",
       "      <th>ARMAS MEDIOS</th>\n",
       "      <th>FECHA HECHO</th>\n",
       "      <th>GENERO</th>\n",
       "      <th>GRUPO ETARIO</th>\n",
       "      <th>TIPO DE HURTO</th>\n",
       "      <th>CANTIDAD</th>\n",
       "    </tr>\n",
       "  </thead>\n",
       "  <tbody>\n",
       "    <tr>\n",
       "      <th>0</th>\n",
       "      <td>CAQUETÁ</td>\n",
       "      <td>SAN VICENTE DEL CAGUÁN</td>\n",
       "      <td>18753</td>\n",
       "      <td>ARMA BLANCA / CORTOPUNZANTE</td>\n",
       "      <td>1/01/2010</td>\n",
       "      <td>FEMENINO</td>\n",
       "      <td>ADULTOS</td>\n",
       "      <td>HURTO RESIDENCIAS</td>\n",
       "      <td>1</td>\n",
       "    </tr>\n",
       "  </tbody>\n",
       "</table>\n",
       "</div>"
      ],
      "text/plain": [
       "  DEPARTAMENTO               MUNICIPIO CODIGO DANE  \\\n",
       "0      CAQUETÁ  SAN VICENTE DEL CAGUÁN       18753   \n",
       "\n",
       "                  ARMAS MEDIOS FECHA HECHO    GENERO GRUPO ETARIO  \\\n",
       "0  ARMA BLANCA / CORTOPUNZANTE   1/01/2010  FEMENINO      ADULTOS   \n",
       "\n",
       "       TIPO DE HURTO  CANTIDAD  \n",
       "0  HURTO RESIDENCIAS         1  "
      ]
     },
     "execution_count": 206,
     "metadata": {},
     "output_type": "execute_result"
    }
   ],
   "source": [
    "##Visualizar los primeros datos de cada dataframe\n",
    "df_hurto_comercio.head(1)"
   ]
  },
  {
   "cell_type": "code",
   "execution_count": 207,
   "id": "a6b39551-356b-47e2-b712-0ba4e373d491",
   "metadata": {},
   "outputs": [
    {
     "data": {
      "text/html": [
       "<div>\n",
       "<style scoped>\n",
       "    .dataframe tbody tr th:only-of-type {\n",
       "        vertical-align: middle;\n",
       "    }\n",
       "\n",
       "    .dataframe tbody tr th {\n",
       "        vertical-align: top;\n",
       "    }\n",
       "\n",
       "    .dataframe thead th {\n",
       "        text-align: right;\n",
       "    }\n",
       "</style>\n",
       "<table border=\"1\" class=\"dataframe\">\n",
       "  <thead>\n",
       "    <tr style=\"text-align: right;\">\n",
       "      <th></th>\n",
       "      <th>DEPARTAMENTO</th>\n",
       "      <th>MUNICIPIO</th>\n",
       "      <th>CODIGO DANE</th>\n",
       "      <th>ARMAS MEDIOS</th>\n",
       "      <th>FECHA HECHO</th>\n",
       "      <th>GENERO</th>\n",
       "      <th>GRUPO ETARIO</th>\n",
       "      <th>TIPO DE HURTO</th>\n",
       "      <th>CANTIDAD</th>\n",
       "    </tr>\n",
       "  </thead>\n",
       "  <tbody>\n",
       "    <tr>\n",
       "      <th>0</th>\n",
       "      <td>ANTIOQUIA</td>\n",
       "      <td>MEDELLÍN</td>\n",
       "      <td>5001</td>\n",
       "      <td>ARMA DE FUEGO</td>\n",
       "      <td>1/01/2010</td>\n",
       "      <td>NO APLICA</td>\n",
       "      <td>NO APLICA</td>\n",
       "      <td>HURTO AUTOMOTORES</td>\n",
       "      <td>1</td>\n",
       "    </tr>\n",
       "  </tbody>\n",
       "</table>\n",
       "</div>"
      ],
      "text/plain": [
       "  DEPARTAMENTO  MUNICIPIO  CODIGO DANE   ARMAS MEDIOS FECHA HECHO     GENERO  \\\n",
       "0    ANTIOQUIA  MEDELLÍN          5001  ARMA DE FUEGO   1/01/2010  NO APLICA   \n",
       "\n",
       "  GRUPO ETARIO      TIPO DE HURTO  CANTIDAD  \n",
       "0    NO APLICA  HURTO AUTOMOTORES         1  "
      ]
     },
     "execution_count": 207,
     "metadata": {},
     "output_type": "execute_result"
    }
   ],
   "source": [
    "##Visualizar los primeros datos de cada dataframe\n",
    "df_hurto_autos.head(1)"
   ]
  },
  {
   "cell_type": "code",
   "execution_count": 208,
   "id": "01076587-6c85-4c33-9112-9d8fc6e89ea5",
   "metadata": {},
   "outputs": [
    {
     "data": {
      "text/plain": [
       "[      DEPARTAMENTO          MUNICIPIO  CODIGO DANE  ARMAS MEDIOS FECHA HECHO  \\\n",
       " 0        ANTIOQUIA            LA CEJA         5376          MOTO   1/01/2010   \n",
       " 1        ATLÁNTICO  BARRANQUILLA (CT)         8001          MOTO   1/01/2010   \n",
       " 2        ATLÁNTICO            LURUACO         8421          MOTO   1/01/2010   \n",
       " 3          CAQUETÁ        PUERTO RICO        18592          MOTO   1/01/2010   \n",
       " 4         CASANARE            AGUAZUL        85010          MOTO   1/01/2010   \n",
       " ...            ...                ...          ...           ...         ...   \n",
       " 59800        VALLE            RIOFRÍO        76616  NO REPORTADO  16/04/2022   \n",
       " 59801        VALLE               TORO        76823  NO REPORTADO  20/02/2022   \n",
       " 59802        VALLE               TORO        76823  NO REPORTADO  20/02/2022   \n",
       " 59803        VALLE              TULUÁ        76834  NO REPORTADO  16/04/2022   \n",
       " 59804        VALLE              TULUÁ        76834  NO REPORTADO  16/04/2022   \n",
       " \n",
       "           GENERO  GRUPO ETARÍO  \\\n",
       " 0      MASCULINO       ADULTOS   \n",
       " 1       FEMENINO       ADULTOS   \n",
       " 2      MASCULINO       ADULTOS   \n",
       " 3      MASCULINO  ADOLESCENTES   \n",
       " 4      MASCULINO       ADULTOS   \n",
       " ...          ...           ...   \n",
       " 59800  MASCULINO       ADULTOS   \n",
       " 59801   FEMENINO       ADULTOS   \n",
       " 59802  MASCULINO       ADULTOS   \n",
       " 59803   FEMENINO       ADULTOS   \n",
       " 59804  MASCULINO       ADULTOS   \n",
       " \n",
       "                                              DESCRIPCIÓN  CANTIDAD  \n",
       " 0      ARTÍCULO 109. HOMICIDIO CULPOSO ( EN ACCIDENTE...         1  \n",
       " 1      ARTÍCULO 109. HOMICIDIO CULPOSO ( EN ACCIDENTE...         1  \n",
       " 2      ARTÍCULO 109. HOMICIDIO CULPOSO ( EN ACCIDENTE...         1  \n",
       " 3      ARTÍCULO 109. HOMICIDIO CULPOSO ( EN ACCIDENTE...         1  \n",
       " 4      ARTÍCULO 109. HOMICIDIO CULPOSO ( EN ACCIDENTE...         1  \n",
       " ...                                                  ...       ...  \n",
       " 59800  ARTÍCULO 109. HOMICIDIO CULPOSO ( EN ACCIDENTE...         1  \n",
       " 59801  ARTÍCULO 109. HOMICIDIO CULPOSO ( EN ACCIDENTE...         1  \n",
       " 59802  ARTÍCULO 109. HOMICIDIO CULPOSO ( EN ACCIDENTE...         4  \n",
       " 59803  ARTÍCULO 109. HOMICIDIO CULPOSO ( EN ACCIDENTE...         1  \n",
       " 59804  ARTÍCULO 109. HOMICIDIO CULPOSO ( EN ACCIDENTE...         1  \n",
       " \n",
       " [59805 rows x 9 columns],\n",
       "        DEPARTAMENTO            MUNICIPIO  CODIGO DANE  \\\n",
       " 0           CAQUETÁ               SOLANO        18756   \n",
       " 1           BOLÍVAR       CARTAGENA (CT)        13001   \n",
       " 2             HUILA             LA PLATA        41396   \n",
       " 3         SANTANDER          PIEDECUESTA        68547   \n",
       " 4              META   VILLAVICENCIO (CT)        50001   \n",
       " ...             ...                  ...          ...   \n",
       " 241734      VICHADA  PUERTO CARREÑO (CT)        99001   \n",
       " 241735      VICHADA  PUERTO CARREÑO (CT)        99001   \n",
       " 241736      VICHADA  PUERTO CARREÑO (CT)        99001   \n",
       " 241737      VICHADA        SANTA ROSALÍA        99624   \n",
       " 241738      VICHADA        SANTA ROSALÍA        99624   \n",
       " \n",
       "                        ARMAS MEDIOS FECHA HECHO      GENERO  GRUPO ETARÍO  \\\n",
       " 0       ARMA BLANCA / CORTOPUNZANTE   1/01/2010    FEMENINO       MENORES   \n",
       " 1       ARMA BLANCA / CORTOPUNZANTE   1/01/2010    FEMENINO  ADOLESCENTES   \n",
       " 2       ARMA BLANCA / CORTOPUNZANTE   1/01/2010    FEMENINO       ADULTOS   \n",
       " 3                      CONTUNDENTES   1/01/2010    FEMENINO       ADULTOS   \n",
       " 4                      CONTUNDENTES   1/01/2010    FEMENINO       ADULTOS   \n",
       " ...                             ...         ...         ...           ...   \n",
       " 241734          SIN EMPLEO DE ARMAS  15/02/2022    FEMENINO       ADULTOS   \n",
       " 241735          SIN EMPLEO DE ARMAS   7/03/2022    FEMENINO       ADULTOS   \n",
       " 241736          SIN EMPLEO DE ARMAS  17/03/2022  NO REPORTA    NO REPORTA   \n",
       " 241737          SIN EMPLEO DE ARMAS  22/02/2022    FEMENINO  ADOLESCENTES   \n",
       " 241738          SIN EMPLEO DE ARMAS   4/04/2022    FEMENINO       MENORES   \n",
       " \n",
       "                                               DESCRIPCIÓN  CANTIDAD  \n",
       " 0       ARTÍCULO 209. ACTOS SEXUALES CON MENOR DE 14 AÑOS         1  \n",
       " 1                    ARTÍCULO 205. ACCESO CARNAL VIOLENTO         1  \n",
       " 2                    ARTÍCULO 205. ACCESO CARNAL VIOLENTO         1  \n",
       " 3                    ARTÍCULO 205. ACCESO CARNAL VIOLENTO         1  \n",
       " 4                    ARTÍCULO 205. ACCESO CARNAL VIOLENTO         1  \n",
       " ...                                                   ...       ...  \n",
       " 241734               ARTÍCULO 205. ACCESO CARNAL VIOLENTO         1  \n",
       " 241735  ARTÍCULO 207. ACCESO CARNAL O ACTO SEXUAL EN P...         1  \n",
       " 241736  ARTÍCULO 209. ACTOS SEXUALES CON MENOR DE 14 AÑOS         1  \n",
       " 241737  ARTÍCULO 208. ACCESO CARNAL ABUSIVO CON MENOR ...         1  \n",
       " 241738                       ARTÍCULO 210 A. ACOSO SEXUAL         1  \n",
       " \n",
       " [241739 rows x 9 columns],\n",
       "        DEPARTAMENTO               MUNICIPIO CODIGO DANE  \\\n",
       " 0           CAQUETÁ  SAN VICENTE DEL CAGUÁN       18753   \n",
       " 1             CAUCA                POPAYÁN        19001   \n",
       " 2             HUILA                PITALITO       41551   \n",
       " 3             VALLE                 JAMUNDÍ       76364   \n",
       " 4          AMAZONAS                LETICIA        91001   \n",
       " ...             ...                     ...         ...   \n",
       " 492958    MAGDALENA            SANTA MARTA        47001   \n",
       " 492959    SANTANDER            BUCARAMANGA        68001   \n",
       " 492960        SUCRE                MAJAGUAL       70429   \n",
       " 492961        SUCRE       SAN LUIS DE SINCÉ       70742   \n",
       " 492962       TOLIMA                  LÉRIDA       73408   \n",
       " \n",
       "                        ARMAS MEDIOS FECHA HECHO     GENERO GRUPO ETARÍO  \\\n",
       " 0       ARMA BLANCA / CORTOPUNZANTE   1/01/2010   FEMENINO      ADULTOS   \n",
       " 1       ARMA BLANCA / CORTOPUNZANTE   1/01/2010   FEMENINO      ADULTOS   \n",
       " 2                     ARMA DE FUEGO   1/01/2010  MASCULINO      ADULTOS   \n",
       " 3                     ARMA DE FUEGO   1/01/2010  MASCULINO      ADULTOS   \n",
       " 4                      CONTUNDENTES   1/01/2010  MASCULINO      ADULTOS   \n",
       " ...                             ...         ...        ...          ...   \n",
       " 492958                   NO REPORTA  28/02/2022   FEMENINO      ADULTOS   \n",
       " 492959                   NO REPORTA  30/03/2022   FEMENINO      ADULTOS   \n",
       " 492960                   NO REPORTA  12/01/2022  MASCULINO      ADULTOS   \n",
       " 492961                   NO REPORTA  21/02/2022  MASCULINO      ADULTOS   \n",
       " 492962                   NO REPORTA  30/04/2022   FEMENINO      ADULTOS   \n",
       " \n",
       "               DESCRIPCIÓN  CANTIDAD  \n",
       " 0       HURTO RESIDENCIAS         1  \n",
       " 1       HURTO RESIDENCIAS         2  \n",
       " 2       HURTO RESIDENCIAS         1  \n",
       " 3       HURTO RESIDENCIAS         1  \n",
       " 4       HURTO RESIDENCIAS         1  \n",
       " ...                   ...       ...  \n",
       " 492958  HURTO RESIDENCIAS         1  \n",
       " 492959  HURTO RESIDENCIAS         1  \n",
       " 492960  HURTO RESIDENCIAS         1  \n",
       " 492961  HURTO RESIDENCIAS         1  \n",
       " 492962  HURTO RESIDENCIAS         1  \n",
       " \n",
       " [492963 rows x 9 columns],\n",
       "         DEPARTAMENTO            MUNICIPIO  CODIGO DANE   ARMAS MEDIOS  \\\n",
       " 0          ANTIOQUIA            MEDELLÍN          5001  ARMA DE FUEGO   \n",
       " 1          ANTIOQUIA            OPACABANA         5212  LLAVE MAESTRA   \n",
       " 2          ANTIOQUIA            MEDELLÍN          5001  LLAVE MAESTRA   \n",
       " 3       CUNDINAMARCA         BOGOTÁ D.C.         11001  LLAVE MAESTRA   \n",
       " 4              VALLE                 ALI         76001  LLAVE MAESTRA   \n",
       " ...              ...                  ...          ...            ...   \n",
       " 276799        NARIÑO              IPIALES        52356     NO REPORTA   \n",
       " 276800        TOLIMA              ESPINAL        73268     NO REPORTA   \n",
       " 276801         VALLE  GUADALAJARA DE BUGA        76111     NO REPORTA   \n",
       " 276802         VALLE              SEVILLA        76736     NO REPORTA   \n",
       " 276803         VALLE                 ULUÁ        76834     NO REPORTA   \n",
       " \n",
       "        FECHA HECHO     GENERO GRUPO ETARÍO         DESCRIPCIÓN  CANTIDAD  \n",
       " 0        1/01/2010  NO APLICA    NO APLICA   HURTO AUTOMOTORES         1  \n",
       " 1        1/01/2010  NO APLICA    NO APLICA   HURTO AUTOMOTORES         1  \n",
       " 2        1/01/2010  NO APLICA    NO APLICA   HURTO AUTOMOTORES         1  \n",
       " 3        1/01/2010  NO APLICA    NO APLICA   HURTO AUTOMOTORES         1  \n",
       " 4        1/01/2010  NO APLICA    NO APLICA   HURTO AUTOMOTORES         1  \n",
       " ...            ...        ...          ...                 ...       ...  \n",
       " 276799  08/04/2022  NO APLICA    NO APLICA  HURTO MOTOCICLETAS         1  \n",
       " 276800  02/04/2022  NO APLICA    NO APLICA  HURTO MOTOCICLETAS         1  \n",
       " 276801  11/02/2022  NO APLICA    NO APLICA  HURTO MOTOCICLETAS         1  \n",
       " 276802  06/01/2022  NO APLICA    NO APLICA  HURTO MOTOCICLETAS         1  \n",
       " 276803  11/03/2022  NO APLICA    NO APLICA  HURTO MOTOCICLETAS         1  \n",
       " \n",
       " [276804 rows x 9 columns]]"
      ]
     },
     "execution_count": 208,
     "metadata": {},
     "output_type": "execute_result"
    }
   ],
   "source": [
    "##Renombrar las columnas de cada dataframe para que todos queden igual\n",
    "dfs = [df_lesiones_transito.rename(columns={'DESCRIPCIÓN CONDUCTA':'DESCRIPCIÓN'}),df_delitos_sexuales.rename(columns={'delito':'DESCRIPCIÓN','GRUPO ETARIO':'GRUPO ETARÍO'}),df_hurto_comercio.rename(columns={'TIPO DE HURTO':'DESCRIPCIÓN','GRUPO ETARIO':'GRUPO ETARÍO'}),df_hurto_autos.rename(columns={'TIPO DE HURTO':'DESCRIPCIÓN','GRUPO ETARIO':'GRUPO ETARÍO'})]\n",
    "dfs"
   ]
  },
  {
   "cell_type": "code",
   "execution_count": 209,
   "id": "f7266c93-fa99-4b88-af2f-820879df392a",
   "metadata": {},
   "outputs": [],
   "source": [
    "##Unificar en un solo dataframe todos los dataset\n",
    "df = pd.concat(dfs,ignore_index=True)"
   ]
  },
  {
   "cell_type": "code",
   "execution_count": 210,
   "id": "509b37f7-0af0-4b24-81f4-605f00d16e2c",
   "metadata": {},
   "outputs": [
    {
     "data": {
      "text/html": [
       "<div>\n",
       "<style scoped>\n",
       "    .dataframe tbody tr th:only-of-type {\n",
       "        vertical-align: middle;\n",
       "    }\n",
       "\n",
       "    .dataframe tbody tr th {\n",
       "        vertical-align: top;\n",
       "    }\n",
       "\n",
       "    .dataframe thead th {\n",
       "        text-align: right;\n",
       "    }\n",
       "</style>\n",
       "<table border=\"1\" class=\"dataframe\">\n",
       "  <thead>\n",
       "    <tr style=\"text-align: right;\">\n",
       "      <th></th>\n",
       "      <th>DEPARTAMENTO</th>\n",
       "      <th>MUNICIPIO</th>\n",
       "      <th>CODIGO DANE</th>\n",
       "      <th>ARMAS MEDIOS</th>\n",
       "      <th>FECHA HECHO</th>\n",
       "      <th>GENERO</th>\n",
       "      <th>GRUPO ETARÍO</th>\n",
       "      <th>DESCRIPCIÓN</th>\n",
       "      <th>CANTIDAD</th>\n",
       "    </tr>\n",
       "  </thead>\n",
       "  <tbody>\n",
       "    <tr>\n",
       "      <th>0</th>\n",
       "      <td>ANTIOQUIA</td>\n",
       "      <td>LA CEJA</td>\n",
       "      <td>5376</td>\n",
       "      <td>MOTO</td>\n",
       "      <td>1/01/2010</td>\n",
       "      <td>MASCULINO</td>\n",
       "      <td>ADULTOS</td>\n",
       "      <td>ARTÍCULO 109. HOMICIDIO CULPOSO ( EN ACCIDENTE...</td>\n",
       "      <td>1</td>\n",
       "    </tr>\n",
       "    <tr>\n",
       "      <th>1</th>\n",
       "      <td>ATLÁNTICO</td>\n",
       "      <td>BARRANQUILLA (CT)</td>\n",
       "      <td>8001</td>\n",
       "      <td>MOTO</td>\n",
       "      <td>1/01/2010</td>\n",
       "      <td>FEMENINO</td>\n",
       "      <td>ADULTOS</td>\n",
       "      <td>ARTÍCULO 109. HOMICIDIO CULPOSO ( EN ACCIDENTE...</td>\n",
       "      <td>1</td>\n",
       "    </tr>\n",
       "    <tr>\n",
       "      <th>2</th>\n",
       "      <td>ATLÁNTICO</td>\n",
       "      <td>LURUACO</td>\n",
       "      <td>8421</td>\n",
       "      <td>MOTO</td>\n",
       "      <td>1/01/2010</td>\n",
       "      <td>MASCULINO</td>\n",
       "      <td>ADULTOS</td>\n",
       "      <td>ARTÍCULO 109. HOMICIDIO CULPOSO ( EN ACCIDENTE...</td>\n",
       "      <td>1</td>\n",
       "    </tr>\n",
       "    <tr>\n",
       "      <th>3</th>\n",
       "      <td>CAQUETÁ</td>\n",
       "      <td>PUERTO RICO</td>\n",
       "      <td>18592</td>\n",
       "      <td>MOTO</td>\n",
       "      <td>1/01/2010</td>\n",
       "      <td>MASCULINO</td>\n",
       "      <td>ADOLESCENTES</td>\n",
       "      <td>ARTÍCULO 109. HOMICIDIO CULPOSO ( EN ACCIDENTE...</td>\n",
       "      <td>1</td>\n",
       "    </tr>\n",
       "    <tr>\n",
       "      <th>4</th>\n",
       "      <td>CASANARE</td>\n",
       "      <td>AGUAZUL</td>\n",
       "      <td>85010</td>\n",
       "      <td>MOTO</td>\n",
       "      <td>1/01/2010</td>\n",
       "      <td>MASCULINO</td>\n",
       "      <td>ADULTOS</td>\n",
       "      <td>ARTÍCULO 109. HOMICIDIO CULPOSO ( EN ACCIDENTE...</td>\n",
       "      <td>1</td>\n",
       "    </tr>\n",
       "  </tbody>\n",
       "</table>\n",
       "</div>"
      ],
      "text/plain": [
       "  DEPARTAMENTO          MUNICIPIO CODIGO DANE ARMAS MEDIOS FECHA HECHO  \\\n",
       "0    ANTIOQUIA            LA CEJA        5376         MOTO   1/01/2010   \n",
       "1    ATLÁNTICO  BARRANQUILLA (CT)        8001         MOTO   1/01/2010   \n",
       "2    ATLÁNTICO            LURUACO        8421         MOTO   1/01/2010   \n",
       "3      CAQUETÁ        PUERTO RICO       18592         MOTO   1/01/2010   \n",
       "4     CASANARE            AGUAZUL       85010         MOTO   1/01/2010   \n",
       "\n",
       "      GENERO  GRUPO ETARÍO                                        DESCRIPCIÓN  \\\n",
       "0  MASCULINO       ADULTOS  ARTÍCULO 109. HOMICIDIO CULPOSO ( EN ACCIDENTE...   \n",
       "1   FEMENINO       ADULTOS  ARTÍCULO 109. HOMICIDIO CULPOSO ( EN ACCIDENTE...   \n",
       "2  MASCULINO       ADULTOS  ARTÍCULO 109. HOMICIDIO CULPOSO ( EN ACCIDENTE...   \n",
       "3  MASCULINO  ADOLESCENTES  ARTÍCULO 109. HOMICIDIO CULPOSO ( EN ACCIDENTE...   \n",
       "4  MASCULINO       ADULTOS  ARTÍCULO 109. HOMICIDIO CULPOSO ( EN ACCIDENTE...   \n",
       "\n",
       "   CANTIDAD  \n",
       "0         1  \n",
       "1         1  \n",
       "2         1  \n",
       "3         1  \n",
       "4         1  "
      ]
     },
     "execution_count": 210,
     "metadata": {},
     "output_type": "execute_result"
    }
   ],
   "source": [
    "df.head()"
   ]
  },
  {
   "cell_type": "code",
   "execution_count": 211,
   "id": "5646c6d6-b275-4c4c-b746-76060b7228d4",
   "metadata": {},
   "outputs": [],
   "source": [
    "##Unificar los nombre de los municipios que están escritos de manera diferente\n",
    "df['MUNICIPIO']=df['MUNICIPIO'].replace({'BARRANQUILLA ': 'BARRANQUILLA','MEDELLÍN (CT)':'MEDELLÍN','MEDELLÍN ':'MEDELLÍN','ARTAGENA ':'CARTAGENA','CARTAGENA (CT)':'CARTAGENA','BOGOTÁ D.C. ':'BOGOTÁ D.C.','ALI ':'CALI','CALI (CT)':'CALI'})\n",
    "df['MUNICIPIO']=df['MUNICIPIO'].replace({'BARRANQUILLA (CT)': 'BARRANQUILLA','MEDELLÍN (CT)':'MEDELLÍN','ARTAGENA':'CARTAGENA','CARTAGENA (CT)':'CARTAGENA','BOGOTÁ D.C. (CT)':'BOGOTÁ D.C.','ALI':'CALI','CALI (CT)':'CALI'})"
   ]
  },
  {
   "cell_type": "code",
   "execution_count": 212,
   "id": "0abd9940-0554-4181-8ed3-19c76aa0f2b4",
   "metadata": {},
   "outputs": [],
   "source": [
    "#Importar el archivo con la cantidad de habitantes proyectada para el 2022 por municipio\n",
    "df_habitantes = pd.read_csv('../data/proyeccion_habitantes.csv')"
   ]
  },
  {
   "cell_type": "code",
   "execution_count": 213,
   "id": "5544e75c-6d5b-45dc-a7fa-71f7bfa19fc3",
   "metadata": {},
   "outputs": [
    {
     "data": {
      "text/html": [
       "<div>\n",
       "<style scoped>\n",
       "    .dataframe tbody tr th:only-of-type {\n",
       "        vertical-align: middle;\n",
       "    }\n",
       "\n",
       "    .dataframe tbody tr th {\n",
       "        vertical-align: top;\n",
       "    }\n",
       "\n",
       "    .dataframe thead th {\n",
       "        text-align: right;\n",
       "    }\n",
       "</style>\n",
       "<table border=\"1\" class=\"dataframe\">\n",
       "  <thead>\n",
       "    <tr style=\"text-align: right;\">\n",
       "      <th></th>\n",
       "      <th>CODIGO DANE</th>\n",
       "      <th>MUNICIPIO</th>\n",
       "      <th>HABITANTES</th>\n",
       "    </tr>\n",
       "  </thead>\n",
       "  <tbody>\n",
       "    <tr>\n",
       "      <th>0</th>\n",
       "      <td>5001</td>\n",
       "      <td>Medellín</td>\n",
       "      <td>2612958</td>\n",
       "    </tr>\n",
       "    <tr>\n",
       "      <th>1</th>\n",
       "      <td>5002</td>\n",
       "      <td>Abejorral</td>\n",
       "      <td>20920</td>\n",
       "    </tr>\n",
       "    <tr>\n",
       "      <th>2</th>\n",
       "      <td>5004</td>\n",
       "      <td>Abriaquí</td>\n",
       "      <td>2820</td>\n",
       "    </tr>\n",
       "    <tr>\n",
       "      <th>3</th>\n",
       "      <td>5021</td>\n",
       "      <td>Alejandría</td>\n",
       "      <td>4845</td>\n",
       "    </tr>\n",
       "    <tr>\n",
       "      <th>4</th>\n",
       "      <td>5030</td>\n",
       "      <td>Amagá</td>\n",
       "      <td>32259</td>\n",
       "    </tr>\n",
       "    <tr>\n",
       "      <th>...</th>\n",
       "      <td>...</td>\n",
       "      <td>...</td>\n",
       "      <td>...</td>\n",
       "    </tr>\n",
       "    <tr>\n",
       "      <th>1117</th>\n",
       "      <td>97889</td>\n",
       "      <td>Yavaraté (CD)</td>\n",
       "      <td>1211</td>\n",
       "    </tr>\n",
       "    <tr>\n",
       "      <th>1118</th>\n",
       "      <td>99001</td>\n",
       "      <td>Puerto Carreño</td>\n",
       "      <td>20798</td>\n",
       "    </tr>\n",
       "    <tr>\n",
       "      <th>1119</th>\n",
       "      <td>99524</td>\n",
       "      <td>La Primavera</td>\n",
       "      <td>9846</td>\n",
       "    </tr>\n",
       "    <tr>\n",
       "      <th>1120</th>\n",
       "      <td>99624</td>\n",
       "      <td>Santa Rosalía</td>\n",
       "      <td>4297</td>\n",
       "    </tr>\n",
       "    <tr>\n",
       "      <th>1121</th>\n",
       "      <td>99773</td>\n",
       "      <td>Cumaribo</td>\n",
       "      <td>80837</td>\n",
       "    </tr>\n",
       "  </tbody>\n",
       "</table>\n",
       "<p>1122 rows × 3 columns</p>\n",
       "</div>"
      ],
      "text/plain": [
       "      CODIGO DANE       MUNICIPIO  HABITANTES\n",
       "0            5001        Medellín     2612958\n",
       "1            5002       Abejorral       20920\n",
       "2            5004        Abriaquí        2820\n",
       "3            5021      Alejandría        4845\n",
       "4            5030           Amagá       32259\n",
       "...           ...             ...         ...\n",
       "1117        97889   Yavaraté (CD)        1211\n",
       "1118        99001  Puerto Carreño       20798\n",
       "1119        99524    La Primavera        9846\n",
       "1120        99624   Santa Rosalía        4297\n",
       "1121        99773        Cumaribo       80837\n",
       "\n",
       "[1122 rows x 3 columns]"
      ]
     },
     "execution_count": 213,
     "metadata": {},
     "output_type": "execute_result"
    }
   ],
   "source": [
    "##Visualizar los datos de los habitantes por municipio\n",
    "df_habitantes"
   ]
  },
  {
   "cell_type": "code",
   "execution_count": 214,
   "id": "7b67ab13-bd0d-49ea-8ac8-0a065f25fd33",
   "metadata": {},
   "outputs": [],
   "source": [
    "##Dejar solamente los registros de los municipios con más de un millón de habitantes\n",
    "df_habitantes = df_habitantes.loc[lambda x : x['HABITANTES']>1000000]"
   ]
  },
  {
   "cell_type": "code",
   "execution_count": 215,
   "id": "a70104cc-db26-467c-a2e0-b189ca6b7755",
   "metadata": {},
   "outputs": [
    {
     "data": {
      "text/html": [
       "<div>\n",
       "<style scoped>\n",
       "    .dataframe tbody tr th:only-of-type {\n",
       "        vertical-align: middle;\n",
       "    }\n",
       "\n",
       "    .dataframe tbody tr th {\n",
       "        vertical-align: top;\n",
       "    }\n",
       "\n",
       "    .dataframe thead th {\n",
       "        text-align: right;\n",
       "    }\n",
       "</style>\n",
       "<table border=\"1\" class=\"dataframe\">\n",
       "  <thead>\n",
       "    <tr style=\"text-align: right;\">\n",
       "      <th></th>\n",
       "      <th>CODIGO DANE</th>\n",
       "      <th>MUNICIPIO</th>\n",
       "      <th>HABITANTES</th>\n",
       "    </tr>\n",
       "  </thead>\n",
       "  <tbody>\n",
       "    <tr>\n",
       "      <th>0</th>\n",
       "      <td>5001</td>\n",
       "      <td>Medellín</td>\n",
       "      <td>2612958</td>\n",
       "    </tr>\n",
       "    <tr>\n",
       "      <th>125</th>\n",
       "      <td>8001</td>\n",
       "      <td>Barranquilla</td>\n",
       "      <td>1312473</td>\n",
       "    </tr>\n",
       "    <tr>\n",
       "      <th>148</th>\n",
       "      <td>11001</td>\n",
       "      <td>Bogotá DC</td>\n",
       "      <td>7901653</td>\n",
       "    </tr>\n",
       "    <tr>\n",
       "      <th>149</th>\n",
       "      <td>13001</td>\n",
       "      <td>Cartagena de Indias</td>\n",
       "      <td>1055035</td>\n",
       "    </tr>\n",
       "    <tr>\n",
       "      <th>1005</th>\n",
       "      <td>76001</td>\n",
       "      <td>Cali</td>\n",
       "      <td>2280907</td>\n",
       "    </tr>\n",
       "  </tbody>\n",
       "</table>\n",
       "</div>"
      ],
      "text/plain": [
       "      CODIGO DANE            MUNICIPIO  HABITANTES\n",
       "0            5001             Medellín     2612958\n",
       "125          8001         Barranquilla     1312473\n",
       "148         11001            Bogotá DC     7901653\n",
       "149         13001  Cartagena de Indias     1055035\n",
       "1005        76001                 Cali     2280907"
      ]
     },
     "execution_count": 215,
     "metadata": {},
     "output_type": "execute_result"
    }
   ],
   "source": [
    "##Visualizar los  municipios con más de un millón de habitantes\n",
    "df_habitantes"
   ]
  },
  {
   "cell_type": "code",
   "execution_count": 216,
   "id": "41ed8361-89c0-4863-a1e6-7d11282e1f69",
   "metadata": {},
   "outputs": [
    {
     "data": {
      "text/plain": [
       "(1071311, 9)"
      ]
     },
     "execution_count": 216,
     "metadata": {},
     "output_type": "execute_result"
    }
   ],
   "source": [
    "##Ver el tamaño total de los casos unificados\n",
    "df.shape"
   ]
  },
  {
   "cell_type": "code",
   "execution_count": 217,
   "id": "3f256a40-acc8-48a8-8744-ea002144da45",
   "metadata": {},
   "outputs": [],
   "source": [
    "##Dejar en el dataframe solamente los casos de los municipios que tienen más de un millón de habitantes\n",
    "df.drop(df[~df['CODIGO DANE'].isin(df_habitantes['CODIGO DANE'])].index, inplace = True)"
   ]
  },
  {
   "cell_type": "code",
   "execution_count": 218,
   "id": "2fbe9674-cb8f-40cf-99b2-9721479ca372",
   "metadata": {},
   "outputs": [
    {
     "data": {
      "text/plain": [
       "(245743, 9)"
      ]
     },
     "execution_count": 218,
     "metadata": {},
     "output_type": "execute_result"
    }
   ],
   "source": [
    "##Ver el tamaño total de los casos de los municipios que tienen más de un millón de habitantes\n",
    "df.shape"
   ]
  },
  {
   "cell_type": "code",
   "execution_count": 219,
   "id": "349a36b9-3df9-4338-8e03-d25bbf58f051",
   "metadata": {},
   "outputs": [],
   "source": [
    "##Agrupar por departamento, municio y código dane, sumando la cantidad de casos presentados y almacenando en un nuevo dataframe\n",
    "df_new=df.groupby(['DEPARTAMENTO','MUNICIPIO','CODIGO DANE']).agg({'CANTIDAD':'sum'}).reset_index()"
   ]
  },
  {
   "cell_type": "code",
   "execution_count": 220,
   "id": "d3f2e6f3-2d15-4beb-aa53-eb6aefcea1e8",
   "metadata": {},
   "outputs": [],
   "source": [
    "##Función para devolver la cantidad de habitantes en un municipio a partir del código DANE\n",
    "def get_population(code):\n",
    "    hab = df_habitantes.loc[df_habitantes['CODIGO DANE']==code,['HABITANTES']]\n",
    "    if hab.empty:\n",
    "        return 0\n",
    "    else:\n",
    "        return hab.iloc[0]['HABITANTES']"
   ]
  },
  {
   "cell_type": "code",
   "execution_count": 226,
   "id": "e6f9fa64-4654-4eed-bbe2-f27709d60ab4",
   "metadata": {},
   "outputs": [],
   "source": [
    "##Crear una nueva columna en el dataframe para almacenar la cantidad de habitantes aplicando la función que los retorna\n",
    "df_new['HABITANTES']=df_new['CODIGO DANE'].apply(get_population)"
   ]
  },
  {
   "cell_type": "code",
   "execution_count": 231,
   "id": "6f174e5a-7922-4a0f-866d-624b1c545044",
   "metadata": {},
   "outputs": [
    {
     "data": {
      "text/html": [
       "<div>\n",
       "<style scoped>\n",
       "    .dataframe tbody tr th:only-of-type {\n",
       "        vertical-align: middle;\n",
       "    }\n",
       "\n",
       "    .dataframe tbody tr th {\n",
       "        vertical-align: top;\n",
       "    }\n",
       "\n",
       "    .dataframe thead th {\n",
       "        text-align: right;\n",
       "    }\n",
       "</style>\n",
       "<table border=\"1\" class=\"dataframe\">\n",
       "  <thead>\n",
       "    <tr style=\"text-align: right;\">\n",
       "      <th></th>\n",
       "      <th>DEPARTAMENTO</th>\n",
       "      <th>MUNICIPIO</th>\n",
       "      <th>CODIGO DANE</th>\n",
       "      <th>CANTIDAD</th>\n",
       "      <th>HABITANTES</th>\n",
       "      <th>CASOS x 100.000 HABITANTES</th>\n",
       "    </tr>\n",
       "  </thead>\n",
       "  <tbody>\n",
       "    <tr>\n",
       "      <th>0</th>\n",
       "      <td>ANTIOQUIA</td>\n",
       "      <td>MEDELLÍN</td>\n",
       "      <td>5001</td>\n",
       "      <td>111854</td>\n",
       "      <td>2612958</td>\n",
       "      <td>4280.742362</td>\n",
       "    </tr>\n",
       "    <tr>\n",
       "      <th>1</th>\n",
       "      <td>ATLÁNTICO</td>\n",
       "      <td>BARRANQUILLA</td>\n",
       "      <td>8001</td>\n",
       "      <td>35539</td>\n",
       "      <td>1312473</td>\n",
       "      <td>2707.789036</td>\n",
       "    </tr>\n",
       "    <tr>\n",
       "      <th>2</th>\n",
       "      <td>BOLÍVAR</td>\n",
       "      <td>CARTAGENA</td>\n",
       "      <td>13001</td>\n",
       "      <td>21899</td>\n",
       "      <td>1055035</td>\n",
       "      <td>2075.665736</td>\n",
       "    </tr>\n",
       "    <tr>\n",
       "      <th>3</th>\n",
       "      <td>CUNDINAMARCA</td>\n",
       "      <td>BOGOTÁ D.C.</td>\n",
       "      <td>11001</td>\n",
       "      <td>257298</td>\n",
       "      <td>7901653</td>\n",
       "      <td>3256.255368</td>\n",
       "    </tr>\n",
       "    <tr>\n",
       "      <th>4</th>\n",
       "      <td>VALLE</td>\n",
       "      <td>CALI</td>\n",
       "      <td>76001</td>\n",
       "      <td>98594</td>\n",
       "      <td>2280907</td>\n",
       "      <td>4322.578693</td>\n",
       "    </tr>\n",
       "  </tbody>\n",
       "</table>\n",
       "</div>"
      ],
      "text/plain": [
       "   DEPARTAMENTO     MUNICIPIO  CODIGO DANE  CANTIDAD  HABITANTES  \\\n",
       "0     ANTIOQUIA      MEDELLÍN         5001    111854     2612958   \n",
       "1     ATLÁNTICO  BARRANQUILLA         8001     35539     1312473   \n",
       "2       BOLÍVAR     CARTAGENA        13001     21899     1055035   \n",
       "3  CUNDINAMARCA   BOGOTÁ D.C.        11001    257298     7901653   \n",
       "4         VALLE          CALI        76001     98594     2280907   \n",
       "\n",
       "   CASOS x 100.000 HABITANTES  \n",
       "0                 4280.742362  \n",
       "1                 2707.789036  \n",
       "2                 2075.665736  \n",
       "3                 3256.255368  \n",
       "4                 4322.578693  "
      ]
     },
     "execution_count": 231,
     "metadata": {},
     "output_type": "execute_result"
    }
   ],
   "source": [
    "##Visualizar el dataframe con la cantidad de habitantes\n",
    "df_new"
   ]
  },
  {
   "cell_type": "code",
   "execution_count": 232,
   "id": "183582a7-ff60-44ff-b05c-8d6616478544",
   "metadata": {},
   "outputs": [],
   "source": [
    "##Crear una nueva columna para normalizar la cantidad de casos por cada 100.000 habitantes\n",
    "df_new['CASOS x 100.000 HABITANTES']=(df_new['CANTIDAD']/df_new['HABITANTES'])*100000"
   ]
  },
  {
   "cell_type": "code",
   "execution_count": 234,
   "id": "f1bdb824-2a6f-4146-b566-06b838748e81",
   "metadata": {},
   "outputs": [
    {
     "data": {
      "text/plain": [
       "3328.606239233275"
      ]
     },
     "execution_count": 234,
     "metadata": {},
     "output_type": "execute_result"
    }
   ],
   "source": [
    "df_new['CASOS x 100.000 HABITANTES'].mean()"
   ]
  },
  {
   "cell_type": "code",
   "execution_count": 233,
   "id": "d8c12597-ca50-4f57-9187-9e42b458891c",
   "metadata": {},
   "outputs": [
    {
     "data": {
      "text/plain": [
       "[Text(0, 0, '4280.74'),\n",
       " Text(0, 0, '2707.79'),\n",
       " Text(0, 0, '2075.67'),\n",
       " Text(0, 0, '3256.26'),\n",
       " Text(0, 0, '4322.58')]"
      ]
     },
     "execution_count": 233,
     "metadata": {},
     "output_type": "execute_result"
    },
    {
     "data": {
      "text/plain": [
       "<Figure size 2160x1440 with 0 Axes>"
      ]
     },
     "metadata": {},
     "output_type": "display_data"
    },
    {
     "data": {
      "image/png": "[encoded data removed]",
      "text/plain": [
       "<Figure size 432x288 with 1 Axes>"
      ]
     },
     "metadata": {
      "needs_background": "light"
     },
     "output_type": "display_data"
    }
   ],
   "source": [
    "##Visualizando graficamente la cantidad de casos por cada 100.000 habitantes\n",
    "plt.figure(figsize = (30, 20))\n",
    "graph = df_new.plot.bar(x='MUNICIPIO', y='CASOS x 100.000 HABITANTES', rot=0)\n",
    "graph.bar_label(graph.containers[0])"
   ]
  }
 ],
 "metadata": {
  "kernelspec": {
   "display_name": "Python 3 (ipykernel)",
   "language": "python",
   "name": "python3"
  },
  "language_info": {
   "codemirror_mode": {
    "name": "ipython",
    "version": 3
   },
   "file_extension": ".py",
   "mimetype": "text/x-python",
   "name": "python",
   "nbconvert_exporter": "python",
   "pygments_lexer": "ipython3",
   "version": "3.9.12"
  }
 },
 "nbformat": 4,
 "nbformat_minor": 5
}
