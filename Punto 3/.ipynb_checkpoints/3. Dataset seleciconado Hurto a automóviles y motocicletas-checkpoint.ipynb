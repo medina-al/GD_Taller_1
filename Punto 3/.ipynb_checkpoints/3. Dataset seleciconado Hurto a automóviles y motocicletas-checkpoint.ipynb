{
 "cells": [
  {
   "cell_type": "code",
   "execution_count": 1,
   "id": "fc51eeb5",
   "metadata": {},
   "outputs": [],
   "source": [
    "##Importar las librerías requeridas para el análisis\n",
    "import numpy as np\n",
    "import pandas as pd\n",
    "\n",
    "import matplotlib.pyplot as plt\n",
    "\n",
    "%matplotlib inline"
   ]
  },
  {
   "cell_type": "code",
   "execution_count": 2,
   "id": "819a60c6",
   "metadata": {},
   "outputs": [],
   "source": [
    "##Definir tamaño máximo de filas a mostrar\n",
    "pd.set_option('display.max_rows', 100)"
   ]
  },
  {
   "cell_type": "code",
   "execution_count": 3,
   "id": "b53ca252",
   "metadata": {},
   "outputs": [],
   "source": [
    "##Importar el dataset del CSV\n",
    "automotores_df = pd.read_csv('../data/hurto_motocicletasV2.csv')"
   ]
  },
  {
   "cell_type": "code",
   "execution_count": 4,
   "id": "49cbe4e9",
   "metadata": {},
   "outputs": [
    {
     "data": {
      "text/html": [
       "<div>\n",
       "<style scoped>\n",
       "    .dataframe tbody tr th:only-of-type {\n",
       "        vertical-align: middle;\n",
       "    }\n",
       "\n",
       "    .dataframe tbody tr th {\n",
       "        vertical-align: top;\n",
       "    }\n",
       "\n",
       "    .dataframe thead th {\n",
       "        text-align: right;\n",
       "    }\n",
       "</style>\n",
       "<table border=\"1\" class=\"dataframe\">\n",
       "  <thead>\n",
       "    <tr style=\"text-align: right;\">\n",
       "      <th></th>\n",
       "      <th>DEPARTAMENTO</th>\n",
       "      <th>MUNICIPIO</th>\n",
       "      <th>CODIGO DANE</th>\n",
       "      <th>ARMAS MEDIOS</th>\n",
       "      <th>FECHA HECHO</th>\n",
       "      <th>GENERO</th>\n",
       "      <th>GRUPO ETARIO</th>\n",
       "      <th>TIPO DE HURTO</th>\n",
       "      <th>CANTIDAD</th>\n",
       "    </tr>\n",
       "  </thead>\n",
       "  <tbody>\n",
       "    <tr>\n",
       "      <th>0</th>\n",
       "      <td>ANTIOQUIA</td>\n",
       "      <td>MEDELLÍN</td>\n",
       "      <td>5001</td>\n",
       "      <td>ARMA DE FUEGO</td>\n",
       "      <td>1/01/2010</td>\n",
       "      <td>NO APLICA</td>\n",
       "      <td>NO APLICA</td>\n",
       "      <td>HURTO AUTOMOTORES</td>\n",
       "      <td>1</td>\n",
       "    </tr>\n",
       "    <tr>\n",
       "      <th>1</th>\n",
       "      <td>ANTIOQUIA</td>\n",
       "      <td>OPACABANA</td>\n",
       "      <td>5212</td>\n",
       "      <td>LLAVE MAESTRA</td>\n",
       "      <td>1/01/2010</td>\n",
       "      <td>NO APLICA</td>\n",
       "      <td>NO APLICA</td>\n",
       "      <td>HURTO AUTOMOTORES</td>\n",
       "      <td>1</td>\n",
       "    </tr>\n",
       "    <tr>\n",
       "      <th>2</th>\n",
       "      <td>ANTIOQUIA</td>\n",
       "      <td>MEDELLÍN</td>\n",
       "      <td>5001</td>\n",
       "      <td>LLAVE MAESTRA</td>\n",
       "      <td>1/01/2010</td>\n",
       "      <td>NO APLICA</td>\n",
       "      <td>NO APLICA</td>\n",
       "      <td>HURTO AUTOMOTORES</td>\n",
       "      <td>1</td>\n",
       "    </tr>\n",
       "    <tr>\n",
       "      <th>3</th>\n",
       "      <td>CUNDINAMARCA</td>\n",
       "      <td>BOGOTÁ D.C.</td>\n",
       "      <td>11001</td>\n",
       "      <td>LLAVE MAESTRA</td>\n",
       "      <td>1/01/2010</td>\n",
       "      <td>NO APLICA</td>\n",
       "      <td>NO APLICA</td>\n",
       "      <td>HURTO AUTOMOTORES</td>\n",
       "      <td>1</td>\n",
       "    </tr>\n",
       "    <tr>\n",
       "      <th>4</th>\n",
       "      <td>VALLE</td>\n",
       "      <td>ALI</td>\n",
       "      <td>76001</td>\n",
       "      <td>LLAVE MAESTRA</td>\n",
       "      <td>1/01/2010</td>\n",
       "      <td>NO APLICA</td>\n",
       "      <td>NO APLICA</td>\n",
       "      <td>HURTO AUTOMOTORES</td>\n",
       "      <td>1</td>\n",
       "    </tr>\n",
       "  </tbody>\n",
       "</table>\n",
       "</div>"
      ],
      "text/plain": [
       "   DEPARTAMENTO     MUNICIPIO  CODIGO DANE   ARMAS MEDIOS FECHA HECHO  \\\n",
       "0     ANTIOQUIA     MEDELLÍN          5001  ARMA DE FUEGO   1/01/2010   \n",
       "1     ANTIOQUIA     OPACABANA         5212  LLAVE MAESTRA   1/01/2010   \n",
       "2     ANTIOQUIA     MEDELLÍN          5001  LLAVE MAESTRA   1/01/2010   \n",
       "3  CUNDINAMARCA  BOGOTÁ D.C.         11001  LLAVE MAESTRA   1/01/2010   \n",
       "4         VALLE          ALI         76001  LLAVE MAESTRA   1/01/2010   \n",
       "\n",
       "      GENERO GRUPO ETARIO      TIPO DE HURTO  CANTIDAD  \n",
       "0  NO APLICA    NO APLICA  HURTO AUTOMOTORES         1  \n",
       "1  NO APLICA    NO APLICA  HURTO AUTOMOTORES         1  \n",
       "2  NO APLICA    NO APLICA  HURTO AUTOMOTORES         1  \n",
       "3  NO APLICA    NO APLICA  HURTO AUTOMOTORES         1  \n",
       "4  NO APLICA    NO APLICA  HURTO AUTOMOTORES         1  "
      ]
     },
     "execution_count": 4,
     "metadata": {},
     "output_type": "execute_result"
    }
   ],
   "source": [
    "#Visualizamos un parte del dataset\n",
    "automotores_df.head()"
   ]
  }
 ],
 "metadata": {
  "kernelspec": {
   "display_name": "Python 3 (ipykernel)",
   "language": "python",
   "name": "python3"
  },
  "language_info": {
   "codemirror_mode": {
    "name": "ipython",
    "version": 3
   },
   "file_extension": ".py",
   "mimetype": "text/x-python",
   "name": "python",
   "nbconvert_exporter": "python",
   "pygments_lexer": "ipython3",
   "version": "3.9.12"
  }
 },
 "nbformat": 4,
 "nbformat_minor": 5
}
