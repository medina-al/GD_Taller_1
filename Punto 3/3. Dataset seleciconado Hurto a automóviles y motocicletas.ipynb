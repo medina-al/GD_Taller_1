{
 "cells": [
  {
   "cell_type": "code",
   "execution_count": 1,
   "id": "f140d3e2",
   "metadata": {},
   "outputs": [],
   "source": [
    "##Importar las librerías requeridas para el análisis\n",
    "import numpy as np\n",
    "import pandas as pd\n",
    "\n",
    "import matplotlib.pyplot as plt\n",
    "\n",
    "%matplotlib inline"
   ]
  },
  {
   "cell_type": "code",
   "execution_count": 2,
   "id": "79ad2b1d",
   "metadata": {},
   "outputs": [],
   "source": [
    "##Definir tamaño máximo de filas a mostrar\n",
    "pd.set_option('display.max_rows', 100)"
   ]
  },
  {
   "cell_type": "code",
   "execution_count": 3,
   "id": "df54659d",
   "metadata": {},
   "outputs": [],
   "source": [
    "##Importar el dataset del CSV\n",
    "automotores_df = pd.read_csv('../data/hurto_motocicletasV2.csv')"
   ]
  },
  {
   "cell_type": "code",
   "execution_count": 24,
   "id": "f5f35a4b",
   "metadata": {},
   "outputs": [],
   "source": [
    "##Importar el dataset de la población\n",
    "poblacion_df = pd.read_csv('../data/poblacion.csv')"
   ]
  },
  {
   "cell_type": "code",
   "execution_count": 4,
   "id": "63e1c90d",
   "metadata": {},
   "outputs": [
    {
     "data": {
      "text/html": [
       "<div>\n",
       "<style scoped>\n",
       "    .dataframe tbody tr th:only-of-type {\n",
       "        vertical-align: middle;\n",
       "    }\n",
       "\n",
       "    .dataframe tbody tr th {\n",
       "        vertical-align: top;\n",
       "    }\n",
       "\n",
       "    .dataframe thead th {\n",
       "        text-align: right;\n",
       "    }\n",
       "</style>\n",
       "<table border=\"1\" class=\"dataframe\">\n",
       "  <thead>\n",
       "    <tr style=\"text-align: right;\">\n",
       "      <th></th>\n",
       "      <th>DEPARTAMENTO</th>\n",
       "      <th>MUNICIPIO</th>\n",
       "      <th>CODIGO DANE</th>\n",
       "      <th>ARMAS MEDIOS</th>\n",
       "      <th>FECHA HECHO</th>\n",
       "      <th>GENERO</th>\n",
       "      <th>GRUPO ETARIO</th>\n",
       "      <th>TIPO DE HURTO</th>\n",
       "      <th>CANTIDAD</th>\n",
       "    </tr>\n",
       "  </thead>\n",
       "  <tbody>\n",
       "    <tr>\n",
       "      <th>0</th>\n",
       "      <td>ANTIOQUIA</td>\n",
       "      <td>MEDELLÍN</td>\n",
       "      <td>5001</td>\n",
       "      <td>ARMA DE FUEGO</td>\n",
       "      <td>1/01/2010</td>\n",
       "      <td>NO APLICA</td>\n",
       "      <td>NO APLICA</td>\n",
       "      <td>HURTO AUTOMOTORES</td>\n",
       "      <td>1</td>\n",
       "    </tr>\n",
       "    <tr>\n",
       "      <th>1</th>\n",
       "      <td>ANTIOQUIA</td>\n",
       "      <td>OPACABANA</td>\n",
       "      <td>5212</td>\n",
       "      <td>LLAVE MAESTRA</td>\n",
       "      <td>1/01/2010</td>\n",
       "      <td>NO APLICA</td>\n",
       "      <td>NO APLICA</td>\n",
       "      <td>HURTO AUTOMOTORES</td>\n",
       "      <td>1</td>\n",
       "    </tr>\n",
       "    <tr>\n",
       "      <th>2</th>\n",
       "      <td>ANTIOQUIA</td>\n",
       "      <td>MEDELLÍN</td>\n",
       "      <td>5001</td>\n",
       "      <td>LLAVE MAESTRA</td>\n",
       "      <td>1/01/2010</td>\n",
       "      <td>NO APLICA</td>\n",
       "      <td>NO APLICA</td>\n",
       "      <td>HURTO AUTOMOTORES</td>\n",
       "      <td>1</td>\n",
       "    </tr>\n",
       "    <tr>\n",
       "      <th>3</th>\n",
       "      <td>CUNDINAMARCA</td>\n",
       "      <td>BOGOTÁ D.C.</td>\n",
       "      <td>11001</td>\n",
       "      <td>LLAVE MAESTRA</td>\n",
       "      <td>1/01/2010</td>\n",
       "      <td>NO APLICA</td>\n",
       "      <td>NO APLICA</td>\n",
       "      <td>HURTO AUTOMOTORES</td>\n",
       "      <td>1</td>\n",
       "    </tr>\n",
       "    <tr>\n",
       "      <th>4</th>\n",
       "      <td>VALLE</td>\n",
       "      <td>ALI</td>\n",
       "      <td>76001</td>\n",
       "      <td>LLAVE MAESTRA</td>\n",
       "      <td>1/01/2010</td>\n",
       "      <td>NO APLICA</td>\n",
       "      <td>NO APLICA</td>\n",
       "      <td>HURTO AUTOMOTORES</td>\n",
       "      <td>1</td>\n",
       "    </tr>\n",
       "  </tbody>\n",
       "</table>\n",
       "</div>"
      ],
      "text/plain": [
       "   DEPARTAMENTO     MUNICIPIO  CODIGO DANE   ARMAS MEDIOS FECHA HECHO  \\\n",
       "0     ANTIOQUIA     MEDELLÍN          5001  ARMA DE FUEGO   1/01/2010   \n",
       "1     ANTIOQUIA     OPACABANA         5212  LLAVE MAESTRA   1/01/2010   \n",
       "2     ANTIOQUIA     MEDELLÍN          5001  LLAVE MAESTRA   1/01/2010   \n",
       "3  CUNDINAMARCA  BOGOTÁ D.C.         11001  LLAVE MAESTRA   1/01/2010   \n",
       "4         VALLE          ALI         76001  LLAVE MAESTRA   1/01/2010   \n",
       "\n",
       "      GENERO GRUPO ETARIO      TIPO DE HURTO  CANTIDAD  \n",
       "0  NO APLICA    NO APLICA  HURTO AUTOMOTORES         1  \n",
       "1  NO APLICA    NO APLICA  HURTO AUTOMOTORES         1  \n",
       "2  NO APLICA    NO APLICA  HURTO AUTOMOTORES         1  \n",
       "3  NO APLICA    NO APLICA  HURTO AUTOMOTORES         1  \n",
       "4  NO APLICA    NO APLICA  HURTO AUTOMOTORES         1  "
      ]
     },
     "execution_count": 4,
     "metadata": {},
     "output_type": "execute_result"
    }
   ],
   "source": [
    "#Visualizamos un parte del dataset\n",
    "automotores_df.head()"
   ]
  },
  {
   "cell_type": "code",
   "execution_count": 25,
   "id": "a0b94889",
   "metadata": {},
   "outputs": [
    {
     "data": {
      "text/html": [
       "<div>\n",
       "<style scoped>\n",
       "    .dataframe tbody tr th:only-of-type {\n",
       "        vertical-align: middle;\n",
       "    }\n",
       "\n",
       "    .dataframe tbody tr th {\n",
       "        vertical-align: top;\n",
       "    }\n",
       "\n",
       "    .dataframe thead th {\n",
       "        text-align: right;\n",
       "    }\n",
       "</style>\n",
       "<table border=\"1\" class=\"dataframe\">\n",
       "  <thead>\n",
       "    <tr style=\"text-align: right;\">\n",
       "      <th></th>\n",
       "      <th>DEPARTAMENTO</th>\n",
       "      <th>POBLACIÓN</th>\n",
       "    </tr>\n",
       "  </thead>\n",
       "  <tbody>\n",
       "    <tr>\n",
       "      <th>0</th>\n",
       "      <td>AMAZONAS</td>\n",
       "      <td>48144</td>\n",
       "    </tr>\n",
       "    <tr>\n",
       "      <th>1</th>\n",
       "      <td>ANTIOQUIA</td>\n",
       "      <td>2427129</td>\n",
       "    </tr>\n",
       "    <tr>\n",
       "      <th>2</th>\n",
       "      <td>ARAUCA</td>\n",
       "      <td>85585</td>\n",
       "    </tr>\n",
       "    <tr>\n",
       "      <th>3</th>\n",
       "      <td>ATLÁNTICO</td>\n",
       "      <td>1206319</td>\n",
       "    </tr>\n",
       "    <tr>\n",
       "      <th>4</th>\n",
       "      <td>BOLÍVAR</td>\n",
       "      <td>973045</td>\n",
       "    </tr>\n",
       "  </tbody>\n",
       "</table>\n",
       "</div>"
      ],
      "text/plain": [
       "  DEPARTAMENTO  POBLACIÓN\n",
       "0     AMAZONAS      48144\n",
       "1    ANTIOQUIA    2427129\n",
       "2       ARAUCA      85585\n",
       "3    ATLÁNTICO    1206319\n",
       "4      BOLÍVAR     973045"
      ]
     },
     "execution_count": 25,
     "metadata": {},
     "output_type": "execute_result"
    }
   ],
   "source": [
    "#Visualizamos un parte del dataset\n",
    "poblacion_df.head()"
   ]
  },
  {
   "cell_type": "code",
   "execution_count": 13,
   "id": "e97c1dfc",
   "metadata": {},
   "outputs": [
    {
     "data": {
      "text/plain": [
       "0         2010\n",
       "1         2010\n",
       "2         2010\n",
       "3         2010\n",
       "4         2010\n",
       "          ... \n",
       "276799    2022\n",
       "276800    2022\n",
       "276801    2022\n",
       "276802    2022\n",
       "276803    2022\n",
       "Name: FECHA HECHO, Length: 276804, dtype: int64"
      ]
     },
     "execution_count": 13,
     "metadata": {},
     "output_type": "execute_result"
    }
   ],
   "source": [
    "##Cambiar el formato de las fechas\n",
    "automotores_df['FECHA HECHO'] = pd.to_datetime(automotores_df['FECHA HECHO'], format = '%d/%m/%Y')"
   ]
  },
  {
   "cell_type": "code",
   "execution_count": 47,
   "id": "13dc1371",
   "metadata": {},
   "outputs": [],
   "source": [
    "##Dejar en el dataframe solamente los casos de los departamentos de los últimos 5 años\n",
    "automotores_df['FECHA HECHO'] = pd.to_datetime(automotores_df['FECHA HECHO'], format = '%d/%m/%Y')\n",
    "automotores_df.drop(automotores_df[automotores_df['FECHA HECHO'].dt.year > 2017].index, inplace = True)"
   ]
  },
  {
   "cell_type": "code",
   "execution_count": 74,
   "id": "beb6e80e",
   "metadata": {},
   "outputs": [],
   "source": [
    "#Creamos un nuevo dataframe con el historico de hace 5 años\n",
    "automotores2_df = automotores_df.groupby(['DEPARTAMENTO']).agg({'CANTIDAD':'sum'}).reset_index()"
   ]
  },
  {
   "cell_type": "code",
   "execution_count": 76,
   "id": "15b5c9f3",
   "metadata": {},
   "outputs": [],
   "source": [
    "#Verificamos el nuevo dataset\n",
    "automotores2_df = automotores2_df.sort_values(by=['CANTIDAD'], ascending=False).head(5)"
   ]
  },
  {
   "cell_type": "code",
   "execution_count": 77,
   "id": "7791150c",
   "metadata": {},
   "outputs": [],
   "source": [
    "#Función para devolver la cantidad de habitantes en un departamento a partir del nombre\n",
    "def get_population(code):\n",
    "    hab = poblacion_df.loc[poblacion_df['DEPARTAMENTO']==code,['POBLACIÓN']]\n",
    "    if hab.empty:\n",
    "        return 0\n",
    "    else:\n",
    "        return hab.iloc[0]['POBLACIÓN']"
   ]
  },
  {
   "cell_type": "code",
   "execution_count": 78,
   "id": "3599fe4e",
   "metadata": {},
   "outputs": [],
   "source": [
    "#Crear una nueva columna en el dataframe para almacenar la cantidad de habitantes aplicando la función que los retorna\n",
    "automotores2_df['HABITANTES'] = automotores2_df['DEPARTAMENTO'].apply(get_population)"
   ]
  },
  {
   "cell_type": "code",
   "execution_count": 79,
   "id": "c4730c73",
   "metadata": {},
   "outputs": [],
   "source": [
    "automotores2_df['Percapita'] = automotores2_df['CANTIDAD']/automotores2_df['HABITANTES']"
   ]
  },
  {
   "cell_type": "code",
   "execution_count": 81,
   "id": "9466b375",
   "metadata": {},
   "outputs": [],
   "source": [
    "##Crear una nueva columna para normalizar la cantidad de casos por cada 100.000 habitantes\n",
    "automotores2_df['Percapita']=(automotores2_df['CANTIDAD']/automotores2_df['HABITANTES'])*100000"
   ]
  },
  {
   "cell_type": "code",
   "execution_count": 84,
   "id": "e9251aa7",
   "metadata": {},
   "outputs": [
    {
     "data": {
      "text/plain": [
       "<AxesSubplot:ylabel='DEPARTAMENTO'>"
      ]
     },
     "execution_count": 84,
     "metadata": {},
     "output_type": "execute_result"
    },
    {
     "data": {
      "image/png": "[encoded data removed]",
      "text/plain": [
       "<Figure size 432x288 with 1 Axes>"
      ]
     },
     "metadata": {
      "needs_background": "light"
     },
     "output_type": "display_data"
    }
   ],
   "source": [
    "#Se visualiza el comportamiento de los hurtos cometidos durante los últimos 5 años categorizado por año\n",
    "aux = automotores2_df.groupby(automotores2_df['DEPARTAMENTO'])['Percapita'].sum().sort_values()\n",
    "aux.plot(kind='barh')"
   ]
  }
 ],
 "metadata": {
  "kernelspec": {
   "display_name": "Python 3 (ipykernel)",
   "language": "python",
   "name": "python3"
  },
  "language_info": {
   "codemirror_mode": {
    "name": "ipython",
    "version": 3
   },
   "file_extension": ".py",
   "mimetype": "text/x-python",
   "name": "python",
   "nbconvert_exporter": "python",
   "pygments_lexer": "ipython3",
   "version": "3.9.12"
  }
 },
 "nbformat": 4,
 "nbformat_minor": 5
}
