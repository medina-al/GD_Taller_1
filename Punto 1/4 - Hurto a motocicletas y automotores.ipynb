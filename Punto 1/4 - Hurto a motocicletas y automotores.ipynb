{
 "cells": [
  {
   "cell_type": "markdown",
   "id": "4d0b216c",
   "metadata": {},
   "source": [
    "### 1. Aspectos más relevantes encontrados en el dataset de hurto motocicletas y automores"
   ]
  },
  {
   "cell_type": "code",
   "execution_count": 2,
   "id": "3b05e6a2-89be-47dc-a694-60770106746f",
   "metadata": {},
   "outputs": [],
   "source": [
    "##Importar las librerías requeridas para el análisis\n",
    "import numpy as np\n",
    "import pandas as pd\n",
    "\n",
    "import matplotlib.pyplot as plt\n",
    "\n",
    "%matplotlib inline"
   ]
  },
  {
   "cell_type": "code",
   "execution_count": 3,
   "id": "4e374108-1d4c-4196-a3f7-9cb28a635db0",
   "metadata": {},
   "outputs": [],
   "source": [
    "##Definir tamaño máximo de filas a mostrar\n",
    "pd.set_option('display.max_rows', 100)"
   ]
  },
  {
   "cell_type": "code",
   "execution_count": 3,
   "id": "82186d4c-a126-4b2c-b26c-1a2a089c5116",
   "metadata": {},
   "outputs": [],
   "source": [
    "##Importar el dataset del CSV\n",
    "automores_df = pd.read_csv('../data/hurto_motocicletas.csv', low_memory = False)"
   ]
  },
  {
   "cell_type": "code",
   "execution_count": 4,
   "id": "48c9173b-15fd-4fa6-8e65-63831ebf5559",
   "metadata": {},
   "outputs": [
    {
     "data": {
      "text/html": [
       "<div>\n",
       "<style scoped>\n",
       "    .dataframe tbody tr th:only-of-type {\n",
       "        vertical-align: middle;\n",
       "    }\n",
       "\n",
       "    .dataframe tbody tr th {\n",
       "        vertical-align: top;\n",
       "    }\n",
       "\n",
       "    .dataframe thead th {\n",
       "        text-align: right;\n",
       "    }\n",
       "</style>\n",
       "<table border=\"1\" class=\"dataframe\">\n",
       "  <thead>\n",
       "    <tr style=\"text-align: right;\">\n",
       "      <th></th>\n",
       "      <th>DEPARTAMENTO</th>\n",
       "      <th>MUNICIPIO</th>\n",
       "      <th>CODIGO DANE</th>\n",
       "      <th>ARMAS MEDIOS</th>\n",
       "      <th>FECHA HECHO</th>\n",
       "      <th>GENERO</th>\n",
       "      <th>GRUPO ETARIO</th>\n",
       "      <th>TIPO DE HURTO</th>\n",
       "      <th>CANTIDAD</th>\n",
       "    </tr>\n",
       "  </thead>\n",
       "  <tbody>\n",
       "    <tr>\n",
       "      <th>0</th>\n",
       "      <td>ANTIOQUIA</td>\n",
       "      <td>MEDELLÍN (CT)</td>\n",
       "      <td>5001000</td>\n",
       "      <td>ARMA DE FUEGO</td>\n",
       "      <td>1/01/2010</td>\n",
       "      <td>NO APLICA</td>\n",
       "      <td>NO APLICA</td>\n",
       "      <td>HURTO AUTOMOTORES</td>\n",
       "      <td>1</td>\n",
       "    </tr>\n",
       "    <tr>\n",
       "      <th>1</th>\n",
       "      <td>ANTIOQUIA</td>\n",
       "      <td>COPACABANA</td>\n",
       "      <td>5212000</td>\n",
       "      <td>LLAVE MAESTRA</td>\n",
       "      <td>1/01/2010</td>\n",
       "      <td>NO APLICA</td>\n",
       "      <td>NO APLICA</td>\n",
       "      <td>HURTO AUTOMOTORES</td>\n",
       "      <td>1</td>\n",
       "    </tr>\n",
       "    <tr>\n",
       "      <th>2</th>\n",
       "      <td>ANTIOQUIA</td>\n",
       "      <td>MEDELLÍN (CT)</td>\n",
       "      <td>5001000</td>\n",
       "      <td>LLAVE MAESTRA</td>\n",
       "      <td>1/01/2010</td>\n",
       "      <td>NO APLICA</td>\n",
       "      <td>NO APLICA</td>\n",
       "      <td>HURTO AUTOMOTORES</td>\n",
       "      <td>1</td>\n",
       "    </tr>\n",
       "    <tr>\n",
       "      <th>3</th>\n",
       "      <td>CUNDINAMARCA</td>\n",
       "      <td>BOGOTÁ D.C. (CT)</td>\n",
       "      <td>11001000</td>\n",
       "      <td>LLAVE MAESTRA</td>\n",
       "      <td>1/01/2010</td>\n",
       "      <td>NO APLICA</td>\n",
       "      <td>NO APLICA</td>\n",
       "      <td>HURTO AUTOMOTORES</td>\n",
       "      <td>1</td>\n",
       "    </tr>\n",
       "    <tr>\n",
       "      <th>4</th>\n",
       "      <td>VALLE</td>\n",
       "      <td>CALI (CT)</td>\n",
       "      <td>76001000</td>\n",
       "      <td>LLAVE MAESTRA</td>\n",
       "      <td>1/01/2010</td>\n",
       "      <td>NO APLICA</td>\n",
       "      <td>NO APLICA</td>\n",
       "      <td>HURTO AUTOMOTORES</td>\n",
       "      <td>1</td>\n",
       "    </tr>\n",
       "    <tr>\n",
       "      <th>...</th>\n",
       "      <td>...</td>\n",
       "      <td>...</td>\n",
       "      <td>...</td>\n",
       "      <td>...</td>\n",
       "      <td>...</td>\n",
       "      <td>...</td>\n",
       "      <td>...</td>\n",
       "      <td>...</td>\n",
       "      <td>...</td>\n",
       "    </tr>\n",
       "    <tr>\n",
       "      <th>298395</th>\n",
       "      <td>NARIÑO</td>\n",
       "      <td>IPIALES</td>\n",
       "      <td>52356000</td>\n",
       "      <td>NO REPORTADO</td>\n",
       "      <td>08/04/2022</td>\n",
       "      <td>NO APLICA</td>\n",
       "      <td>NO APLICA</td>\n",
       "      <td>HURTO MOTOCICLETAS</td>\n",
       "      <td>1</td>\n",
       "    </tr>\n",
       "    <tr>\n",
       "      <th>298396</th>\n",
       "      <td>TOLIMA</td>\n",
       "      <td>ESPINAL</td>\n",
       "      <td>73268000</td>\n",
       "      <td>NO REPORTADO</td>\n",
       "      <td>02/04/2022</td>\n",
       "      <td>NO APLICA</td>\n",
       "      <td>NO APLICA</td>\n",
       "      <td>HURTO MOTOCICLETAS</td>\n",
       "      <td>1</td>\n",
       "    </tr>\n",
       "    <tr>\n",
       "      <th>298397</th>\n",
       "      <td>VALLE</td>\n",
       "      <td>GUADALAJARA DE BUGA</td>\n",
       "      <td>76111000</td>\n",
       "      <td>NO REPORTADO</td>\n",
       "      <td>11/02/2022</td>\n",
       "      <td>NO APLICA</td>\n",
       "      <td>NO APLICA</td>\n",
       "      <td>HURTO MOTOCICLETAS</td>\n",
       "      <td>1</td>\n",
       "    </tr>\n",
       "    <tr>\n",
       "      <th>298398</th>\n",
       "      <td>VALLE</td>\n",
       "      <td>SEVILLA</td>\n",
       "      <td>76736000</td>\n",
       "      <td>NO REPORTADO</td>\n",
       "      <td>06/01/2022</td>\n",
       "      <td>NO APLICA</td>\n",
       "      <td>NO APLICA</td>\n",
       "      <td>HURTO MOTOCICLETAS</td>\n",
       "      <td>1</td>\n",
       "    </tr>\n",
       "    <tr>\n",
       "      <th>298399</th>\n",
       "      <td>VALLE</td>\n",
       "      <td>TULUÁ</td>\n",
       "      <td>76834000</td>\n",
       "      <td>NO REPORTADO</td>\n",
       "      <td>11/03/2022</td>\n",
       "      <td>NO APLICA</td>\n",
       "      <td>NO APLICA</td>\n",
       "      <td>HURTO MOTOCICLETAS</td>\n",
       "      <td>1</td>\n",
       "    </tr>\n",
       "  </tbody>\n",
       "</table>\n",
       "<p>298400 rows × 9 columns</p>\n",
       "</div>"
      ],
      "text/plain": [
       "        DEPARTAMENTO            MUNICIPIO  CODIGO DANE   ARMAS MEDIOS  \\\n",
       "0          ANTIOQUIA        MEDELLÍN (CT)      5001000  ARMA DE FUEGO   \n",
       "1          ANTIOQUIA           COPACABANA      5212000  LLAVE MAESTRA   \n",
       "2          ANTIOQUIA        MEDELLÍN (CT)      5001000  LLAVE MAESTRA   \n",
       "3       CUNDINAMARCA     BOGOTÁ D.C. (CT)     11001000  LLAVE MAESTRA   \n",
       "4              VALLE            CALI (CT)     76001000  LLAVE MAESTRA   \n",
       "...              ...                  ...          ...            ...   \n",
       "298395        NARIÑO              IPIALES     52356000   NO REPORTADO   \n",
       "298396        TOLIMA              ESPINAL     73268000   NO REPORTADO   \n",
       "298397         VALLE  GUADALAJARA DE BUGA     76111000   NO REPORTADO   \n",
       "298398         VALLE              SEVILLA     76736000   NO REPORTADO   \n",
       "298399         VALLE                TULUÁ     76834000   NO REPORTADO   \n",
       "\n",
       "       FECHA HECHO     GENERO GRUPO ETARIO       TIPO DE HURTO  CANTIDAD  \n",
       "0        1/01/2010  NO APLICA    NO APLICA   HURTO AUTOMOTORES         1  \n",
       "1        1/01/2010  NO APLICA    NO APLICA   HURTO AUTOMOTORES         1  \n",
       "2        1/01/2010  NO APLICA    NO APLICA   HURTO AUTOMOTORES         1  \n",
       "3        1/01/2010  NO APLICA    NO APLICA   HURTO AUTOMOTORES         1  \n",
       "4        1/01/2010  NO APLICA    NO APLICA   HURTO AUTOMOTORES         1  \n",
       "...            ...        ...          ...                 ...       ...  \n",
       "298395  08/04/2022  NO APLICA    NO APLICA  HURTO MOTOCICLETAS         1  \n",
       "298396  02/04/2022  NO APLICA    NO APLICA  HURTO MOTOCICLETAS         1  \n",
       "298397  11/02/2022  NO APLICA    NO APLICA  HURTO MOTOCICLETAS         1  \n",
       "298398  06/01/2022  NO APLICA    NO APLICA  HURTO MOTOCICLETAS         1  \n",
       "298399  11/03/2022  NO APLICA    NO APLICA  HURTO MOTOCICLETAS         1  \n",
       "\n",
       "[298400 rows x 9 columns]"
      ]
     },
     "execution_count": 4,
     "metadata": {},
     "output_type": "execute_result"
    }
   ],
   "source": [
    "##Validamos la estructura del archivo\n",
    "automores_df"
   ]
  },
  {
   "cell_type": "code",
   "execution_count": 5,
   "id": "b2988b45-b48c-4c08-99fd-55726f0795a9",
   "metadata": {},
   "outputs": [
    {
     "data": {
      "text/plain": [
       "DEPARTAMENTO     object\n",
       "MUNICIPIO        object\n",
       "CODIGO DANE       int64\n",
       "ARMAS MEDIOS     object\n",
       "FECHA HECHO      object\n",
       "GENERO           object\n",
       "GRUPO ETARIO     object\n",
       "TIPO DE HURTO    object\n",
       "CANTIDAD          int64\n",
       "dtype: object"
      ]
     },
     "execution_count": 5,
     "metadata": {},
     "output_type": "execute_result"
    }
   ],
   "source": [
    "##Mostramos el tipo de dato de cada columna\n",
    "automores_df.dtypes"
   ]
  },
  {
   "cell_type": "code",
   "execution_count": 6,
   "id": "6017e4f4",
   "metadata": {},
   "outputs": [
    {
     "data": {
      "text/plain": [
       "array([18, 27,  8, 27, 10,  9,  9, 18,  2])"
      ]
     },
     "execution_count": 6,
     "metadata": {},
     "output_type": "execute_result"
    }
   ],
   "source": [
    "##Calcular la cantidad máxima de caracteres por variable\n",
    "aux = np.vectorize(len)\n",
    "lista = aux(automores_df.values.astype(str)).max(axis=0)\n",
    "lista"
   ]
  },
  {
   "cell_type": "code",
   "execution_count": 7,
   "id": "b1068cc3",
   "metadata": {},
   "outputs": [
    {
     "data": {
      "text/plain": [
       "1.4854825737265416"
      ]
     },
     "execution_count": 7,
     "metadata": {},
     "output_type": "execute_result"
    }
   ],
   "source": [
    "##Calcular la media del campo cantidad\n",
    "automores_df['CANTIDAD'].mean()"
   ]
  },
  {
   "cell_type": "code",
   "execution_count": 9,
   "id": "afc9dfc1",
   "metadata": {},
   "outputs": [
    {
     "data": {
      "text/plain": [
       "DEPARTAMENTO     0\n",
       "MUNICIPIO        0\n",
       "CODIGO DANE      0\n",
       "ARMAS MEDIOS     0\n",
       "FECHA HECHO      0\n",
       "GENERO           0\n",
       "GRUPO ETARIO     0\n",
       "TIPO DE HURTO    0\n",
       "CANTIDAD         0\n",
       "dtype: int64"
      ]
     },
     "execution_count": 9,
     "metadata": {},
     "output_type": "execute_result"
    }
   ],
   "source": [
    "##Validamos el número campos nulos dentro de cada campo\n",
    "automores_df.isnull().sum()"
   ]
  },
  {
   "cell_type": "code",
   "execution_count": 12,
   "id": "1fc60ab3",
   "metadata": {},
   "outputs": [
    {
     "data": {
      "text/html": [
       "<div>\n",
       "<style scoped>\n",
       "    .dataframe tbody tr th:only-of-type {\n",
       "        vertical-align: middle;\n",
       "    }\n",
       "\n",
       "    .dataframe tbody tr th {\n",
       "        vertical-align: top;\n",
       "    }\n",
       "\n",
       "    .dataframe thead th {\n",
       "        text-align: right;\n",
       "    }\n",
       "</style>\n",
       "<table border=\"1\" class=\"dataframe\">\n",
       "  <thead>\n",
       "    <tr style=\"text-align: right;\">\n",
       "      <th></th>\n",
       "      <th>DEPARTAMENTO</th>\n",
       "      <th>MUNICIPIO</th>\n",
       "      <th>CODIGO DANE</th>\n",
       "      <th>ARMAS MEDIOS</th>\n",
       "      <th>FECHA HECHO</th>\n",
       "      <th>GENERO</th>\n",
       "      <th>GRUPO ETARIO</th>\n",
       "      <th>TIPO DE HURTO</th>\n",
       "      <th>CANTIDAD</th>\n",
       "    </tr>\n",
       "  </thead>\n",
       "  <tbody>\n",
       "  </tbody>\n",
       "</table>\n",
       "</div>"
      ],
      "text/plain": [
       "Empty DataFrame\n",
       "Columns: [DEPARTAMENTO, MUNICIPIO, CODIGO DANE, ARMAS MEDIOS, FECHA HECHO, GENERO, GRUPO ETARIO, TIPO DE HURTO, CANTIDAD]\n",
       "Index: []"
      ]
     },
     "execution_count": 12,
     "metadata": {},
     "output_type": "execute_result"
    }
   ],
   "source": [
    "##Verificar si el dataset cuenta con datos duplicados\n",
    "automores_df[automores_df.duplicated(keep=False)]"
   ]
  },
  {
   "cell_type": "code",
   "execution_count": 11,
   "id": "4bbb1835",
   "metadata": {},
   "outputs": [],
   "source": [
    "##Eliminamos los datos duplicados\n",
    "automores_df=automores_df.drop_duplicates()"
   ]
  },
  {
   "cell_type": "code",
   "execution_count": 1,
   "id": "42c709ef",
   "metadata": {},
   "outputs": [
    {
     "ename": "NameError",
     "evalue": "name 'automores_df' is not defined",
     "output_type": "error",
     "traceback": [
      "\u001b[1;31m---------------------------------------------------------------------------\u001b[0m",
      "\u001b[1;31mNameError\u001b[0m                                 Traceback (most recent call last)",
      "Input \u001b[1;32mIn [1]\u001b[0m, in \u001b[0;36m<cell line: 2>\u001b[1;34m()\u001b[0m\n\u001b[0;32m      1\u001b[0m \u001b[38;5;66;03m##Se valida los campos unicos de la columna departamento \u001b[39;00m\n\u001b[1;32m----> 2\u001b[0m \u001b[43mautomores_df\u001b[49m[\u001b[38;5;124m'\u001b[39m\u001b[38;5;124mDEPARTAMENTO\u001b[39m\u001b[38;5;124m'\u001b[39m]\u001b[38;5;241m.\u001b[39munique()\n",
      "\u001b[1;31mNameError\u001b[0m: name 'automores_df' is not defined"
     ]
    }
   ],
   "source": [
    "##Se valida los campos unicos de la columna departamento \n",
    "automores_df['DEPARTAMENTO'].unique()\n"
   ]
  },
  {
   "cell_type": "code",
   "execution_count": null,
   "id": "0168983d",
   "metadata": {},
   "outputs": [],
   "source": [
    "##Se verifica la cantidad de inconsistencias para cada valor de no reportado\n",
    "comercio_df.apply(lambda x: x['DEPARTAMENTO'] == 'NO REPORTADO', axis=1).sum()"
   ]
  },
  {
   "cell_type": "code",
   "execution_count": 33,
   "id": "41715283",
   "metadata": {},
   "outputs": [
    {
     "data": {
      "text/plain": [
       "array(['SAN VICENTE DEL CAGUÁN', 'POPAYÁN (CT)', 'PITALITO', ...,\n",
       "       'ALTO BAUDÓ', 'NO REPORTADO', 'EL CANTÓN DEL SAN PABLO'],\n",
       "      dtype=object)"
      ]
     },
     "execution_count": 33,
     "metadata": {},
     "output_type": "execute_result"
    }
   ],
   "source": [
    "##Se valida los campos unicos de la columna municipio\n",
    "comercio_df['MUNICIPIO'].unique()"
   ]
  },
  {
   "cell_type": "code",
   "execution_count": 34,
   "id": "d5ac0661",
   "metadata": {},
   "outputs": [
    {
     "data": {
      "text/plain": [
       "2"
      ]
     },
     "execution_count": 34,
     "metadata": {},
     "output_type": "execute_result"
    }
   ],
   "source": [
    "##Se verifica la cantidad de inconsistencias para cada valor de no reportado\n",
    "comercio_df.apply(lambda x: x['MUNICIPIO'] == 'NO REPORTADO', axis=1).sum()"
   ]
  },
  {
   "cell_type": "code",
   "execution_count": 39,
   "id": "dedac6f2",
   "metadata": {},
   "outputs": [
    {
     "data": {
      "text/plain": [
       "0        2010-01-01\n",
       "1        2010-01-01\n",
       "2        2010-01-01\n",
       "3        2010-01-01\n",
       "4        2010-01-01\n",
       "            ...    \n",
       "519383   2022-02-28\n",
       "519384   2022-03-30\n",
       "519385   2022-01-12\n",
       "519386   2022-02-21\n",
       "519387   2022-04-30\n",
       "Name: FECHA HECHO, Length: 492967, dtype: datetime64[ns]"
      ]
     },
     "execution_count": 39,
     "metadata": {},
     "output_type": "execute_result"
    }
   ],
   "source": [
    "##Se valida los campos unicos de la columna armas medios\n",
    "comercio_df['ARMAS MEDIOS'].unique()"
   ]
  },
  {
   "cell_type": "code",
   "execution_count": 41,
   "id": "3d39caa3",
   "metadata": {},
   "outputs": [
    {
     "data": {
      "text/plain": [
       "0        2010-01-01\n",
       "1        2010-01-01\n",
       "2        2010-01-01\n",
       "3        2010-01-01\n",
       "4        2010-01-01\n",
       "            ...    \n",
       "519383   2022-02-28\n",
       "519384   2022-03-30\n",
       "519385   2022-01-12\n",
       "519386   2022-02-21\n",
       "519387   2022-04-30\n",
       "Name: FECHA HECHO, Length: 492967, dtype: datetime64[ns]"
      ]
     },
     "execution_count": 41,
     "metadata": {},
     "output_type": "execute_result"
    }
   ],
   "source": [
    "##Se valida el formato de le fecha en el campo fecha_hecho\n",
    "pd.to_datetime(comercio_df['FECHA HECHO'], format='%d/%m/%Y')"
   ]
  },
  {
   "cell_type": "code",
   "execution_count": 48,
   "id": "1dfb2f3b",
   "metadata": {},
   "outputs": [
    {
     "data": {
      "text/plain": [
       "array(['FEMENINO', 'MASCULINO', 'NO REPORTA', 'NO REPORTADO', 'NO APLICA'],\n",
       "      dtype=object)"
      ]
     },
     "execution_count": 48,
     "metadata": {},
     "output_type": "execute_result"
    }
   ],
   "source": [
    "##Se valida los campos unicos de la columna género\n",
    "comercio_df['GENERO'].unique()"
   ]
  },
  {
   "cell_type": "code",
   "execution_count": 49,
   "id": "5be54136",
   "metadata": {},
   "outputs": [
    {
     "data": {
      "text/plain": [
       "array(['ADULTOS', 'ADOLESCENTES', 'NO REPORTA', 'MENORES', nan,\n",
       "       'NO REPORTADO', 'NO APLICA'], dtype=object)"
      ]
     },
     "execution_count": 49,
     "metadata": {},
     "output_type": "execute_result"
    }
   ],
   "source": [
    "##Se valida los campos unicos de la columna grupo etario\n",
    "comercio_df['GRUPO ETARIO'].unique()"
   ]
  },
  {
   "cell_type": "code",
   "execution_count": 51,
   "id": "b232c2dd",
   "metadata": {},
   "outputs": [
    {
     "data": {
      "text/plain": [
       "array(['HURTO RESIDENCIAS', 'HURTO ENTIDADES COMERCIALES'], dtype=object)"
      ]
     },
     "execution_count": 51,
     "metadata": {},
     "output_type": "execute_result"
    }
   ],
   "source": [
    "##Se valida los campos unicos de la columna tipo hurto\n",
    "comercio_df['TIPO DE HURTO'].unique()"
   ]
  }
 ],
 "metadata": {
  "kernelspec": {
   "display_name": "Python 3 (ipykernel)",
   "language": "python",
   "name": "python3"
  },
  "language_info": {
   "codemirror_mode": {
    "name": "ipython",
    "version": 3
   },
   "file_extension": ".py",
   "mimetype": "text/x-python",
   "name": "python",
   "nbconvert_exporter": "python",
   "pygments_lexer": "ipython3",
   "version": "3.9.12"
  }
 },
 "nbformat": 4,
 "nbformat_minor": 5
}
