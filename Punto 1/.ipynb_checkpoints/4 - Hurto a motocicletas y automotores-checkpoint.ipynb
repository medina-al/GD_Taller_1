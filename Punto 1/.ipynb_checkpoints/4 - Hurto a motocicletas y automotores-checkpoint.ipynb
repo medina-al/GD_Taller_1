{
 "cells": [
  {
   "cell_type": "markdown",
   "id": "4d0b216c",
   "metadata": {},
   "source": [
    "### 1. Aspectos más relevantes encontrados en el dataset de hurto motocicletas y automores"
   ]
  },
  {
   "cell_type": "code",
   "execution_count": 1,
   "id": "3b05e6a2-89be-47dc-a694-60770106746f",
   "metadata": {},
   "outputs": [],
   "source": [
    "##Importar las librerías requeridas para el análisis\n",
    "import numpy as np\n",
    "import pandas as pd\n",
    "\n",
    "import matplotlib.pyplot as plt\n",
    "\n",
    "%matplotlib inline"
   ]
  },
  {
   "cell_type": "code",
   "execution_count": 2,
   "id": "4e374108-1d4c-4196-a3f7-9cb28a635db0",
   "metadata": {},
   "outputs": [],
   "source": [
    "##Definir tamaño máximo de filas a mostrar\n",
    "pd.set_option('display.max_rows', 100)"
   ]
  },
  {
   "cell_type": "code",
   "execution_count": null,
   "id": "82186d4c-a126-4b2c-b26c-1a2a089c5116",
   "metadata": {},
   "outputs": [],
   "source": [
    "##Importar el dataset del CSV\n",
    "automores_df = pd.read_csv('../data/hurto_motocicletas.csv', low_memory = False)"
   ]
  },
  {
   "cell_type": "code",
   "execution_count": null,
   "id": "48c9173b-15fd-4fa6-8e65-63831ebf5559",
   "metadata": {},
   "outputs": [],
   "source": [
    "##Validamos la estructura del archivo\n",
    "automores_df"
   ]
  },
  {
   "cell_type": "code",
   "execution_count": null,
   "id": "b2988b45-b48c-4c08-99fd-55726f0795a9",
   "metadata": {},
   "outputs": [],
   "source": [
    "##Mostramos el tipo de dato de cada columna\n",
    "automores_df.dtypes"
   ]
  },
  {
   "cell_type": "code",
   "execution_count": null,
   "id": "6017e4f4",
   "metadata": {},
   "outputs": [],
   "source": [
    "##Calcular la cantidad máxima de caracteres por variable\n",
    "aux = np.vectorize(len)\n",
    "lista = aux(automores_df.values.astype(str)).max(axis=0)\n",
    "lista"
   ]
  },
  {
   "cell_type": "code",
   "execution_count": null,
   "id": "b1068cc3",
   "metadata": {},
   "outputs": [],
   "source": [
    "##Calcular la media del campo cantidad\n",
    "automores_df['CANTIDAD'].mean()"
   ]
  },
  {
   "cell_type": "code",
   "execution_count": null,
   "id": "afc9dfc1",
   "metadata": {},
   "outputs": [],
   "source": [
    "##Validamos el número campos nulos dentro de cada campo\n",
    "automores_df.isnull().sum()"
   ]
  },
  {
   "cell_type": "code",
   "execution_count": null,
   "id": "1fc60ab3",
   "metadata": {},
   "outputs": [],
   "source": [
    "##Verificar si el dataset cuenta con datos duplicados\n",
    "automores_df[automores_df.duplicated(keep=False)]"
   ]
  },
  {
   "cell_type": "code",
   "execution_count": null,
   "id": "4bbb1835",
   "metadata": {},
   "outputs": [],
   "source": [
    "##Eliminamos los datos duplicados\n",
    "automores_df=automores_df.drop_duplicates()"
   ]
  },
  {
   "cell_type": "code",
   "execution_count": null,
   "id": "42c709ef",
   "metadata": {},
   "outputs": [],
   "source": [
    "##Se valida los campos unicos de la columna departamento \n",
    "automores_df['DEPARTAMENTO'].unique()"
   ]
  },
  {
   "cell_type": "code",
   "execution_count": null,
   "id": "41715283",
   "metadata": {},
   "outputs": [],
   "source": [
    "##Se valida los campos unicos de la columna municipio\n",
    "automores_df['MUNICIPIO'].unique()"
   ]
  },
  {
   "cell_type": "code",
   "execution_count": null,
   "id": "05c5755f",
   "metadata": {},
   "outputs": [],
   "source": [
    "##Se elimina caracteres como (CT) para tener una mejor consistencia de los datos\n",
    "automores_df['MUNICIPIO'] = automores_df['MUNICIPIO'].map(lambda x: str(x).lstrip('(CT)').rstrip('(CT)')).astype(object)"
   ]
  },
  {
   "cell_type": "code",
   "execution_count": null,
   "id": "6fca3c95",
   "metadata": {},
   "outputs": [],
   "source": [
    "##Se eliminan los 3 últimos digitos de cada uno de los códigos del DANE\n",
    "def replace_zeros(codigo):\n",
    "    codigo=str(codigo)\n",
    "    codigo=codigo[:-3]\n",
    "    return codigo\n",
    "\n",
    "automores_df['CODIGO DANE'] = automores_df['CODIGO DANE'].apply(replace_zeros)"
   ]
  },
  {
   "cell_type": "code",
   "execution_count": null,
   "id": "dedac6f2",
   "metadata": {},
   "outputs": [],
   "source": [
    "##Se valida los campos unicos de la columna armas medios\n",
    "automores_df['ARMAS MEDIOS'].unique()"
   ]
  },
  {
   "cell_type": "code",
   "execution_count": null,
   "id": "fee579e6",
   "metadata": {},
   "outputs": [],
   "source": [
    "##Se remplaza el valor de No Reportado por No Reporta. Unificar valores del dataset\n",
    "automores_df['ARMAS MEDIOS'] = automores_df['ARMAS MEDIOS'].replace({'NO REPORTADO': 'NO REPORTA'})"
   ]
  },
  {
   "cell_type": "code",
   "execution_count": null,
   "id": "3d39caa3",
   "metadata": {},
   "outputs": [],
   "source": [
    "##Se valida el formato de le fecha en el campo fecha_hecho\n",
    "pd.to_datetime(automores_df['FECHA HECHO'], format='%d/%m/%Y')"
   ]
  },
  {
   "cell_type": "code",
   "execution_count": null,
   "id": "1dfb2f3b",
   "metadata": {},
   "outputs": [],
   "source": [
    "##Se valida los campos unicos de la columna género\n",
    "automores_df['GENERO'].unique()"
   ]
  },
  {
   "cell_type": "code",
   "execution_count": null,
   "id": "5be54136",
   "metadata": {},
   "outputs": [],
   "source": [
    "##Se valida los campos unicos de la columna grupo etario\n",
    "automores_df['GRUPO ETARIO'].unique()"
   ]
  },
  {
   "cell_type": "code",
   "execution_count": null,
   "id": "b232c2dd",
   "metadata": {},
   "outputs": [],
   "source": [
    "##Se valida los campos unicos de la columna tipo hurto\n",
    "automores_df['TIPO DE HURTO'].unique()"
   ]
  },
  {
   "cell_type": "code",
   "execution_count": null,
   "id": "5c2fe855",
   "metadata": {},
   "outputs": [],
   "source": [
    "automores_df.to_csv('../data/hurto_motocicletasV2.csv', index=False)"
   ]
  }
 ],
 "metadata": {
  "kernelspec": {
   "display_name": "Python 3 (ipykernel)",
   "language": "python",
   "name": "python3"
  },
  "language_info": {
   "codemirror_mode": {
    "name": "ipython",
    "version": 3
   },
   "file_extension": ".py",
   "mimetype": "text/x-python",
   "name": "python",
   "nbconvert_exporter": "python",
   "pygments_lexer": "ipython3",
   "version": "3.9.12"
  }
 },
 "nbformat": 4,
 "nbformat_minor": 5
}
