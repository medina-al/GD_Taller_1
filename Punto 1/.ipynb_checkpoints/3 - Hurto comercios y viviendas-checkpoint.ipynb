{
 "cells": [
  {
   "cell_type": "markdown",
   "id": "4d0b216c",
   "metadata": {},
   "source": [
    "### 1. Aspectos más relevantes encontrados en el dataset de hurto a comercio y viviendas"
   ]
  },
  {
   "cell_type": "code",
   "execution_count": null,
   "id": "3b05e6a2-89be-47dc-a694-60770106746f",
   "metadata": {},
   "outputs": [],
   "source": [
    "##Importar las librerías requeridas para el análisis\n",
    "import numpy as np\n",
    "import pandas as pd\n",
    "\n",
    "import matplotlib.pyplot as plt\n",
    "\n",
    "%matplotlib inline"
   ]
  },
  {
   "cell_type": "code",
   "execution_count": 2,
   "id": "4e374108-1d4c-4196-a3f7-9cb28a635db0",
   "metadata": {},
   "outputs": [],
   "source": [
    "##Definir tamaño máximo de filas a mostrar\n",
    "pd.set_option('display.max_rows', 100)"
   ]
  },
  {
   "cell_type": "code",
   "execution_count": 7,
   "id": "82186d4c-a126-4b2c-b26c-1a2a089c5116",
   "metadata": {},
   "outputs": [],
   "source": [
    "##Importar el dataset del CSV\n",
    "comercio_df = pd.read_csv('../data/hurto_comercio.csv', low_memory = False)"
   ]
  },
  {
   "cell_type": "code",
   "execution_count": 8,
   "id": "48c9173b-15fd-4fa6-8e65-63831ebf5559",
   "metadata": {},
   "outputs": [
    {
     "data": {
      "text/html": [
       "<div>\n",
       "<style scoped>\n",
       "    .dataframe tbody tr th:only-of-type {\n",
       "        vertical-align: middle;\n",
       "    }\n",
       "\n",
       "    .dataframe tbody tr th {\n",
       "        vertical-align: top;\n",
       "    }\n",
       "\n",
       "    .dataframe thead th {\n",
       "        text-align: right;\n",
       "    }\n",
       "</style>\n",
       "<table border=\"1\" class=\"dataframe\">\n",
       "  <thead>\n",
       "    <tr style=\"text-align: right;\">\n",
       "      <th></th>\n",
       "      <th>DEPARTAMENTO</th>\n",
       "      <th>MUNICIPIO</th>\n",
       "      <th>CODIGO DANE</th>\n",
       "      <th>ARMAS MEDIOS</th>\n",
       "      <th>FECHA HECHO</th>\n",
       "      <th>GENERO</th>\n",
       "      <th>GRUPO ETARIO</th>\n",
       "      <th>TIPO DE HURTO</th>\n",
       "      <th>CANTIDAD</th>\n",
       "    </tr>\n",
       "  </thead>\n",
       "  <tbody>\n",
       "    <tr>\n",
       "      <th>0</th>\n",
       "      <td>CAQUETÁ</td>\n",
       "      <td>SAN VICENTE DEL CAGUÁN</td>\n",
       "      <td>18753000</td>\n",
       "      <td>ARMA BLANCA / CORTOPUNZANTE</td>\n",
       "      <td>1/01/2010</td>\n",
       "      <td>FEMENINO</td>\n",
       "      <td>ADULTOS</td>\n",
       "      <td>HURTO RESIDENCIAS</td>\n",
       "      <td>1</td>\n",
       "    </tr>\n",
       "    <tr>\n",
       "      <th>1</th>\n",
       "      <td>CAUCA</td>\n",
       "      <td>POPAYÁN (CT)</td>\n",
       "      <td>19001000</td>\n",
       "      <td>ARMA BLANCA / CORTOPUNZANTE</td>\n",
       "      <td>1/01/2010</td>\n",
       "      <td>FEMENINO</td>\n",
       "      <td>ADULTOS</td>\n",
       "      <td>HURTO RESIDENCIAS</td>\n",
       "      <td>2</td>\n",
       "    </tr>\n",
       "    <tr>\n",
       "      <th>2</th>\n",
       "      <td>HUILA</td>\n",
       "      <td>PITALITO</td>\n",
       "      <td>41551000</td>\n",
       "      <td>ARMA DE FUEGO</td>\n",
       "      <td>1/01/2010</td>\n",
       "      <td>MASCULINO</td>\n",
       "      <td>ADULTOS</td>\n",
       "      <td>HURTO RESIDENCIAS</td>\n",
       "      <td>1</td>\n",
       "    </tr>\n",
       "    <tr>\n",
       "      <th>3</th>\n",
       "      <td>VALLE</td>\n",
       "      <td>JAMUNDÍ</td>\n",
       "      <td>76364000</td>\n",
       "      <td>ARMA DE FUEGO</td>\n",
       "      <td>1/01/2010</td>\n",
       "      <td>MASCULINO</td>\n",
       "      <td>ADULTOS</td>\n",
       "      <td>HURTO RESIDENCIAS</td>\n",
       "      <td>1</td>\n",
       "    </tr>\n",
       "    <tr>\n",
       "      <th>4</th>\n",
       "      <td>AMAZONAS</td>\n",
       "      <td>LETICIA (CT)</td>\n",
       "      <td>91001000</td>\n",
       "      <td>CONTUNDENTES</td>\n",
       "      <td>1/01/2010</td>\n",
       "      <td>MASCULINO</td>\n",
       "      <td>ADULTOS</td>\n",
       "      <td>HURTO RESIDENCIAS</td>\n",
       "      <td>1</td>\n",
       "    </tr>\n",
       "    <tr>\n",
       "      <th>...</th>\n",
       "      <td>...</td>\n",
       "      <td>...</td>\n",
       "      <td>...</td>\n",
       "      <td>...</td>\n",
       "      <td>...</td>\n",
       "      <td>...</td>\n",
       "      <td>...</td>\n",
       "      <td>...</td>\n",
       "      <td>...</td>\n",
       "    </tr>\n",
       "    <tr>\n",
       "      <th>519383</th>\n",
       "      <td>MAGDALENA</td>\n",
       "      <td>SANTA MARTA (CT)</td>\n",
       "      <td>47001000</td>\n",
       "      <td>NO REPORTADO</td>\n",
       "      <td>28/02/2022</td>\n",
       "      <td>FEMENINO</td>\n",
       "      <td>ADULTOS</td>\n",
       "      <td>HURTO RESIDENCIAS</td>\n",
       "      <td>1</td>\n",
       "    </tr>\n",
       "    <tr>\n",
       "      <th>519384</th>\n",
       "      <td>SANTANDER</td>\n",
       "      <td>BUCARAMANGA (CT)</td>\n",
       "      <td>68001000</td>\n",
       "      <td>NO REPORTADO</td>\n",
       "      <td>30/03/2022</td>\n",
       "      <td>FEMENINO</td>\n",
       "      <td>ADULTOS</td>\n",
       "      <td>HURTO RESIDENCIAS</td>\n",
       "      <td>1</td>\n",
       "    </tr>\n",
       "    <tr>\n",
       "      <th>519385</th>\n",
       "      <td>SUCRE</td>\n",
       "      <td>MAJAGUAL</td>\n",
       "      <td>70429000</td>\n",
       "      <td>NO REPORTADO</td>\n",
       "      <td>12/01/2022</td>\n",
       "      <td>MASCULINO</td>\n",
       "      <td>ADULTOS</td>\n",
       "      <td>HURTO RESIDENCIAS</td>\n",
       "      <td>1</td>\n",
       "    </tr>\n",
       "    <tr>\n",
       "      <th>519386</th>\n",
       "      <td>SUCRE</td>\n",
       "      <td>SAN LUIS DE SINCÉ</td>\n",
       "      <td>70742000</td>\n",
       "      <td>NO REPORTADO</td>\n",
       "      <td>21/02/2022</td>\n",
       "      <td>MASCULINO</td>\n",
       "      <td>ADULTOS</td>\n",
       "      <td>HURTO RESIDENCIAS</td>\n",
       "      <td>1</td>\n",
       "    </tr>\n",
       "    <tr>\n",
       "      <th>519387</th>\n",
       "      <td>TOLIMA</td>\n",
       "      <td>LÉRIDA</td>\n",
       "      <td>73408000</td>\n",
       "      <td>NO REPORTADO</td>\n",
       "      <td>30/04/2022</td>\n",
       "      <td>FEMENINO</td>\n",
       "      <td>ADULTOS</td>\n",
       "      <td>HURTO RESIDENCIAS</td>\n",
       "      <td>1</td>\n",
       "    </tr>\n",
       "  </tbody>\n",
       "</table>\n",
       "<p>519388 rows × 9 columns</p>\n",
       "</div>"
      ],
      "text/plain": [
       "       DEPARTAMENTO               MUNICIPIO CODIGO DANE  \\\n",
       "0           CAQUETÁ  SAN VICENTE DEL CAGUÁN    18753000   \n",
       "1             CAUCA            POPAYÁN (CT)    19001000   \n",
       "2             HUILA                PITALITO    41551000   \n",
       "3             VALLE                 JAMUNDÍ    76364000   \n",
       "4          AMAZONAS            LETICIA (CT)    91001000   \n",
       "...             ...                     ...         ...   \n",
       "519383    MAGDALENA        SANTA MARTA (CT)    47001000   \n",
       "519384    SANTANDER        BUCARAMANGA (CT)    68001000   \n",
       "519385        SUCRE                MAJAGUAL    70429000   \n",
       "519386        SUCRE       SAN LUIS DE SINCÉ    70742000   \n",
       "519387       TOLIMA                  LÉRIDA    73408000   \n",
       "\n",
       "                       ARMAS MEDIOS FECHA HECHO     GENERO GRUPO ETARIO  \\\n",
       "0       ARMA BLANCA / CORTOPUNZANTE   1/01/2010   FEMENINO      ADULTOS   \n",
       "1       ARMA BLANCA / CORTOPUNZANTE   1/01/2010   FEMENINO      ADULTOS   \n",
       "2                     ARMA DE FUEGO   1/01/2010  MASCULINO      ADULTOS   \n",
       "3                     ARMA DE FUEGO   1/01/2010  MASCULINO      ADULTOS   \n",
       "4                      CONTUNDENTES   1/01/2010  MASCULINO      ADULTOS   \n",
       "...                             ...         ...        ...          ...   \n",
       "519383                 NO REPORTADO  28/02/2022   FEMENINO      ADULTOS   \n",
       "519384                 NO REPORTADO  30/03/2022   FEMENINO      ADULTOS   \n",
       "519385                 NO REPORTADO  12/01/2022  MASCULINO      ADULTOS   \n",
       "519386                 NO REPORTADO  21/02/2022  MASCULINO      ADULTOS   \n",
       "519387                 NO REPORTADO  30/04/2022   FEMENINO      ADULTOS   \n",
       "\n",
       "            TIPO DE HURTO  CANTIDAD  \n",
       "0       HURTO RESIDENCIAS         1  \n",
       "1       HURTO RESIDENCIAS         2  \n",
       "2       HURTO RESIDENCIAS         1  \n",
       "3       HURTO RESIDENCIAS         1  \n",
       "4       HURTO RESIDENCIAS         1  \n",
       "...                   ...       ...  \n",
       "519383  HURTO RESIDENCIAS         1  \n",
       "519384  HURTO RESIDENCIAS         1  \n",
       "519385  HURTO RESIDENCIAS         1  \n",
       "519386  HURTO RESIDENCIAS         1  \n",
       "519387  HURTO RESIDENCIAS         1  \n",
       "\n",
       "[519388 rows x 9 columns]"
      ]
     },
     "execution_count": 8,
     "metadata": {},
     "output_type": "execute_result"
    }
   ],
   "source": [
    "##Validamos la estructura del archivo\n",
    "comercio_df"
   ]
  },
  {
   "cell_type": "code",
   "execution_count": 9,
   "id": "b2988b45-b48c-4c08-99fd-55726f0795a9",
   "metadata": {},
   "outputs": [
    {
     "data": {
      "text/plain": [
       "DEPARTAMENTO     object\n",
       "MUNICIPIO        object\n",
       "CODIGO DANE      object\n",
       "ARMAS MEDIOS     object\n",
       "FECHA HECHO      object\n",
       "GENERO           object\n",
       "GRUPO ETARIO     object\n",
       "TIPO DE HURTO    object\n",
       "CANTIDAD          int64\n",
       "dtype: object"
      ]
     },
     "execution_count": 9,
     "metadata": {},
     "output_type": "execute_result"
    }
   ],
   "source": [
    "##Mostramos el tipo de dato de cada columna\n",
    "comercio_df.dtypes"
   ]
  },
  {
   "cell_type": "code",
   "execution_count": 24,
   "id": "6017e4f4",
   "metadata": {},
   "outputs": [
    {
     "data": {
      "text/plain": [
       "array([18, 27, 12, 27, 10, 12, 12, 27,  2])"
      ]
     },
     "execution_count": 24,
     "metadata": {},
     "output_type": "execute_result"
    }
   ],
   "source": [
    "##Calcular la cantidad máxima de caracteres por variable\n",
    "aux = np.vectorize(len)\n",
    "lista = aux(comercio_df.values.astype(str)).max(axis=0)\n",
    "lista"
   ]
  },
  {
   "cell_type": "code",
   "execution_count": 27,
   "id": "b1068cc3",
   "metadata": {},
   "outputs": [
    {
     "data": {
      "text/plain": [
       "1.4186484862954092"
      ]
     },
     "execution_count": 27,
     "metadata": {},
     "output_type": "execute_result"
    }
   ],
   "source": [
    "##Calcular la media del único valor de tipo numérico\n",
    "comercio_df['CANTIDAD'].mean()"
   ]
  },
  {
   "cell_type": "code",
   "execution_count": 29,
   "id": "afc9dfc1",
   "metadata": {},
   "outputs": [
    {
     "data": {
      "text/plain": [
       "DEPARTAMENTO       0\n",
       "MUNICIPIO          0\n",
       "CODIGO DANE        0\n",
       "ARMAS MEDIOS       0\n",
       "FECHA HECHO        0\n",
       "GENERO             0\n",
       "GRUPO ETARIO     123\n",
       "TIPO DE HURTO      0\n",
       "CANTIDAD           0\n",
       "dtype: int64"
      ]
     },
     "execution_count": 29,
     "metadata": {},
     "output_type": "execute_result"
    }
   ],
   "source": [
    "##Validamos el número campos nulos dentro de cada campo\n",
    "comercio_df.isnull().sum()"
   ]
  },
  {
   "cell_type": "code",
   "execution_count": null,
   "id": "1fc60ab3",
   "metadata": {},
   "outputs": [],
   "source": [
    "##Verificar si el dataset cuenta con datos duplicados\n",
    "comercio_df[comercio_df.duplicated(keep=False)]"
   ]
  },
  {
   "cell_type": "code",
   "execution_count": null,
   "id": "42c709ef",
   "metadata": {},
   "outputs": [],
   "source": [
    "##Se valida la congruencia de cada una de las columnas\n",
    "comercio_df[comercio_df['DEPARTAMENTO']=='NO REPORTADO'].sum()"
   ]
  },
  {
   "cell_type": "code",
   "execution_count": null,
   "id": "41715283",
   "metadata": {},
   "outputs": [],
   "source": []
  }
 ],
 "metadata": {
  "kernelspec": {
   "display_name": "Python 3 (ipykernel)",
   "language": "python",
   "name": "python3"
  },
  "language_info": {
   "codemirror_mode": {
    "name": "ipython",
    "version": 3
   },
   "file_extension": ".py",
   "mimetype": "text/x-python",
   "name": "python",
   "nbconvert_exporter": "python",
   "pygments_lexer": "ipython3",
   "version": "3.9.12"
  }
 },
 "nbformat": 4,
 "nbformat_minor": 5
}
