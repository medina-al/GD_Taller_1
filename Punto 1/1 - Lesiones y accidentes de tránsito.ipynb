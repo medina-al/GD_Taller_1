{
 "cells": [
  {
   "cell_type": "markdown",
   "id": "b67facf6-7d1b-4cc9-bdb9-1cd45793cee8",
   "metadata": {
    "tags": []
   },
   "source": [
    "# Configuración y análisis inicial"
   ]
  },
  {
   "cell_type": "code",
   "execution_count": 1,
   "id": "3b05e6a2-89be-47dc-a694-60770106746f",
   "metadata": {},
   "outputs": [],
   "source": [
    "##Importar las librerías requeridas para el análisis\n",
    "import numpy as np\n",
    "import pandas as pd\n",
    "\n",
    "import matplotlib.pyplot as plt\n",
    "\n",
    "%matplotlib inline"
   ]
  },
  {
   "cell_type": "code",
   "execution_count": 2,
   "id": "4e374108-1d4c-4196-a3f7-9cb28a635db0",
   "metadata": {},
   "outputs": [],
   "source": [
    "##Definir tamaño máximo de filas a mostrar\n",
    "pd.set_option('display.max_rows', 100)"
   ]
  },
  {
   "cell_type": "code",
   "execution_count": 3,
   "id": "82186d4c-a126-4b2c-b26c-1a2a089c5116",
   "metadata": {},
   "outputs": [],
   "source": [
    "##Importar el dataset del CSV\n",
    "df = pd.read_csv('../data/accidentes.csv')"
   ]
  },
  {
   "cell_type": "code",
   "execution_count": 4,
   "id": "48c9173b-15fd-4fa6-8e65-63831ebf5559",
   "metadata": {},
   "outputs": [
    {
     "data": {
      "text/html": [
       "<div>\n",
       "<style scoped>\n",
       "    .dataframe tbody tr th:only-of-type {\n",
       "        vertical-align: middle;\n",
       "    }\n",
       "\n",
       "    .dataframe tbody tr th {\n",
       "        vertical-align: top;\n",
       "    }\n",
       "\n",
       "    .dataframe thead th {\n",
       "        text-align: right;\n",
       "    }\n",
       "</style>\n",
       "<table border=\"1\" class=\"dataframe\">\n",
       "  <thead>\n",
       "    <tr style=\"text-align: right;\">\n",
       "      <th></th>\n",
       "      <th>DEPARTAMENTO</th>\n",
       "      <th>MUNICIPIO</th>\n",
       "      <th>CODIGO DANE</th>\n",
       "      <th>ARMAS MEDIOS</th>\n",
       "      <th>FECHA HECHO</th>\n",
       "      <th>GENERO</th>\n",
       "      <th>GRUPO ETARÍO</th>\n",
       "      <th>DESCRIPCIÓN CONDUCTA</th>\n",
       "      <th>CANTIDAD</th>\n",
       "    </tr>\n",
       "  </thead>\n",
       "  <tbody>\n",
       "    <tr>\n",
       "      <th>0</th>\n",
       "      <td>ANTIOQUIA</td>\n",
       "      <td>LA CEJA</td>\n",
       "      <td>5376000</td>\n",
       "      <td>MOTO</td>\n",
       "      <td>1/01/2010</td>\n",
       "      <td>MASCULINO</td>\n",
       "      <td>ADULTOS</td>\n",
       "      <td>ARTÍCULO 109. HOMICIDIO CULPOSO ( EN ACCIDENTE...</td>\n",
       "      <td>1</td>\n",
       "    </tr>\n",
       "    <tr>\n",
       "      <th>1</th>\n",
       "      <td>ATLÁNTICO</td>\n",
       "      <td>BARRANQUILLA (CT)</td>\n",
       "      <td>8001000</td>\n",
       "      <td>MOTO</td>\n",
       "      <td>1/01/2010</td>\n",
       "      <td>FEMENINO</td>\n",
       "      <td>ADULTOS</td>\n",
       "      <td>ARTÍCULO 109. HOMICIDIO CULPOSO ( EN ACCIDENTE...</td>\n",
       "      <td>1</td>\n",
       "    </tr>\n",
       "    <tr>\n",
       "      <th>2</th>\n",
       "      <td>ATLÁNTICO</td>\n",
       "      <td>LURUACO</td>\n",
       "      <td>8421000</td>\n",
       "      <td>MOTO</td>\n",
       "      <td>1/01/2010</td>\n",
       "      <td>MASCULINO</td>\n",
       "      <td>ADULTOS</td>\n",
       "      <td>ARTÍCULO 109. HOMICIDIO CULPOSO ( EN ACCIDENTE...</td>\n",
       "      <td>1</td>\n",
       "    </tr>\n",
       "    <tr>\n",
       "      <th>3</th>\n",
       "      <td>CAQUETÁ</td>\n",
       "      <td>PUERTO RICO</td>\n",
       "      <td>18592000</td>\n",
       "      <td>MOTO</td>\n",
       "      <td>1/01/2010</td>\n",
       "      <td>MASCULINO</td>\n",
       "      <td>ADOLESCENTES</td>\n",
       "      <td>ARTÍCULO 109. HOMICIDIO CULPOSO ( EN ACCIDENTE...</td>\n",
       "      <td>1</td>\n",
       "    </tr>\n",
       "    <tr>\n",
       "      <th>4</th>\n",
       "      <td>CASANARE</td>\n",
       "      <td>AGUAZUL</td>\n",
       "      <td>85010000</td>\n",
       "      <td>MOTO</td>\n",
       "      <td>1/01/2010</td>\n",
       "      <td>MASCULINO</td>\n",
       "      <td>ADULTOS</td>\n",
       "      <td>ARTÍCULO 109. HOMICIDIO CULPOSO ( EN ACCIDENTE...</td>\n",
       "      <td>1</td>\n",
       "    </tr>\n",
       "  </tbody>\n",
       "</table>\n",
       "</div>"
      ],
      "text/plain": [
       "  DEPARTAMENTO          MUNICIPIO  CODIGO DANE ARMAS MEDIOS FECHA HECHO  \\\n",
       "0    ANTIOQUIA            LA CEJA      5376000         MOTO   1/01/2010   \n",
       "1    ATLÁNTICO  BARRANQUILLA (CT)      8001000         MOTO   1/01/2010   \n",
       "2    ATLÁNTICO            LURUACO      8421000         MOTO   1/01/2010   \n",
       "3      CAQUETÁ        PUERTO RICO     18592000         MOTO   1/01/2010   \n",
       "4     CASANARE            AGUAZUL     85010000         MOTO   1/01/2010   \n",
       "\n",
       "      GENERO  GRUPO ETARÍO                               DESCRIPCIÓN CONDUCTA  \\\n",
       "0  MASCULINO       ADULTOS  ARTÍCULO 109. HOMICIDIO CULPOSO ( EN ACCIDENTE...   \n",
       "1   FEMENINO       ADULTOS  ARTÍCULO 109. HOMICIDIO CULPOSO ( EN ACCIDENTE...   \n",
       "2  MASCULINO       ADULTOS  ARTÍCULO 109. HOMICIDIO CULPOSO ( EN ACCIDENTE...   \n",
       "3  MASCULINO  ADOLESCENTES  ARTÍCULO 109. HOMICIDIO CULPOSO ( EN ACCIDENTE...   \n",
       "4  MASCULINO       ADULTOS  ARTÍCULO 109. HOMICIDIO CULPOSO ( EN ACCIDENTE...   \n",
       "\n",
       "   CANTIDAD  \n",
       "0         1  \n",
       "1         1  \n",
       "2         1  \n",
       "3         1  \n",
       "4         1  "
      ]
     },
     "execution_count": 4,
     "metadata": {},
     "output_type": "execute_result"
    }
   ],
   "source": [
    "##Visualizar los primeros datos\n",
    "df.head()"
   ]
  },
  {
   "cell_type": "code",
   "execution_count": 5,
   "id": "b2988b45-b48c-4c08-99fd-55726f0795a9",
   "metadata": {},
   "outputs": [
    {
     "data": {
      "text/plain": [
       "(59810, 9)"
      ]
     },
     "execution_count": 5,
     "metadata": {},
     "output_type": "execute_result"
    }
   ],
   "source": [
    "## Ver el tamaño del dataset\n",
    "df.shape"
   ]
  },
  {
   "cell_type": "code",
   "execution_count": 6,
   "id": "5a42241a-cf14-4a1b-804d-c34728ee60c8",
   "metadata": {},
   "outputs": [
    {
     "data": {
      "text/plain": [
       "DEPARTAMENTO            object\n",
       "MUNICIPIO               object\n",
       "CODIGO DANE              int64\n",
       "ARMAS MEDIOS            object\n",
       "FECHA HECHO             object\n",
       "GENERO                  object\n",
       "GRUPO ETARÍO            object\n",
       "DESCRIPCIÓN CONDUCTA    object\n",
       "CANTIDAD                 int64\n",
       "dtype: object"
      ]
     },
     "execution_count": 6,
     "metadata": {},
     "output_type": "execute_result"
    }
   ],
   "source": [
    "## Ver los tipos de datos de las columnas\n",
    "df.dtypes"
   ]
  },
  {
   "cell_type": "code",
   "execution_count": 7,
   "id": "b8362d05-f317-4b42-bf36-53660fecf6fc",
   "metadata": {},
   "outputs": [
    {
     "data": {
      "text/plain": [
       "array([18, 27,  8, 19, 10, 12, 12, 63,  2])"
      ]
     },
     "execution_count": 7,
     "metadata": {},
     "output_type": "execute_result"
    }
   ],
   "source": [
    "## Calcular la longitud máxima de cada campo\n",
    "measurer = np.vectorize(len)\n",
    "res1 = measurer(df.values.astype(str)).max(axis=0)\n",
    "res1"
   ]
  },
  {
   "cell_type": "code",
   "execution_count": 8,
   "id": "812dee4a-aa60-4e64-9ee3-8381fd7b1eb9",
   "metadata": {},
   "outputs": [
    {
     "data": {
      "text/html": [
       "<div>\n",
       "<style scoped>\n",
       "    .dataframe tbody tr th:only-of-type {\n",
       "        vertical-align: middle;\n",
       "    }\n",
       "\n",
       "    .dataframe tbody tr th {\n",
       "        vertical-align: top;\n",
       "    }\n",
       "\n",
       "    .dataframe thead th {\n",
       "        text-align: right;\n",
       "    }\n",
       "</style>\n",
       "<table border=\"1\" class=\"dataframe\">\n",
       "  <thead>\n",
       "    <tr style=\"text-align: right;\">\n",
       "      <th></th>\n",
       "      <th>CODIGO DANE</th>\n",
       "      <th>CANTIDAD</th>\n",
       "    </tr>\n",
       "  </thead>\n",
       "  <tbody>\n",
       "    <tr>\n",
       "      <th>count</th>\n",
       "      <td>5.981000e+04</td>\n",
       "      <td>59810.000000</td>\n",
       "    </tr>\n",
       "    <tr>\n",
       "      <th>mean</th>\n",
       "      <td>3.847246e+07</td>\n",
       "      <td>1.098111</td>\n",
       "    </tr>\n",
       "    <tr>\n",
       "      <th>std</th>\n",
       "      <td>2.740403e+07</td>\n",
       "      <td>0.371723</td>\n",
       "    </tr>\n",
       "    <tr>\n",
       "      <th>min</th>\n",
       "      <td>5.001000e+06</td>\n",
       "      <td>1.000000</td>\n",
       "    </tr>\n",
       "    <tr>\n",
       "      <th>25%</th>\n",
       "      <td>1.300100e+07</td>\n",
       "      <td>1.000000</td>\n",
       "    </tr>\n",
       "    <tr>\n",
       "      <th>50%</th>\n",
       "      <td>2.575400e+07</td>\n",
       "      <td>1.000000</td>\n",
       "    </tr>\n",
       "    <tr>\n",
       "      <th>75%</th>\n",
       "      <td>6.808100e+07</td>\n",
       "      <td>1.000000</td>\n",
       "    </tr>\n",
       "    <tr>\n",
       "      <th>max</th>\n",
       "      <td>9.977300e+07</td>\n",
       "      <td>10.000000</td>\n",
       "    </tr>\n",
       "  </tbody>\n",
       "</table>\n",
       "</div>"
      ],
      "text/plain": [
       "        CODIGO DANE      CANTIDAD\n",
       "count  5.981000e+04  59810.000000\n",
       "mean   3.847246e+07      1.098111\n",
       "std    2.740403e+07      0.371723\n",
       "min    5.001000e+06      1.000000\n",
       "25%    1.300100e+07      1.000000\n",
       "50%    2.575400e+07      1.000000\n",
       "75%    6.808100e+07      1.000000\n",
       "max    9.977300e+07     10.000000"
      ]
     },
     "execution_count": 8,
     "metadata": {},
     "output_type": "execute_result"
    }
   ],
   "source": [
    "df.describe()"
   ]
  },
  {
   "cell_type": "code",
   "execution_count": 9,
   "id": "45895f67-c2c5-4a7e-b63e-e16cf0c3458d",
   "metadata": {},
   "outputs": [
    {
     "data": {
      "text/plain": [
       "DEPARTAMENTO            0\n",
       "MUNICIPIO               0\n",
       "CODIGO DANE             0\n",
       "ARMAS MEDIOS            0\n",
       "FECHA HECHO             0\n",
       "GENERO                  0\n",
       "GRUPO ETARÍO            0\n",
       "DESCRIPCIÓN CONDUCTA    0\n",
       "CANTIDAD                0\n",
       "dtype: int64"
      ]
     },
     "execution_count": 9,
     "metadata": {},
     "output_type": "execute_result"
    }
   ],
   "source": [
    "# Buscar valores nulos por cada campo\n",
    "df.isnull().sum()"
   ]
  },
  {
   "cell_type": "code",
   "execution_count": 10,
   "id": "0740bad5-9d6a-48e9-aecf-7faa8b86fc39",
   "metadata": {},
   "outputs": [
    {
     "data": {
      "text/html": [
       "<div>\n",
       "<style scoped>\n",
       "    .dataframe tbody tr th:only-of-type {\n",
       "        vertical-align: middle;\n",
       "    }\n",
       "\n",
       "    .dataframe tbody tr th {\n",
       "        vertical-align: top;\n",
       "    }\n",
       "\n",
       "    .dataframe thead th {\n",
       "        text-align: right;\n",
       "    }\n",
       "</style>\n",
       "<table border=\"1\" class=\"dataframe\">\n",
       "  <thead>\n",
       "    <tr style=\"text-align: right;\">\n",
       "      <th></th>\n",
       "      <th>DEPARTAMENTO</th>\n",
       "      <th>MUNICIPIO</th>\n",
       "      <th>CODIGO DANE</th>\n",
       "      <th>ARMAS MEDIOS</th>\n",
       "      <th>FECHA HECHO</th>\n",
       "      <th>GENERO</th>\n",
       "      <th>GRUPO ETARÍO</th>\n",
       "      <th>DESCRIPCIÓN CONDUCTA</th>\n",
       "      <th>CANTIDAD</th>\n",
       "    </tr>\n",
       "  </thead>\n",
       "  <tbody>\n",
       "    <tr>\n",
       "      <th>40885</th>\n",
       "      <td>CAUCA</td>\n",
       "      <td>ROSAS</td>\n",
       "      <td>19622000</td>\n",
       "      <td>NO REPORTADO</td>\n",
       "      <td>18/12/2018</td>\n",
       "      <td>MASCULINO</td>\n",
       "      <td>ADULTOS</td>\n",
       "      <td>ARTÍCULO 109. HOMICIDIO CULPOSO ( EN ACCIDENTE...</td>\n",
       "      <td>1</td>\n",
       "    </tr>\n",
       "    <tr>\n",
       "      <th>40893</th>\n",
       "      <td>CAUCA</td>\n",
       "      <td>ROSAS</td>\n",
       "      <td>19622000</td>\n",
       "      <td>NO REPORTADO</td>\n",
       "      <td>18/12/2018</td>\n",
       "      <td>MASCULINO</td>\n",
       "      <td>ADULTOS</td>\n",
       "      <td>ARTÍCULO 109. HOMICIDIO CULPOSO ( EN ACCIDENTE...</td>\n",
       "      <td>1</td>\n",
       "    </tr>\n",
       "    <tr>\n",
       "      <th>41740</th>\n",
       "      <td>META</td>\n",
       "      <td>VILLAVICENCIO (CT)</td>\n",
       "      <td>50001000</td>\n",
       "      <td>NO REPORTADO</td>\n",
       "      <td>10/02/2019</td>\n",
       "      <td>MASCULINO</td>\n",
       "      <td>ADULTOS</td>\n",
       "      <td>ARTÍCULO 109. HOMICIDIO CULPOSO ( EN ACCIDENTE...</td>\n",
       "      <td>1</td>\n",
       "    </tr>\n",
       "    <tr>\n",
       "      <th>41754</th>\n",
       "      <td>META</td>\n",
       "      <td>VILLAVICENCIO (CT)</td>\n",
       "      <td>50001000</td>\n",
       "      <td>NO REPORTADO</td>\n",
       "      <td>10/02/2019</td>\n",
       "      <td>MASCULINO</td>\n",
       "      <td>ADULTOS</td>\n",
       "      <td>ARTÍCULO 109. HOMICIDIO CULPOSO ( EN ACCIDENTE...</td>\n",
       "      <td>1</td>\n",
       "    </tr>\n",
       "    <tr>\n",
       "      <th>42792</th>\n",
       "      <td>ANTIOQUIA</td>\n",
       "      <td>TURBO</td>\n",
       "      <td>5837000</td>\n",
       "      <td>NO REPORTADO</td>\n",
       "      <td>28/04/2019</td>\n",
       "      <td>MASCULINO</td>\n",
       "      <td>ADULTOS</td>\n",
       "      <td>ARTÍCULO 109. HOMICIDIO CULPOSO ( EN ACCIDENTE...</td>\n",
       "      <td>1</td>\n",
       "    </tr>\n",
       "    <tr>\n",
       "      <th>42807</th>\n",
       "      <td>ANTIOQUIA</td>\n",
       "      <td>TURBO</td>\n",
       "      <td>5837000</td>\n",
       "      <td>NO REPORTADO</td>\n",
       "      <td>28/04/2019</td>\n",
       "      <td>MASCULINO</td>\n",
       "      <td>ADULTOS</td>\n",
       "      <td>ARTÍCULO 109. HOMICIDIO CULPOSO ( EN ACCIDENTE...</td>\n",
       "      <td>1</td>\n",
       "    </tr>\n",
       "    <tr>\n",
       "      <th>45895</th>\n",
       "      <td>BOLÍVAR</td>\n",
       "      <td>CARTAGENA (CT)</td>\n",
       "      <td>13001000</td>\n",
       "      <td>NO REPORTADO</td>\n",
       "      <td>15/11/2019</td>\n",
       "      <td>MASCULINO</td>\n",
       "      <td>ADULTOS</td>\n",
       "      <td>ARTÍCULO 109. HOMICIDIO CULPOSO ( EN ACCIDENTE...</td>\n",
       "      <td>1</td>\n",
       "    </tr>\n",
       "    <tr>\n",
       "      <th>45903</th>\n",
       "      <td>BOLÍVAR</td>\n",
       "      <td>CARTAGENA (CT)</td>\n",
       "      <td>13001000</td>\n",
       "      <td>NO REPORTADO</td>\n",
       "      <td>15/11/2019</td>\n",
       "      <td>MASCULINO</td>\n",
       "      <td>ADULTOS</td>\n",
       "      <td>ARTÍCULO 109. HOMICIDIO CULPOSO ( EN ACCIDENTE...</td>\n",
       "      <td>1</td>\n",
       "    </tr>\n",
       "    <tr>\n",
       "      <th>48606</th>\n",
       "      <td>CAUCA</td>\n",
       "      <td>POPAYÁN (CT)</td>\n",
       "      <td>19001000</td>\n",
       "      <td>NO REPORTADO</td>\n",
       "      <td>19/06/2020</td>\n",
       "      <td>MASCULINO</td>\n",
       "      <td>ADULTOS</td>\n",
       "      <td>ARTÍCULO 109. HOMICIDIO CULPOSO ( EN ACCIDENTE...</td>\n",
       "      <td>1</td>\n",
       "    </tr>\n",
       "    <tr>\n",
       "      <th>48614</th>\n",
       "      <td>CAUCA</td>\n",
       "      <td>POPAYÁN (CT)</td>\n",
       "      <td>19001000</td>\n",
       "      <td>NO REPORTADO</td>\n",
       "      <td>19/06/2020</td>\n",
       "      <td>MASCULINO</td>\n",
       "      <td>ADULTOS</td>\n",
       "      <td>ARTÍCULO 109. HOMICIDIO CULPOSO ( EN ACCIDENTE...</td>\n",
       "      <td>1</td>\n",
       "    </tr>\n",
       "  </tbody>\n",
       "</table>\n",
       "</div>"
      ],
      "text/plain": [
       "      DEPARTAMENTO           MUNICIPIO  CODIGO DANE  ARMAS MEDIOS FECHA HECHO  \\\n",
       "40885        CAUCA               ROSAS     19622000  NO REPORTADO  18/12/2018   \n",
       "40893        CAUCA               ROSAS     19622000  NO REPORTADO  18/12/2018   \n",
       "41740         META  VILLAVICENCIO (CT)     50001000  NO REPORTADO  10/02/2019   \n",
       "41754         META  VILLAVICENCIO (CT)     50001000  NO REPORTADO  10/02/2019   \n",
       "42792    ANTIOQUIA               TURBO      5837000  NO REPORTADO  28/04/2019   \n",
       "42807    ANTIOQUIA               TURBO      5837000  NO REPORTADO  28/04/2019   \n",
       "45895      BOLÍVAR      CARTAGENA (CT)     13001000  NO REPORTADO  15/11/2019   \n",
       "45903      BOLÍVAR      CARTAGENA (CT)     13001000  NO REPORTADO  15/11/2019   \n",
       "48606        CAUCA        POPAYÁN (CT)     19001000  NO REPORTADO  19/06/2020   \n",
       "48614        CAUCA        POPAYÁN (CT)     19001000  NO REPORTADO  19/06/2020   \n",
       "\n",
       "          GENERO GRUPO ETARÍO  \\\n",
       "40885  MASCULINO      ADULTOS   \n",
       "40893  MASCULINO      ADULTOS   \n",
       "41740  MASCULINO      ADULTOS   \n",
       "41754  MASCULINO      ADULTOS   \n",
       "42792  MASCULINO      ADULTOS   \n",
       "42807  MASCULINO      ADULTOS   \n",
       "45895  MASCULINO      ADULTOS   \n",
       "45903  MASCULINO      ADULTOS   \n",
       "48606  MASCULINO      ADULTOS   \n",
       "48614  MASCULINO      ADULTOS   \n",
       "\n",
       "                                    DESCRIPCIÓN CONDUCTA  CANTIDAD  \n",
       "40885  ARTÍCULO 109. HOMICIDIO CULPOSO ( EN ACCIDENTE...         1  \n",
       "40893  ARTÍCULO 109. HOMICIDIO CULPOSO ( EN ACCIDENTE...         1  \n",
       "41740  ARTÍCULO 109. HOMICIDIO CULPOSO ( EN ACCIDENTE...         1  \n",
       "41754  ARTÍCULO 109. HOMICIDIO CULPOSO ( EN ACCIDENTE...         1  \n",
       "42792  ARTÍCULO 109. HOMICIDIO CULPOSO ( EN ACCIDENTE...         1  \n",
       "42807  ARTÍCULO 109. HOMICIDIO CULPOSO ( EN ACCIDENTE...         1  \n",
       "45895  ARTÍCULO 109. HOMICIDIO CULPOSO ( EN ACCIDENTE...         1  \n",
       "45903  ARTÍCULO 109. HOMICIDIO CULPOSO ( EN ACCIDENTE...         1  \n",
       "48606  ARTÍCULO 109. HOMICIDIO CULPOSO ( EN ACCIDENTE...         1  \n",
       "48614  ARTÍCULO 109. HOMICIDIO CULPOSO ( EN ACCIDENTE...         1  "
      ]
     },
     "execution_count": 10,
     "metadata": {},
     "output_type": "execute_result"
    }
   ],
   "source": [
    "## Encontrar valores duplicados\n",
    "df[df.duplicated(keep=False)]"
   ]
  },
  {
   "cell_type": "code",
   "execution_count": 11,
   "id": "8cf10c8e-48e4-40ab-a1c5-f6a867947ede",
   "metadata": {},
   "outputs": [],
   "source": [
    "## Eliminar filas duplicadas\n",
    "df=df.drop_duplicates()"
   ]
  },
  {
   "cell_type": "code",
   "execution_count": 12,
   "id": "e4068107-cb94-4527-8c6e-d79e02a5d6e4",
   "metadata": {},
   "outputs": [
    {
     "data": {
      "text/plain": [
       "(59805, 9)"
      ]
     },
     "execution_count": 12,
     "metadata": {},
     "output_type": "execute_result"
    }
   ],
   "source": [
    "## Ver el tamaño del dataset\n",
    "df.shape"
   ]
  },
  {
   "cell_type": "markdown",
   "id": "3b68a474-770e-4eef-8d16-2de40a9a217a",
   "metadata": {
    "tags": []
   },
   "source": [
    "# Análisis por campos"
   ]
  },
  {
   "cell_type": "markdown",
   "id": "378c29b0-efa7-4fb8-a978-662b7da2f064",
   "metadata": {},
   "source": [
    "## Departamento"
   ]
  },
  {
   "cell_type": "code",
   "execution_count": 13,
   "id": "4b5b897f-8eaa-403a-941e-f43e27093e50",
   "metadata": {},
   "outputs": [
    {
     "data": {
      "text/plain": [
       "array(['ANTIOQUIA', 'ATLÁNTICO', 'CAQUETÁ', 'CASANARE', 'CESAR',\n",
       "       'GUAJIRA', 'HUILA', 'NARIÑO', 'RISARALDA', 'SANTANDER', 'CÓRDOBA',\n",
       "       'CUNDINAMARCA', 'TOLIMA', 'VALLE', 'MAGDALENA', 'BOYACÁ', 'CAUCA',\n",
       "       'NORTE DE SANTANDER', 'SUCRE', 'META', 'QUINDÍO', 'BOLÍVAR',\n",
       "       'CALDAS', 'ARAUCA', 'PUTUMAYO', 'SAN ANDRÉS', 'GUAVIARE',\n",
       "       'AMAZONAS', 'VICHADA', 'CHOCÓ', 'GUAINÍA', 'VAUPÉS'], dtype=object)"
      ]
     },
     "execution_count": 13,
     "metadata": {},
     "output_type": "execute_result"
    }
   ],
   "source": [
    "#Guardar los departamentos sin repeticiones y visualizar para validar errores de escritura\n",
    "departamentos=df['DEPARTAMENTO'].unique()\n",
    "departamentos"
   ]
  },
  {
   "cell_type": "code",
   "execution_count": 14,
   "id": "a2346522-e7f6-4ebc-afbb-8da1776c5ac9",
   "metadata": {},
   "outputs": [
    {
     "data": {
      "text/plain": [
       "32"
      ]
     },
     "execution_count": 14,
     "metadata": {},
     "output_type": "execute_result"
    }
   ],
   "source": [
    "#Validar que la cantidad de departamentos sea correcta con la realidad - OK\n",
    "len(departamentos)"
   ]
  },
  {
   "cell_type": "markdown",
   "id": "08f4a9d5-46bb-463d-9852-992e844503b1",
   "metadata": {},
   "source": [
    "## Municipio"
   ]
  },
  {
   "cell_type": "code",
   "execution_count": 15,
   "id": "3a25fd91-3ff4-4187-8ca6-bf6b1460bfa9",
   "metadata": {},
   "outputs": [
    {
     "data": {
      "text/plain": [
       "array(['ABEJORRAL', 'ABREGO', 'ABRIAQUÍ', 'ACACÍAS', 'ACANDÍ', 'ACEVEDO',\n",
       "       'ACHÍ', 'AGRADO', 'AGUA DE DIOS', 'AGUACHICA', 'AGUADAS',\n",
       "       'AGUAZUL', 'AGUSTÍN CODAZZI', 'AIPE', 'ALBANIA', 'ALBÁN', 'ALCALÁ',\n",
       "       'ALDANA', 'ALEJANDRÍA', 'ALGARROBO', 'ALGECIRAS', 'ALMAGUER',\n",
       "       'ALMEIDA', 'ALPUJARRA', 'ALTAMIRA', 'ALTO BAUDÓ',\n",
       "       'ALTOS DEL ROSARIO', 'ALVARADO', 'AMAGÁ', 'AMALFI', 'AMBALEMA',\n",
       "       'ANAPOIMA', 'ANCUYÁ', 'ANDALUCÍA', 'ANDES', 'ANGELÓPOLIS',\n",
       "       'ANGOSTURA', 'ANOLAIMA', 'ANORÍ', 'ANSERMA', 'ANSERMANUEVO',\n",
       "       'ANZA', 'ANZOÁTEGUI', 'APARTADÓ', 'APULO', 'APÍA', 'AQUITANIA',\n",
       "       'ARACATACA', 'ARANZAZU', 'ARATOCA', 'ARAUCA (CT)', 'ARAUQUITA',\n",
       "       'ARBELÁEZ', 'ARBOLEDA', 'ARBOLEDAS', 'ARBOLETES', 'ARCABUCO',\n",
       "       'ARENAL', 'ARGELIA', 'ARIGUANÍ', 'ARJONA', 'ARMENIA (CT)',\n",
       "       'ARMERO', 'ARROYOHONDO', 'ASTREA', 'ATACO', 'ATRATO', 'AYAPEL',\n",
       "       'BAGADÓ', 'BAJO BAUDÓ', 'BALBOA', 'BARANOA', 'BARAYA', 'BARBACOAS',\n",
       "       'BARBOSA', 'BARICHARA', 'BARRANCA DE UPÍA', 'BARRANCABERMEJA',\n",
       "       'BARRANCAS', 'BARRANCO DE LOBA', 'BARRANQUILLA (CT)', 'BECERRIL',\n",
       "       'BELALCÁZAR', 'BELLO', 'BELMIRA', 'BELTRÁN', 'BELÉN',\n",
       "       'BELÉN DE LOS ANDAQUIES', 'BELÉN DE UMBRÍA', 'BERBEO', 'BETANIA',\n",
       "       'BETULIA', 'BITUIMA', 'BOAVITA', 'BOCHALEMA', 'BOGOTÁ D.C. (CT)',\n",
       "       'BOJACÁ', 'BOJAYÁ', 'BOLÍVAR', 'BOSCONIA', 'BOYACÁ', 'BRICEÑO',\n",
       "       'BUCARAMANGA (CT)', 'BUCARASICA', 'BUENAVENTURA', 'BUENAVISTA',\n",
       "       'BUENOS AIRES', 'BUESACO', 'BUGALAGRANDE', 'BURITICÁ', 'CABRERA',\n",
       "       'CABUYARO', 'CACHIPAY', 'CACHIRÁ', 'CAICEDO', 'CAICEDONIA',\n",
       "       'CAIMITO', 'CAJAMARCA', 'CAJIBÍO', 'CAJICÁ', 'CALAMAR', 'CALARCA',\n",
       "       'CALDAS', 'CALDONO', 'CALI (CT)', 'CALIFORNIA', 'CALIMA', 'CALOTO',\n",
       "       'CAMPAMENTO', 'CAMPO DE LA CRUZ', 'CAMPOALEGRE', 'CAMPOHERMOSO',\n",
       "       'CANALETE', 'CANDELARIA', 'CANTAGALLO', 'CAPARRAPÍ', 'CAPITANEJO',\n",
       "       'CAQUEZA', 'CARAMANTA', 'CAREPA', 'CARMEN DE APICALÁ',\n",
       "       'CARMEN DE CARUPA', 'CARMEN DEL DARIEN', 'CAROLINA',\n",
       "       'CARTAGENA (CT)', 'CARTAGENA DEL CHAIRÁ', 'CARTAGO', 'CASABIANCA',\n",
       "       'CASTILLA LA NUEVA', 'CAUCASIA', 'CAÑASGORDAS', 'CEPITÁ', 'CERETÉ',\n",
       "       'CERINZA', 'CERRITO', 'CHACHAGÜÍ', 'CHAGUANÍ', 'CHALÁN', 'CHAMEZA',\n",
       "       'CHAPARRAL', 'CHARALÁ', 'CHARTA', 'CHIBOLO', 'CHIGORODÓ',\n",
       "       'CHIMICHAGUA', 'CHIMÁ', 'CHINAVITA', 'CHINCHINÁ', 'CHINÁCOTA',\n",
       "       'CHINÚ', 'CHIPAQUE', 'CHIPATÁ', 'CHIQUINQUIRÁ', 'CHIRIGUANÁ',\n",
       "       'CHISCAS', 'CHITA', 'CHITAGÁ', 'CHITARAQUE', 'CHIVATÁ', 'CHIVOR',\n",
       "       'CHOACHÍ', 'CHOCONTÁ', 'CHÍA', 'CHÍQUIZA', 'CICUCO', 'CIMITARRA',\n",
       "       'CIRCASIA', 'CISNEROS', 'CIUDAD BOLÍVAR', 'CIÉNAGA',\n",
       "       'CIÉNAGA DE ORO', 'CIÉNEGA', 'CLEMENCIA', 'COCORNÁ', 'COELLO',\n",
       "       'COGUA', 'COLOMBIA', 'COLOSO', 'COLÓN', 'CONCEPCIÓN', 'CONCORDIA',\n",
       "       'CONDOTO', 'CONFINES', 'CONSACA', 'CONTADERO', 'CONVENCIÓN',\n",
       "       'COPACABANA', 'COPER', 'CORINTO', 'COROMORO', 'COROZAL',\n",
       "       'CORRALES', 'COTA', 'COTORRA', 'COVARACHÍA', 'COVEÑAS', 'COYAIMA',\n",
       "       'CRAVO NORTE', 'CUASPUD', 'CUBARRAL', 'CUBARÁ', 'CUCAITA',\n",
       "       'CUCUNUBÁ', 'CUMARAL', 'CUMARIBO', 'CUMBAL', 'CUMBITARA', 'CUNDAY',\n",
       "       'CURILLO', 'CURITÍ', 'CURUMANÍ', 'CUÍTIVA', 'CÁCERES', 'CÁCOTA',\n",
       "       'CÉRTEGUI', 'CÓMBITA', 'CÓRDOBA', 'CÚCUTA (CT)', 'DABEIBA',\n",
       "       'DAGUA', 'DIBULLA', 'DISTRACCIÓN', 'DOLORES', 'DON MATÍAS',\n",
       "       'DOSQUEBRADAS', 'DUITAMA', 'DURANIA', 'EBÉJICO', 'EL BAGRE',\n",
       "       'EL BANCO', 'EL CAIRO', 'EL CARMEN', 'EL CARMEN DE ATRATO',\n",
       "       'EL CARMEN DE BOLÍVAR', 'EL CARMEN DE CHUCURÍ',\n",
       "       'EL CARMEN DE VIBORAL', 'EL CASTILLO', 'EL CERRITO', 'EL CHARCO',\n",
       "       'EL COCUY', 'EL COLEGIO', 'EL COPEY', 'EL DONCELLO', 'EL DORADO',\n",
       "       'EL DOVIO', 'EL ESPINO', 'EL GUAMO', 'EL MOLINO', 'EL PASO',\n",
       "       'EL PAUJIL', 'EL PEÑOL', 'EL PEÑÓN', 'EL PIÑON', 'EL PLAYÓN',\n",
       "       'EL RETORNO', 'EL RETÉN', 'EL ROBLE', 'EL ROSAL', 'EL ROSARIO',\n",
       "       'EL SANTUARIO', 'EL TABLÓN DE GÓMEZ', 'EL TAMBO', 'EL TARRA',\n",
       "       'EL ZULIA', 'EL ÁGUILA', 'ELÍAS', 'ENCINO', 'ENCISO', 'ENTRERRIOS',\n",
       "       'ENVIGADO', 'ESPINAL', 'FACATATIVÁ', 'FALAN', 'FILADELFIA',\n",
       "       'FILANDIA', 'FIRAVITOBA', 'FLANDES', 'FLORENCIA', 'FLORENCIA (CT)',\n",
       "       'FLORESTA', 'FLORIDA', 'FLORIDABLANCA', 'FLORIÁN', 'FOMEQUE',\n",
       "       'FONSECA', 'FORTUL', 'FOSCA', 'FREDONIA', 'FRESNO', 'FRONTINO',\n",
       "       'FUENTE DE ORO', 'FUNDACIÓN', 'FUNES', 'FUNZA', 'FUSAGASUGÁ',\n",
       "       'FÚQUENE', 'GACHANCIPÁ', 'GACHANTIVÁ', 'GACHETÁ', 'GALAPA',\n",
       "       'GALERAS', 'GALÁN', 'GAMARRA', 'GAMBITA', 'GAMEZA', 'GARAGOA',\n",
       "       'GARZÓN', 'GIGANTE', 'GINEBRA', 'GIRALDO', 'GIRARDOT', 'GIRARDOTA',\n",
       "       'GIRÓN', 'GRAMALOTE', 'GRANADA', 'GUACA', 'GUACAMAYAS', 'GUACARÍ',\n",
       "       'GUACHENÉ', 'GUACHETÁ', 'GUACHUCAL', 'GUADALAJARA DE BUGA',\n",
       "       'GUADALUPE', 'GUADUAS', 'GUAITARILLA', 'GUALMATÁN', 'GUAMAL',\n",
       "       'GUAMO', 'GUAPI', 'GUARANDA', 'GUARNE', 'GUASCA', 'GUATAPÉ',\n",
       "       'GUATAQUÍ', 'GUATAVITA', 'GUATEQUE', 'GUAVATÁ',\n",
       "       'GUAYABAL DE SIQUIMA', 'GUAYABETAL', 'GUAYATÁ', 'GUTIÉRREZ',\n",
       "       'GUÁTICA', 'GÉNOVA', 'GÓMEZ PLATA', 'GÜEPSA', 'GÜICÁN', 'HACARÍ',\n",
       "       'HATILLO DE LOBA', 'HATO COROZAL', 'HATONUEVO', 'HELICONIA',\n",
       "       'HERVEO', 'HISPANIA', 'HOBO', 'HONDA', 'IBAGUÉ (CT)', 'ICONONZO',\n",
       "       'ILES', 'IMUÉS', 'INZÁ', 'INÍRIDA (CT)', 'IPIALES', 'IQUIRA',\n",
       "       'ISNOS', 'ISTMINA', 'ITAGUI', 'ITUANGO', 'IZA', 'JAMBALÓ',\n",
       "       'JAMUNDÍ', 'JARDÍN', 'JENESANO', 'JERICÓ', 'JERUSALÉN',\n",
       "       'JESÚS MARÍA', 'JORDÁN', 'JUAN DE ACOSTA', 'JUNÍN', 'LA APARTADA',\n",
       "       'LA ARGENTINA', 'LA BELLEZA', 'LA CALERA', 'LA CAPILLA', 'LA CEJA',\n",
       "       'LA CELIA', 'LA CRUZ', 'LA CUMBRE', 'LA DORADA', 'LA ESPERANZA',\n",
       "       'LA ESTRELLA', 'LA FLORIDA', 'LA GLORIA', 'LA JAGUA DE IBIRICO',\n",
       "       'LA JAGUA DEL PILAR', 'LA LLANADA', 'LA MACARENA', 'LA MERCED',\n",
       "       'LA MESA', 'LA MONTAÑITA', 'LA PALMA', 'LA PAZ', 'LA PEÑA',\n",
       "       'LA PINTADA', 'LA PLATA', 'LA PLAYA', 'LA PRIMAVERA', 'LA SIERRA',\n",
       "       'LA TEBAIDA', 'LA UNIÓN', 'LA UVITA', 'LA VEGA', 'LA VICTORIA',\n",
       "       'LA VIRGINIA', 'LABATECA', 'LABRANZAGRANDE', 'LANDÁZURI',\n",
       "       'LEBRIJA', 'LEIVA', 'LEJANÍAS', 'LENGUAZAQUE', 'LETICIA (CT)',\n",
       "       'LIBORINA', 'LINARES', 'LLORÓ', 'LORICA', 'LOS ANDES',\n",
       "       'LOS CÓRDOBAS', 'LOS PALMITOS', 'LOS PATIOS', 'LOS SANTOS',\n",
       "       'LOURDES', 'LURUACO', 'LÉRIDA', 'LÍBANO', 'MACANAL', 'MACARAVITA',\n",
       "       'MACEO', 'MACHETA', 'MADRID', 'MAGANGUÉ', 'MAHATES', 'MAICAO',\n",
       "       'MAJAGUAL', 'MALAMBO', 'MALLAMA', 'MANATÍ', 'MANAURE',\n",
       "       'MANIZALES (CT)', 'MANZANARES', 'MANÍ', 'MAPIRIPÁN', 'MARGARITA',\n",
       "       'MARINILLA', 'MARIPÍ', 'MARIQUITA', 'MARMATO', 'MARQUETALIA',\n",
       "       'MARSELLA', 'MARULANDA', 'MARÍA LA BAJA', 'MATANZA',\n",
       "       'MEDELLÍN (CT)', 'MEDINA', 'MEDIO BAUDÓ', 'MEDIO SAN JUAN',\n",
       "       'MELGAR', 'MERCADERES', 'MESETAS', 'MILÁN', 'MIRAFLORES',\n",
       "       'MIRANDA', 'MISTRATÓ', 'MITÚ (CT)', 'MOCOA (CT)', 'MOGOTES',\n",
       "       'MOLAGAVITA', 'MOMIL', 'MOMPÓS', 'MONGUA', 'MONGUÍ', 'MONIQUIRÁ',\n",
       "       'MONTEBELLO', 'MONTECRISTO', 'MONTELÍBANO', 'MONTENEGRO',\n",
       "       'MONTERREY', 'MONTERÍA (CT)', 'MORALES', 'MORELIA', 'MORROA',\n",
       "       'MOSQUERA', 'MOTAVITA', 'MOÑITOS', 'MUTATÁ', 'MUTISCUA', 'MUZO',\n",
       "       'MÁLAGA', 'NARIÑO', 'NATAGAIMA', 'NECHÍ', 'NECOCLÍ', 'NEIRA',\n",
       "       'NEIVA (CT)', 'NEMOCÓN', 'NILO', 'NIMAIMA', 'NOBSA', 'NOCAIMA',\n",
       "       'NORCASIA', 'NOROSÍ', 'NUEVA GRANADA', 'NUEVO COLÓN', 'NUNCHÍA',\n",
       "       'NÁTAGA', 'NÓVITA', 'OBANDO', 'OCAMONTE', 'OCAÑA', 'OIBA',\n",
       "       'OICATÁ', 'ONZAGA', 'OPORAPA', 'ORITO', 'OROCUÉ', 'ORTEGA',\n",
       "       'OSPINA', 'OTANCHE', 'OVEJAS', 'PACHAVITA', 'PACHO', 'PADILLA',\n",
       "       'PAEZ', 'PAICOL', 'PAILITAS', 'PAIME', 'PAIPA', 'PAJARITO',\n",
       "       'PALERMO', 'PALESTINA', 'PALMAR DE VARELA', 'PALMAS DEL SOCORRO',\n",
       "       'PALMIRA', 'PALMITO', 'PALOCABILDO', 'PAMPLONA', 'PAMPLONITA',\n",
       "       'PANDI', 'PANQUEBA', 'PARATEBUENO', 'PASCA', 'PASTO (CT)', 'PATÍA',\n",
       "       'PAUNA', 'PAZ DE ARIPORO', 'PAZ DE RÍO', 'PEDRAZA', 'PELAYA',\n",
       "       'PENSILVANIA', 'PEQUE', 'PEREIRA (CT)', 'PESCA', 'PEÑOL',\n",
       "       'PIAMONTE', 'PIEDECUESTA', 'PIEDRAS', 'PIENDAMÓ', 'PIJAO',\n",
       "       'PIJIÑO DEL CARMEN', 'PINCHOTE', 'PINILLOS', 'PIOJÓ', 'PITAL',\n",
       "       'PITALITO', 'PIVIJAY', 'PLANADAS', 'PLANETA RICA', 'PLATO',\n",
       "       'POLICARPA', 'POLONUEVO', 'PONEDERA', 'POPAYÁN (CT)', 'PORE',\n",
       "       'POTOSÍ', 'PRADERA', 'PRADO', 'PROVIDENCIA', 'PUEBLO BELLO',\n",
       "       'PUEBLO NUEVO', 'PUEBLO RICO', 'PUEBLORRICO', 'PUEBLOVIEJO',\n",
       "       'PUENTE NACIONAL', 'PUERRES', 'PUERTO ASÍS', 'PUERTO BERRÍO',\n",
       "       'PUERTO BOYACÁ', 'PUERTO CAICEDO', 'PUERTO CARREÑO (CT)',\n",
       "       'PUERTO COLOMBIA', 'PUERTO CONCORDIA', 'PUERTO ESCONDIDO',\n",
       "       'PUERTO GAITÁN', 'PUERTO GUZMÁN', 'PUERTO LEGUÍZAMO',\n",
       "       'PUERTO LIBERTADOR', 'PUERTO LLERAS', 'PUERTO LÓPEZ',\n",
       "       'PUERTO NARE', 'PUERTO PARRA', 'PUERTO RICO', 'PUERTO RONDÓN',\n",
       "       'PUERTO SALGAR', 'PUERTO SANTANDER', 'PUERTO TEJADA',\n",
       "       'PUERTO TRIUNFO', 'PUERTO WILCHES', 'PULÍ', 'PUPIALES', 'PURACÉ',\n",
       "       'PURIFICACIÓN', 'PURÍSIMA', 'PÁCORA', 'PÁEZ', 'PÁRAMO',\n",
       "       'QUEBRADANEGRA', 'QUETAME', 'QUIBDÓ (CT)', 'QUIMBAYA', 'QUINCHÍA',\n",
       "       'QUIPILE', 'QUÍPAMA', 'RAGONVALIA', 'RAMIRIQUÍ', 'RECETOR',\n",
       "       'REGIDOR', 'REMEDIOS', 'REMOLINO', 'REPELÓN', 'RESTREPO', 'RETIRO',\n",
       "       'RICAURTE', 'RIOBLANCO', 'RIOFRÍO', 'RIOHACHA (CT)', 'RIONEGRO',\n",
       "       'RIOSUCIO', 'RISARALDA', 'RIVERA', 'ROLDANILLO', 'RONCESVALLES',\n",
       "       'RONDÓN', 'ROSAS', 'ROVIRA', 'RÁQUIRA', 'RÍO DE ORO', 'RÍO VIEJO',\n",
       "       'SABANA DE TORRES', 'SABANAGRANDE', 'SABANALARGA',\n",
       "       'SABANAS DE SAN ANGEL', 'SABANETA', 'SABOYÁ', 'SAHAGÚN',\n",
       "       'SALADOBLANCO', 'SALAMINA', 'SALAZAR', 'SALDAÑA', 'SALENTO',\n",
       "       'SALGAR', 'SAMACÁ', 'SAMANIEGO', 'SAMANÁ', 'SAMPUÉS',\n",
       "       'SAN AGUSTÍN', 'SAN ALBERTO', 'SAN ANDRES DE TUMACO', 'SAN ANDRÉS',\n",
       "       'SAN ANDRÉS (CT)', 'SAN ANDRÉS DE CUERQUÍA',\n",
       "       'SAN ANDRÉS SOTAVENTO', 'SAN ANTERO', 'SAN ANTONIO',\n",
       "       'SAN ANTONIO DEL TEQUENDAMA', 'SAN BENITO', 'SAN BENITO ABAD',\n",
       "       'SAN BERNARDO', 'SAN BERNARDO DEL VIENTO', 'SAN CALIXTO',\n",
       "       'SAN CARLOS', 'SAN CARLOS DE GUAROA', 'SAN CAYETANO', 'SAN DIEGO',\n",
       "       'SAN EDUARDO', 'SAN ESTANISLAO', 'SAN FERNANDO', 'SAN FRANCISCO',\n",
       "       'SAN GIL', 'SAN JACINTO', 'SAN JACINTO DEL CAUCA', 'SAN JERÓNIMO',\n",
       "       'SAN JOAQUÍN', 'SAN JOSÉ', 'SAN JOSÉ DE LA MONTAÑA',\n",
       "       'SAN JOSÉ DE MIRANDA', 'SAN JOSÉ DE PARE', 'SAN JOSÉ DE URÉ',\n",
       "       'SAN JOSÉ DEL FRAGUA', 'SAN JOSÉ DEL GUAVIARE (CT)',\n",
       "       'SAN JOSÉ DEL PALMAR', 'SAN JUAN DE ARAMA', 'SAN JUAN DE BETULIA',\n",
       "       'SAN JUAN DE RÍO SECO', 'SAN JUAN DE URABÁ', 'SAN JUAN DEL CESAR',\n",
       "       'SAN JUAN NEPOMUCENO', 'SAN JUANITO', 'SAN LORENZO', 'SAN LUIS',\n",
       "       'SAN LUIS DE GACENO', 'SAN LUIS DE PALENQUE', 'SAN LUIS DE SINCÉ',\n",
       "       'SAN MARCOS', 'SAN MARTÍN', 'SAN MARTÍN DE LOBA', 'SAN MATEO',\n",
       "       'SAN MIGUEL', 'SAN MIGUEL DE SEMA', 'SAN ONOFRE', 'SAN PABLO',\n",
       "       'SAN PABLO DE BORBUR', 'SAN PEDRO', 'SAN PEDRO DE CARTAGO',\n",
       "       'SAN PEDRO DE URABÁ', 'SAN PELAYO', 'SAN RAFAEL', 'SAN ROQUE',\n",
       "       'SAN SEBASTIÁN', 'SAN SEBASTIÁN DE BUENAVISTA', 'SAN VICENTE',\n",
       "       'SAN VICENTE DE CHUCURÍ', 'SAN VICENTE DEL CAGUÁN', 'SANDONÁ',\n",
       "       'SANTA ANA', 'SANTA BÁRBARA', 'SANTA BÁRBARA DE PINTO',\n",
       "       'SANTA CATALINA', 'SANTA ISABEL', 'SANTA LUCÍA',\n",
       "       'SANTA MARTA (CT)', 'SANTA MARÍA', 'SANTA ROSA',\n",
       "       'SANTA ROSA DE CABAL', 'SANTA ROSA DE OSOS',\n",
       "       'SANTA ROSA DE VITERBO', 'SANTA ROSA DEL SUR', 'SANTA ROSALÍA',\n",
       "       'SANTA SOFÍA', 'SANTACRUZ', 'SANTAFÉ DE ANTIOQUIA', 'SANTANA',\n",
       "       'SANTANDER DE QUILICHAO', 'SANTIAGO', 'SANTIAGO DE TOLÚ',\n",
       "       'SANTO DOMINGO', 'SANTO TOMÁS', 'SANTUARIO', 'SAPUYES', 'SARAVENA',\n",
       "       'SARDINATA', 'SASAIMA', 'SATIVANORTE', 'SATIVASUR', 'SEGOVIA',\n",
       "       'SESQUILÉ', 'SEVILLA', 'SIACHOQUE', 'SIBATÉ', 'SIBUNDOY', 'SILOS',\n",
       "       'SILVANIA', 'SILVIA', 'SIMACOTA', 'SIMIJACA', 'SIMITÍ',\n",
       "       'SINCELEJO (CT)', 'SITIONUEVO', 'SOACHA', 'SOATÁ', 'SOCHA',\n",
       "       'SOCORRO', 'SOCOTÁ', 'SOGAMOSO', 'SOLEDAD', 'SOLITA', 'SONSON',\n",
       "       'SOPETRÁN', 'SOPLAVIENTO', 'SOPÓ', 'SORA', 'SORACÁ', 'SOTAQUIRÁ',\n",
       "       'SOTARA', 'SUAITA', 'SUAN', 'SUAZA', 'SUBACHOQUE', 'SUCRE',\n",
       "       'SUESCA', 'SUPATÁ', 'SUPÍA', 'SURATÁ', 'SUSA', 'SUSACÓN',\n",
       "       'SUTAMARCHÁN', 'SUTATAUSA', 'SUTATENZA', 'SUÁREZ', 'SÁCHICA',\n",
       "       'TABIO', 'TADÓ', 'TALAIGUA NUEVO', 'TAMALAMEQUE', 'TAME',\n",
       "       'TAMINANGO', 'TANGUA', 'TARAZÁ', 'TARQUI', 'TARSO', 'TASCO',\n",
       "       'TAURAMENA', 'TAUSA', 'TELLO', 'TENA', 'TENERIFE', 'TENJO',\n",
       "       'TENZA', 'TEORAMA', 'TERUEL', 'TESALIA', 'TIBACUY', 'TIBANÁ',\n",
       "       'TIBASOSA', 'TIBIRITA', 'TIBÚ', 'TIERRALTA', 'TIMANÁ', 'TIMBÍO',\n",
       "       'TINJACÁ', 'TIPACOQUE', 'TIQUISIO', 'TITIRIBÍ', 'TOCA', 'TOCAIMA',\n",
       "       'TOCANCIPÁ', 'TOGÜÍ', 'TOLEDO', 'TOLÚ VIEJO', 'TONA', 'TORIBIO',\n",
       "       'TORO', 'TOTA', 'TOTORÓ', 'TRINIDAD', 'TRUJILLO', 'TUBARÁ',\n",
       "       'TUCHÍN', 'TULUÁ', 'TUNJA (CT)', 'TURBACO', 'TURBANÁ', 'TURBO',\n",
       "       'TURMEQUÉ', 'TUTA', 'TUTAZÁ', 'TÁMARA', 'TÁMESIS', 'TÓPAGA',\n",
       "       'TÚQUERRES', 'UBALÁ', 'UBAQUE', 'ULLOA', 'UMBITA', 'UNE', 'UNGUÍA',\n",
       "       'UNIÓN PANAMERICANA', 'URAMITA', 'URIBE', 'URIBIA', 'URRAO',\n",
       "       'URUMITA', 'USIACURÍ', 'VALDIVIA', 'VALENCIA', 'VALLE DE SAN JOSÉ',\n",
       "       'VALLE DE SAN JUAN', 'VALLE DEL GUAMUEZ', 'VALLEDUPAR (CT)',\n",
       "       'VALPARAÍSO', 'VEGACHÍ', 'VENADILLO', 'VENECIA', 'VENTAQUEMADA',\n",
       "       'VERGARA', 'VERSALLES', 'VETAS', 'VIANÍ', 'VICTORIA',\n",
       "       'VIGÍA DEL FUERTE', 'VIJES', 'VILLA CARO', 'VILLA DE LEYVA',\n",
       "       'VILLA DE SAN DIEGO DE UBATE', 'VILLA DEL ROSARIO', 'VILLA RICA',\n",
       "       'VILLAGARZÓN', 'VILLAGÓMEZ', 'VILLAHERMOSA', 'VILLAMARÍA',\n",
       "       'VILLANUEVA', 'VILLAPINZÓN', 'VILLARRICA', 'VILLAVICENCIO (CT)',\n",
       "       'VILLAVIEJA', 'VILLETA', 'VIOTÁ', 'VIRACACHÁ', 'VISTAHERMOSA',\n",
       "       'VITERBO', 'VÉLEZ', 'YACOPÍ', 'YACUANQUER', 'YAGUARÁ', 'YALÍ',\n",
       "       'YARUMAL', 'YOLOMBÓ', 'YONDÓ', 'YOPAL (CT)', 'YOTOCO', 'YUMBO',\n",
       "       'ZAMBRANO', 'ZAPATOCA', 'ZAPAYÁN', 'ZARAGOZA', 'ZARZAL',\n",
       "       'ZETAQUIRA', 'ZIPACÓN', 'ZIPAQUIRÁ', 'ZONA BANANERA', 'ÚTICA'],\n",
       "      dtype=object)"
      ]
     },
     "execution_count": 15,
     "metadata": {},
     "output_type": "execute_result"
    }
   ],
   "source": [
    "#Guardar los municipios sin repeticiones y visualizar para validar errores de escritura\n",
    "municipios=df['MUNICIPIO'].unique()\n",
    "municipios.sort()\n",
    "municipios"
   ]
  },
  {
   "cell_type": "markdown",
   "id": "c15c02a9-4db6-416f-911e-b5897202e9ab",
   "metadata": {},
   "source": [
    "## Código DANE"
   ]
  },
  {
   "cell_type": "code",
   "execution_count": 16,
   "id": "c861e7ca-7af5-43fa-bd6b-2e9d57e5a57d",
   "metadata": {},
   "outputs": [
    {
     "data": {
      "text/plain": [
       "array([ 5376000,  8001000,  8421000, ..., 68682000, 27025000, 25368000],\n",
       "      dtype=int64)"
      ]
     },
     "execution_count": 16,
     "metadata": {},
     "output_type": "execute_result"
    }
   ],
   "source": [
    "#Guardar los municipios sin repeticiones y visualizar para validar consistencia de datos\n",
    "codigo_dane=df['CODIGO DANE'].unique()\n",
    "codigo_dane"
   ]
  },
  {
   "cell_type": "code",
   "execution_count": 17,
   "id": "6904d4e0-ac56-4541-941c-ec3cbdf18ee7",
   "metadata": {},
   "outputs": [
    {
     "data": {
      "text/plain": [
       "array(['5376', '8001', '8421', ..., '68682', '27025', '25368'],\n",
       "      dtype=object)"
      ]
     },
     "execution_count": 17,
     "metadata": {},
     "output_type": "execute_result"
    }
   ],
   "source": [
    "## Crear función para reemplazar los ceros al final\n",
    "def replace_zeros(codigo):\n",
    "    codigo=str(codigo)\n",
    "    codigo=codigo[:-3]\n",
    "    return codigo\n",
    "## Aplicar la función para eliminar los ceros y reemplzar el valor en el campo    \n",
    "df['CODIGO DANE']=df['CODIGO DANE'].apply(replace_zeros)\n",
    "\n",
    "codigo_dane=df['CODIGO DANE'].unique()\n",
    "codigo_dane\n",
    "    "
   ]
  },
  {
   "cell_type": "markdown",
   "id": "667a2db8-980a-4624-b2d5-d8fbe45127f3",
   "metadata": {},
   "source": [
    "## Género"
   ]
  },
  {
   "cell_type": "code",
   "execution_count": 18,
   "id": "cb430133-e0c7-47be-8206-62e6bcef0886",
   "metadata": {},
   "outputs": [
    {
     "data": {
      "text/plain": [
       "array(['MASCULINO', 'FEMENINO', 'NO REPORTA', 'NO REPORTADO'],\n",
       "      dtype=object)"
      ]
     },
     "execution_count": 18,
     "metadata": {},
     "output_type": "execute_result"
    }
   ],
   "source": [
    "#Guardar los generos sin repeticiones y visualizar para validar consistencia de datos\n",
    "genero=df['GENERO'].unique()\n",
    "genero"
   ]
  },
  {
   "cell_type": "code",
   "execution_count": 19,
   "id": "4d472d21-6d12-4fbd-87ca-088e38a9a864",
   "metadata": {},
   "outputs": [
    {
     "data": {
      "text/plain": [
       "array(['MASCULINO', 'FEMENINO', 'NO REPORTA'], dtype=object)"
      ]
     },
     "execution_count": 19,
     "metadata": {},
     "output_type": "execute_result"
    }
   ],
   "source": [
    "## Reemplazar el valor escrito de diferente manera para unificar\n",
    "df['GENERO']=df['GENERO'].replace({'NO REPORTADO': 'NO REPORTA'})\n",
    "genero=df['GENERO'].unique()\n",
    "genero"
   ]
  },
  {
   "cell_type": "markdown",
   "id": "7558be01-f7b3-4bbe-9220-1bd97faa832d",
   "metadata": {},
   "source": [
    "## Grupo etario"
   ]
  },
  {
   "cell_type": "code",
   "execution_count": 20,
   "id": "24580256-f9df-45b2-aa1d-87b1221e0640",
   "metadata": {},
   "outputs": [
    {
     "data": {
      "text/plain": [
       "array(['ADULTOS', 'ADOLESCENTES', 'MENORES', 'NO REPORTADO'], dtype=object)"
      ]
     },
     "execution_count": 20,
     "metadata": {},
     "output_type": "execute_result"
    }
   ],
   "source": [
    "#Guardar los grupos etaríos sin repeticiones y visualizar para validar consistencia de datos\n",
    "grupo_etario=df['GRUPO ETARÍO'].unique()\n",
    "grupo_etario"
   ]
  },
  {
   "cell_type": "markdown",
   "id": "2500e722-eeab-4b98-a47d-cde5107a3892",
   "metadata": {},
   "source": [
    "## Armas / Medios"
   ]
  },
  {
   "cell_type": "code",
   "execution_count": 21,
   "id": "113ae587-cbff-4d5c-83b1-2197de6dc5a0",
   "metadata": {},
   "outputs": [
    {
     "data": {
      "text/plain": [
       "array(['MOTO', 'VEHICULO', 'NO REPORTADO', 'BICICLETA',\n",
       "       'SIN EMPLEO DE ARMAS', 'TREN', 'CONTUNDENTES'], dtype=object)"
      ]
     },
     "execution_count": 21,
     "metadata": {},
     "output_type": "execute_result"
    }
   ],
   "source": [
    "#Guardar los grupos etaríos sin repeticiones y visualizar para validar consistencia de datos\n",
    "armas_medios=df['ARMAS MEDIOS'].unique()\n",
    "armas_medios"
   ]
  },
  {
   "cell_type": "markdown",
   "id": "cdd22fb1-892c-4c90-8bc9-af12839be80f",
   "metadata": {},
   "source": [
    "## Fecha"
   ]
  },
  {
   "cell_type": "code",
   "execution_count": 22,
   "id": "70bda02b-ec9a-40c1-9d10-d8c1f49cb081",
   "metadata": {},
   "outputs": [
    {
     "data": {
      "text/plain": [
       "0       2010-01-01\n",
       "1       2010-01-01\n",
       "2       2010-01-01\n",
       "3       2010-01-01\n",
       "4       2010-01-01\n",
       "           ...    \n",
       "59805   2022-04-16\n",
       "59806   2022-02-20\n",
       "59807   2022-02-20\n",
       "59808   2022-04-16\n",
       "59809   2022-04-16\n",
       "Name: FECHA HECHO, Length: 59805, dtype: datetime64[ns]"
      ]
     },
     "execution_count": 22,
     "metadata": {},
     "output_type": "execute_result"
    }
   ],
   "source": [
    "## Obtener las fechas y tratar de convertir para detectar errores de fecha\n",
    "fecha=df['FECHA HECHO']\n",
    "pd.to_datetime(fecha,format='%d/%m/%Y')"
   ]
  },
  {
   "cell_type": "markdown",
   "id": "00733df0-0510-4161-804e-e1ca26dcc4dc",
   "metadata": {},
   "source": [
    "## Descripción"
   ]
  },
  {
   "cell_type": "code",
   "execution_count": 23,
   "id": "38d74cb7-cf93-42b5-8ef1-4f838cbfb728",
   "metadata": {},
   "outputs": [
    {
     "data": {
      "text/plain": [
       "array(['ARTÍCULO 109. HOMICIDIO CULPOSO ( EN ACCIDENTE DE TRÁNSITO)',\n",
       "       'ARTÍCULO 110. HOMICIDIO CULPOSO ( CIRCUNSTANCIAS DE AGRAVACIÓN)'],\n",
       "      dtype=object)"
      ]
     },
     "execution_count": 23,
     "metadata": {},
     "output_type": "execute_result"
    }
   ],
   "source": [
    "df['DESCRIPCIÓN CONDUCTA'].unique()"
   ]
  },
  {
   "cell_type": "markdown",
   "id": "1d76fc0c-3afa-4b28-9f88-2e10dee18480",
   "metadata": {},
   "source": [
    "# Guardar archivo nuevo"
   ]
  },
  {
   "cell_type": "code",
   "execution_count": 25,
   "id": "c0191716-e6c9-466d-8a90-15d716d69d7a",
   "metadata": {},
   "outputs": [],
   "source": [
    "df.to_csv('../data/accidentesV2.csv', index=False)"
   ]
  },
  {
   "cell_type": "code",
   "execution_count": null,
   "id": "b46f8643-d13d-4f47-a696-c55d496d8bf1",
   "metadata": {},
   "outputs": [],
   "source": []
  }
 ],
 "metadata": {
  "kernelspec": {
   "display_name": "Python 3 (ipykernel)",
   "language": "python",
   "name": "python3"
  },
  "language_info": {
   "codemirror_mode": {
    "name": "ipython",
    "version": 3
   },
   "file_extension": ".py",
   "mimetype": "text/x-python",
   "name": "python",
   "nbconvert_exporter": "python",
   "pygments_lexer": "ipython3",
   "version": "3.9.12"
  }
 },
 "nbformat": 4,
 "nbformat_minor": 5
}
