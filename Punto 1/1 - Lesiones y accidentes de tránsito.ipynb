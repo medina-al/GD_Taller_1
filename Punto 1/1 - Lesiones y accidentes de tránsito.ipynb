{
 "cells": [
  {
   "cell_type": "code",
   "execution_count": 9,
   "id": "3b05e6a2-89be-47dc-a694-60770106746f",
   "metadata": {},
   "outputs": [],
   "source": [
    "##Importar las librerías requeridas para el análisis\n",
    "import numpy as np\n",
    "import pandas as pd\n",
    "\n",
    "import matplotlib.pyplot as plt\n",
    "\n",
    "%matplotlib inline"
   ]
  },
  {
   "cell_type": "code",
   "execution_count": 10,
   "id": "4e374108-1d4c-4196-a3f7-9cb28a635db0",
   "metadata": {},
   "outputs": [],
   "source": [
    "##Definir tamaño máximo de filas a mostrar\n",
    "pd.set_option('display.max_rows', 100)"
   ]
  },
  {
   "cell_type": "code",
   "execution_count": 11,
   "id": "82186d4c-a126-4b2c-b26c-1a2a089c5116",
   "metadata": {},
   "outputs": [],
   "source": [
    "##Importar el dataset del CSV\n",
    "df = pd.read_csv('./data/accidentes.csv')"
   ]
  },
  {
   "cell_type": "code",
   "execution_count": 12,
   "id": "48c9173b-15fd-4fa6-8e65-63831ebf5559",
   "metadata": {},
   "outputs": [
    {
     "data": {
      "text/html": [
       "<div>\n",
       "<style scoped>\n",
       "    .dataframe tbody tr th:only-of-type {\n",
       "        vertical-align: middle;\n",
       "    }\n",
       "\n",
       "    .dataframe tbody tr th {\n",
       "        vertical-align: top;\n",
       "    }\n",
       "\n",
       "    .dataframe thead th {\n",
       "        text-align: right;\n",
       "    }\n",
       "</style>\n",
       "<table border=\"1\" class=\"dataframe\">\n",
       "  <thead>\n",
       "    <tr style=\"text-align: right;\">\n",
       "      <th></th>\n",
       "      <th>DEPARTAMENTO</th>\n",
       "      <th>MUNICIPIO</th>\n",
       "      <th>CODIGO DANE</th>\n",
       "      <th>ARMAS MEDIOS</th>\n",
       "      <th>FECHA HECHO</th>\n",
       "      <th>GENERO</th>\n",
       "      <th>GRUPO ETARÍO</th>\n",
       "      <th>DESCRIPCIÓN CONDUCTA</th>\n",
       "      <th>CANTIDAD</th>\n",
       "    </tr>\n",
       "  </thead>\n",
       "  <tbody>\n",
       "    <tr>\n",
       "      <th>0</th>\n",
       "      <td>ANTIOQUIA</td>\n",
       "      <td>LA CEJA</td>\n",
       "      <td>5376000</td>\n",
       "      <td>MOTO</td>\n",
       "      <td>1/01/2010</td>\n",
       "      <td>MASCULINO</td>\n",
       "      <td>ADULTOS</td>\n",
       "      <td>ARTÍCULO 109. HOMICIDIO CULPOSO ( EN ACCIDENTE...</td>\n",
       "      <td>1</td>\n",
       "    </tr>\n",
       "    <tr>\n",
       "      <th>1</th>\n",
       "      <td>ATLÁNTICO</td>\n",
       "      <td>BARRANQUILLA (CT)</td>\n",
       "      <td>8001000</td>\n",
       "      <td>MOTO</td>\n",
       "      <td>1/01/2010</td>\n",
       "      <td>FEMENINO</td>\n",
       "      <td>ADULTOS</td>\n",
       "      <td>ARTÍCULO 109. HOMICIDIO CULPOSO ( EN ACCIDENTE...</td>\n",
       "      <td>1</td>\n",
       "    </tr>\n",
       "    <tr>\n",
       "      <th>2</th>\n",
       "      <td>ATLÁNTICO</td>\n",
       "      <td>LURUACO</td>\n",
       "      <td>8421000</td>\n",
       "      <td>MOTO</td>\n",
       "      <td>1/01/2010</td>\n",
       "      <td>MASCULINO</td>\n",
       "      <td>ADULTOS</td>\n",
       "      <td>ARTÍCULO 109. HOMICIDIO CULPOSO ( EN ACCIDENTE...</td>\n",
       "      <td>1</td>\n",
       "    </tr>\n",
       "    <tr>\n",
       "      <th>3</th>\n",
       "      <td>CAQUETÁ</td>\n",
       "      <td>PUERTO RICO</td>\n",
       "      <td>18592000</td>\n",
       "      <td>MOTO</td>\n",
       "      <td>1/01/2010</td>\n",
       "      <td>MASCULINO</td>\n",
       "      <td>ADOLESCENTES</td>\n",
       "      <td>ARTÍCULO 109. HOMICIDIO CULPOSO ( EN ACCIDENTE...</td>\n",
       "      <td>1</td>\n",
       "    </tr>\n",
       "    <tr>\n",
       "      <th>4</th>\n",
       "      <td>CASANARE</td>\n",
       "      <td>AGUAZUL</td>\n",
       "      <td>85010000</td>\n",
       "      <td>MOTO</td>\n",
       "      <td>1/01/2010</td>\n",
       "      <td>MASCULINO</td>\n",
       "      <td>ADULTOS</td>\n",
       "      <td>ARTÍCULO 109. HOMICIDIO CULPOSO ( EN ACCIDENTE...</td>\n",
       "      <td>1</td>\n",
       "    </tr>\n",
       "  </tbody>\n",
       "</table>\n",
       "</div>"
      ],
      "text/plain": [
       "  DEPARTAMENTO          MUNICIPIO  CODIGO DANE ARMAS MEDIOS FECHA HECHO  \\\n",
       "0    ANTIOQUIA            LA CEJA      5376000         MOTO   1/01/2010   \n",
       "1    ATLÁNTICO  BARRANQUILLA (CT)      8001000         MOTO   1/01/2010   \n",
       "2    ATLÁNTICO            LURUACO      8421000         MOTO   1/01/2010   \n",
       "3      CAQUETÁ        PUERTO RICO     18592000         MOTO   1/01/2010   \n",
       "4     CASANARE            AGUAZUL     85010000         MOTO   1/01/2010   \n",
       "\n",
       "      GENERO  GRUPO ETARÍO                               DESCRIPCIÓN CONDUCTA  \\\n",
       "0  MASCULINO       ADULTOS  ARTÍCULO 109. HOMICIDIO CULPOSO ( EN ACCIDENTE...   \n",
       "1   FEMENINO       ADULTOS  ARTÍCULO 109. HOMICIDIO CULPOSO ( EN ACCIDENTE...   \n",
       "2  MASCULINO       ADULTOS  ARTÍCULO 109. HOMICIDIO CULPOSO ( EN ACCIDENTE...   \n",
       "3  MASCULINO  ADOLESCENTES  ARTÍCULO 109. HOMICIDIO CULPOSO ( EN ACCIDENTE...   \n",
       "4  MASCULINO       ADULTOS  ARTÍCULO 109. HOMICIDIO CULPOSO ( EN ACCIDENTE...   \n",
       "\n",
       "   CANTIDAD  \n",
       "0         1  \n",
       "1         1  \n",
       "2         1  \n",
       "3         1  \n",
       "4         1  "
      ]
     },
     "execution_count": 12,
     "metadata": {},
     "output_type": "execute_result"
    }
   ],
   "source": [
    "##Visualizar los primeros datos\n",
    "df.head()"
   ]
  },
  {
   "cell_type": "code",
   "execution_count": 14,
   "id": "b2988b45-b48c-4c08-99fd-55726f0795a9",
   "metadata": {},
   "outputs": [
    {
     "data": {
      "text/plain": [
       "(59810, 9)"
      ]
     },
     "execution_count": 14,
     "metadata": {},
     "output_type": "execute_result"
    }
   ],
   "source": [
    "## Ver el tamaño del dataset\n",
    "df.shape"
   ]
  },
  {
   "cell_type": "code",
   "execution_count": 15,
   "id": "5a42241a-cf14-4a1b-804d-c34728ee60c8",
   "metadata": {},
   "outputs": [
    {
     "data": {
      "text/plain": [
       "DEPARTAMENTO            object\n",
       "MUNICIPIO               object\n",
       "CODIGO DANE              int64\n",
       "ARMAS MEDIOS            object\n",
       "FECHA HECHO             object\n",
       "GENERO                  object\n",
       "GRUPO ETARÍO            object\n",
       "DESCRIPCIÓN CONDUCTA    object\n",
       "CANTIDAD                 int64\n",
       "dtype: object"
      ]
     },
     "execution_count": 15,
     "metadata": {},
     "output_type": "execute_result"
    }
   ],
   "source": [
    "## Ver los tipos de datos de las columnas\n",
    "df.dtypes"
   ]
  },
  {
   "cell_type": "code",
   "execution_count": 21,
   "id": "b8362d05-f317-4b42-bf36-53660fecf6fc",
   "metadata": {},
   "outputs": [
    {
     "data": {
      "text/plain": [
       "array([18, 27,  8, 19, 10, 12, 12, 63,  2])"
      ]
     },
     "execution_count": 21,
     "metadata": {},
     "output_type": "execute_result"
    }
   ],
   "source": [
    "## Calcular la longitud máxima de cada campo\n",
    "measurer = np.vectorize(len)\n",
    "res1 = measurer(df.values.astype(str)).max(axis=0)\n",
    "res1"
   ]
  },
  {
   "cell_type": "code",
   "execution_count": 23,
   "id": "812dee4a-aa60-4e64-9ee3-8381fd7b1eb9",
   "metadata": {},
   "outputs": [
    {
     "data": {
      "text/html": [
       "<div>\n",
       "<style scoped>\n",
       "    .dataframe tbody tr th:only-of-type {\n",
       "        vertical-align: middle;\n",
       "    }\n",
       "\n",
       "    .dataframe tbody tr th {\n",
       "        vertical-align: top;\n",
       "    }\n",
       "\n",
       "    .dataframe thead th {\n",
       "        text-align: right;\n",
       "    }\n",
       "</style>\n",
       "<table border=\"1\" class=\"dataframe\">\n",
       "  <thead>\n",
       "    <tr style=\"text-align: right;\">\n",
       "      <th></th>\n",
       "      <th>CODIGO DANE</th>\n",
       "      <th>CANTIDAD</th>\n",
       "    </tr>\n",
       "  </thead>\n",
       "  <tbody>\n",
       "    <tr>\n",
       "      <th>count</th>\n",
       "      <td>5.981000e+04</td>\n",
       "      <td>59810.000000</td>\n",
       "    </tr>\n",
       "    <tr>\n",
       "      <th>mean</th>\n",
       "      <td>3.847246e+07</td>\n",
       "      <td>1.098111</td>\n",
       "    </tr>\n",
       "    <tr>\n",
       "      <th>std</th>\n",
       "      <td>2.740403e+07</td>\n",
       "      <td>0.371723</td>\n",
       "    </tr>\n",
       "    <tr>\n",
       "      <th>min</th>\n",
       "      <td>5.001000e+06</td>\n",
       "      <td>1.000000</td>\n",
       "    </tr>\n",
       "    <tr>\n",
       "      <th>25%</th>\n",
       "      <td>1.300100e+07</td>\n",
       "      <td>1.000000</td>\n",
       "    </tr>\n",
       "    <tr>\n",
       "      <th>50%</th>\n",
       "      <td>2.575400e+07</td>\n",
       "      <td>1.000000</td>\n",
       "    </tr>\n",
       "    <tr>\n",
       "      <th>75%</th>\n",
       "      <td>6.808100e+07</td>\n",
       "      <td>1.000000</td>\n",
       "    </tr>\n",
       "    <tr>\n",
       "      <th>max</th>\n",
       "      <td>9.977300e+07</td>\n",
       "      <td>10.000000</td>\n",
       "    </tr>\n",
       "  </tbody>\n",
       "</table>\n",
       "</div>"
      ],
      "text/plain": [
       "        CODIGO DANE      CANTIDAD\n",
       "count  5.981000e+04  59810.000000\n",
       "mean   3.847246e+07      1.098111\n",
       "std    2.740403e+07      0.371723\n",
       "min    5.001000e+06      1.000000\n",
       "25%    1.300100e+07      1.000000\n",
       "50%    2.575400e+07      1.000000\n",
       "75%    6.808100e+07      1.000000\n",
       "max    9.977300e+07     10.000000"
      ]
     },
     "execution_count": 23,
     "metadata": {},
     "output_type": "execute_result"
    }
   ],
   "source": [
    "df.describe()"
   ]
  },
  {
   "cell_type": "markdown",
   "id": "3b68a474-770e-4eef-8d16-2de40a9a217a",
   "metadata": {
    "tags": []
   },
   "source": [
    "# Análisis por campos"
   ]
  },
  {
   "cell_type": "code",
   "execution_count": 34,
   "id": "45895f67-c2c5-4a7e-b63e-e16cf0c3458d",
   "metadata": {},
   "outputs": [
    {
     "data": {
      "text/plain": [
       "DEPARTAMENTO            0\n",
       "MUNICIPIO               0\n",
       "CODIGO DANE             0\n",
       "ARMAS MEDIOS            0\n",
       "FECHA HECHO             0\n",
       "GENERO                  0\n",
       "GRUPO ETARÍO            0\n",
       "DESCRIPCIÓN CONDUCTA    0\n",
       "CANTIDAD                0\n",
       "dtype: int64"
      ]
     },
     "execution_count": 34,
     "metadata": {},
     "output_type": "execute_result"
    }
   ],
   "source": [
    "# Buscar valores nulos por cada campo\n",
    "df.isnull().sum()"
   ]
  },
  {
   "cell_type": "code",
   "execution_count": null,
   "id": "0740bad5-9d6a-48e9-aecf-7faa8b86fc39",
   "metadata": {},
   "outputs": [],
   "source": [
    "## Encontrar valores duplicados\n",
    "df[df.duplicated(keep=False)]"
   ]
  },
  {
   "cell_type": "code",
   "execution_count": 98,
   "id": "8cf10c8e-48e4-40ab-a1c5-f6a867947ede",
   "metadata": {},
   "outputs": [],
   "source": [
    "## Eliminar filas duplicadas\n",
    "df=df.drop_duplicates()"
   ]
  },
  {
   "cell_type": "code",
   "execution_count": 99,
   "id": "3e59e24a-44b2-4ba7-b6f9-6284be65cf0a",
   "metadata": {},
   "outputs": [
    {
     "data": {
      "text/html": [
       "<div>\n",
       "<style scoped>\n",
       "    .dataframe tbody tr th:only-of-type {\n",
       "        vertical-align: middle;\n",
       "    }\n",
       "\n",
       "    .dataframe tbody tr th {\n",
       "        vertical-align: top;\n",
       "    }\n",
       "\n",
       "    .dataframe thead th {\n",
       "        text-align: right;\n",
       "    }\n",
       "</style>\n",
       "<table border=\"1\" class=\"dataframe\">\n",
       "  <thead>\n",
       "    <tr style=\"text-align: right;\">\n",
       "      <th></th>\n",
       "      <th>CODIGO DANE</th>\n",
       "      <th>CANTIDAD</th>\n",
       "    </tr>\n",
       "  </thead>\n",
       "  <tbody>\n",
       "    <tr>\n",
       "      <th>count</th>\n",
       "      <td>5.980500e+04</td>\n",
       "      <td>59805.000000</td>\n",
       "    </tr>\n",
       "    <tr>\n",
       "      <th>mean</th>\n",
       "      <td>3.847388e+07</td>\n",
       "      <td>1.098119</td>\n",
       "    </tr>\n",
       "    <tr>\n",
       "      <th>std</th>\n",
       "      <td>2.740438e+07</td>\n",
       "      <td>0.371737</td>\n",
       "    </tr>\n",
       "    <tr>\n",
       "      <th>min</th>\n",
       "      <td>5.001000e+06</td>\n",
       "      <td>1.000000</td>\n",
       "    </tr>\n",
       "    <tr>\n",
       "      <th>25%</th>\n",
       "      <td>1.300100e+07</td>\n",
       "      <td>1.000000</td>\n",
       "    </tr>\n",
       "    <tr>\n",
       "      <th>50%</th>\n",
       "      <td>2.575400e+07</td>\n",
       "      <td>1.000000</td>\n",
       "    </tr>\n",
       "    <tr>\n",
       "      <th>75%</th>\n",
       "      <td>6.808100e+07</td>\n",
       "      <td>1.000000</td>\n",
       "    </tr>\n",
       "    <tr>\n",
       "      <th>max</th>\n",
       "      <td>9.977300e+07</td>\n",
       "      <td>10.000000</td>\n",
       "    </tr>\n",
       "  </tbody>\n",
       "</table>\n",
       "</div>"
      ],
      "text/plain": [
       "        CODIGO DANE      CANTIDAD\n",
       "count  5.980500e+04  59805.000000\n",
       "mean   3.847388e+07      1.098119\n",
       "std    2.740438e+07      0.371737\n",
       "min    5.001000e+06      1.000000\n",
       "25%    1.300100e+07      1.000000\n",
       "50%    2.575400e+07      1.000000\n",
       "75%    6.808100e+07      1.000000\n",
       "max    9.977300e+07     10.000000"
      ]
     },
     "execution_count": 99,
     "metadata": {},
     "output_type": "execute_result"
    }
   ],
   "source": [
    "## Validar la nueva cantidad de filas\n",
    "df.describe()"
   ]
  },
  {
   "cell_type": "markdown",
   "id": "378c29b0-efa7-4fb8-a978-662b7da2f064",
   "metadata": {},
   "source": [
    "## Departamento"
   ]
  },
  {
   "cell_type": "code",
   "execution_count": 37,
   "id": "4b5b897f-8eaa-403a-941e-f43e27093e50",
   "metadata": {},
   "outputs": [
    {
     "data": {
      "text/plain": [
       "array(['ANTIOQUIA', 'ATLÁNTICO', 'CAQUETÁ', 'CASANARE', 'CESAR',\n",
       "       'GUAJIRA', 'HUILA', 'NARIÑO', 'RISARALDA', 'SANTANDER', 'CÓRDOBA',\n",
       "       'CUNDINAMARCA', 'TOLIMA', 'VALLE', 'MAGDALENA', 'BOYACÁ', 'CAUCA',\n",
       "       'NORTE DE SANTANDER', 'SUCRE', 'META', 'QUINDÍO', 'BOLÍVAR',\n",
       "       'CALDAS', 'ARAUCA', 'PUTUMAYO', 'SAN ANDRÉS', 'GUAVIARE',\n",
       "       'AMAZONAS', 'VICHADA', 'CHOCÓ', 'GUAINÍA', 'VAUPÉS'], dtype=object)"
      ]
     },
     "execution_count": 37,
     "metadata": {},
     "output_type": "execute_result"
    }
   ],
   "source": [
    "#Guardar los departamentos sin repeticiones y visualizar para validar errores de escritura\n",
    "departamentos=df['DEPARTAMENTO'].unique()\n",
    "departamentos"
   ]
  },
  {
   "cell_type": "code",
   "execution_count": 38,
   "id": "a2346522-e7f6-4ebc-afbb-8da1776c5ac9",
   "metadata": {},
   "outputs": [
    {
     "data": {
      "text/plain": [
       "32"
      ]
     },
     "execution_count": 38,
     "metadata": {},
     "output_type": "execute_result"
    }
   ],
   "source": [
    "#Validar que la cantidad de departamentos sea correcta con la realidad - OK\n",
    "len(departamentos)"
   ]
  },
  {
   "cell_type": "markdown",
   "id": "08f4a9d5-46bb-463d-9852-992e844503b1",
   "metadata": {},
   "source": [
    "## Municipio"
   ]
  },
  {
   "cell_type": "code",
   "execution_count": null,
   "id": "3a25fd91-3ff4-4187-8ca6-bf6b1460bfa9",
   "metadata": {},
   "outputs": [],
   "source": [
    "#Guardar los municipios sin repeticiones y visualizar para validar errores de escritura\n",
    "municipios=df['MUNICIPIO'].unique()\n",
    "municipios.sort()\n",
    "municipios"
   ]
  },
  {
   "cell_type": "markdown",
   "id": "c15c02a9-4db6-416f-911e-b5897202e9ab",
   "metadata": {},
   "source": [
    "## Código DANE"
   ]
  },
  {
   "cell_type": "code",
   "execution_count": 54,
   "id": "c861e7ca-7af5-43fa-bd6b-2e9d57e5a57d",
   "metadata": {},
   "outputs": [
    {
     "data": {
      "text/plain": [
       "array([ 5376000,  8001000,  8421000, ..., 68682000, 27025000, 25368000],\n",
       "      dtype=int64)"
      ]
     },
     "execution_count": 54,
     "metadata": {},
     "output_type": "execute_result"
    }
   ],
   "source": [
    "#Guardar los municipios sin repeticiones y visualizar para validar consistencia de datos\n",
    "codigo_dane=df['CODIGO DANE'].unique()\n",
    "codigo_dane"
   ]
  },
  {
   "cell_type": "code",
   "execution_count": 59,
   "id": "6904d4e0-ac56-4541-941c-ec3cbdf18ee7",
   "metadata": {},
   "outputs": [
    {
     "data": {
      "text/plain": [
       "array(['5376', '8001', '8421', ..., '68682', '27025', '25368'],\n",
       "      dtype=object)"
      ]
     },
     "execution_count": 59,
     "metadata": {},
     "output_type": "execute_result"
    }
   ],
   "source": [
    "## Crear función para reemplazar los ceros al final\n",
    "def replace_zeros(codigo):\n",
    "    codigo=str(codigo)\n",
    "    codigo=codigo[:-3]\n",
    "    return codigo\n",
    "## Aplicar la función para eliminar los ceros y reemplzar el valor en el campo    \n",
    "df['CODIGO DANE']=df['CODIGO DANE'].apply(replace_zeros)\n",
    "\n",
    "codigo_dane=df['CODIGO DANE'].unique()\n",
    "codigo_dane\n",
    "    "
   ]
  },
  {
   "cell_type": "markdown",
   "id": "667a2db8-980a-4624-b2d5-d8fbe45127f3",
   "metadata": {},
   "source": [
    "## Género"
   ]
  },
  {
   "cell_type": "code",
   "execution_count": 60,
   "id": "cb430133-e0c7-47be-8206-62e6bcef0886",
   "metadata": {},
   "outputs": [
    {
     "data": {
      "text/plain": [
       "array(['MASCULINO', 'FEMENINO', 'NO REPORTA', 'NO REPORTADO'],\n",
       "      dtype=object)"
      ]
     },
     "execution_count": 60,
     "metadata": {},
     "output_type": "execute_result"
    }
   ],
   "source": [
    "#Guardar los generos sin repeticiones y visualizar para validar consistencia de datos\n",
    "genero=df['GENERO'].unique()\n",
    "genero"
   ]
  },
  {
   "cell_type": "code",
   "execution_count": 61,
   "id": "4d472d21-6d12-4fbd-87ca-088e38a9a864",
   "metadata": {},
   "outputs": [
    {
     "data": {
      "text/plain": [
       "array(['MASCULINO', 'FEMENINO', 'NO REPORTA'], dtype=object)"
      ]
     },
     "execution_count": 61,
     "metadata": {},
     "output_type": "execute_result"
    }
   ],
   "source": [
    "## Reemplazar el valor escrito de diferente manera para unificar\n",
    "df['GENERO']=df['GENERO'].replace({'NO REPORTADO': 'NO REPORTA'})\n",
    "genero=df['GENERO'].unique()\n",
    "genero"
   ]
  },
  {
   "cell_type": "markdown",
   "id": "7558be01-f7b3-4bbe-9220-1bd97faa832d",
   "metadata": {},
   "source": [
    "## Grupo etario"
   ]
  },
  {
   "cell_type": "code",
   "execution_count": 63,
   "id": "24580256-f9df-45b2-aa1d-87b1221e0640",
   "metadata": {},
   "outputs": [
    {
     "data": {
      "text/plain": [
       "array(['ADULTOS', 'ADOLESCENTES', 'MENORES', 'NO REPORTADO'], dtype=object)"
      ]
     },
     "execution_count": 63,
     "metadata": {},
     "output_type": "execute_result"
    }
   ],
   "source": [
    "#Guardar los grupos etaríos sin repeticiones y visualizar para validar consistencia de datos\n",
    "grupo_etario=df['GRUPO ETARÍO'].unique()\n",
    "grupo_etario"
   ]
  },
  {
   "cell_type": "markdown",
   "id": "2500e722-eeab-4b98-a47d-cde5107a3892",
   "metadata": {},
   "source": [
    "## Armas / Medios"
   ]
  },
  {
   "cell_type": "code",
   "execution_count": 65,
   "id": "113ae587-cbff-4d5c-83b1-2197de6dc5a0",
   "metadata": {},
   "outputs": [
    {
     "data": {
      "text/plain": [
       "array(['MOTO', 'VEHICULO', 'NO REPORTADO', 'BICICLETA',\n",
       "       'SIN EMPLEO DE ARMAS', 'TREN', 'CONTUNDENTES'], dtype=object)"
      ]
     },
     "execution_count": 65,
     "metadata": {},
     "output_type": "execute_result"
    }
   ],
   "source": [
    "#Guardar los grupos etaríos sin repeticiones y visualizar para validar consistencia de datos\n",
    "armas_medios=df['ARMAS MEDIOS'].unique()\n",
    "armas_medios"
   ]
  },
  {
   "cell_type": "markdown",
   "id": "cdd22fb1-892c-4c90-8bc9-af12839be80f",
   "metadata": {},
   "source": [
    "## Fecha"
   ]
  },
  {
   "cell_type": "code",
   "execution_count": 79,
   "id": "70bda02b-ec9a-40c1-9d10-d8c1f49cb081",
   "metadata": {},
   "outputs": [
    {
     "data": {
      "text/plain": [
       "0       2010-01-01\n",
       "1       2010-01-01\n",
       "2       2010-01-01\n",
       "3       2010-01-01\n",
       "4       2010-01-01\n",
       "           ...    \n",
       "59805   2022-04-16\n",
       "59806   2022-02-20\n",
       "59807   2022-02-20\n",
       "59808   2022-04-16\n",
       "59809   2022-04-16\n",
       "Name: FECHA HECHO, Length: 59810, dtype: datetime64[ns]"
      ]
     },
     "execution_count": 79,
     "metadata": {},
     "output_type": "execute_result"
    }
   ],
   "source": [
    "## Obtener las fechas y tratar de convertir para detectar errores de fecha\n",
    "fecha=df['FECHA HECHO']\n",
    "pd.to_datetime(fecha,format='%d/%m/%Y')"
   ]
  },
  {
   "cell_type": "code",
   "execution_count": 100,
   "id": "38d74cb7-cf93-42b5-8ef1-4f838cbfb728",
   "metadata": {},
   "outputs": [
    {
     "data": {
      "text/plain": [
       "0        ARTÍCULO 109. HOMICIDIO CULPOSO ( EN ACCIDENTE...\n",
       "1        ARTÍCULO 109. HOMICIDIO CULPOSO ( EN ACCIDENTE...\n",
       "2        ARTÍCULO 109. HOMICIDIO CULPOSO ( EN ACCIDENTE...\n",
       "3        ARTÍCULO 109. HOMICIDIO CULPOSO ( EN ACCIDENTE...\n",
       "4        ARTÍCULO 109. HOMICIDIO CULPOSO ( EN ACCIDENTE...\n",
       "                               ...                        \n",
       "59805    ARTÍCULO 109. HOMICIDIO CULPOSO ( EN ACCIDENTE...\n",
       "59806    ARTÍCULO 109. HOMICIDIO CULPOSO ( EN ACCIDENTE...\n",
       "59807    ARTÍCULO 109. HOMICIDIO CULPOSO ( EN ACCIDENTE...\n",
       "59808    ARTÍCULO 109. HOMICIDIO CULPOSO ( EN ACCIDENTE...\n",
       "59809    ARTÍCULO 109. HOMICIDIO CULPOSO ( EN ACCIDENTE...\n",
       "Name: DESCRIPCIÓN CONDUCTA, Length: 59805, dtype: object"
      ]
     },
     "execution_count": 100,
     "metadata": {},
     "output_type": "execute_result"
    }
   ],
   "source": [
    "df['DESCRIPCIÓN CONDUCTA']"
   ]
  },
  {
   "cell_type": "code",
   "execution_count": null,
   "id": "080417e4-7aa0-4ea4-bd87-186354c14903",
   "metadata": {},
   "outputs": [],
   "source": []
  }
 ],
 "metadata": {
  "kernelspec": {
   "display_name": "Python 3 (ipykernel)",
   "language": "python",
   "name": "python3"
  },
  "language_info": {
   "codemirror_mode": {
    "name": "ipython",
    "version": 3
   },
   "file_extension": ".py",
   "mimetype": "text/x-python",
   "name": "python",
   "nbconvert_exporter": "python",
   "pygments_lexer": "ipython3",
   "version": "3.9.12"
  }
 },
 "nbformat": 4,
 "nbformat_minor": 5
}
