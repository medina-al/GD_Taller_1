{
 "cells": [
  {
   "cell_type": "markdown",
   "id": "4d0b216c",
   "metadata": {},
   "source": [
    "### 1. Aspectos más relevantes encontrados en el dataset de hurto a comercio y viviendas"
   ]
  },
  {
   "cell_type": "code",
   "execution_count": 40,
   "id": "3b05e6a2-89be-47dc-a694-60770106746f",
   "metadata": {},
   "outputs": [],
   "source": [
    "##Importar las librerías requeridas para el análisis\n",
    "import numpy as np\n",
    "import pandas as pd\n",
    "\n",
    "import matplotlib.pyplot as plt\n",
    "\n",
    "%matplotlib inline"
   ]
  },
  {
   "cell_type": "code",
   "execution_count": 41,
   "id": "4e374108-1d4c-4196-a3f7-9cb28a635db0",
   "metadata": {},
   "outputs": [],
   "source": [
    "##Definir tamaño máximo de filas a mostrar\n",
    "pd.set_option('display.max_rows', 100)"
   ]
  },
  {
   "cell_type": "code",
   "execution_count": 42,
   "id": "82186d4c-a126-4b2c-b26c-1a2a089c5116",
   "metadata": {},
   "outputs": [],
   "source": [
    "##Importar el dataset del CSV\n",
    "comercio_df = pd.read_csv('../data/hurto_comercio.csv', low_memory = False)"
   ]
  },
  {
   "cell_type": "code",
   "execution_count": 43,
   "id": "48c9173b-15fd-4fa6-8e65-63831ebf5559",
   "metadata": {},
   "outputs": [
    {
     "data": {
      "text/html": [
       "<div>\n",
       "<style scoped>\n",
       "    .dataframe tbody tr th:only-of-type {\n",
       "        vertical-align: middle;\n",
       "    }\n",
       "\n",
       "    .dataframe tbody tr th {\n",
       "        vertical-align: top;\n",
       "    }\n",
       "\n",
       "    .dataframe thead th {\n",
       "        text-align: right;\n",
       "    }\n",
       "</style>\n",
       "<table border=\"1\" class=\"dataframe\">\n",
       "  <thead>\n",
       "    <tr style=\"text-align: right;\">\n",
       "      <th></th>\n",
       "      <th>DEPARTAMENTO</th>\n",
       "      <th>MUNICIPIO</th>\n",
       "      <th>CODIGO DANE</th>\n",
       "      <th>ARMAS MEDIOS</th>\n",
       "      <th>FECHA HECHO</th>\n",
       "      <th>GENERO</th>\n",
       "      <th>GRUPO ETARIO</th>\n",
       "      <th>TIPO DE HURTO</th>\n",
       "      <th>CANTIDAD</th>\n",
       "    </tr>\n",
       "  </thead>\n",
       "  <tbody>\n",
       "    <tr>\n",
       "      <th>0</th>\n",
       "      <td>CAQUETÁ</td>\n",
       "      <td>SAN VICENTE DEL CAGUÁN</td>\n",
       "      <td>18753000</td>\n",
       "      <td>ARMA BLANCA / CORTOPUNZANTE</td>\n",
       "      <td>1/01/2010</td>\n",
       "      <td>FEMENINO</td>\n",
       "      <td>ADULTOS</td>\n",
       "      <td>HURTO RESIDENCIAS</td>\n",
       "      <td>1</td>\n",
       "    </tr>\n",
       "    <tr>\n",
       "      <th>1</th>\n",
       "      <td>CAUCA</td>\n",
       "      <td>POPAYÁN (CT)</td>\n",
       "      <td>19001000</td>\n",
       "      <td>ARMA BLANCA / CORTOPUNZANTE</td>\n",
       "      <td>1/01/2010</td>\n",
       "      <td>FEMENINO</td>\n",
       "      <td>ADULTOS</td>\n",
       "      <td>HURTO RESIDENCIAS</td>\n",
       "      <td>2</td>\n",
       "    </tr>\n",
       "    <tr>\n",
       "      <th>2</th>\n",
       "      <td>HUILA</td>\n",
       "      <td>PITALITO</td>\n",
       "      <td>41551000</td>\n",
       "      <td>ARMA DE FUEGO</td>\n",
       "      <td>1/01/2010</td>\n",
       "      <td>MASCULINO</td>\n",
       "      <td>ADULTOS</td>\n",
       "      <td>HURTO RESIDENCIAS</td>\n",
       "      <td>1</td>\n",
       "    </tr>\n",
       "    <tr>\n",
       "      <th>3</th>\n",
       "      <td>VALLE</td>\n",
       "      <td>JAMUNDÍ</td>\n",
       "      <td>76364000</td>\n",
       "      <td>ARMA DE FUEGO</td>\n",
       "      <td>1/01/2010</td>\n",
       "      <td>MASCULINO</td>\n",
       "      <td>ADULTOS</td>\n",
       "      <td>HURTO RESIDENCIAS</td>\n",
       "      <td>1</td>\n",
       "    </tr>\n",
       "    <tr>\n",
       "      <th>4</th>\n",
       "      <td>AMAZONAS</td>\n",
       "      <td>LETICIA (CT)</td>\n",
       "      <td>91001000</td>\n",
       "      <td>CONTUNDENTES</td>\n",
       "      <td>1/01/2010</td>\n",
       "      <td>MASCULINO</td>\n",
       "      <td>ADULTOS</td>\n",
       "      <td>HURTO RESIDENCIAS</td>\n",
       "      <td>1</td>\n",
       "    </tr>\n",
       "    <tr>\n",
       "      <th>...</th>\n",
       "      <td>...</td>\n",
       "      <td>...</td>\n",
       "      <td>...</td>\n",
       "      <td>...</td>\n",
       "      <td>...</td>\n",
       "      <td>...</td>\n",
       "      <td>...</td>\n",
       "      <td>...</td>\n",
       "      <td>...</td>\n",
       "    </tr>\n",
       "    <tr>\n",
       "      <th>519383</th>\n",
       "      <td>MAGDALENA</td>\n",
       "      <td>SANTA MARTA (CT)</td>\n",
       "      <td>47001000</td>\n",
       "      <td>NO REPORTADO</td>\n",
       "      <td>28/02/2022</td>\n",
       "      <td>FEMENINO</td>\n",
       "      <td>ADULTOS</td>\n",
       "      <td>HURTO RESIDENCIAS</td>\n",
       "      <td>1</td>\n",
       "    </tr>\n",
       "    <tr>\n",
       "      <th>519384</th>\n",
       "      <td>SANTANDER</td>\n",
       "      <td>BUCARAMANGA (CT)</td>\n",
       "      <td>68001000</td>\n",
       "      <td>NO REPORTADO</td>\n",
       "      <td>30/03/2022</td>\n",
       "      <td>FEMENINO</td>\n",
       "      <td>ADULTOS</td>\n",
       "      <td>HURTO RESIDENCIAS</td>\n",
       "      <td>1</td>\n",
       "    </tr>\n",
       "    <tr>\n",
       "      <th>519385</th>\n",
       "      <td>SUCRE</td>\n",
       "      <td>MAJAGUAL</td>\n",
       "      <td>70429000</td>\n",
       "      <td>NO REPORTADO</td>\n",
       "      <td>12/01/2022</td>\n",
       "      <td>MASCULINO</td>\n",
       "      <td>ADULTOS</td>\n",
       "      <td>HURTO RESIDENCIAS</td>\n",
       "      <td>1</td>\n",
       "    </tr>\n",
       "    <tr>\n",
       "      <th>519386</th>\n",
       "      <td>SUCRE</td>\n",
       "      <td>SAN LUIS DE SINCÉ</td>\n",
       "      <td>70742000</td>\n",
       "      <td>NO REPORTADO</td>\n",
       "      <td>21/02/2022</td>\n",
       "      <td>MASCULINO</td>\n",
       "      <td>ADULTOS</td>\n",
       "      <td>HURTO RESIDENCIAS</td>\n",
       "      <td>1</td>\n",
       "    </tr>\n",
       "    <tr>\n",
       "      <th>519387</th>\n",
       "      <td>TOLIMA</td>\n",
       "      <td>LÉRIDA</td>\n",
       "      <td>73408000</td>\n",
       "      <td>NO REPORTADO</td>\n",
       "      <td>30/04/2022</td>\n",
       "      <td>FEMENINO</td>\n",
       "      <td>ADULTOS</td>\n",
       "      <td>HURTO RESIDENCIAS</td>\n",
       "      <td>1</td>\n",
       "    </tr>\n",
       "  </tbody>\n",
       "</table>\n",
       "<p>519388 rows × 9 columns</p>\n",
       "</div>"
      ],
      "text/plain": [
       "       DEPARTAMENTO               MUNICIPIO CODIGO DANE  \\\n",
       "0           CAQUETÁ  SAN VICENTE DEL CAGUÁN    18753000   \n",
       "1             CAUCA            POPAYÁN (CT)    19001000   \n",
       "2             HUILA                PITALITO    41551000   \n",
       "3             VALLE                 JAMUNDÍ    76364000   \n",
       "4          AMAZONAS            LETICIA (CT)    91001000   \n",
       "...             ...                     ...         ...   \n",
       "519383    MAGDALENA        SANTA MARTA (CT)    47001000   \n",
       "519384    SANTANDER        BUCARAMANGA (CT)    68001000   \n",
       "519385        SUCRE                MAJAGUAL    70429000   \n",
       "519386        SUCRE       SAN LUIS DE SINCÉ    70742000   \n",
       "519387       TOLIMA                  LÉRIDA    73408000   \n",
       "\n",
       "                       ARMAS MEDIOS FECHA HECHO     GENERO GRUPO ETARIO  \\\n",
       "0       ARMA BLANCA / CORTOPUNZANTE   1/01/2010   FEMENINO      ADULTOS   \n",
       "1       ARMA BLANCA / CORTOPUNZANTE   1/01/2010   FEMENINO      ADULTOS   \n",
       "2                     ARMA DE FUEGO   1/01/2010  MASCULINO      ADULTOS   \n",
       "3                     ARMA DE FUEGO   1/01/2010  MASCULINO      ADULTOS   \n",
       "4                      CONTUNDENTES   1/01/2010  MASCULINO      ADULTOS   \n",
       "...                             ...         ...        ...          ...   \n",
       "519383                 NO REPORTADO  28/02/2022   FEMENINO      ADULTOS   \n",
       "519384                 NO REPORTADO  30/03/2022   FEMENINO      ADULTOS   \n",
       "519385                 NO REPORTADO  12/01/2022  MASCULINO      ADULTOS   \n",
       "519386                 NO REPORTADO  21/02/2022  MASCULINO      ADULTOS   \n",
       "519387                 NO REPORTADO  30/04/2022   FEMENINO      ADULTOS   \n",
       "\n",
       "            TIPO DE HURTO  CANTIDAD  \n",
       "0       HURTO RESIDENCIAS         1  \n",
       "1       HURTO RESIDENCIAS         2  \n",
       "2       HURTO RESIDENCIAS         1  \n",
       "3       HURTO RESIDENCIAS         1  \n",
       "4       HURTO RESIDENCIAS         1  \n",
       "...                   ...       ...  \n",
       "519383  HURTO RESIDENCIAS         1  \n",
       "519384  HURTO RESIDENCIAS         1  \n",
       "519385  HURTO RESIDENCIAS         1  \n",
       "519386  HURTO RESIDENCIAS         1  \n",
       "519387  HURTO RESIDENCIAS         1  \n",
       "\n",
       "[519388 rows x 9 columns]"
      ]
     },
     "execution_count": 43,
     "metadata": {},
     "output_type": "execute_result"
    }
   ],
   "source": [
    "##Validamos la estructura del archivo\n",
    "comercio_df"
   ]
  },
  {
   "cell_type": "code",
   "execution_count": 44,
   "id": "b2988b45-b48c-4c08-99fd-55726f0795a9",
   "metadata": {},
   "outputs": [
    {
     "data": {
      "text/plain": [
       "DEPARTAMENTO     object\n",
       "MUNICIPIO        object\n",
       "CODIGO DANE      object\n",
       "ARMAS MEDIOS     object\n",
       "FECHA HECHO      object\n",
       "GENERO           object\n",
       "GRUPO ETARIO     object\n",
       "TIPO DE HURTO    object\n",
       "CANTIDAD          int64\n",
       "dtype: object"
      ]
     },
     "execution_count": 44,
     "metadata": {},
     "output_type": "execute_result"
    }
   ],
   "source": [
    "##Mostramos el tipo de dato de cada columna\n",
    "comercio_df.dtypes"
   ]
  },
  {
   "cell_type": "code",
   "execution_count": 45,
   "id": "6017e4f4",
   "metadata": {},
   "outputs": [
    {
     "data": {
      "text/plain": [
       "array([18, 27, 12, 27, 10, 12, 12, 27,  2])"
      ]
     },
     "execution_count": 45,
     "metadata": {},
     "output_type": "execute_result"
    }
   ],
   "source": [
    "##Calcular la cantidad máxima de caracteres por variable\n",
    "aux = np.vectorize(len)\n",
    "lista = aux(comercio_df.values.astype(str)).max(axis=0)\n",
    "lista"
   ]
  },
  {
   "cell_type": "code",
   "execution_count": 46,
   "id": "b1068cc3",
   "metadata": {},
   "outputs": [
    {
     "data": {
      "text/plain": [
       "1.4186484862954092"
      ]
     },
     "execution_count": 46,
     "metadata": {},
     "output_type": "execute_result"
    }
   ],
   "source": [
    "##Calcular la media del único valor de tipo numérico\n",
    "comercio_df['CANTIDAD'].mean()"
   ]
  },
  {
   "cell_type": "code",
   "execution_count": 47,
   "id": "afc9dfc1",
   "metadata": {},
   "outputs": [
    {
     "data": {
      "text/plain": [
       "DEPARTAMENTO       0\n",
       "MUNICIPIO          0\n",
       "CODIGO DANE        0\n",
       "ARMAS MEDIOS       0\n",
       "FECHA HECHO        0\n",
       "GENERO             0\n",
       "GRUPO ETARIO     123\n",
       "TIPO DE HURTO      0\n",
       "CANTIDAD           0\n",
       "dtype: int64"
      ]
     },
     "execution_count": 47,
     "metadata": {},
     "output_type": "execute_result"
    }
   ],
   "source": [
    "##Validamos el número campos nulos dentro de cada campo\n",
    "comercio_df.isnull().sum()"
   ]
  },
  {
   "cell_type": "code",
   "execution_count": 48,
   "id": "1fc60ab3",
   "metadata": {},
   "outputs": [
    {
     "data": {
      "text/html": [
       "<div>\n",
       "<style scoped>\n",
       "    .dataframe tbody tr th:only-of-type {\n",
       "        vertical-align: middle;\n",
       "    }\n",
       "\n",
       "    .dataframe tbody tr th {\n",
       "        vertical-align: top;\n",
       "    }\n",
       "\n",
       "    .dataframe thead th {\n",
       "        text-align: right;\n",
       "    }\n",
       "</style>\n",
       "<table border=\"1\" class=\"dataframe\">\n",
       "  <thead>\n",
       "    <tr style=\"text-align: right;\">\n",
       "      <th></th>\n",
       "      <th>DEPARTAMENTO</th>\n",
       "      <th>MUNICIPIO</th>\n",
       "      <th>CODIGO DANE</th>\n",
       "      <th>ARMAS MEDIOS</th>\n",
       "      <th>FECHA HECHO</th>\n",
       "      <th>GENERO</th>\n",
       "      <th>GRUPO ETARIO</th>\n",
       "      <th>TIPO DE HURTO</th>\n",
       "      <th>CANTIDAD</th>\n",
       "    </tr>\n",
       "  </thead>\n",
       "  <tbody>\n",
       "    <tr>\n",
       "      <th>59294</th>\n",
       "      <td>NORTE DE SANTANDER</td>\n",
       "      <td>CÚCUTA (CT)</td>\n",
       "      <td>54001000</td>\n",
       "      <td>NO REPORTA</td>\n",
       "      <td>29/11/2013</td>\n",
       "      <td>FEMENINO</td>\n",
       "      <td>ADULTOS</td>\n",
       "      <td>HURTO RESIDENCIAS</td>\n",
       "      <td>1</td>\n",
       "    </tr>\n",
       "    <tr>\n",
       "      <th>59309</th>\n",
       "      <td>NORTE DE SANTANDER</td>\n",
       "      <td>CÚCUTA (CT)</td>\n",
       "      <td>54001000</td>\n",
       "      <td>NO REPORTA</td>\n",
       "      <td>29/11/2013</td>\n",
       "      <td>FEMENINO</td>\n",
       "      <td>ADULTOS</td>\n",
       "      <td>HURTO RESIDENCIAS</td>\n",
       "      <td>1</td>\n",
       "    </tr>\n",
       "    <tr>\n",
       "      <th>220223</th>\n",
       "      <td>ANTIOQUIA</td>\n",
       "      <td>MEDELLÍN (CT)</td>\n",
       "      <td>05001000</td>\n",
       "      <td>SIN EMPLEO DE ARMAS</td>\n",
       "      <td>1/01/2020</td>\n",
       "      <td>MASCULINO</td>\n",
       "      <td>ADULTOS</td>\n",
       "      <td>HURTO RESIDENCIAS</td>\n",
       "      <td>1</td>\n",
       "    </tr>\n",
       "    <tr>\n",
       "      <th>220224</th>\n",
       "      <td>ANTIOQUIA</td>\n",
       "      <td>MEDELLÍN (CT)</td>\n",
       "      <td>05001000</td>\n",
       "      <td>SIN EMPLEO DE ARMAS</td>\n",
       "      <td>1/01/2020</td>\n",
       "      <td>MASCULINO</td>\n",
       "      <td>ADULTOS</td>\n",
       "      <td>HURTO RESIDENCIAS</td>\n",
       "      <td>1</td>\n",
       "    </tr>\n",
       "    <tr>\n",
       "      <th>220227</th>\n",
       "      <td>ANTIOQUIA</td>\n",
       "      <td>MEDELLÍN (CT)</td>\n",
       "      <td>05001000</td>\n",
       "      <td>SIN EMPLEO DE ARMAS</td>\n",
       "      <td>1/01/2020</td>\n",
       "      <td>MASCULINO</td>\n",
       "      <td>ADULTOS</td>\n",
       "      <td>HURTO RESIDENCIAS</td>\n",
       "      <td>1</td>\n",
       "    </tr>\n",
       "    <tr>\n",
       "      <th>...</th>\n",
       "      <td>...</td>\n",
       "      <td>...</td>\n",
       "      <td>...</td>\n",
       "      <td>...</td>\n",
       "      <td>...</td>\n",
       "      <td>...</td>\n",
       "      <td>...</td>\n",
       "      <td>...</td>\n",
       "      <td>...</td>\n",
       "    </tr>\n",
       "    <tr>\n",
       "      <th>482540</th>\n",
       "      <td>CUNDINAMARCA</td>\n",
       "      <td>BOGOTÁ D.C. (CT)</td>\n",
       "      <td>11001000</td>\n",
       "      <td>SIN EMPLEO DE ARMAS</td>\n",
       "      <td>30/12/2020</td>\n",
       "      <td>NO APLICA</td>\n",
       "      <td>NO APLICA</td>\n",
       "      <td>HURTO ENTIDADES COMERCIALES</td>\n",
       "      <td>1</td>\n",
       "    </tr>\n",
       "    <tr>\n",
       "      <th>482541</th>\n",
       "      <td>CUNDINAMARCA</td>\n",
       "      <td>BOGOTÁ D.C. (CT)</td>\n",
       "      <td>11001000</td>\n",
       "      <td>SIN EMPLEO DE ARMAS</td>\n",
       "      <td>30/12/2020</td>\n",
       "      <td>NO APLICA</td>\n",
       "      <td>NO APLICA</td>\n",
       "      <td>HURTO ENTIDADES COMERCIALES</td>\n",
       "      <td>1</td>\n",
       "    </tr>\n",
       "    <tr>\n",
       "      <th>482542</th>\n",
       "      <td>CUNDINAMARCA</td>\n",
       "      <td>BOGOTÁ D.C. (CT)</td>\n",
       "      <td>11001000</td>\n",
       "      <td>ARMA DE FUEGO</td>\n",
       "      <td>30/12/2020</td>\n",
       "      <td>NO APLICA</td>\n",
       "      <td>NO APLICA</td>\n",
       "      <td>HURTO ENTIDADES COMERCIALES</td>\n",
       "      <td>1</td>\n",
       "    </tr>\n",
       "    <tr>\n",
       "      <th>482551</th>\n",
       "      <td>CUNDINAMARCA</td>\n",
       "      <td>BOGOTÁ D.C. (CT)</td>\n",
       "      <td>11001000</td>\n",
       "      <td>ARMA DE FUEGO</td>\n",
       "      <td>31/12/2020</td>\n",
       "      <td>NO APLICA</td>\n",
       "      <td>NO APLICA</td>\n",
       "      <td>HURTO ENTIDADES COMERCIALES</td>\n",
       "      <td>1</td>\n",
       "    </tr>\n",
       "    <tr>\n",
       "      <th>482552</th>\n",
       "      <td>CUNDINAMARCA</td>\n",
       "      <td>BOGOTÁ D.C. (CT)</td>\n",
       "      <td>11001000</td>\n",
       "      <td>ARMA DE FUEGO</td>\n",
       "      <td>31/12/2020</td>\n",
       "      <td>NO APLICA</td>\n",
       "      <td>NO APLICA</td>\n",
       "      <td>HURTO ENTIDADES COMERCIALES</td>\n",
       "      <td>1</td>\n",
       "    </tr>\n",
       "  </tbody>\n",
       "</table>\n",
       "<p>35294 rows × 9 columns</p>\n",
       "</div>"
      ],
      "text/plain": [
       "              DEPARTAMENTO         MUNICIPIO CODIGO DANE         ARMAS MEDIOS  \\\n",
       "59294   NORTE DE SANTANDER       CÚCUTA (CT)    54001000           NO REPORTA   \n",
       "59309   NORTE DE SANTANDER       CÚCUTA (CT)    54001000           NO REPORTA   \n",
       "220223           ANTIOQUIA     MEDELLÍN (CT)    05001000  SIN EMPLEO DE ARMAS   \n",
       "220224           ANTIOQUIA     MEDELLÍN (CT)    05001000  SIN EMPLEO DE ARMAS   \n",
       "220227           ANTIOQUIA     MEDELLÍN (CT)    05001000  SIN EMPLEO DE ARMAS   \n",
       "...                    ...               ...         ...                  ...   \n",
       "482540        CUNDINAMARCA  BOGOTÁ D.C. (CT)    11001000  SIN EMPLEO DE ARMAS   \n",
       "482541        CUNDINAMARCA  BOGOTÁ D.C. (CT)    11001000  SIN EMPLEO DE ARMAS   \n",
       "482542        CUNDINAMARCA  BOGOTÁ D.C. (CT)    11001000        ARMA DE FUEGO   \n",
       "482551        CUNDINAMARCA  BOGOTÁ D.C. (CT)    11001000        ARMA DE FUEGO   \n",
       "482552        CUNDINAMARCA  BOGOTÁ D.C. (CT)    11001000        ARMA DE FUEGO   \n",
       "\n",
       "       FECHA HECHO     GENERO GRUPO ETARIO                TIPO DE HURTO  \\\n",
       "59294   29/11/2013   FEMENINO      ADULTOS            HURTO RESIDENCIAS   \n",
       "59309   29/11/2013   FEMENINO      ADULTOS            HURTO RESIDENCIAS   \n",
       "220223   1/01/2020  MASCULINO      ADULTOS            HURTO RESIDENCIAS   \n",
       "220224   1/01/2020  MASCULINO      ADULTOS            HURTO RESIDENCIAS   \n",
       "220227   1/01/2020  MASCULINO      ADULTOS            HURTO RESIDENCIAS   \n",
       "...            ...        ...          ...                          ...   \n",
       "482540  30/12/2020  NO APLICA    NO APLICA  HURTO ENTIDADES COMERCIALES   \n",
       "482541  30/12/2020  NO APLICA    NO APLICA  HURTO ENTIDADES COMERCIALES   \n",
       "482542  30/12/2020  NO APLICA    NO APLICA  HURTO ENTIDADES COMERCIALES   \n",
       "482551  31/12/2020  NO APLICA    NO APLICA  HURTO ENTIDADES COMERCIALES   \n",
       "482552  31/12/2020  NO APLICA    NO APLICA  HURTO ENTIDADES COMERCIALES   \n",
       "\n",
       "        CANTIDAD  \n",
       "59294          1  \n",
       "59309          1  \n",
       "220223         1  \n",
       "220224         1  \n",
       "220227         1  \n",
       "...          ...  \n",
       "482540         1  \n",
       "482541         1  \n",
       "482542         1  \n",
       "482551         1  \n",
       "482552         1  \n",
       "\n",
       "[35294 rows x 9 columns]"
      ]
     },
     "execution_count": 48,
     "metadata": {},
     "output_type": "execute_result"
    }
   ],
   "source": [
    "##Verificar si el dataset cuenta con datos duplicados\n",
    "comercio_df[comercio_df.duplicated(keep=False)]"
   ]
  },
  {
   "cell_type": "code",
   "execution_count": 49,
   "id": "4bbb1835",
   "metadata": {},
   "outputs": [],
   "source": [
    "##Eliminamos los datos duplicados\n",
    "comercio_df=comercio_df.drop_duplicates()"
   ]
  },
  {
   "cell_type": "code",
   "execution_count": 50,
   "id": "42c709ef",
   "metadata": {},
   "outputs": [
    {
     "data": {
      "text/plain": [
       "array(['CAQUETÁ', 'CAUCA', 'HUILA', 'VALLE', 'AMAZONAS', 'BOYACÁ',\n",
       "       'CASANARE', 'CUNDINAMARCA', 'MAGDALENA', 'META',\n",
       "       'NORTE DE SANTANDER', 'SANTANDER', 'SUCRE', 'TOLIMA', 'ANTIOQUIA',\n",
       "       'CHOCÓ', 'SAN ANDRÉS', 'VAUPÉS', 'ARAUCA', 'BOLÍVAR', 'CESAR',\n",
       "       'CÓRDOBA', 'PUTUMAYO', 'NARIÑO', 'ATLÁNTICO', 'CALDAS',\n",
       "       'RISARALDA', 'GUAJIRA', 'QUINDÍO', 'VICHADA', 'GUAINÍA',\n",
       "       'GUAVIARE', 'NO REPORTADO'], dtype=object)"
      ]
     },
     "execution_count": 50,
     "metadata": {},
     "output_type": "execute_result"
    }
   ],
   "source": [
    "##Se valida los campos unicos de la columna departamento \n",
    "comercio_df['DEPARTAMENTO'].unique()"
   ]
  },
  {
   "cell_type": "code",
   "execution_count": 51,
   "id": "0168983d",
   "metadata": {},
   "outputs": [
    {
     "data": {
      "text/plain": [
       "1"
      ]
     },
     "execution_count": 51,
     "metadata": {},
     "output_type": "execute_result"
    }
   ],
   "source": [
    "##Se verifica la cantidad de inconsistencias para cada valor de no reportado\n",
    "comercio_df.apply(lambda x: x['DEPARTAMENTO'] == 'NO REPORTADO', axis=1).sum()"
   ]
  },
  {
   "cell_type": "code",
   "execution_count": 52,
   "id": "1b6bfb52",
   "metadata": {},
   "outputs": [],
   "source": [
    "##Se elimina el departamento cuyo valor no esta reportado dentro del dataset\n",
    "comercio_df = comercio_df.drop(comercio_df[comercio_df['DEPARTAMENTO'] == 'NO REPORTADO'].index)"
   ]
  },
  {
   "cell_type": "code",
   "execution_count": 53,
   "id": "41715283",
   "metadata": {},
   "outputs": [
    {
     "data": {
      "text/plain": [
       "array(['SAN VICENTE DEL CAGUÁN', 'POPAYÁN (CT)', 'PITALITO', ...,\n",
       "       'ALTO BAUDÓ', 'EL CANTÓN DEL SAN PABLO', 'NO REPORTADO'],\n",
       "      dtype=object)"
      ]
     },
     "execution_count": 53,
     "metadata": {},
     "output_type": "execute_result"
    }
   ],
   "source": [
    "##Se valida los campos unicos de la columna municipio\n",
    "comercio_df['MUNICIPIO'].unique()"
   ]
  },
  {
   "cell_type": "code",
   "execution_count": 54,
   "id": "05de149e",
   "metadata": {},
   "outputs": [],
   "source": [
    "##Se elimina caracteres como (CT) para tener una mejor consistencia de los datos\n",
    "comercio_df['MUNICIPIO'] = comercio_df['MUNICIPIO'].map(lambda x: str(x).lstrip('(CT)').rstrip('(CT)')).astype(object)"
   ]
  },
  {
   "cell_type": "code",
   "execution_count": 55,
   "id": "d5ac0661",
   "metadata": {},
   "outputs": [
    {
     "data": {
      "text/plain": [
       "1"
      ]
     },
     "execution_count": 55,
     "metadata": {},
     "output_type": "execute_result"
    }
   ],
   "source": [
    "##Se verifica la cantidad de inconsistencias para cada valor de no reportado\n",
    "comercio_df.apply(lambda x: x['MUNICIPIO'] == 'NO REPORTADO', axis=1).sum()"
   ]
  },
  {
   "cell_type": "code",
   "execution_count": 56,
   "id": "7aa6ae84",
   "metadata": {},
   "outputs": [],
   "source": [
    "##Se elimina el municipio cuyo valor no esta reportado dentro del dataset\n",
    "comercio_df = comercio_df.drop(comercio_df[comercio_df['MUNICIPIO'] == 'NO REPORTADO'].index)"
   ]
  },
  {
   "cell_type": "code",
   "execution_count": 57,
   "id": "5ce0acce",
   "metadata": {},
   "outputs": [],
   "source": [
    "##Se eliminan los 3 últimos digitos de cada uno de los códigos del DANE\n",
    "def replace_zeros(codigo):\n",
    "    codigo=str(codigo)\n",
    "    codigo=codigo[:-3]\n",
    "    return codigo\n",
    "\n",
    "comercio_df['CODIGO DANE'] = comercio_df['CODIGO DANE'].apply(replace_zeros)"
   ]
  },
  {
   "cell_type": "code",
   "execution_count": 58,
   "id": "dedac6f2",
   "metadata": {},
   "outputs": [
    {
     "data": {
      "text/plain": [
       "array(['ARMA BLANCA / CORTOPUNZANTE', 'ARMA DE FUEGO', 'CONTUNDENTES',\n",
       "       'CORTANTES', 'NO REPORTA', 'SIN EMPLEO DE ARMAS', 'ESCOPOLAMINA',\n",
       "       'PUNZANTES', 'PALANCAS', 'JERINGA', 'LLAVE MAESTRA',\n",
       "       'LLAMADA TELEFONICA', '-', 'NO REPORTADO'], dtype=object)"
      ]
     },
     "execution_count": 58,
     "metadata": {},
     "output_type": "execute_result"
    }
   ],
   "source": [
    "##Se valida los campos unicos de la columna armas medios\n",
    "comercio_df['ARMAS MEDIOS'].unique()"
   ]
  },
  {
   "cell_type": "code",
   "execution_count": 59,
   "id": "ad811da6",
   "metadata": {},
   "outputs": [],
   "source": [
    "##Se remplaza el valor de No Reportado por No Reporta. Unificar valores del dataset\n",
    "comercio_df['ARMAS MEDIOS'] = comercio_df['ARMAS MEDIOS'].replace({'NO REPORTADO': 'NO REPORTA'})"
   ]
  },
  {
   "cell_type": "code",
   "execution_count": 60,
   "id": "f1989a73",
   "metadata": {},
   "outputs": [
    {
     "data": {
      "text/plain": [
       "2"
      ]
     },
     "execution_count": 60,
     "metadata": {},
     "output_type": "execute_result"
    }
   ],
   "source": [
    "##Verificamos si existen armas medios con guiones dentro del dataset\n",
    "comercio_df.apply(lambda x: x['ARMAS MEDIOS'] == '-', axis=1).sum()"
   ]
  },
  {
   "cell_type": "code",
   "execution_count": 61,
   "id": "9fa9a222",
   "metadata": {},
   "outputs": [],
   "source": [
    "##Se eliminan los campos cuyo valor son guiones dentro del campo arma medios del dataset\n",
    "comercio_df = comercio_df.drop(comercio_df[comercio_df['ARMAS MEDIOS'] == '-'].index)"
   ]
  },
  {
   "cell_type": "code",
   "execution_count": 62,
   "id": "3d39caa3",
   "metadata": {},
   "outputs": [
    {
     "data": {
      "text/plain": [
       "0        2010-01-01\n",
       "1        2010-01-01\n",
       "2        2010-01-01\n",
       "3        2010-01-01\n",
       "4        2010-01-01\n",
       "            ...    \n",
       "519383   2022-02-28\n",
       "519384   2022-03-30\n",
       "519385   2022-01-12\n",
       "519386   2022-02-21\n",
       "519387   2022-04-30\n",
       "Name: FECHA HECHO, Length: 492963, dtype: datetime64[ns]"
      ]
     },
     "execution_count": 62,
     "metadata": {},
     "output_type": "execute_result"
    }
   ],
   "source": [
    "##Se valida el formato de le fecha en el campo fecha_hecho\n",
    "pd.to_datetime(comercio_df['FECHA HECHO'], format='%d/%m/%Y')"
   ]
  },
  {
   "cell_type": "code",
   "execution_count": 63,
   "id": "1dfb2f3b",
   "metadata": {},
   "outputs": [
    {
     "data": {
      "text/plain": [
       "array(['FEMENINO', 'MASCULINO', 'NO REPORTA', 'NO REPORTADO', 'NO APLICA'],\n",
       "      dtype=object)"
      ]
     },
     "execution_count": 63,
     "metadata": {},
     "output_type": "execute_result"
    }
   ],
   "source": [
    "##Se valida los campos unicos de la columna género\n",
    "comercio_df['GENERO'].unique()"
   ]
  },
  {
   "cell_type": "code",
   "execution_count": 64,
   "id": "3d6d5667",
   "metadata": {},
   "outputs": [],
   "source": [
    "##Se remplaza el valor de No Reportado y No Aplica por No Reporta. Unificar valores del dataset\n",
    "comercio_df['GENERO'] = comercio_df['GENERO'].replace({'NO REPORTADO': 'NO REPORTA'})\n",
    "comercio_df['GENERO'] = comercio_df['GENERO'].replace({'NO APLICA': 'NO REPORTA'})"
   ]
  },
  {
   "cell_type": "code",
   "execution_count": 65,
   "id": "5be54136",
   "metadata": {},
   "outputs": [
    {
     "data": {
      "text/plain": [
       "array(['ADULTOS', 'ADOLESCENTES', 'NO REPORTA', 'MENORES', nan,\n",
       "       'NO REPORTADO', 'NO APLICA'], dtype=object)"
      ]
     },
     "execution_count": 65,
     "metadata": {},
     "output_type": "execute_result"
    }
   ],
   "source": [
    "##Se valida los campos unicos de la columna grupo etario\n",
    "comercio_df['GRUPO ETARIO'].unique()"
   ]
  },
  {
   "cell_type": "code",
   "execution_count": 66,
   "id": "53b01579",
   "metadata": {},
   "outputs": [],
   "source": [
    "#En este caso tenemos 123 vacios, los remplazamos por No Reporta.\n",
    "comercio_df['GRUPO ETARIO'].fillna(\"NO REPORTA\", inplace = True)"
   ]
  },
  {
   "cell_type": "code",
   "execution_count": 67,
   "id": "ebad1a18",
   "metadata": {},
   "outputs": [],
   "source": [
    "##Se remplaza el valor de No Reportado y No Aplica por No Reporta. Unificar valores del dataset\n",
    "comercio_df['GRUPO ETARIO'] = comercio_df['GRUPO ETARIO'].replace({'NO REPORTADO': 'NO REPORTA'})\n",
    "comercio_df['GRUPO ETARIO'] = comercio_df['GRUPO ETARIO'].replace({'NO APLICA': 'NO REPORTA'})"
   ]
  },
  {
   "cell_type": "code",
   "execution_count": 68,
   "id": "b232c2dd",
   "metadata": {},
   "outputs": [
    {
     "data": {
      "text/plain": [
       "array(['HURTO RESIDENCIAS', 'HURTO ENTIDADES COMERCIALES'], dtype=object)"
      ]
     },
     "execution_count": 68,
     "metadata": {},
     "output_type": "execute_result"
    }
   ],
   "source": [
    "##Se valida los campos unicos de la columna tipo hurto\n",
    "comercio_df['TIPO DE HURTO'].unique()"
   ]
  },
  {
   "cell_type": "code",
   "execution_count": 69,
   "id": "911d6eee",
   "metadata": {},
   "outputs": [],
   "source": [
    "comercio_df.to_csv('../data/hurto_comercioV2.csv')"
   ]
  }
 ],
 "metadata": {
  "kernelspec": {
   "display_name": "Python 3 (ipykernel)",
   "language": "python",
   "name": "python3"
  },
  "language_info": {
   "codemirror_mode": {
    "name": "ipython",
    "version": 3
   },
   "file_extension": ".py",
   "mimetype": "text/x-python",
   "name": "python",
   "nbconvert_exporter": "python",
   "pygments_lexer": "ipython3",
   "version": "3.9.12"
  }
 },
 "nbformat": 4,
 "nbformat_minor": 5
}
