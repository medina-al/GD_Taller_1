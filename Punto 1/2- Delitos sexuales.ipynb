{
 "cells": [
  {
   "cell_type": "markdown",
   "id": "fd3216e2-84aa-4862-ac18-a22b9c140459",
   "metadata": {},
   "source": [
    "# Configuración y análisis inicial"
   ]
  },
  {
   "cell_type": "code",
   "execution_count": 83,
   "id": "3b05e6a2-89be-47dc-a694-60770106746f",
   "metadata": {},
   "outputs": [],
   "source": [
    "##Importar las librerías requeridas para el análisis\n",
    "import numpy as np\n",
    "import pandas as pd\n",
    "\n",
    "import matplotlib.pyplot as plt\n",
    "\n",
    "%matplotlib inline"
   ]
  },
  {
   "cell_type": "code",
   "execution_count": 84,
   "id": "4e374108-1d4c-4196-a3f7-9cb28a635db0",
   "metadata": {},
   "outputs": [],
   "source": [
    "##Definir tamaño máximo de filas a mostrar\n",
    "pd.set_option('display.max_rows', 100)"
   ]
  },
  {
   "cell_type": "code",
   "execution_count": 85,
   "id": "82186d4c-a126-4b2c-b26c-1a2a089c5116",
   "metadata": {},
   "outputs": [],
   "source": [
    "##Importar el dataset del CSV\n",
    "df = pd.read_csv('../data/delitos.csv')"
   ]
  },
  {
   "cell_type": "code",
   "execution_count": 86,
   "id": "48c9173b-15fd-4fa6-8e65-63831ebf5559",
   "metadata": {},
   "outputs": [
    {
     "data": {
      "text/html": [
       "<div>\n",
       "<style scoped>\n",
       "    .dataframe tbody tr th:only-of-type {\n",
       "        vertical-align: middle;\n",
       "    }\n",
       "\n",
       "    .dataframe tbody tr th {\n",
       "        vertical-align: top;\n",
       "    }\n",
       "\n",
       "    .dataframe thead th {\n",
       "        text-align: right;\n",
       "    }\n",
       "</style>\n",
       "<table border=\"1\" class=\"dataframe\">\n",
       "  <thead>\n",
       "    <tr style=\"text-align: right;\">\n",
       "      <th></th>\n",
       "      <th>DEPARTAMENTO</th>\n",
       "      <th>MUNICIPIO</th>\n",
       "      <th>CODIGO DANE</th>\n",
       "      <th>ARMAS MEDIOS</th>\n",
       "      <th>FECHA HECHO</th>\n",
       "      <th>GENERO</th>\n",
       "      <th>GRUPO ETARIO</th>\n",
       "      <th>CANTIDAD</th>\n",
       "      <th>delito</th>\n",
       "    </tr>\n",
       "  </thead>\n",
       "  <tbody>\n",
       "    <tr>\n",
       "      <th>0</th>\n",
       "      <td>CAQUETÁ</td>\n",
       "      <td>SOLANO</td>\n",
       "      <td>18756000.0</td>\n",
       "      <td>ARMA BLANCA / CORTOPUNZANTE</td>\n",
       "      <td>1/01/2010</td>\n",
       "      <td>FEMENINO</td>\n",
       "      <td>MENORES</td>\n",
       "      <td>1</td>\n",
       "      <td>ARTÍCULO 209. ACTOS SEXUALES CON MENOR DE 14 AÑOS</td>\n",
       "    </tr>\n",
       "    <tr>\n",
       "      <th>1</th>\n",
       "      <td>BOLÍVAR</td>\n",
       "      <td>CARTAGENA (CT)</td>\n",
       "      <td>13001000.0</td>\n",
       "      <td>ARMA BLANCA / CORTOPUNZANTE</td>\n",
       "      <td>1/01/2010</td>\n",
       "      <td>FEMENINO</td>\n",
       "      <td>ADOLECENTES</td>\n",
       "      <td>1</td>\n",
       "      <td>ARTÍCULO 205. ACCESO CARNAL VIOLENTO</td>\n",
       "    </tr>\n",
       "    <tr>\n",
       "      <th>2</th>\n",
       "      <td>HUILA</td>\n",
       "      <td>LA PLATA</td>\n",
       "      <td>41396000.0</td>\n",
       "      <td>ARMA BLANCA / CORTOPUNZANTE</td>\n",
       "      <td>1/01/2010</td>\n",
       "      <td>FEMENINO</td>\n",
       "      <td>ADULTOS</td>\n",
       "      <td>1</td>\n",
       "      <td>ARTÍCULO 205. ACCESO CARNAL VIOLENTO</td>\n",
       "    </tr>\n",
       "    <tr>\n",
       "      <th>3</th>\n",
       "      <td>SANTANDER</td>\n",
       "      <td>PIEDECUESTA</td>\n",
       "      <td>68547000.0</td>\n",
       "      <td>CONTUNDENTES</td>\n",
       "      <td>1/01/2010</td>\n",
       "      <td>FEMENINO</td>\n",
       "      <td>ADULTOS</td>\n",
       "      <td>1</td>\n",
       "      <td>ARTÍCULO 205. ACCESO CARNAL VIOLENTO</td>\n",
       "    </tr>\n",
       "    <tr>\n",
       "      <th>4</th>\n",
       "      <td>META</td>\n",
       "      <td>VILLAVICENCIO (CT)</td>\n",
       "      <td>50001000.0</td>\n",
       "      <td>CONTUNDENTES</td>\n",
       "      <td>1/01/2010</td>\n",
       "      <td>FEMENINO</td>\n",
       "      <td>ADULTOS</td>\n",
       "      <td>1</td>\n",
       "      <td>ARTÍCULO 205. ACCESO CARNAL VIOLENTO</td>\n",
       "    </tr>\n",
       "  </tbody>\n",
       "</table>\n",
       "</div>"
      ],
      "text/plain": [
       "  DEPARTAMENTO           MUNICIPIO  CODIGO DANE                 ARMAS MEDIOS  \\\n",
       "0      CAQUETÁ              SOLANO   18756000.0  ARMA BLANCA / CORTOPUNZANTE   \n",
       "1      BOLÍVAR      CARTAGENA (CT)   13001000.0  ARMA BLANCA / CORTOPUNZANTE   \n",
       "2        HUILA            LA PLATA   41396000.0  ARMA BLANCA / CORTOPUNZANTE   \n",
       "3    SANTANDER         PIEDECUESTA   68547000.0                 CONTUNDENTES   \n",
       "4         META  VILLAVICENCIO (CT)   50001000.0                 CONTUNDENTES   \n",
       "\n",
       "  FECHA HECHO    GENERO GRUPO ETARIO  CANTIDAD  \\\n",
       "0   1/01/2010  FEMENINO      MENORES         1   \n",
       "1   1/01/2010  FEMENINO  ADOLECENTES         1   \n",
       "2   1/01/2010  FEMENINO      ADULTOS         1   \n",
       "3   1/01/2010  FEMENINO      ADULTOS         1   \n",
       "4   1/01/2010  FEMENINO      ADULTOS         1   \n",
       "\n",
       "                                              delito  \n",
       "0  ARTÍCULO 209. ACTOS SEXUALES CON MENOR DE 14 AÑOS  \n",
       "1               ARTÍCULO 205. ACCESO CARNAL VIOLENTO  \n",
       "2               ARTÍCULO 205. ACCESO CARNAL VIOLENTO  \n",
       "3               ARTÍCULO 205. ACCESO CARNAL VIOLENTO  \n",
       "4               ARTÍCULO 205. ACCESO CARNAL VIOLENTO  "
      ]
     },
     "execution_count": 86,
     "metadata": {},
     "output_type": "execute_result"
    }
   ],
   "source": [
    "##Visualizar los primeros datos\n",
    "df.head()"
   ]
  },
  {
   "cell_type": "code",
   "execution_count": 87,
   "id": "b2988b45-b48c-4c08-99fd-55726f0795a9",
   "metadata": {},
   "outputs": [
    {
     "data": {
      "text/plain": [
       "(260323, 9)"
      ]
     },
     "execution_count": 87,
     "metadata": {},
     "output_type": "execute_result"
    }
   ],
   "source": [
    "## Ver el tamaño del dataset\n",
    "df.shape"
   ]
  },
  {
   "cell_type": "code",
   "execution_count": 88,
   "id": "a3da6186-5a9a-4f44-bdfe-ad327595ffb7",
   "metadata": {},
   "outputs": [
    {
     "data": {
      "text/plain": [
       "DEPARTAMENTO     object\n",
       "MUNICIPIO        object\n",
       "CODIGO DANE     float64\n",
       "ARMAS MEDIOS     object\n",
       "FECHA HECHO      object\n",
       "GENERO           object\n",
       "GRUPO ETARIO     object\n",
       "CANTIDAD          int64\n",
       "delito           object\n",
       "dtype: object"
      ]
     },
     "execution_count": 88,
     "metadata": {},
     "output_type": "execute_result"
    }
   ],
   "source": [
    "## Ver los tipos de datos de las columnas\n",
    "df.dtypes"
   ]
  },
  {
   "cell_type": "code",
   "execution_count": 89,
   "id": "2a81c731-7023-4133-b7e9-d64537feb19f",
   "metadata": {},
   "outputs": [
    {
     "data": {
      "text/plain": [
       "array([ 18,  27,  10,  27,  10,  12,  12,   2, 111])"
      ]
     },
     "execution_count": 89,
     "metadata": {},
     "output_type": "execute_result"
    }
   ],
   "source": [
    "## Calcular la longitud máxima de cada campo\n",
    "measurer = np.vectorize(len)\n",
    "res1 = measurer(df.values.astype(str)).max(axis=0)\n",
    "res1"
   ]
  },
  {
   "cell_type": "code",
   "execution_count": 90,
   "id": "217af638-bc06-4927-90b0-a048b6d1408d",
   "metadata": {},
   "outputs": [
    {
     "data": {
      "text/html": [
       "<div>\n",
       "<style scoped>\n",
       "    .dataframe tbody tr th:only-of-type {\n",
       "        vertical-align: middle;\n",
       "    }\n",
       "\n",
       "    .dataframe tbody tr th {\n",
       "        vertical-align: top;\n",
       "    }\n",
       "\n",
       "    .dataframe thead th {\n",
       "        text-align: right;\n",
       "    }\n",
       "</style>\n",
       "<table border=\"1\" class=\"dataframe\">\n",
       "  <thead>\n",
       "    <tr style=\"text-align: right;\">\n",
       "      <th></th>\n",
       "      <th>CODIGO DANE</th>\n",
       "      <th>CANTIDAD</th>\n",
       "    </tr>\n",
       "  </thead>\n",
       "  <tbody>\n",
       "    <tr>\n",
       "      <th>count</th>\n",
       "      <td>2.603220e+05</td>\n",
       "      <td>260323.000000</td>\n",
       "    </tr>\n",
       "    <tr>\n",
       "      <th>mean</th>\n",
       "      <td>3.740205e+07</td>\n",
       "      <td>1.034035</td>\n",
       "    </tr>\n",
       "    <tr>\n",
       "      <th>std</th>\n",
       "      <td>2.783049e+07</td>\n",
       "      <td>0.326438</td>\n",
       "    </tr>\n",
       "    <tr>\n",
       "      <th>min</th>\n",
       "      <td>5.001000e+06</td>\n",
       "      <td>1.000000</td>\n",
       "    </tr>\n",
       "    <tr>\n",
       "      <th>25%</th>\n",
       "      <td>1.100100e+07</td>\n",
       "      <td>1.000000</td>\n",
       "    </tr>\n",
       "    <tr>\n",
       "      <th>50%</th>\n",
       "      <td>2.547300e+07</td>\n",
       "      <td>1.000000</td>\n",
       "    </tr>\n",
       "    <tr>\n",
       "      <th>75%</th>\n",
       "      <td>6.800100e+07</td>\n",
       "      <td>1.000000</td>\n",
       "    </tr>\n",
       "    <tr>\n",
       "      <th>max</th>\n",
       "      <td>9.977300e+07</td>\n",
       "      <td>86.000000</td>\n",
       "    </tr>\n",
       "  </tbody>\n",
       "</table>\n",
       "</div>"
      ],
      "text/plain": [
       "        CODIGO DANE       CANTIDAD\n",
       "count  2.603220e+05  260323.000000\n",
       "mean   3.740205e+07       1.034035\n",
       "std    2.783049e+07       0.326438\n",
       "min    5.001000e+06       1.000000\n",
       "25%    1.100100e+07       1.000000\n",
       "50%    2.547300e+07       1.000000\n",
       "75%    6.800100e+07       1.000000\n",
       "max    9.977300e+07      86.000000"
      ]
     },
     "execution_count": 90,
     "metadata": {},
     "output_type": "execute_result"
    }
   ],
   "source": [
    "df.describe()"
   ]
  },
  {
   "cell_type": "code",
   "execution_count": 91,
   "id": "3da6a4bd-4ceb-4d6e-8bfc-b2c5f3692ea0",
   "metadata": {},
   "outputs": [
    {
     "data": {
      "text/plain": [
       "DEPARTAMENTO      0\n",
       "MUNICIPIO         1\n",
       "CODIGO DANE       1\n",
       "ARMAS MEDIOS      0\n",
       "FECHA HECHO       0\n",
       "GENERO          304\n",
       "GRUPO ETARIO    537\n",
       "CANTIDAD          0\n",
       "delito            0\n",
       "dtype: int64"
      ]
     },
     "execution_count": 91,
     "metadata": {},
     "output_type": "execute_result"
    }
   ],
   "source": [
    "# Buscar valores nulos por cada campo\n",
    "df.isnull().sum()"
   ]
  },
  {
   "cell_type": "code",
   "execution_count": 92,
   "id": "d112bf6f-832f-497e-be13-e9b9de8ff83a",
   "metadata": {},
   "outputs": [
    {
     "data": {
      "text/html": [
       "<div>\n",
       "<style scoped>\n",
       "    .dataframe tbody tr th:only-of-type {\n",
       "        vertical-align: middle;\n",
       "    }\n",
       "\n",
       "    .dataframe tbody tr th {\n",
       "        vertical-align: top;\n",
       "    }\n",
       "\n",
       "    .dataframe thead th {\n",
       "        text-align: right;\n",
       "    }\n",
       "</style>\n",
       "<table border=\"1\" class=\"dataframe\">\n",
       "  <thead>\n",
       "    <tr style=\"text-align: right;\">\n",
       "      <th></th>\n",
       "      <th>DEPARTAMENTO</th>\n",
       "      <th>MUNICIPIO</th>\n",
       "      <th>CODIGO DANE</th>\n",
       "      <th>ARMAS MEDIOS</th>\n",
       "      <th>FECHA HECHO</th>\n",
       "      <th>GENERO</th>\n",
       "      <th>GRUPO ETARIO</th>\n",
       "      <th>CANTIDAD</th>\n",
       "      <th>delito</th>\n",
       "    </tr>\n",
       "  </thead>\n",
       "  <tbody>\n",
       "    <tr>\n",
       "      <th>29</th>\n",
       "      <td>SANTANDER</td>\n",
       "      <td>LANDÁZURI</td>\n",
       "      <td>68385000.0</td>\n",
       "      <td>NO REPORTADO</td>\n",
       "      <td>1/01/2010</td>\n",
       "      <td>MASCULINO</td>\n",
       "      <td>MENORES</td>\n",
       "      <td>1</td>\n",
       "      <td>ARTÍCULO 209. ACTOS SEXUALES CON MENOR DE 14 AÑOS</td>\n",
       "    </tr>\n",
       "    <tr>\n",
       "      <th>30</th>\n",
       "      <td>SANTANDER</td>\n",
       "      <td>LANDÁZURI</td>\n",
       "      <td>68385000.0</td>\n",
       "      <td>NO REPORTADO</td>\n",
       "      <td>1/01/2010</td>\n",
       "      <td>MASCULINO</td>\n",
       "      <td>MENORES</td>\n",
       "      <td>1</td>\n",
       "      <td>ARTÍCULO 209. ACTOS SEXUALES CON MENOR DE 14 AÑOS</td>\n",
       "    </tr>\n",
       "    <tr>\n",
       "      <th>57</th>\n",
       "      <td>HUILA</td>\n",
       "      <td>LA PLATA</td>\n",
       "      <td>41396000.0</td>\n",
       "      <td>NO REPORTADO</td>\n",
       "      <td>1/01/2010</td>\n",
       "      <td>FEMENINO</td>\n",
       "      <td>MENORES</td>\n",
       "      <td>1</td>\n",
       "      <td>ARTÍCULO 208. ACCESO CARNAL ABUSIVO CON MENOR ...</td>\n",
       "    </tr>\n",
       "    <tr>\n",
       "      <th>58</th>\n",
       "      <td>HUILA</td>\n",
       "      <td>LA PLATA</td>\n",
       "      <td>41396000.0</td>\n",
       "      <td>NO REPORTADO</td>\n",
       "      <td>1/01/2010</td>\n",
       "      <td>FEMENINO</td>\n",
       "      <td>MENORES</td>\n",
       "      <td>1</td>\n",
       "      <td>ARTÍCULO 208. ACCESO CARNAL ABUSIVO CON MENOR ...</td>\n",
       "    </tr>\n",
       "    <tr>\n",
       "      <th>74</th>\n",
       "      <td>VALLE</td>\n",
       "      <td>CALI (CT)</td>\n",
       "      <td>76001000.0</td>\n",
       "      <td>SIN EMPLEO DE ARMAS</td>\n",
       "      <td>1/01/2010</td>\n",
       "      <td>FEMENINO</td>\n",
       "      <td>MENORES</td>\n",
       "      <td>1</td>\n",
       "      <td>ARTÍCULO 209. ACTOS SEXUALES CON MENOR DE 14 AÑOS</td>\n",
       "    </tr>\n",
       "    <tr>\n",
       "      <th>...</th>\n",
       "      <td>...</td>\n",
       "      <td>...</td>\n",
       "      <td>...</td>\n",
       "      <td>...</td>\n",
       "      <td>...</td>\n",
       "      <td>...</td>\n",
       "      <td>...</td>\n",
       "      <td>...</td>\n",
       "      <td>...</td>\n",
       "    </tr>\n",
       "    <tr>\n",
       "      <th>226199</th>\n",
       "      <td>ATLÁNTICO</td>\n",
       "      <td>BARRANQUILLA (CT)</td>\n",
       "      <td>8001000.0</td>\n",
       "      <td>SIN EMPLEO DE ARMAS</td>\n",
       "      <td>31/12/2020</td>\n",
       "      <td>FEMENINO</td>\n",
       "      <td>MENORES</td>\n",
       "      <td>1</td>\n",
       "      <td>ARTÍCULO 209. ACTOS SEXUALES CON MENOR DE 14 AÑOS</td>\n",
       "    </tr>\n",
       "    <tr>\n",
       "      <th>226211</th>\n",
       "      <td>CUNDINAMARCA</td>\n",
       "      <td>BOGOTÁ D.C. (CT)</td>\n",
       "      <td>11001000.0</td>\n",
       "      <td>SIN EMPLEO DE ARMAS</td>\n",
       "      <td>31/12/2020</td>\n",
       "      <td>FEMENINO</td>\n",
       "      <td>ADULTOS</td>\n",
       "      <td>1</td>\n",
       "      <td>ARTÍCULO 205. ACCESO CARNAL VIOLENTO</td>\n",
       "    </tr>\n",
       "    <tr>\n",
       "      <th>226212</th>\n",
       "      <td>CUNDINAMARCA</td>\n",
       "      <td>BOGOTÁ D.C. (CT)</td>\n",
       "      <td>11001000.0</td>\n",
       "      <td>SIN EMPLEO DE ARMAS</td>\n",
       "      <td>31/12/2020</td>\n",
       "      <td>FEMENINO</td>\n",
       "      <td>ADULTOS</td>\n",
       "      <td>1</td>\n",
       "      <td>ARTÍCULO 205. ACCESO CARNAL VIOLENTO</td>\n",
       "    </tr>\n",
       "    <tr>\n",
       "      <th>226216</th>\n",
       "      <td>CUNDINAMARCA</td>\n",
       "      <td>BOGOTÁ D.C. (CT)</td>\n",
       "      <td>11001000.0</td>\n",
       "      <td>SIN EMPLEO DE ARMAS</td>\n",
       "      <td>31/12/2020</td>\n",
       "      <td>FEMENINO</td>\n",
       "      <td>MENORES</td>\n",
       "      <td>1</td>\n",
       "      <td>ARTÍCULO 209. ACTOS SEXUALES CON MENOR DE 14 AÑOS</td>\n",
       "    </tr>\n",
       "    <tr>\n",
       "      <th>226219</th>\n",
       "      <td>CUNDINAMARCA</td>\n",
       "      <td>BOGOTÁ D.C. (CT)</td>\n",
       "      <td>11001000.0</td>\n",
       "      <td>SIN EMPLEO DE ARMAS</td>\n",
       "      <td>31/12/2020</td>\n",
       "      <td>FEMENINO</td>\n",
       "      <td>MENORES</td>\n",
       "      <td>1</td>\n",
       "      <td>ARTÍCULO 209. ACTOS SEXUALES CON MENOR DE 14 AÑOS</td>\n",
       "    </tr>\n",
       "  </tbody>\n",
       "</table>\n",
       "<p>32466 rows × 9 columns</p>\n",
       "</div>"
      ],
      "text/plain": [
       "        DEPARTAMENTO          MUNICIPIO  CODIGO DANE         ARMAS MEDIOS  \\\n",
       "29         SANTANDER          LANDÁZURI   68385000.0         NO REPORTADO   \n",
       "30         SANTANDER          LANDÁZURI   68385000.0         NO REPORTADO   \n",
       "57             HUILA           LA PLATA   41396000.0         NO REPORTADO   \n",
       "58             HUILA           LA PLATA   41396000.0         NO REPORTADO   \n",
       "74             VALLE          CALI (CT)   76001000.0  SIN EMPLEO DE ARMAS   \n",
       "...              ...                ...          ...                  ...   \n",
       "226199     ATLÁNTICO  BARRANQUILLA (CT)    8001000.0  SIN EMPLEO DE ARMAS   \n",
       "226211  CUNDINAMARCA   BOGOTÁ D.C. (CT)   11001000.0  SIN EMPLEO DE ARMAS   \n",
       "226212  CUNDINAMARCA   BOGOTÁ D.C. (CT)   11001000.0  SIN EMPLEO DE ARMAS   \n",
       "226216  CUNDINAMARCA   BOGOTÁ D.C. (CT)   11001000.0  SIN EMPLEO DE ARMAS   \n",
       "226219  CUNDINAMARCA   BOGOTÁ D.C. (CT)   11001000.0  SIN EMPLEO DE ARMAS   \n",
       "\n",
       "       FECHA HECHO     GENERO GRUPO ETARIO  CANTIDAD  \\\n",
       "29       1/01/2010  MASCULINO      MENORES         1   \n",
       "30       1/01/2010  MASCULINO      MENORES         1   \n",
       "57       1/01/2010   FEMENINO      MENORES         1   \n",
       "58       1/01/2010   FEMENINO      MENORES         1   \n",
       "74       1/01/2010   FEMENINO      MENORES         1   \n",
       "...            ...        ...          ...       ...   \n",
       "226199  31/12/2020   FEMENINO      MENORES         1   \n",
       "226211  31/12/2020   FEMENINO      ADULTOS         1   \n",
       "226212  31/12/2020   FEMENINO      ADULTOS         1   \n",
       "226216  31/12/2020   FEMENINO      MENORES         1   \n",
       "226219  31/12/2020   FEMENINO      MENORES         1   \n",
       "\n",
       "                                                   delito  \n",
       "29      ARTÍCULO 209. ACTOS SEXUALES CON MENOR DE 14 AÑOS  \n",
       "30      ARTÍCULO 209. ACTOS SEXUALES CON MENOR DE 14 AÑOS  \n",
       "57      ARTÍCULO 208. ACCESO CARNAL ABUSIVO CON MENOR ...  \n",
       "58      ARTÍCULO 208. ACCESO CARNAL ABUSIVO CON MENOR ...  \n",
       "74      ARTÍCULO 209. ACTOS SEXUALES CON MENOR DE 14 AÑOS  \n",
       "...                                                   ...  \n",
       "226199  ARTÍCULO 209. ACTOS SEXUALES CON MENOR DE 14 AÑOS  \n",
       "226211               ARTÍCULO 205. ACCESO CARNAL VIOLENTO  \n",
       "226212               ARTÍCULO 205. ACCESO CARNAL VIOLENTO  \n",
       "226216  ARTÍCULO 209. ACTOS SEXUALES CON MENOR DE 14 AÑOS  \n",
       "226219  ARTÍCULO 209. ACTOS SEXUALES CON MENOR DE 14 AÑOS  \n",
       "\n",
       "[32466 rows x 9 columns]"
      ]
     },
     "execution_count": 92,
     "metadata": {},
     "output_type": "execute_result"
    }
   ],
   "source": [
    "## Encontrar valores duplicados\n",
    "df[df.duplicated(keep=False)]"
   ]
  },
  {
   "cell_type": "code",
   "execution_count": 93,
   "id": "ca097e7e-01ee-4bb1-afca-8c3ec51fdec4",
   "metadata": {},
   "outputs": [],
   "source": [
    "## Eliminar filas duplicadas\n",
    "df=df.drop_duplicates()"
   ]
  },
  {
   "cell_type": "code",
   "execution_count": 94,
   "id": "7dd8d58f-348c-49ea-9a0d-2e414241a12a",
   "metadata": {},
   "outputs": [
    {
     "data": {
      "text/plain": [
       "(241740, 9)"
      ]
     },
     "execution_count": 94,
     "metadata": {},
     "output_type": "execute_result"
    }
   ],
   "source": [
    "## Ver el tamaño del dataset\n",
    "df.shape"
   ]
  },
  {
   "cell_type": "markdown",
   "id": "a49b064c-9bc8-4f9e-8138-81f75065d61a",
   "metadata": {},
   "source": [
    "# Análisis por campos"
   ]
  },
  {
   "cell_type": "markdown",
   "id": "53d42860-dac6-4b9b-9ade-32b8835bcb3a",
   "metadata": {},
   "source": [
    "## Departamento"
   ]
  },
  {
   "cell_type": "code",
   "execution_count": 95,
   "id": "b2641c7f-df8b-4422-bb19-e2f606eb7426",
   "metadata": {},
   "outputs": [
    {
     "data": {
      "text/plain": [
       "array(['CAQUETÁ', 'BOLÍVAR', 'HUILA', 'SANTANDER', 'META', 'CUNDINAMARCA',\n",
       "       'BOYACÁ', 'VALLE', 'GUAJIRA', 'SUCRE', 'CASANARE', 'RISARALDA',\n",
       "       'ARAUCA', 'CÓRDOBA', 'CHOCÓ', 'VICHADA', 'TOLIMA', 'CALDAS',\n",
       "       'PUTUMAYO', 'ATLÁNTICO', 'ANTIOQUIA', 'CAUCA', 'QUINDÍO',\n",
       "       'NORTE DE SANTANDER', 'AMAZONAS', 'MAGDALENA', 'CESAR', 'NARIÑO',\n",
       "       'GUAVIARE', 'SAN ANDRÉS', 'VAUPÉS', 'GUAINÍA'], dtype=object)"
      ]
     },
     "execution_count": 95,
     "metadata": {},
     "output_type": "execute_result"
    }
   ],
   "source": [
    "#Guardar los departamentos sin repeticiones y visualizar para validar errores de escritura\n",
    "departamentos=df['DEPARTAMENTO'].unique()\n",
    "departamentos"
   ]
  },
  {
   "cell_type": "code",
   "execution_count": 96,
   "id": "b426c079-088b-4558-86e6-f92fbef43914",
   "metadata": {},
   "outputs": [
    {
     "data": {
      "text/plain": [
       "32"
      ]
     },
     "execution_count": 96,
     "metadata": {},
     "output_type": "execute_result"
    }
   ],
   "source": [
    "#Validar que la cantidad de departamentos sea correcta con la realidad - OK\n",
    "len(departamentos)"
   ]
  },
  {
   "cell_type": "markdown",
   "id": "b3326bcd-5012-4970-92d9-9d991823a71e",
   "metadata": {},
   "source": [
    "## Municipio"
   ]
  },
  {
   "cell_type": "code",
   "execution_count": 97,
   "id": "0676f1f8-db90-4160-aa98-a71cc19835a6",
   "metadata": {},
   "outputs": [
    {
     "data": {
      "text/plain": [
       "array(['SOLANO', 'CARTAGENA (CT)', 'LA PLATA', ..., nan, 'GONZÁLEZ',\n",
       "       'JORDÁN'], dtype=object)"
      ]
     },
     "execution_count": 97,
     "metadata": {},
     "output_type": "execute_result"
    }
   ],
   "source": [
    "#Guardar los municipios sin repeticiones y visualizar para validar errores de escritura\n",
    "municipios=df['MUNICIPIO'].unique()\n",
    "#municipios.sort() - Genera error\n",
    "municipios"
   ]
  },
  {
   "cell_type": "code",
   "execution_count": 98,
   "id": "ad633e97-8073-46bd-ae61-b92020d1b390",
   "metadata": {},
   "outputs": [
    {
     "data": {
      "text/html": [
       "<div>\n",
       "<style scoped>\n",
       "    .dataframe tbody tr th:only-of-type {\n",
       "        vertical-align: middle;\n",
       "    }\n",
       "\n",
       "    .dataframe tbody tr th {\n",
       "        vertical-align: top;\n",
       "    }\n",
       "\n",
       "    .dataframe thead th {\n",
       "        text-align: right;\n",
       "    }\n",
       "</style>\n",
       "<table border=\"1\" class=\"dataframe\">\n",
       "  <thead>\n",
       "    <tr style=\"text-align: right;\">\n",
       "      <th></th>\n",
       "      <th>DEPARTAMENTO</th>\n",
       "      <th>MUNICIPIO</th>\n",
       "      <th>CODIGO DANE</th>\n",
       "      <th>ARMAS MEDIOS</th>\n",
       "      <th>FECHA HECHO</th>\n",
       "      <th>GENERO</th>\n",
       "      <th>GRUPO ETARIO</th>\n",
       "      <th>CANTIDAD</th>\n",
       "      <th>delito</th>\n",
       "    </tr>\n",
       "  </thead>\n",
       "  <tbody>\n",
       "    <tr>\n",
       "      <th>117312</th>\n",
       "      <td>GUAINÍA</td>\n",
       "      <td>NaN</td>\n",
       "      <td>NaN</td>\n",
       "      <td>SIN EMPLEO DE ARMAS</td>\n",
       "      <td>1/10/2017</td>\n",
       "      <td>FEMENINO</td>\n",
       "      <td>MENORES</td>\n",
       "      <td>1</td>\n",
       "      <td>ARTÍCULO 218. PORNOGRAFÍA CON MENORES</td>\n",
       "    </tr>\n",
       "  </tbody>\n",
       "</table>\n",
       "</div>"
      ],
      "text/plain": [
       "       DEPARTAMENTO MUNICIPIO  CODIGO DANE         ARMAS MEDIOS FECHA HECHO  \\\n",
       "117312      GUAINÍA       NaN          NaN  SIN EMPLEO DE ARMAS   1/10/2017   \n",
       "\n",
       "          GENERO GRUPO ETARIO  CANTIDAD                                 delito  \n",
       "117312  FEMENINO      MENORES         1  ARTÍCULO 218. PORNOGRAFÍA CON MENORES  "
      ]
     },
     "execution_count": 98,
     "metadata": {},
     "output_type": "execute_result"
    }
   ],
   "source": [
    "#Se buscan los valores nulos y se encuentra una fila\n",
    "bool_series=pd.isnull(df['MUNICIPIO'])\n",
    "df[bool_series]"
   ]
  },
  {
   "cell_type": "code",
   "execution_count": 99,
   "id": "53c05e91-4909-4b2e-be14-2f32af8d137c",
   "metadata": {},
   "outputs": [],
   "source": [
    "# Se elimina la fila con el valor nulo\n",
    "df.drop(117312, inplace = True)"
   ]
  },
  {
   "cell_type": "code",
   "execution_count": 100,
   "id": "5a7664e0-eecb-41b2-aaff-6c49ed51d180",
   "metadata": {},
   "outputs": [
    {
     "data": {
      "text/plain": [
       "array(['ABEJORRAL', 'ABREGO', 'ABRIAQUÍ', ..., 'ZIPAQUIRÁ',\n",
       "       'ZONA BANANERA', 'ÚTICA'], dtype=object)"
      ]
     },
     "execution_count": 100,
     "metadata": {},
     "output_type": "execute_result"
    }
   ],
   "source": [
    "municipios=df['MUNICIPIO'].unique()\n",
    "municipios.sort() \n",
    "municipios"
   ]
  },
  {
   "cell_type": "code",
   "execution_count": 102,
   "id": "22050e61-7d14-4ba7-a65e-aa473105aed1",
   "metadata": {},
   "outputs": [
    {
     "data": {
      "text/plain": [
       "(241739, 9)"
      ]
     },
     "execution_count": 102,
     "metadata": {},
     "output_type": "execute_result"
    }
   ],
   "source": [
    "## Ver el tamaño del dataset\n",
    "df.shape"
   ]
  },
  {
   "cell_type": "markdown",
   "id": "3c458bce-ca6a-4d02-8db4-bf10ff28c95c",
   "metadata": {},
   "source": [
    "## Código DANE"
   ]
  },
  {
   "cell_type": "code",
   "execution_count": 103,
   "id": "a9360c84-7591-490c-bece-ac55163751a0",
   "metadata": {},
   "outputs": [
    {
     "data": {
      "text/plain": [
       "array([18756000., 13001000., 41396000., ..., 27372000., 20310000.,\n",
       "       68370000.])"
      ]
     },
     "execution_count": 103,
     "metadata": {},
     "output_type": "execute_result"
    }
   ],
   "source": [
    "#Guardar los municipios sin repeticiones y visualizar para validar consistencia de datos\n",
    "codigo_dane=df['CODIGO DANE'].unique()\n",
    "codigo_dane"
   ]
  },
  {
   "cell_type": "code",
   "execution_count": 104,
   "id": "f075dd70-c36e-4180-9b15-b00a61406ea2",
   "metadata": {},
   "outputs": [
    {
     "data": {
      "text/plain": [
       "array(['18756', '13001', '41396', ..., '27372', '20310', '68370'],\n",
       "      dtype=object)"
      ]
     },
     "execution_count": 104,
     "metadata": {},
     "output_type": "execute_result"
    }
   ],
   "source": [
    "## Crear función para reemplazar los ceros al final\n",
    "def replace_zeros(codigo):\n",
    "    codigo=str(codigo)\n",
    "    codigo=codigo[:-5]\n",
    "    return codigo\n",
    "## Aplicar la función para eliminar los ceros y reemplzar el valor en el campo    \n",
    "df['CODIGO DANE']=df['CODIGO DANE'].apply(replace_zeros)\n",
    "\n",
    "codigo_dane=df['CODIGO DANE'].unique()\n",
    "codigo_dane"
   ]
  },
  {
   "cell_type": "code",
   "execution_count": 105,
   "id": "279f33ba-801c-4478-bdab-63e318366ce4",
   "metadata": {},
   "outputs": [
    {
     "data": {
      "text/plain": [
       "array(['18756', '13001', '41396', ..., '27372', '20310', '68370'],\n",
       "      dtype=object)"
      ]
     },
     "execution_count": 105,
     "metadata": {},
     "output_type": "execute_result"
    }
   ],
   "source": [
    "df['CODIGO DANE'].unique()"
   ]
  },
  {
   "cell_type": "markdown",
   "id": "e58fb1ac-def2-4865-a570-4cc22ea4a31d",
   "metadata": {},
   "source": [
    "## Armas / Medios"
   ]
  },
  {
   "cell_type": "code",
   "execution_count": 106,
   "id": "9c485fbe-96bb-4d84-9fa3-6379c765a996",
   "metadata": {},
   "outputs": [
    {
     "data": {
      "text/plain": [
       "array(['ARMA BLANCA / CORTOPUNZANTE', 'CONTUNDENTES', 'NO REPORTADO',\n",
       "       'SIN EMPLEO DE ARMAS', 'ARMA DE FUEGO', 'CORTOPUNZANTES',\n",
       "       'ESCOPOLAMINA', 'LICOR ADULTERADO', 'CINTAS/CINTURON', 'CORTANTES',\n",
       "       'ESPOSAS', 'ARMAS BLANCAS', '-'], dtype=object)"
      ]
     },
     "execution_count": 106,
     "metadata": {},
     "output_type": "execute_result"
    }
   ],
   "source": [
    "#Guardar los grupos etaríos sin repeticiones y visualizar para validar consistencia de datos\n",
    "armas_medios=df['ARMAS MEDIOS'].unique()\n",
    "armas_medios"
   ]
  },
  {
   "cell_type": "code",
   "execution_count": 107,
   "id": "1ff566f7-b4ec-4eb9-9913-8804d1247314",
   "metadata": {},
   "outputs": [
    {
     "data": {
      "text/plain": [
       "array(['ARMA BLANCA / CORTOPUNZANTE', 'CONTUNDENTES', 'NO REPORTADO',\n",
       "       'SIN EMPLEO DE ARMAS', 'ARMA DE FUEGO', 'ESCOPOLAMINA',\n",
       "       'LICOR ADULTERADO', 'CINTAS/CINTURON', 'CORTANTES', 'ESPOSAS', '-'],\n",
       "      dtype=object)"
      ]
     },
     "execution_count": 107,
     "metadata": {},
     "output_type": "execute_result"
    }
   ],
   "source": [
    "## Reemplazar valores escritos de diferentes maneras para unificar\n",
    "df['ARMAS MEDIOS']=df['ARMAS MEDIOS'].replace({'CORTOPUNZANTES': 'ARMA BLANCA / CORTOPUNZANTE','ARMAS BLANCAS': 'ARMA BLANCA / CORTOPUNZANTE'})\n",
    "armas_medios=df['ARMAS MEDIOS'].unique()\n",
    "armas_medios"
   ]
  },
  {
   "cell_type": "code",
   "execution_count": 108,
   "id": "5cd08150-e0be-4598-9415-a39173706b47",
   "metadata": {},
   "outputs": [
    {
     "data": {
      "text/html": [
       "<div>\n",
       "<style scoped>\n",
       "    .dataframe tbody tr th:only-of-type {\n",
       "        vertical-align: middle;\n",
       "    }\n",
       "\n",
       "    .dataframe tbody tr th {\n",
       "        vertical-align: top;\n",
       "    }\n",
       "\n",
       "    .dataframe thead th {\n",
       "        text-align: right;\n",
       "    }\n",
       "</style>\n",
       "<table border=\"1\" class=\"dataframe\">\n",
       "  <thead>\n",
       "    <tr style=\"text-align: right;\">\n",
       "      <th></th>\n",
       "      <th>DEPARTAMENTO</th>\n",
       "      <th>MUNICIPIO</th>\n",
       "      <th>CODIGO DANE</th>\n",
       "      <th>ARMAS MEDIOS</th>\n",
       "      <th>FECHA HECHO</th>\n",
       "      <th>GENERO</th>\n",
       "      <th>GRUPO ETARIO</th>\n",
       "      <th>CANTIDAD</th>\n",
       "      <th>delito</th>\n",
       "    </tr>\n",
       "  </thead>\n",
       "  <tbody>\n",
       "    <tr>\n",
       "      <th>209651</th>\n",
       "      <td>TOLIMA</td>\n",
       "      <td>IBAGUÉ (CT)</td>\n",
       "      <td>73001</td>\n",
       "      <td>-</td>\n",
       "      <td>5/06/2020</td>\n",
       "      <td>FEMENINO</td>\n",
       "      <td>ADULTOS</td>\n",
       "      <td>1</td>\n",
       "      <td>ARTÍCULO 206. ACTO SEXUAL VIOLENTO</td>\n",
       "    </tr>\n",
       "    <tr>\n",
       "      <th>217887</th>\n",
       "      <td>VALLE</td>\n",
       "      <td>PALMIRA</td>\n",
       "      <td>76520</td>\n",
       "      <td>-</td>\n",
       "      <td>18/09/2020</td>\n",
       "      <td>FEMENINO</td>\n",
       "      <td>MENORES</td>\n",
       "      <td>1</td>\n",
       "      <td>ARTÍCULO 209. ACTOS SEXUALES CON MENOR DE 14 AÑOS</td>\n",
       "    </tr>\n",
       "  </tbody>\n",
       "</table>\n",
       "</div>"
      ],
      "text/plain": [
       "       DEPARTAMENTO    MUNICIPIO CODIGO DANE ARMAS MEDIOS FECHA HECHO  \\\n",
       "209651       TOLIMA  IBAGUÉ (CT)       73001            -   5/06/2020   \n",
       "217887        VALLE      PALMIRA       76520            -  18/09/2020   \n",
       "\n",
       "          GENERO GRUPO ETARIO  CANTIDAD  \\\n",
       "209651  FEMENINO      ADULTOS         1   \n",
       "217887  FEMENINO      MENORES         1   \n",
       "\n",
       "                                                   delito  \n",
       "209651                 ARTÍCULO 206. ACTO SEXUAL VIOLENTO  \n",
       "217887  ARTÍCULO 209. ACTOS SEXUALES CON MENOR DE 14 AÑOS  "
      ]
     },
     "execution_count": 108,
     "metadata": {},
     "output_type": "execute_result"
    }
   ],
   "source": [
    "#Se buscan los valores que contienen un guión\n",
    "df.loc[df['ARMAS MEDIOS'] == '-']"
   ]
  },
  {
   "cell_type": "code",
   "execution_count": 109,
   "id": "9fea7110-9f71-4af1-b43b-091d769e14c3",
   "metadata": {},
   "outputs": [
    {
     "data": {
      "text/plain": [
       "array(['ARMA BLANCA / CORTOPUNZANTE', 'CONTUNDENTES', 'NO REPORTADO',\n",
       "       'SIN EMPLEO DE ARMAS', 'ARMA DE FUEGO', 'ESCOPOLAMINA',\n",
       "       'LICOR ADULTERADO', 'CINTAS/CINTURON', 'CORTANTES', 'ESPOSAS'],\n",
       "      dtype=object)"
      ]
     },
     "execution_count": 109,
     "metadata": {},
     "output_type": "execute_result"
    }
   ],
   "source": [
    "## Reemplazar valores escritos de diferentes maneras para unificar\n",
    "df['ARMAS MEDIOS']=df['ARMAS MEDIOS'].replace({'-':'NO REPORTADO'})\n",
    "armas_medios=df['ARMAS MEDIOS'].unique()\n",
    "armas_medios"
   ]
  },
  {
   "cell_type": "markdown",
   "id": "229dd57a-3cd8-4899-90c2-0831a6df1954",
   "metadata": {},
   "source": [
    "## Fecha hecho"
   ]
  },
  {
   "cell_type": "code",
   "execution_count": 111,
   "id": "fc61f2ab-e4b4-415e-8e70-0838e9561d87",
   "metadata": {},
   "outputs": [
    {
     "data": {
      "text/plain": [
       "0        2010-01-01\n",
       "1        2010-01-01\n",
       "2        2010-01-01\n",
       "3        2010-01-01\n",
       "4        2010-01-01\n",
       "            ...    \n",
       "260318   2022-02-15\n",
       "260319   2022-03-07\n",
       "260320   2022-03-17\n",
       "260321   2022-02-22\n",
       "260322   2022-04-04\n",
       "Name: FECHA HECHO, Length: 241739, dtype: datetime64[ns]"
      ]
     },
     "execution_count": 111,
     "metadata": {},
     "output_type": "execute_result"
    }
   ],
   "source": [
    "## Obtener las fechas y tratar de convertir para detectar errores de fecha\n",
    "fecha=df['FECHA HECHO']\n",
    "pd.to_datetime(fecha,format='%d/%m/%Y')"
   ]
  },
  {
   "cell_type": "markdown",
   "id": "81d3df82-f917-4efd-b1dd-5afddc689ce2",
   "metadata": {},
   "source": [
    "## Género"
   ]
  },
  {
   "cell_type": "code",
   "execution_count": 112,
   "id": "80bb5bfd-2180-46ba-b24b-9cd697ed8e1f",
   "metadata": {},
   "outputs": [
    {
     "data": {
      "text/plain": [
       "array(['FEMENINO', 'MASCULINO', 'NO REPORTA', nan, '-', 'NO REPORTADO'],\n",
       "      dtype=object)"
      ]
     },
     "execution_count": 112,
     "metadata": {},
     "output_type": "execute_result"
    }
   ],
   "source": [
    "#Guardar los generos sin repeticiones y visualizar para validar consistencia de datos\n",
    "genero=df['GENERO'].unique()\n",
    "genero"
   ]
  },
  {
   "cell_type": "code",
   "execution_count": 115,
   "id": "58542754-b51f-499c-bd13-d354b37f1ef1",
   "metadata": {},
   "outputs": [
    {
     "data": {
      "text/plain": [
       "array(['FEMENINO', 'MASCULINO', 'NO REPORTA'], dtype=object)"
      ]
     },
     "execution_count": 115,
     "metadata": {},
     "output_type": "execute_result"
    }
   ],
   "source": [
    "## Reemplazar el valor escrito de diferente manera para unificar\n",
    "df['GENERO']=df['GENERO'].replace({'NO REPORTADO': 'NO REPORTA','-':'NO REPORTA'})\n",
    "df['GENERO']=df['GENERO'].fillna('NO REPORTA')\n",
    "genero=df['GENERO'].unique()\n",
    "genero"
   ]
  },
  {
   "cell_type": "markdown",
   "id": "16933826-15ab-4b00-8e97-3fbf9e0dc14c",
   "metadata": {},
   "source": [
    "## Grupo etario"
   ]
  },
  {
   "cell_type": "code",
   "execution_count": 117,
   "id": "43f13b4e-3b1b-4217-afd2-6c889775a310",
   "metadata": {},
   "outputs": [
    {
     "data": {
      "text/plain": [
       "array(['MENORES', 'ADOLECENTES', 'ADULTOS', nan, 'ADOLESCENTES',\n",
       "       'NO REPORTA', 'NO REPORTADO'], dtype=object)"
      ]
     },
     "execution_count": 117,
     "metadata": {},
     "output_type": "execute_result"
    }
   ],
   "source": [
    "#Guardar los grupos etaríos sin repeticiones y visualizar para validar consistencia de datos\n",
    "grupo_etario=df['GRUPO ETARIO'].unique()\n",
    "grupo_etario"
   ]
  },
  {
   "cell_type": "code",
   "execution_count": 118,
   "id": "9af50d29-ef69-48e7-8a85-441fdbb8edd7",
   "metadata": {},
   "outputs": [
    {
     "data": {
      "text/plain": [
       "array(['MENORES', 'ADOLESCENTES', 'ADULTOS', 'NO REPORTA'], dtype=object)"
      ]
     },
     "execution_count": 118,
     "metadata": {},
     "output_type": "execute_result"
    }
   ],
   "source": [
    "## Reemplazar valores escritos de diferente manera para unificar\n",
    "df['GRUPO ETARIO']=df['GRUPO ETARIO'].replace({'NO REPORTADO': 'NO REPORTA','ADOLECENTES':'ADOLESCENTES'})\n",
    "df['GRUPO ETARIO']=df['GRUPO ETARIO'].fillna('NO REPORTA')\n",
    "grupo_etario=df['GRUPO ETARIO'].unique()\n",
    "grupo_etario"
   ]
  },
  {
   "cell_type": "markdown",
   "id": "6230a55a-31e9-4f10-89dd-8885338d35dd",
   "metadata": {},
   "source": [
    "## Delito"
   ]
  },
  {
   "cell_type": "code",
   "execution_count": 121,
   "id": "5f01cb14-8170-4ed7-bb02-97d1c150d289",
   "metadata": {},
   "outputs": [
    {
     "data": {
      "text/plain": [
       "array(['ARTÍCULO 209. ACTOS SEXUALES CON MENOR DE 14 AÑOS',\n",
       "       'ARTÍCULO 205. ACCESO CARNAL VIOLENTO',\n",
       "       'ARTÍCULO 206. ACTO SEXUAL VIOLENTO',\n",
       "       'ARTÍCULO 208. ACCESO CARNAL ABUSIVO CON MENOR DE 14 AÑOS',\n",
       "       'ARTÍCULO 210 A. ACOSO SEXUAL',\n",
       "       'ARTÍCULO 210. ACCESO CARNAL O ACTO SEXUAL ABUSIVO CON INCAPAZ DE RESISTIR',\n",
       "       'ARTÍCULO 211. ACCESO CARNAL O ACTO SEXUAL ABUSIVO CON INCAPAZ DE RESISTIR (CIRCUNSTANCIAS AGRAVACIÓN',\n",
       "       'ARTÍCULO 211. ACCESO CARNAL ABUSIVO CON MENOR DE 14 AÑOS (CIRCUNSTANCIAS AGRAVACIÓN)',\n",
       "       'ARTÍCULO 211. ACTOS SEXUALES CON MENOR DE 14 AÑOS (CIRCUNSTANCIAS DE AGRAVACIÓN)',\n",
       "       'ARTÍCULO 207. ACCESO CARNAL O ACTO SEXUAL EN PERSONA PUESTA EN INCAPACIDAD DE RESISTIR',\n",
       "       'ARTÍCULO 211. ACCESO CARNAL VIOLENTO (CIRCUNSTANCIAS AGRAVACIÓN)',\n",
       "       'ARTÍCULO 218. PORNOGRAFÍA CON MENORES',\n",
       "       'ARTÍCULO 213. INDUCCIÓN A LA PROSTITUCIÓN',\n",
       "       'ARTÍCULO 211. ACCESO CARNAL O ACTO SEXUAL EN PERSONA PUESTA EN INCAPACIDAD DE RESISTIR  (CIRCUNSTANC',\n",
       "       'ARTÍCULO 211. ACTO SEXUAL VIOLENTO (CIRCUNSTANCIAS DE AGRAVACIÓN)',\n",
       "       'ARTÍCULO 214. CONSTREÑIMIENTO A LA PROSTITUCIÓN',\n",
       "       'ARTÍCULO 219 A. UTILIZACIÓN O FACILITACIÓN DE MEDIOS DE COMUNICACIÓN PARA OFRECER SERVICIOS SEXUALES DE MENORES',\n",
       "       'ARTÍCULO 217. ESTÍMULO A LA PROSTITUCIÓN DE MENORES',\n",
       "       'ARTÍCULO 217 A. DEMANDA DE EXPLOTACION SEXUAL COMERCIAL DE PERSONA MENOR DE 18 AÑOS DE EDAD',\n",
       "       'ARTÍCULO 216. CONSTREÑIMIENTO A LA PROSTITUCIÓN (CIRCUNSTANCIAS AGRAVACIÓN)',\n",
       "       'ARTÍCULO 213 A. PROXENETISMO CON MENOR DE EDAD',\n",
       "       'ARTÍCULO 216. INDUCCIÓN A LA PROSTITUCIÓN (CIRCUNSTANCIAS AGRAVACIÓN)',\n",
       "       'ARTÍCULO 219 B. OMISIÓN DE DENUNCIA'], dtype=object)"
      ]
     },
     "execution_count": 121,
     "metadata": {},
     "output_type": "execute_result"
    }
   ],
   "source": [
    "delito=df['delito'].unique()\n",
    "delito"
   ]
  }
 ],
 "metadata": {
  "kernelspec": {
   "display_name": "Python 3 (ipykernel)",
   "language": "python",
   "name": "python3"
  },
  "language_info": {
   "codemirror_mode": {
    "name": "ipython",
    "version": 3
   },
   "file_extension": ".py",
   "mimetype": "text/x-python",
   "name": "python",
   "nbconvert_exporter": "python",
   "pygments_lexer": "ipython3",
   "version": "3.9.12"
  }
 },
 "nbformat": 4,
 "nbformat_minor": 5
}
